{
 "cells": [
  {
   "cell_type": "code",
   "execution_count": 1,
   "metadata": {},
   "outputs": [],
   "source": [
    "html='<!DOCTYPE html>\\\n",
    "<html>\\\n",
    "<head>\\\n",
    "    <title>\\\n",
    "        Testing beautiful soup\\\n",
    "    </title>\\\n",
    "</head>\\\n",
    "<body>\\\n",
    "    <h1>\\\n",
    "        Hello!\\\n",
    "    </h1>\\\n",
    "    <p class=\"abc\" id=\"id2\">\\\n",
    "        whattttt!!\\\n",
    "    </p>\\\n",
    "    <p class=\"pqr\">\\\n",
    "    Testing web scraping\\\n",
    "    </p>\\\n",
    "</body>\\\n",
    "</html>'"
   ]
  },
  {
   "cell_type": "code",
   "execution_count": 72,
   "metadata": {},
   "outputs": [
    {
     "name": "stdout",
     "output_type": "stream",
     "text": [
      "<!DOCTYPE html>\n",
      "<html><head> <title>        Testing beautiful soup    </title></head><body> <h1>        Hello!    </h1> <p class=\"abc\" id=\"id2\">        whattttt!!    </p> <p class=\"pqr\">    Testing web scraping    </p></body></html>\n"
     ]
    },
    {
     "data": {
      "text/plain": [
       "bs4.BeautifulSoup"
      ]
     },
     "execution_count": 72,
     "metadata": {},
     "output_type": "execute_result"
    }
   ],
   "source": [
    "#import beautiful soup\n",
    "from bs4 import BeautifulSoup\n",
    "#put BS object and put the string and parser type\n",
    "data=BeautifulSoup(html,'html.parser')\n",
    "print(data)\n",
    "type(data)"
   ]
  },
  {
   "cell_type": "code",
   "execution_count": 73,
   "metadata": {},
   "outputs": [
    {
     "name": "stdout",
     "output_type": "stream",
     "text": [
      "<!DOCTYPE html>\n",
      "<html>\n",
      " <head>\n",
      "  <title>\n",
      "   Testing beautiful soup\n",
      "  </title>\n",
      " </head>\n",
      " <body>\n",
      "  <h1>\n",
      "   Hello!\n",
      "  </h1>\n",
      "  <p class=\"abc\" id=\"id2\">\n",
      "   whattttt!!\n",
      "  </p>\n",
      "  <p class=\"pqr\">\n",
      "   Testing web scraping\n",
      "  </p>\n",
      " </body>\n",
      "</html>\n"
     ]
    }
   ],
   "source": [
    "#To format html code\n",
    "print(data.prettify())"
   ]
  },
  {
   "cell_type": "code",
   "execution_count": 74,
   "metadata": {},
   "outputs": [
    {
     "data": {
      "text/plain": [
       "<title>        Testing beautiful soup    </title>"
      ]
     },
     "execution_count": 74,
     "metadata": {},
     "output_type": "execute_result"
    }
   ],
   "source": [
    "#to extract exact data\n",
    "data.title"
   ]
  },
  {
   "cell_type": "code",
   "execution_count": 75,
   "metadata": {},
   "outputs": [
    {
     "data": {
      "text/plain": [
       "<title>        Testing beautiful soup    </title>"
      ]
     },
     "execution_count": 75,
     "metadata": {},
     "output_type": "execute_result"
    }
   ],
   "source": [
    "data.head.title\n"
   ]
  },
  {
   "cell_type": "code",
   "execution_count": 76,
   "metadata": {},
   "outputs": [
    {
     "name": "stdout",
     "output_type": "stream",
     "text": [
      "<h1>        Hello!    </h1>\n",
      "        Hello!    \n"
     ]
    }
   ],
   "source": [
    "print(data.h1)\n",
    "print(data.h1.string)"
   ]
  },
  {
   "cell_type": "code",
   "execution_count": 77,
   "metadata": {},
   "outputs": [
    {
     "data": {
      "text/plain": [
       "<p class=\"abc\" id=\"id2\">        whattttt!!    </p>"
      ]
     },
     "execution_count": 77,
     "metadata": {},
     "output_type": "execute_result"
    }
   ],
   "source": [
    "data.p\n"
   ]
  },
  {
   "cell_type": "code",
   "execution_count": 78,
   "metadata": {},
   "outputs": [],
   "source": [
    "#does not exist\n",
    "data.h2"
   ]
  },
  {
   "cell_type": "code",
   "execution_count": 80,
   "metadata": {},
   "outputs": [
    {
     "name": "stdout",
     "output_type": "stream",
     "text": [
      "title\n",
      "        Testing beautiful soup    \n"
     ]
    }
   ],
   "source": [
    "#attributes\n",
    "#to print the name of the tag\n",
    "print(data.title.name)\n",
    "#To print the string title\n",
    "print(data.title.string)"
   ]
  },
  {
   "cell_type": "code",
   "execution_count": 81,
   "metadata": {},
   "outputs": [
    {
     "name": "stdout",
     "output_type": "stream",
     "text": [
      "{'class': ['abc'], 'id': 'id2'}\n"
     ]
    }
   ],
   "source": [
    "#attrs-->To get the attributes of a tag ex:classes, id's\n",
    "print(data.p.attrs)"
   ]
  },
  {
   "cell_type": "code",
   "execution_count": 82,
   "metadata": {},
   "outputs": [
    {
     "name": "stdout",
     "output_type": "stream",
     "text": [
      "['abc']\n",
      "['abc']\n",
      "id2\n"
     ]
    }
   ],
   "source": [
    "#to get the value of an attribute\n",
    "print(data.p['class'])\n",
    "print(data.p.get('class'))\n",
    "print(data.p.get('id'))"
   ]
  },
  {
   "cell_type": "code",
   "execution_count": 83,
   "metadata": {},
   "outputs": [
    {
     "data": {
      "text/plain": [
       "'         Testing beautiful soup             Hello!             whattttt!!         Testing web scraping    '"
      ]
     },
     "execution_count": 83,
     "metadata": {},
     "output_type": "execute_result"
    }
   ],
   "source": [
    "#To get all the text on a webpage/extract all text\n",
    "data.get_text()"
   ]
  },
  {
   "cell_type": "code",
   "execution_count": 84,
   "metadata": {},
   "outputs": [
    {
     "data": {
      "text/plain": [
       "<h1>        Hello!    </h1>"
      ]
     },
     "execution_count": 84,
     "metadata": {},
     "output_type": "execute_result"
    }
   ],
   "source": [
    "#takes the argument as a string (tag) and checks its first occurrence\n",
    "data.find('h1')"
   ]
  },
  {
   "cell_type": "code",
   "execution_count": 85,
   "metadata": {},
   "outputs": [
    {
     "name": "stdout",
     "output_type": "stream",
     "text": [
      "[<p class=\"abc\" id=\"id2\">        whattttt!!    </p>, <p class=\"pqr\">    Testing web scraping    </p>]\n",
      "        whattttt!!    \n",
      "    Testing web scraping    \n"
     ]
    }
   ],
   "source": [
    "#to get all the occurrences of a specific tag-->we get a list\n",
    "li=data.find_all('p')\n",
    "print(li)\n",
    "for i in li:\n",
    "    print(i.string)"
   ]
  },
  {
   "cell_type": "code",
   "execution_count": 87,
   "metadata": {},
   "outputs": [
    {
     "data": {
      "text/plain": [
       "[<h1>        Hello!    </h1>,\n",
       " <p class=\"abc\" id=\"id2\">        whattttt!!    </p>,\n",
       " <p class=\"pqr\">    Testing web scraping    </p>]"
      ]
     },
     "execution_count": 87,
     "metadata": {},
     "output_type": "execute_result"
    }
   ],
   "source": [
    "data.find_all(['p','h1'])"
   ]
  },
  {
   "cell_type": "code",
   "execution_count": 92,
   "metadata": {
    "scrolled": true
   },
   "outputs": [
    {
     "data": {
      "text/plain": [
       "[<html><head> <title>        Testing beautiful soup    </title></head><body> <h1>        Hello!    </h1> <p class=\"abc\" id=\"id2\">        whattttt!!    </p> <p class=\"pqr\">    Testing web scraping    </p></body></html>,\n",
       " <head> <title>        Testing beautiful soup    </title></head>,\n",
       " <title>        Testing beautiful soup    </title>,\n",
       " <body> <h1>        Hello!    </h1> <p class=\"abc\" id=\"id2\">        whattttt!!    </p> <p class=\"pqr\">    Testing web scraping    </p></body>,\n",
       " <h1>        Hello!    </h1>,\n",
       " <p class=\"abc\" id=\"id2\">        whattttt!!    </p>,\n",
       " <p class=\"pqr\">    Testing web scraping    </p>]"
      ]
     },
     "execution_count": 92,
     "metadata": {},
     "output_type": "execute_result"
    }
   ],
   "source": [
    "#to get all the tags in a tree\n",
    "data.find_all(True)"
   ]
  },
  {
   "cell_type": "code",
   "execution_count": 96,
   "metadata": {},
   "outputs": [
    {
     "data": {
      "text/plain": [
       "[<p class=\"abc\" id=\"id2\">        whattttt!!    </p>]"
      ]
     },
     "execution_count": 96,
     "metadata": {},
     "output_type": "execute_result"
    }
   ],
   "source": [
    "#to find the tag with a specific id \n",
    "data.find_all(id='id2')"
   ]
  },
  {
   "cell_type": "code",
   "execution_count": 98,
   "metadata": {},
   "outputs": [
    {
     "data": {
      "text/plain": [
       "[<p class=\"pqr\">    Testing web scraping    </p>]"
      ]
     },
     "execution_count": 98,
     "metadata": {},
     "output_type": "execute_result"
    }
   ],
   "source": [
    "#to find tag with class\n",
    "data.find_all(class_='pqr')"
   ]
  },
  {
   "cell_type": "code",
   "execution_count": 99,
   "metadata": {},
   "outputs": [
    {
     "data": {
      "text/plain": [
       "[<h1>        Hello!    </h1>]"
      ]
     },
     "execution_count": 99,
     "metadata": {},
     "output_type": "execute_result"
    }
   ],
   "source": [
    "#getting data using css selector\n",
    "data.select('h1')"
   ]
  },
  {
   "cell_type": "code",
   "execution_count": 100,
   "metadata": {},
   "outputs": [
    {
     "data": {
      "text/plain": [
       "[' ',\n",
       " <h1>        Hello!    </h1>,\n",
       " ' ',\n",
       " <p class=\"abc\" id=\"id2\">        whattttt!!    </p>,\n",
       " ' ',\n",
       " <p class=\"pqr\">    Testing web scraping    </p>]"
      ]
     },
     "execution_count": 100,
     "metadata": {},
     "output_type": "execute_result"
    }
   ],
   "source": [
    "#to get all the children of a tag\n",
    "data.body.contents"
   ]
  },
  {
   "cell_type": "code",
   "execution_count": 101,
   "metadata": {},
   "outputs": [
    {
     "data": {
      "text/plain": [
       "[<head> <title>        Testing beautiful soup    </title></head>,\n",
       " <body> <h1>        Hello!    </h1> <p class=\"abc\" id=\"id2\">        whattttt!!    </p> <p class=\"pqr\">    Testing web scraping    </p></body>]"
      ]
     },
     "execution_count": 101,
     "metadata": {},
     "output_type": "execute_result"
    }
   ],
   "source": [
    "#will directly give us a list\n",
    "data.html.contents"
   ]
  },
  {
   "cell_type": "code",
   "execution_count": 103,
   "metadata": {},
   "outputs": [
    {
     "name": "stdout",
     "output_type": "stream",
     "text": [
      "<head> <title>        Testing beautiful soup    </title></head>\n",
      "<body> <h1>        Hello!    </h1> <p class=\"abc\" id=\"id2\">        whattttt!!    </p> <p class=\"pqr\">    Testing web scraping    </p></body>\n"
     ]
    }
   ],
   "source": [
    "#will give us an iterator over which we have to iterate\n",
    "#Will only give direct children\n",
    "li=data.html.children\n",
    "for i in li:\n",
    "    print(i)"
   ]
  },
  {
   "cell_type": "code",
   "execution_count": 107,
   "metadata": {},
   "outputs": [
    {
     "name": "stdout",
     "output_type": "stream",
     "text": [
      "[<head> <title>        Testing beautiful soup    </title></head>, ' ', <title>        Testing beautiful soup    </title>, '        Testing beautiful soup    ', <body> <h1>        Hello!    </h1> <p class=\"abc\" id=\"id2\">        whattttt!!    </p> <p class=\"pqr\">    Testing web scraping    </p></body>, ' ', <h1>        Hello!    </h1>, '        Hello!    ', ' ', <p class=\"abc\" id=\"id2\">        whattttt!!    </p>, '        whattttt!!    ', ' ', <p class=\"pqr\">    Testing web scraping    </p>, '    Testing web scraping    ']\n",
      "14\n"
     ]
    }
   ],
   "source": [
    "#Will give everything below html element, al the descendants\n",
    "a=list(data.html.descendants)\n",
    "print(a)\n",
    "print(len(a))"
   ]
  },
  {
   "cell_type": "code",
   "execution_count": 111,
   "metadata": {},
   "outputs": [
    {
     "data": {
      "text/plain": [
       "[<html><head> <title>        Testing beautiful soup    </title></head><body> <h1>        Hello!    </h1> <p class=\"abc\" id=\"id2\">        whattttt!!    </p> <p class=\"pqr\">    Testing web scraping    </p></body></html>,\n",
       " <!DOCTYPE html>\n",
       " <html><head> <title>        Testing beautiful soup    </title></head><body> <h1>        Hello!    </h1> <p class=\"abc\" id=\"id2\">        whattttt!!    </p> <p class=\"pqr\">    Testing web scraping    </p></body></html>]"
      ]
     },
     "execution_count": 111,
     "metadata": {},
     "output_type": "execute_result"
    }
   ],
   "source": [
    "a=list(data.body.parents)\n",
    "a"
   ]
  },
  {
   "cell_type": "code",
   "execution_count": 115,
   "metadata": {},
   "outputs": [
    {
     "data": {
      "text/plain": [
       "<body> <h1>        Hello!    </h1> <p class=\"abc\" id=\"id2\">        whattttt!!    </p> <p class=\"pqr\">    Testing web scraping    </p></body>"
      ]
     },
     "execution_count": 115,
     "metadata": {},
     "output_type": "execute_result"
    }
   ],
   "source": [
    "data.p.parent"
   ]
  },
  {
   "cell_type": "code",
   "execution_count": 119,
   "metadata": {},
   "outputs": [
    {
     "data": {
      "text/plain": [
       "[' ',\n",
       " <p class=\"abc\" id=\"id2\">        whattttt!!    </p>,\n",
       " ' ',\n",
       " <p class=\"pqr\">    Testing web scraping    </p>]"
      ]
     },
     "execution_count": 119,
     "metadata": {},
     "output_type": "execute_result"
    }
   ],
   "source": [
    "a=list(data.h1.next_siblings)\n",
    "a"
   ]
  },
  {
   "cell_type": "code",
   "execution_count": 125,
   "metadata": {},
   "outputs": [
    {
     "name": "stdout",
     "output_type": "stream",
     "text": [
      "[<title>Navigate Parse Tree</title>]\n",
      "[<head><title>Navigate Parse Tree</title></head>, <body><h1>This is your Assignment</h1><a href=\"https://www.google.com\">This is a link that will take you to Google</a><ul><li><p> This question is given to test your knowledge of <b>Web Scraping</b></p><p>Web scraping is a term used to describe the use of a program or algorithm to extract and process large amounts of data from the web.</p></li><li id=\"li2\">This is an li tag given to you for scraping</li><li>This li tag gives you the various ways to get data from a website<ol><li class=\"list_or\">Using API of the website</li><li>Scrape data using BeautifulSoup</li><li>Scrape data using Selenium</li><li>Scrape data using Scrapy</li></ol></li><li class=\"list_or\"><a href=\"https://www.crummy.com/software/BeautifulSoup/bs4/doc/\">Clicking on this takes you to the documentation of BeautifulSoup</a><a href=\"https://selenium-python.readthedocs.io/\" id=\"anchor\">Clicking on this takes you to the documentation of Selenium</a></li></ul></body>]\n",
      "['html', <html><head><title>Navigate Parse Tree</title></head><body><h1>This is your Assignment</h1><a href=\"https://www.google.com\">This is a link that will take you to Google</a><ul><li><p> This question is given to test your knowledge of <b>Web Scraping</b></p><p>Web scraping is a term used to describe the use of a program or algorithm to extract and process large amounts of data from the web.</p></li><li id=\"li2\">This is an li tag given to you for scraping</li><li>This li tag gives you the various ways to get data from a website<ol><li class=\"list_or\">Using API of the website</li><li>Scrape data using BeautifulSoup</li><li>Scrape data using Selenium</li><li>Scrape data using Scrapy</li></ol></li><li class=\"list_or\"><a href=\"https://www.crummy.com/software/BeautifulSoup/bs4/doc/\">Clicking on this takes you to the documentation of BeautifulSoup</a><a href=\"https://selenium-python.readthedocs.io/\" id=\"anchor\">Clicking on this takes you to the documentation of Selenium</a></li></ul></body></html>]\n"
     ]
    }
   ],
   "source": [
    "#Print content of all the parents of the title tag(linewise)\n",
    "html = '<!DOCTYPE html><html><head><title>Navigate Parse Tree</title></head>\\\n",
    "<body><h1>This is your Assignment</h1><a href = \"https://www.google.com\">This is a link that will take you to Google</a>\\\n",
    "<ul><li><p> This question is given to test your knowledge of <b>Web Scraping</b></p>\\\n",
    "<p>Web scraping is a term used to describe the use of a program or algorithm to extract and process large amounts of data from the web.</p></li>\\\n",
    "<li id = \"li2\">This is an li tag given to you for scraping</li>\\\n",
    "<li>This li tag gives you the various ways to get data from a website\\\n",
    "<ol><li class = \"list_or\">Using API of the website</li><li>Scrape data using BeautifulSoup</li><li>Scrape data using Selenium</li>\\\n",
    "<li>Scrape data using Scrapy</li></ol></li>\\\n",
    "<li class = \"list_or\"><a href=\"https://www.crummy.com/software/BeautifulSoup/bs4/doc/\">\\\n",
    "Clicking on this takes you to the documentation of BeautifulSoup</a>\\\n",
    "<a href=\"https://selenium-python.readthedocs.io/\" id=\"anchor\">Clicking on this takes you to the documentation of Selenium</a>\\\n",
    "</li></ul></body></html>'\n",
    "\n",
    "from bs4 import BeautifulSoup\n",
    "data=BeautifulSoup(html,'html.parser')\n",
    "l=list(data.title.parents)\n",
    "for i in l:\n",
    "    print(i.contents)\n",
    "\n",
    "\n"
   ]
  },
  {
   "cell_type": "code",
   "execution_count": 139,
   "metadata": {},
   "outputs": [
    {
     "name": "stdout",
     "output_type": "stream",
     "text": [
      "Clicking on this takes you to the documentation of BeautifulSoup\n",
      "[<a href=\"https://www.google.com\">This is a link that will take you to Google</a>, <a href=\"https://www.crummy.com/software/BeautifulSoup/bs4/doc/\">Clicking on this takes you to the documentation of BeautifulSoup</a>, <a href=\"https://selenium-python.readthedocs.io/\" id=\"anchor\">Clicking on this takes you to the documentation of Selenium</a>]\n"
     ]
    }
   ],
   "source": [
    "#Print the string which is present inside the isecond <a> tag using BeautifulSoup's next_element property\n",
    "html = '<!DOCTYPE html><html><head><title>Navigate Parse Tree</title></head>\\\n",
    "<body><h1>This is your Assignment</h1><a href = \"https://www.google.com\">This is a link that will take you to Google</a>\\\n",
    "<ul><li><p> This question is given to test your knowledge of <b>Web Scraping</b></p>\\\n",
    "<p>Web scraping is a term used to describe the use of a program or algorithm to extract and process large amounts of data from the web.</p></li>\\\n",
    "<li id = \"li2\">This is an li tag given to you for scraping</li>\\\n",
    "<li>This li tag gives you the various ways to get data from a website\\\n",
    "<ol><li class = \"list_or\">Using API of the website</li><li>Scrape data using BeautifulSoup</li><li>Scrape data using Selenium</li>\\\n",
    "<li>Scrape data using Scrapy</li></ol></li>\\\n",
    "<li class = \"list_or\"><a href=\"https://www.crummy.com/software/BeautifulSoup/bs4/doc/\">\\\n",
    "Clicking on this takes you to the documentation of BeautifulSoup</a>\\\n",
    "<a href=\"https://selenium-python.readthedocs.io/\" id=\"anchor\">Clicking on this takes you to the documentation of Selenium</a>\\\n",
    "</li></ul></body></html>'\n",
    "\n",
    "from bs4 import BeautifulSoup\n",
    "data=BeautifulSoup(html,'html.parser')\n",
    "#print(data.prettify())\n",
    "p=data.find_all('a')\n",
    "d=p[1].next_element\n",
    "\n",
    "print(d)\n",
    "#print(p)\n"
   ]
  },
  {
   "cell_type": "code",
   "execution_count": 140,
   "metadata": {},
   "outputs": [
    {
     "data": {
      "text/plain": [
       "<Response [200]>"
      ]
     },
     "execution_count": 140,
     "metadata": {},
     "output_type": "execute_result"
    }
   ],
   "source": [
    "#My first webpage\n",
    "from bs4 import BeautifulSoup\n",
    "import requests\n",
    "response=requests.get('http://info.cern.ch/hypertext/WWW/TheProject.html')\n",
    "response"
   ]
  },
  {
   "cell_type": "code",
   "execution_count": 141,
   "metadata": {},
   "outputs": [
    {
     "data": {
      "text/plain": [
       "{'Date': 'Thu, 04 Feb 2021 13:08:31 GMT', 'Server': 'Apache', 'Last-Modified': 'Thu, 03 Dec 1992 08:37:20 GMT', 'ETag': '\"8a9-291e721905000\"', 'Accept-Ranges': 'bytes', 'Content-Length': '2217', 'Connection': 'close', 'Content-Type': 'text/html'}"
      ]
     },
     "execution_count": 141,
     "metadata": {},
     "output_type": "execute_result"
    }
   ],
   "source": [
    "response.headers"
   ]
  },
  {
   "cell_type": "code",
   "execution_count": 142,
   "metadata": {},
   "outputs": [
    {
     "data": {
      "text/plain": [
       "'<HEADER>\\n<TITLE>The World Wide Web project</TITLE>\\n<NEXTID N=\"55\">\\n</HEADER>\\n<BODY>\\n<H1>World Wide Web</H1>The WorldWideWeb (W3) is a wide-area<A\\nNAME=0 HREF=\"WhatIs.html\">\\nhypermedia</A> information retrieval\\ninitiative aiming to give universal\\naccess to a large universe of documents.<P>\\nEverything there is online about\\nW3 is linked directly or indirectly\\nto this document, including an <A\\nNAME=24 HREF=\"Summary.html\">executive\\nsummary</A> of the project, <A\\nNAME=29 HREF=\"Administration/Mailing/Overview.html\">Mailing lists</A>\\n, <A\\nNAME=30 HREF=\"Policy.html\">Policy</A> , November\\'s  <A\\nNAME=34 HREF=\"News/9211.html\">W3  news</A> ,\\n<A\\nNAME=41 HREF=\"FAQ/List.html\">Frequently Asked Questions</A> .\\n<DL>\\n<DT><A\\nNAME=44 HREF=\"../DataSources/Top.html\">What\\'s out there?</A>\\n<DD> Pointers to the\\nworld\\'s online information,<A\\nNAME=45 HREF=\"../DataSources/bySubject/Overview.html\"> subjects</A>\\n, <A\\nNAME=z54 HREF=\"../DataSources/WWW/Servers.html\">W3 servers</A>, etc.\\n<DT><A\\nNAME=46 HREF=\"Help.html\">Help</A>\\n<DD> on the browser you are using\\n<DT><A\\nNAME=13 HREF=\"Status.html\">Software Products</A>\\n<DD> A list of W3 project\\ncomponents and their current state.\\n(e.g. <A\\nNAME=27 HREF=\"LineMode/Browser.html\">Line Mode</A> ,X11 <A\\nNAME=35 HREF=\"Status.html#35\">Viola</A> ,  <A\\nNAME=26 HREF=\"NeXT/WorldWideWeb.html\">NeXTStep</A>\\n, <A\\nNAME=25 HREF=\"Daemon/Overview.html\">Servers</A> , <A\\nNAME=51 HREF=\"Tools/Overview.html\">Tools</A> ,<A\\nNAME=53 HREF=\"MailRobot/Overview.html\"> Mail robot</A> ,<A\\nNAME=52 HREF=\"Status.html#57\">\\nLibrary</A> )\\n<DT><A\\nNAME=47 HREF=\"Technical.html\">Technical</A>\\n<DD> Details of protocols, formats,\\nprogram internals etc\\n<DT><A\\nNAME=40 HREF=\"Bibliography.html\">Bibliography</A>\\n<DD> Paper documentation\\non  W3 and references.\\n<DT><A\\nNAME=14 HREF=\"People.html\">People</A>\\n<DD> A list of some people involved\\nin the project.\\n<DT><A\\nNAME=15 HREF=\"History.html\">History</A>\\n<DD> A summary of the history\\nof the project.\\n<DT><A\\nNAME=37 HREF=\"Helping.html\">How can I help</A> ?\\n<DD> If you would like\\nto support the web..\\n<DT><A\\nNAME=48 HREF=\"../README.html\">Getting code</A>\\n<DD> Getting the code by<A\\nNAME=49 HREF=\"LineMode/Defaults/Distribution.html\">\\nanonymous FTP</A> , etc.</A>\\n</DL>\\n</BODY>\\n'"
      ]
     },
     "execution_count": 142,
     "metadata": {},
     "output_type": "execute_result"
    }
   ],
   "source": [
    "response.text"
   ]
  },
  {
   "cell_type": "code",
   "execution_count": 151,
   "metadata": {},
   "outputs": [
    {
     "name": "stdout",
     "output_type": "stream",
     "text": [
      "<header>\n",
      " <title>\n",
      "  The World Wide Web project\n",
      " </title>\n",
      " <nextid n=\"55\"/>\n",
      "</header>\n",
      "<body>\n",
      " <h1>\n",
      "  World Wide Web\n",
      " </h1>\n",
      " The WorldWideWeb (W3) is a wide-area\n",
      " <a href=\"WhatIs.html\" name=\"0\">\n",
      "  hypermedia\n",
      " </a>\n",
      " information retrieval\n",
      "initiative aiming to give universal\n",
      "access to a large universe of documents.\n",
      " <p>\n",
      "  Everything there is online about\n",
      "W3 is linked directly or indirectly\n",
      "to this document, including an\n",
      "  <a href=\"Summary.html\" name=\"24\">\n",
      "   executive\n",
      "summary\n",
      "  </a>\n",
      "  of the project,\n",
      "  <a href=\"Administration/Mailing/Overview.html\" name=\"29\">\n",
      "   Mailing lists\n",
      "  </a>\n",
      "  ,\n",
      "  <a href=\"Policy.html\" name=\"30\">\n",
      "   Policy\n",
      "  </a>\n",
      "  , November's\n",
      "  <a href=\"News/9211.html\" name=\"34\">\n",
      "   W3  news\n",
      "  </a>\n",
      "  ,\n",
      "  <a href=\"FAQ/List.html\" name=\"41\">\n",
      "   Frequently Asked Questions\n",
      "  </a>\n",
      "  .\n",
      "  <dl>\n",
      "   <dt>\n",
      "    <a href=\"../DataSources/Top.html\" name=\"44\">\n",
      "     What's out there?\n",
      "    </a>\n",
      "    <dd>\n",
      "     Pointers to the\n",
      "world's online information,\n",
      "     <a href=\"../DataSources/bySubject/Overview.html\" name=\"45\">\n",
      "      subjects\n",
      "     </a>\n",
      "     ,\n",
      "     <a href=\"../DataSources/WWW/Servers.html\" name=\"z54\">\n",
      "      W3 servers\n",
      "     </a>\n",
      "     , etc.\n",
      "     <dt>\n",
      "      <a href=\"Help.html\" name=\"46\">\n",
      "       Help\n",
      "      </a>\n",
      "      <dd>\n",
      "       on the browser you are using\n",
      "       <dt>\n",
      "        <a href=\"Status.html\" name=\"13\">\n",
      "         Software Products\n",
      "        </a>\n",
      "        <dd>\n",
      "         A list of W3 project\n",
      "components and their current state.\n",
      "(e.g.\n",
      "         <a href=\"LineMode/Browser.html\" name=\"27\">\n",
      "          Line Mode\n",
      "         </a>\n",
      "         ,X11\n",
      "         <a href=\"Status.html#35\" name=\"35\">\n",
      "          Viola\n",
      "         </a>\n",
      "         ,\n",
      "         <a href=\"NeXT/WorldWideWeb.html\" name=\"26\">\n",
      "          NeXTStep\n",
      "         </a>\n",
      "         ,\n",
      "         <a href=\"Daemon/Overview.html\" name=\"25\">\n",
      "          Servers\n",
      "         </a>\n",
      "         ,\n",
      "         <a href=\"Tools/Overview.html\" name=\"51\">\n",
      "          Tools\n",
      "         </a>\n",
      "         ,\n",
      "         <a href=\"MailRobot/Overview.html\" name=\"53\">\n",
      "          Mail robot\n",
      "         </a>\n",
      "         ,\n",
      "         <a href=\"Status.html#57\" name=\"52\">\n",
      "          Library\n",
      "         </a>\n",
      "         )\n",
      "         <dt>\n",
      "          <a href=\"Technical.html\" name=\"47\">\n",
      "           Technical\n",
      "          </a>\n",
      "          <dd>\n",
      "           Details of protocols, formats,\n",
      "program internals etc\n",
      "           <dt>\n",
      "            <a href=\"Bibliography.html\" name=\"40\">\n",
      "             Bibliography\n",
      "            </a>\n",
      "            <dd>\n",
      "             Paper documentation\n",
      "on  W3 and references.\n",
      "             <dt>\n",
      "              <a href=\"People.html\" name=\"14\">\n",
      "               People\n",
      "              </a>\n",
      "              <dd>\n",
      "               A list of some people involved\n",
      "in the project.\n",
      "               <dt>\n",
      "                <a href=\"History.html\" name=\"15\">\n",
      "                 History\n",
      "                </a>\n",
      "                <dd>\n",
      "                 A summary of the history\n",
      "of the project.\n",
      "                 <dt>\n",
      "                  <a href=\"Helping.html\" name=\"37\">\n",
      "                   How can I help\n",
      "                  </a>\n",
      "                  ?\n",
      "                  <dd>\n",
      "                   If you would like\n",
      "to support the web..\n",
      "                   <dt>\n",
      "                    <a href=\"../README.html\" name=\"48\">\n",
      "                     Getting code\n",
      "                    </a>\n",
      "                    <dd>\n",
      "                     Getting the code by\n",
      "                     <a href=\"LineMode/Defaults/Distribution.html\" name=\"49\">\n",
      "                      anonymous FTP\n",
      "                     </a>\n",
      "                     , etc.\n",
      "                    </dd>\n",
      "                   </dt>\n",
      "                  </dd>\n",
      "                 </dt>\n",
      "                </dd>\n",
      "               </dt>\n",
      "              </dd>\n",
      "             </dt>\n",
      "            </dd>\n",
      "           </dt>\n",
      "          </dd>\n",
      "         </dt>\n",
      "        </dd>\n",
      "       </dt>\n",
      "      </dd>\n",
      "     </dt>\n",
      "    </dd>\n",
      "   </dt>\n",
      "  </dl>\n",
      " </p>\n",
      "</body>\n",
      "\n"
     ]
    }
   ],
   "source": [
    "data=BeautifulSoup(response.text,'html.parser')\n",
    "print(data.prettify())"
   ]
  },
  {
   "cell_type": "code",
   "execution_count": 154,
   "metadata": {},
   "outputs": [
    {
     "name": "stdout",
     "output_type": "stream",
     "text": [
      "\n",
      "The World Wide Web project\n",
      "\n",
      "\n",
      "\n",
      "World Wide WebThe WorldWideWeb (W3) is a wide-area\n",
      "hypermedia information retrieval\n",
      "initiative aiming to give universal\n",
      "access to a large universe of documents.\n",
      "Everything there is online about\n",
      "W3 is linked directly or indirectly\n",
      "to this document, including an executive\n",
      "summary of the project, Mailing lists\n",
      ", Policy , November's  W3  news ,\n",
      "Frequently Asked Questions .\n",
      "\n",
      "What's out there?\n",
      " Pointers to the\n",
      "world's online information, subjects\n",
      ", W3 servers, etc.\n",
      "Help\n",
      " on the browser you are using\n",
      "Software Products\n",
      " A list of W3 project\n",
      "components and their current state.\n",
      "(e.g. Line Mode ,X11 Viola ,  NeXTStep\n",
      ", Servers , Tools , Mail robot ,\n",
      "Library )\n",
      "Technical\n",
      " Details of protocols, formats,\n",
      "program internals etc\n",
      "Bibliography\n",
      " Paper documentation\n",
      "on  W3 and references.\n",
      "People\n",
      " A list of some people involved\n",
      "in the project.\n",
      "History\n",
      " A summary of the history\n",
      "of the project.\n",
      "How can I help ?\n",
      " If you would like\n",
      "to support the web..\n",
      "Getting code\n",
      " Getting the code by\n",
      "anonymous FTP , etc.\n",
      "\n",
      "\n",
      "\n"
     ]
    }
   ],
   "source": [
    "#to get complete text from the webpage\n",
    "print(data.get_text())"
   ]
  },
  {
   "cell_type": "code",
   "execution_count": 155,
   "metadata": {},
   "outputs": [
    {
     "data": {
      "text/plain": [
       "'WhatIs.html'"
      ]
     },
     "execution_count": 155,
     "metadata": {},
     "output_type": "execute_result"
    }
   ],
   "source": [
    "#to get the data of first hyperlink\n",
    "data.a['href']"
   ]
  },
  {
   "cell_type": "code",
   "execution_count": 156,
   "metadata": {},
   "outputs": [
    {
     "name": "stdout",
     "output_type": "stream",
     "text": [
      "\n",
      "hypermedia\n",
      "executive\n",
      "summary\n",
      "Mailing lists\n",
      "Policy\n",
      "W3  news\n",
      "Frequently Asked Questions\n",
      "What's out there?\n",
      " subjects\n",
      "W3 servers\n",
      "Help\n",
      "Software Products\n",
      "Line Mode\n",
      "Viola\n",
      "NeXTStep\n",
      "Servers\n",
      "Tools\n",
      " Mail robot\n",
      "\n",
      "Library\n",
      "Technical\n",
      "Bibliography\n",
      "People\n",
      "History\n",
      "How can I help\n",
      "Getting code\n",
      "\n",
      "anonymous FTP\n"
     ]
    }
   ],
   "source": [
    "li=data.find_all('a')\n",
    "for i in li:\n",
    "    print(i.string)"
   ]
  },
  {
   "cell_type": "code",
   "execution_count": 159,
   "metadata": {},
   "outputs": [
    {
     "name": "stdout",
     "output_type": "stream",
     "text": [
      "[<a href=\"../DataSources/Top.html\" name=\"44\">What's out there?</a>, <a href=\"../DataSources/bySubject/Overview.html\" name=\"45\"> subjects</a>, <a href=\"../DataSources/WWW/Servers.html\" name=\"z54\">W3 servers</a>, <a href=\"Help.html\" name=\"46\">Help</a>, <a href=\"Status.html\" name=\"13\">Software Products</a>, <a href=\"LineMode/Browser.html\" name=\"27\">Line Mode</a>, <a href=\"Status.html#35\" name=\"35\">Viola</a>, <a href=\"NeXT/WorldWideWeb.html\" name=\"26\">NeXTStep</a>, <a href=\"Daemon/Overview.html\" name=\"25\">Servers</a>, <a href=\"Tools/Overview.html\" name=\"51\">Tools</a>, <a href=\"MailRobot/Overview.html\" name=\"53\"> Mail robot</a>, <a href=\"Status.html#57\" name=\"52\">\n",
      "Library</a>, <a href=\"Technical.html\" name=\"47\">Technical</a>, <a href=\"Bibliography.html\" name=\"40\">Bibliography</a>, <a href=\"People.html\" name=\"14\">People</a>, <a href=\"History.html\" name=\"15\">History</a>, <a href=\"Helping.html\" name=\"37\">How can I help</a>, <a href=\"../README.html\" name=\"48\">Getting code</a>, <a href=\"LineMode/Defaults/Distribution.html\" name=\"49\">\n",
      "anonymous FTP</a>]\n"
     ]
    }
   ],
   "source": [
    "li_2=data.dl.find_all('a')\n",
    "print(li_2)"
   ]
  },
  {
   "cell_type": "code",
   "execution_count": 160,
   "metadata": {},
   "outputs": [
    {
     "name": "stdout",
     "output_type": "stream",
     "text": [
      "What's out there?\n",
      " subjects\n",
      "W3 servers\n",
      "Help\n",
      "Software Products\n",
      "Line Mode\n",
      "Viola\n",
      "NeXTStep\n",
      "Servers\n",
      "Tools\n",
      " Mail robot\n",
      "\n",
      "Library\n",
      "Technical\n",
      "Bibliography\n",
      "People\n",
      "History\n",
      "How can I help\n",
      "Getting code\n",
      "\n",
      "anonymous FTP\n"
     ]
    }
   ],
   "source": [
    "for i in li_2:\n",
    "    print(i.string)"
   ]
  },
  {
   "cell_type": "code",
   "execution_count": 164,
   "metadata": {},
   "outputs": [
    {
     "name": "stdout",
     "output_type": "stream",
     "text": [
      "9\n"
     ]
    }
   ],
   "source": [
    "print(len(data.dl.find_all('dt')))"
   ]
  },
  {
   "cell_type": "code",
   "execution_count": 2,
   "metadata": {},
   "outputs": [
    {
     "name": "stdout",
     "output_type": "stream",
     "text": [
      "[<article class=\"product_pod\">\n",
      "<div class=\"image_container\">\n",
      "<a href=\"catalogue/a-light-in-the-attic_1000/index.html\"><img alt=\"A Light in the Attic\" class=\"thumbnail\" src=\"media/cache/2c/da/2cdad67c44b002e7ead0cc35693c0e8b.jpg\"/></a>\n",
      "</div>\n",
      "<p class=\"star-rating Three\">\n",
      "<i class=\"icon-star\"></i>\n",
      "<i class=\"icon-star\"></i>\n",
      "<i class=\"icon-star\"></i>\n",
      "<i class=\"icon-star\"></i>\n",
      "<i class=\"icon-star\"></i>\n",
      "</p>\n",
      "<h3><a href=\"catalogue/a-light-in-the-attic_1000/index.html\" title=\"A Light in the Attic\">A Light in the ...</a></h3>\n",
      "<div class=\"product_price\">\n",
      "<p class=\"price_color\">Â£51.77</p>\n",
      "<p class=\"instock availability\">\n",
      "<i class=\"icon-ok\"></i>\n",
      "    \n",
      "        In stock\n",
      "    \n",
      "</p>\n",
      "<form>\n",
      "<button class=\"btn btn-primary btn-block\" data-loading-text=\"Adding...\" type=\"submit\">Add to basket</button>\n",
      "</form>\n",
      "</div>\n",
      "</article>, <article class=\"product_pod\">\n",
      "<div class=\"image_container\">\n",
      "<a href=\"catalogue/tipping-the-velvet_999/index.html\"><img alt=\"Tipping the Velvet\" class=\"thumbnail\" src=\"media/cache/26/0c/260c6ae16bce31c8f8c95daddd9f4a1c.jpg\"/></a>\n",
      "</div>\n",
      "<p class=\"star-rating One\">\n",
      "<i class=\"icon-star\"></i>\n",
      "<i class=\"icon-star\"></i>\n",
      "<i class=\"icon-star\"></i>\n",
      "<i class=\"icon-star\"></i>\n",
      "<i class=\"icon-star\"></i>\n",
      "</p>\n",
      "<h3><a href=\"catalogue/tipping-the-velvet_999/index.html\" title=\"Tipping the Velvet\">Tipping the Velvet</a></h3>\n",
      "<div class=\"product_price\">\n",
      "<p class=\"price_color\">Â£53.74</p>\n",
      "<p class=\"instock availability\">\n",
      "<i class=\"icon-ok\"></i>\n",
      "    \n",
      "        In stock\n",
      "    \n",
      "</p>\n",
      "<form>\n",
      "<button class=\"btn btn-primary btn-block\" data-loading-text=\"Adding...\" type=\"submit\">Add to basket</button>\n",
      "</form>\n",
      "</div>\n",
      "</article>, <article class=\"product_pod\">\n",
      "<div class=\"image_container\">\n",
      "<a href=\"catalogue/soumission_998/index.html\"><img alt=\"Soumission\" class=\"thumbnail\" src=\"media/cache/3e/ef/3eef99c9d9adef34639f510662022830.jpg\"/></a>\n",
      "</div>\n",
      "<p class=\"star-rating One\">\n",
      "<i class=\"icon-star\"></i>\n",
      "<i class=\"icon-star\"></i>\n",
      "<i class=\"icon-star\"></i>\n",
      "<i class=\"icon-star\"></i>\n",
      "<i class=\"icon-star\"></i>\n",
      "</p>\n",
      "<h3><a href=\"catalogue/soumission_998/index.html\" title=\"Soumission\">Soumission</a></h3>\n",
      "<div class=\"product_price\">\n",
      "<p class=\"price_color\">Â£50.10</p>\n",
      "<p class=\"instock availability\">\n",
      "<i class=\"icon-ok\"></i>\n",
      "    \n",
      "        In stock\n",
      "    \n",
      "</p>\n",
      "<form>\n",
      "<button class=\"btn btn-primary btn-block\" data-loading-text=\"Adding...\" type=\"submit\">Add to basket</button>\n",
      "</form>\n",
      "</div>\n",
      "</article>, <article class=\"product_pod\">\n",
      "<div class=\"image_container\">\n",
      "<a href=\"catalogue/sharp-objects_997/index.html\"><img alt=\"Sharp Objects\" class=\"thumbnail\" src=\"media/cache/32/51/3251cf3a3412f53f339e42cac2134093.jpg\"/></a>\n",
      "</div>\n",
      "<p class=\"star-rating Four\">\n",
      "<i class=\"icon-star\"></i>\n",
      "<i class=\"icon-star\"></i>\n",
      "<i class=\"icon-star\"></i>\n",
      "<i class=\"icon-star\"></i>\n",
      "<i class=\"icon-star\"></i>\n",
      "</p>\n",
      "<h3><a href=\"catalogue/sharp-objects_997/index.html\" title=\"Sharp Objects\">Sharp Objects</a></h3>\n",
      "<div class=\"product_price\">\n",
      "<p class=\"price_color\">Â£47.82</p>\n",
      "<p class=\"instock availability\">\n",
      "<i class=\"icon-ok\"></i>\n",
      "    \n",
      "        In stock\n",
      "    \n",
      "</p>\n",
      "<form>\n",
      "<button class=\"btn btn-primary btn-block\" data-loading-text=\"Adding...\" type=\"submit\">Add to basket</button>\n",
      "</form>\n",
      "</div>\n",
      "</article>, <article class=\"product_pod\">\n",
      "<div class=\"image_container\">\n",
      "<a href=\"catalogue/sapiens-a-brief-history-of-humankind_996/index.html\"><img alt=\"Sapiens: A Brief History of Humankind\" class=\"thumbnail\" src=\"media/cache/be/a5/bea5697f2534a2f86a3ef27b5a8c12a6.jpg\"/></a>\n",
      "</div>\n",
      "<p class=\"star-rating Five\">\n",
      "<i class=\"icon-star\"></i>\n",
      "<i class=\"icon-star\"></i>\n",
      "<i class=\"icon-star\"></i>\n",
      "<i class=\"icon-star\"></i>\n",
      "<i class=\"icon-star\"></i>\n",
      "</p>\n",
      "<h3><a href=\"catalogue/sapiens-a-brief-history-of-humankind_996/index.html\" title=\"Sapiens: A Brief History of Humankind\">Sapiens: A Brief History ...</a></h3>\n",
      "<div class=\"product_price\">\n",
      "<p class=\"price_color\">Â£54.23</p>\n",
      "<p class=\"instock availability\">\n",
      "<i class=\"icon-ok\"></i>\n",
      "    \n",
      "        In stock\n",
      "    \n",
      "</p>\n",
      "<form>\n",
      "<button class=\"btn btn-primary btn-block\" data-loading-text=\"Adding...\" type=\"submit\">Add to basket</button>\n",
      "</form>\n",
      "</div>\n",
      "</article>, <article class=\"product_pod\">\n",
      "<div class=\"image_container\">\n",
      "<a href=\"catalogue/the-requiem-red_995/index.html\"><img alt=\"The Requiem Red\" class=\"thumbnail\" src=\"media/cache/68/33/68339b4c9bc034267e1da611ab3b34f8.jpg\"/></a>\n",
      "</div>\n",
      "<p class=\"star-rating One\">\n",
      "<i class=\"icon-star\"></i>\n",
      "<i class=\"icon-star\"></i>\n",
      "<i class=\"icon-star\"></i>\n",
      "<i class=\"icon-star\"></i>\n",
      "<i class=\"icon-star\"></i>\n",
      "</p>\n",
      "<h3><a href=\"catalogue/the-requiem-red_995/index.html\" title=\"The Requiem Red\">The Requiem Red</a></h3>\n",
      "<div class=\"product_price\">\n",
      "<p class=\"price_color\">Â£22.65</p>\n",
      "<p class=\"instock availability\">\n",
      "<i class=\"icon-ok\"></i>\n",
      "    \n",
      "        In stock\n",
      "    \n",
      "</p>\n",
      "<form>\n",
      "<button class=\"btn btn-primary btn-block\" data-loading-text=\"Adding...\" type=\"submit\">Add to basket</button>\n",
      "</form>\n",
      "</div>\n",
      "</article>, <article class=\"product_pod\">\n",
      "<div class=\"image_container\">\n",
      "<a href=\"catalogue/the-dirty-little-secrets-of-getting-your-dream-job_994/index.html\"><img alt=\"The Dirty Little Secrets of Getting Your Dream Job\" class=\"thumbnail\" src=\"media/cache/92/27/92274a95b7c251fea59a2b8a78275ab4.jpg\"/></a>\n",
      "</div>\n",
      "<p class=\"star-rating Four\">\n",
      "<i class=\"icon-star\"></i>\n",
      "<i class=\"icon-star\"></i>\n",
      "<i class=\"icon-star\"></i>\n",
      "<i class=\"icon-star\"></i>\n",
      "<i class=\"icon-star\"></i>\n",
      "</p>\n",
      "<h3><a href=\"catalogue/the-dirty-little-secrets-of-getting-your-dream-job_994/index.html\" title=\"The Dirty Little Secrets of Getting Your Dream Job\">The Dirty Little Secrets ...</a></h3>\n",
      "<div class=\"product_price\">\n",
      "<p class=\"price_color\">Â£33.34</p>\n",
      "<p class=\"instock availability\">\n",
      "<i class=\"icon-ok\"></i>\n",
      "    \n",
      "        In stock\n",
      "    \n",
      "</p>\n",
      "<form>\n",
      "<button class=\"btn btn-primary btn-block\" data-loading-text=\"Adding...\" type=\"submit\">Add to basket</button>\n",
      "</form>\n",
      "</div>\n",
      "</article>, <article class=\"product_pod\">\n",
      "<div class=\"image_container\">\n",
      "<a href=\"catalogue/the-coming-woman-a-novel-based-on-the-life-of-the-infamous-feminist-victoria-woodhull_993/index.html\"><img alt=\"The Coming Woman: A Novel Based on the Life of the Infamous Feminist, Victoria Woodhull\" class=\"thumbnail\" src=\"media/cache/3d/54/3d54940e57e662c4dd1f3ff00c78cc64.jpg\"/></a>\n",
      "</div>\n",
      "<p class=\"star-rating Three\">\n",
      "<i class=\"icon-star\"></i>\n",
      "<i class=\"icon-star\"></i>\n",
      "<i class=\"icon-star\"></i>\n",
      "<i class=\"icon-star\"></i>\n",
      "<i class=\"icon-star\"></i>\n",
      "</p>\n",
      "<h3><a href=\"catalogue/the-coming-woman-a-novel-based-on-the-life-of-the-infamous-feminist-victoria-woodhull_993/index.html\" title=\"The Coming Woman: A Novel Based on the Life of the Infamous Feminist, Victoria Woodhull\">The Coming Woman: A ...</a></h3>\n",
      "<div class=\"product_price\">\n",
      "<p class=\"price_color\">Â£17.93</p>\n",
      "<p class=\"instock availability\">\n",
      "<i class=\"icon-ok\"></i>\n",
      "    \n",
      "        In stock\n",
      "    \n",
      "</p>\n",
      "<form>\n",
      "<button class=\"btn btn-primary btn-block\" data-loading-text=\"Adding...\" type=\"submit\">Add to basket</button>\n",
      "</form>\n",
      "</div>\n",
      "</article>, <article class=\"product_pod\">\n",
      "<div class=\"image_container\">\n",
      "<a href=\"catalogue/the-boys-in-the-boat-nine-americans-and-their-epic-quest-for-gold-at-the-1936-berlin-olympics_992/index.html\"><img alt=\"The Boys in the Boat: Nine Americans and Their Epic Quest for Gold at the 1936 Berlin Olympics\" class=\"thumbnail\" src=\"media/cache/66/88/66883b91f6804b2323c8369331cb7dd1.jpg\"/></a>\n",
      "</div>\n",
      "<p class=\"star-rating Four\">\n",
      "<i class=\"icon-star\"></i>\n",
      "<i class=\"icon-star\"></i>\n",
      "<i class=\"icon-star\"></i>\n",
      "<i class=\"icon-star\"></i>\n",
      "<i class=\"icon-star\"></i>\n",
      "</p>\n",
      "<h3><a href=\"catalogue/the-boys-in-the-boat-nine-americans-and-their-epic-quest-for-gold-at-the-1936-berlin-olympics_992/index.html\" title=\"The Boys in the Boat: Nine Americans and Their Epic Quest for Gold at the 1936 Berlin Olympics\">The Boys in the ...</a></h3>\n",
      "<div class=\"product_price\">\n",
      "<p class=\"price_color\">Â£22.60</p>\n",
      "<p class=\"instock availability\">\n",
      "<i class=\"icon-ok\"></i>\n",
      "    \n",
      "        In stock\n",
      "    \n",
      "</p>\n",
      "<form>\n",
      "<button class=\"btn btn-primary btn-block\" data-loading-text=\"Adding...\" type=\"submit\">Add to basket</button>\n",
      "</form>\n",
      "</div>\n",
      "</article>, <article class=\"product_pod\">\n",
      "<div class=\"image_container\">\n",
      "<a href=\"catalogue/the-black-maria_991/index.html\"><img alt=\"The Black Maria\" class=\"thumbnail\" src=\"media/cache/58/46/5846057e28022268153beff6d352b06c.jpg\"/></a>\n",
      "</div>\n",
      "<p class=\"star-rating One\">\n",
      "<i class=\"icon-star\"></i>\n",
      "<i class=\"icon-star\"></i>\n",
      "<i class=\"icon-star\"></i>\n",
      "<i class=\"icon-star\"></i>\n",
      "<i class=\"icon-star\"></i>\n",
      "</p>\n",
      "<h3><a href=\"catalogue/the-black-maria_991/index.html\" title=\"The Black Maria\">The Black Maria</a></h3>\n",
      "<div class=\"product_price\">\n",
      "<p class=\"price_color\">Â£52.15</p>\n",
      "<p class=\"instock availability\">\n",
      "<i class=\"icon-ok\"></i>\n",
      "    \n",
      "        In stock\n",
      "    \n",
      "</p>\n",
      "<form>\n",
      "<button class=\"btn btn-primary btn-block\" data-loading-text=\"Adding...\" type=\"submit\">Add to basket</button>\n",
      "</form>\n",
      "</div>\n",
      "</article>, <article class=\"product_pod\">\n",
      "<div class=\"image_container\">\n",
      "<a href=\"catalogue/starving-hearts-triangular-trade-trilogy-1_990/index.html\"><img alt=\"Starving Hearts (Triangular Trade Trilogy, #1)\" class=\"thumbnail\" src=\"media/cache/be/f4/bef44da28c98f905a3ebec0b87be8530.jpg\"/></a>\n",
      "</div>\n",
      "<p class=\"star-rating Two\">\n",
      "<i class=\"icon-star\"></i>\n",
      "<i class=\"icon-star\"></i>\n",
      "<i class=\"icon-star\"></i>\n",
      "<i class=\"icon-star\"></i>\n",
      "<i class=\"icon-star\"></i>\n",
      "</p>\n",
      "<h3><a href=\"catalogue/starving-hearts-triangular-trade-trilogy-1_990/index.html\" title=\"Starving Hearts (Triangular Trade Trilogy, #1)\">Starving Hearts (Triangular Trade ...</a></h3>\n",
      "<div class=\"product_price\">\n",
      "<p class=\"price_color\">Â£13.99</p>\n",
      "<p class=\"instock availability\">\n",
      "<i class=\"icon-ok\"></i>\n",
      "    \n",
      "        In stock\n",
      "    \n",
      "</p>\n",
      "<form>\n",
      "<button class=\"btn btn-primary btn-block\" data-loading-text=\"Adding...\" type=\"submit\">Add to basket</button>\n",
      "</form>\n",
      "</div>\n",
      "</article>, <article class=\"product_pod\">\n",
      "<div class=\"image_container\">\n",
      "<a href=\"catalogue/shakespeares-sonnets_989/index.html\"><img alt=\"Shakespeare's Sonnets\" class=\"thumbnail\" src=\"media/cache/10/48/1048f63d3b5061cd2f424d20b3f9b666.jpg\"/></a>\n",
      "</div>\n",
      "<p class=\"star-rating Four\">\n",
      "<i class=\"icon-star\"></i>\n",
      "<i class=\"icon-star\"></i>\n",
      "<i class=\"icon-star\"></i>\n",
      "<i class=\"icon-star\"></i>\n",
      "<i class=\"icon-star\"></i>\n",
      "</p>\n",
      "<h3><a href=\"catalogue/shakespeares-sonnets_989/index.html\" title=\"Shakespeare's Sonnets\">Shakespeare's Sonnets</a></h3>\n",
      "<div class=\"product_price\">\n",
      "<p class=\"price_color\">Â£20.66</p>\n",
      "<p class=\"instock availability\">\n",
      "<i class=\"icon-ok\"></i>\n",
      "    \n",
      "        In stock\n",
      "    \n",
      "</p>\n",
      "<form>\n",
      "<button class=\"btn btn-primary btn-block\" data-loading-text=\"Adding...\" type=\"submit\">Add to basket</button>\n",
      "</form>\n",
      "</div>\n",
      "</article>, <article class=\"product_pod\">\n",
      "<div class=\"image_container\">\n",
      "<a href=\"catalogue/set-me-free_988/index.html\"><img alt=\"Set Me Free\" class=\"thumbnail\" src=\"media/cache/5b/88/5b88c52633f53cacf162c15f4f823153.jpg\"/></a>\n",
      "</div>\n",
      "<p class=\"star-rating Five\">\n",
      "<i class=\"icon-star\"></i>\n",
      "<i class=\"icon-star\"></i>\n",
      "<i class=\"icon-star\"></i>\n",
      "<i class=\"icon-star\"></i>\n",
      "<i class=\"icon-star\"></i>\n",
      "</p>\n",
      "<h3><a href=\"catalogue/set-me-free_988/index.html\" title=\"Set Me Free\">Set Me Free</a></h3>\n",
      "<div class=\"product_price\">\n",
      "<p class=\"price_color\">Â£17.46</p>\n",
      "<p class=\"instock availability\">\n",
      "<i class=\"icon-ok\"></i>\n",
      "    \n",
      "        In stock\n",
      "    \n",
      "</p>\n",
      "<form>\n",
      "<button class=\"btn btn-primary btn-block\" data-loading-text=\"Adding...\" type=\"submit\">Add to basket</button>\n",
      "</form>\n",
      "</div>\n",
      "</article>, <article class=\"product_pod\">\n",
      "<div class=\"image_container\">\n",
      "<a href=\"catalogue/scott-pilgrims-precious-little-life-scott-pilgrim-1_987/index.html\"><img alt=\"Scott Pilgrim's Precious Little Life (Scott Pilgrim #1)\" class=\"thumbnail\" src=\"media/cache/94/b1/94b1b8b244bce9677c2f29ccc890d4d2.jpg\"/></a>\n",
      "</div>\n",
      "<p class=\"star-rating Five\">\n",
      "<i class=\"icon-star\"></i>\n",
      "<i class=\"icon-star\"></i>\n",
      "<i class=\"icon-star\"></i>\n",
      "<i class=\"icon-star\"></i>\n",
      "<i class=\"icon-star\"></i>\n",
      "</p>\n",
      "<h3><a href=\"catalogue/scott-pilgrims-precious-little-life-scott-pilgrim-1_987/index.html\" title=\"Scott Pilgrim's Precious Little Life (Scott Pilgrim #1)\">Scott Pilgrim's Precious Little ...</a></h3>\n",
      "<div class=\"product_price\">\n",
      "<p class=\"price_color\">Â£52.29</p>\n",
      "<p class=\"instock availability\">\n",
      "<i class=\"icon-ok\"></i>\n",
      "    \n",
      "        In stock\n",
      "    \n",
      "</p>\n",
      "<form>\n",
      "<button class=\"btn btn-primary btn-block\" data-loading-text=\"Adding...\" type=\"submit\">Add to basket</button>\n",
      "</form>\n",
      "</div>\n",
      "</article>, <article class=\"product_pod\">\n",
      "<div class=\"image_container\">\n",
      "<a href=\"catalogue/rip-it-up-and-start-again_986/index.html\"><img alt=\"Rip it Up and Start Again\" class=\"thumbnail\" src=\"media/cache/81/c4/81c4a973364e17d01f217e1188253d5e.jpg\"/></a>\n",
      "</div>\n",
      "<p class=\"star-rating Five\">\n",
      "<i class=\"icon-star\"></i>\n",
      "<i class=\"icon-star\"></i>\n",
      "<i class=\"icon-star\"></i>\n",
      "<i class=\"icon-star\"></i>\n",
      "<i class=\"icon-star\"></i>\n",
      "</p>\n",
      "<h3><a href=\"catalogue/rip-it-up-and-start-again_986/index.html\" title=\"Rip it Up and Start Again\">Rip it Up and ...</a></h3>\n",
      "<div class=\"product_price\">\n",
      "<p class=\"price_color\">Â£35.02</p>\n",
      "<p class=\"instock availability\">\n",
      "<i class=\"icon-ok\"></i>\n",
      "    \n",
      "        In stock\n",
      "    \n",
      "</p>\n",
      "<form>\n",
      "<button class=\"btn btn-primary btn-block\" data-loading-text=\"Adding...\" type=\"submit\">Add to basket</button>\n",
      "</form>\n",
      "</div>\n",
      "</article>, <article class=\"product_pod\">\n",
      "<div class=\"image_container\">\n",
      "<a href=\"catalogue/our-band-could-be-your-life-scenes-from-the-american-indie-underground-1981-1991_985/index.html\"><img alt=\"Our Band Could Be Your Life: Scenes from the American Indie Underground, 1981-1991\" class=\"thumbnail\" src=\"media/cache/54/60/54607fe8945897cdcced0044103b10b6.jpg\"/></a>\n",
      "</div>\n",
      "<p class=\"star-rating Three\">\n",
      "<i class=\"icon-star\"></i>\n",
      "<i class=\"icon-star\"></i>\n",
      "<i class=\"icon-star\"></i>\n",
      "<i class=\"icon-star\"></i>\n",
      "<i class=\"icon-star\"></i>\n",
      "</p>\n",
      "<h3><a href=\"catalogue/our-band-could-be-your-life-scenes-from-the-american-indie-underground-1981-1991_985/index.html\" title=\"Our Band Could Be Your Life: Scenes from the American Indie Underground, 1981-1991\">Our Band Could Be ...</a></h3>\n",
      "<div class=\"product_price\">\n",
      "<p class=\"price_color\">Â£57.25</p>\n",
      "<p class=\"instock availability\">\n",
      "<i class=\"icon-ok\"></i>\n",
      "    \n",
      "        In stock\n",
      "    \n",
      "</p>\n",
      "<form>\n",
      "<button class=\"btn btn-primary btn-block\" data-loading-text=\"Adding...\" type=\"submit\">Add to basket</button>\n",
      "</form>\n",
      "</div>\n",
      "</article>, <article class=\"product_pod\">\n",
      "<div class=\"image_container\">\n",
      "<a href=\"catalogue/olio_984/index.html\"><img alt=\"Olio\" class=\"thumbnail\" src=\"media/cache/55/33/553310a7162dfbc2c6d19a84da0df9e1.jpg\"/></a>\n",
      "</div>\n",
      "<p class=\"star-rating One\">\n",
      "<i class=\"icon-star\"></i>\n",
      "<i class=\"icon-star\"></i>\n",
      "<i class=\"icon-star\"></i>\n",
      "<i class=\"icon-star\"></i>\n",
      "<i class=\"icon-star\"></i>\n",
      "</p>\n",
      "<h3><a href=\"catalogue/olio_984/index.html\" title=\"Olio\">Olio</a></h3>\n",
      "<div class=\"product_price\">\n",
      "<p class=\"price_color\">Â£23.88</p>\n",
      "<p class=\"instock availability\">\n",
      "<i class=\"icon-ok\"></i>\n",
      "    \n",
      "        In stock\n",
      "    \n",
      "</p>\n",
      "<form>\n",
      "<button class=\"btn btn-primary btn-block\" data-loading-text=\"Adding...\" type=\"submit\">Add to basket</button>\n",
      "</form>\n",
      "</div>\n",
      "</article>, <article class=\"product_pod\">\n",
      "<div class=\"image_container\">\n",
      "<a href=\"catalogue/mesaerion-the-best-science-fiction-stories-1800-1849_983/index.html\"><img alt=\"Mesaerion: The Best Science Fiction Stories 1800-1849\" class=\"thumbnail\" src=\"media/cache/09/a3/09a3aef48557576e1a85ba7efea8ecb7.jpg\"/></a>\n",
      "</div>\n",
      "<p class=\"star-rating One\">\n",
      "<i class=\"icon-star\"></i>\n",
      "<i class=\"icon-star\"></i>\n",
      "<i class=\"icon-star\"></i>\n",
      "<i class=\"icon-star\"></i>\n",
      "<i class=\"icon-star\"></i>\n",
      "</p>\n",
      "<h3><a href=\"catalogue/mesaerion-the-best-science-fiction-stories-1800-1849_983/index.html\" title=\"Mesaerion: The Best Science Fiction Stories 1800-1849\">Mesaerion: The Best Science ...</a></h3>\n",
      "<div class=\"product_price\">\n",
      "<p class=\"price_color\">Â£37.59</p>\n",
      "<p class=\"instock availability\">\n",
      "<i class=\"icon-ok\"></i>\n",
      "    \n",
      "        In stock\n",
      "    \n",
      "</p>\n",
      "<form>\n",
      "<button class=\"btn btn-primary btn-block\" data-loading-text=\"Adding...\" type=\"submit\">Add to basket</button>\n",
      "</form>\n",
      "</div>\n",
      "</article>, <article class=\"product_pod\">\n",
      "<div class=\"image_container\">\n",
      "<a href=\"catalogue/libertarianism-for-beginners_982/index.html\"><img alt=\"Libertarianism for Beginners\" class=\"thumbnail\" src=\"media/cache/0b/bc/0bbcd0a6f4bcd81ccb1049a52736406e.jpg\"/></a>\n",
      "</div>\n",
      "<p class=\"star-rating Two\">\n",
      "<i class=\"icon-star\"></i>\n",
      "<i class=\"icon-star\"></i>\n",
      "<i class=\"icon-star\"></i>\n",
      "<i class=\"icon-star\"></i>\n",
      "<i class=\"icon-star\"></i>\n",
      "</p>\n",
      "<h3><a href=\"catalogue/libertarianism-for-beginners_982/index.html\" title=\"Libertarianism for Beginners\">Libertarianism for Beginners</a></h3>\n",
      "<div class=\"product_price\">\n",
      "<p class=\"price_color\">Â£51.33</p>\n",
      "<p class=\"instock availability\">\n",
      "<i class=\"icon-ok\"></i>\n",
      "    \n",
      "        In stock\n",
      "    \n",
      "</p>\n",
      "<form>\n",
      "<button class=\"btn btn-primary btn-block\" data-loading-text=\"Adding...\" type=\"submit\">Add to basket</button>\n",
      "</form>\n",
      "</div>\n",
      "</article>, <article class=\"product_pod\">\n",
      "<div class=\"image_container\">\n",
      "<a href=\"catalogue/its-only-the-himalayas_981/index.html\"><img alt=\"It's Only the Himalayas\" class=\"thumbnail\" src=\"media/cache/27/a5/27a53d0bb95bdd88288eaf66c9230d7e.jpg\"/></a>\n",
      "</div>\n",
      "<p class=\"star-rating Two\">\n",
      "<i class=\"icon-star\"></i>\n",
      "<i class=\"icon-star\"></i>\n",
      "<i class=\"icon-star\"></i>\n",
      "<i class=\"icon-star\"></i>\n",
      "<i class=\"icon-star\"></i>\n",
      "</p>\n",
      "<h3><a href=\"catalogue/its-only-the-himalayas_981/index.html\" title=\"It's Only the Himalayas\">It's Only the Himalayas</a></h3>\n",
      "<div class=\"product_price\">\n",
      "<p class=\"price_color\">Â£45.17</p>\n",
      "<p class=\"instock availability\">\n",
      "<i class=\"icon-ok\"></i>\n",
      "    \n",
      "        In stock\n",
      "    \n",
      "</p>\n",
      "<form>\n",
      "<button class=\"btn btn-primary btn-block\" data-loading-text=\"Adding...\" type=\"submit\">Add to basket</button>\n",
      "</form>\n",
      "</div>\n",
      "</article>]\n"
     ]
    }
   ],
   "source": [
    "from bs4 import BeautifulSoup\n",
    "import requests\n",
    "response1=requests.get('https://books.toscrape.com/')\n",
    "#print(response.status_code)\n",
    "data=BeautifulSoup(response1.text,'html.parser')\n",
    "#print(data.prettify)\n",
    "li=data.find_all(class_='product_pod')\n",
    "print(li)"
   ]
  },
  {
   "cell_type": "code",
   "execution_count": 36,
   "metadata": {},
   "outputs": [
    {
     "name": "stdout",
     "output_type": "stream",
     "text": [
      "A Light in the Attic\n",
      "Tipping the Velvet\n",
      "Soumission\n",
      "Sharp Objects\n",
      "Sapiens: A Brief History of Humankind\n",
      "The Requiem Red\n",
      "The Dirty Little Secrets of Getting Your Dream Job\n",
      "The Coming Woman: A Novel Based on the Life of the Infamous Feminist, Victoria Woodhull\n",
      "The Boys in the Boat: Nine Americans and Their Epic Quest for Gold at the 1936 Berlin Olympics\n",
      "The Black Maria\n",
      "Starving Hearts (Triangular Trade Trilogy, #1)\n",
      "Shakespeare's Sonnets\n",
      "Set Me Free\n",
      "Scott Pilgrim's Precious Little Life (Scott Pilgrim #1)\n",
      "Rip it Up and Start Again\n",
      "Our Band Could Be Your Life: Scenes from the American Indie Underground, 1981-1991\n",
      "Olio\n",
      "Mesaerion: The Best Science Fiction Stories 1800-1849\n",
      "Libertarianism for Beginners\n",
      "It's Only the Himalayas\n"
     ]
    }
   ],
   "source": [
    "li=data.find_all(class_=\"product_pod\")\n",
    "for i in li:\n",
    "    print(i.h3.a['title'])"
   ]
  },
  {
   "cell_type": "code",
   "execution_count": 50,
   "metadata": {},
   "outputs": [
    {
     "name": "stdout",
     "output_type": "stream",
     "text": [
      "https://books.toscrape.com/catalogue/page-2.html\n",
      "https://books.toscrape.com/catalogue/page-3.html\n",
      "https://books.toscrape.com/catalogue/page-4.html\n",
      "https://books.toscrape.com/catalogue/page-5.html\n",
      "https://books.toscrape.com/catalogue/page-6.html\n",
      "https://books.toscrape.com/catalogue/page-7.html\n",
      "https://books.toscrape.com/catalogue/page-8.html\n",
      "https://books.toscrape.com/catalogue/page-9.html\n",
      "https://books.toscrape.com/catalogue/page-10.html\n",
      "https://books.toscrape.com/catalogue/page-11.html\n",
      "https://books.toscrape.com/catalogue/page-12.html\n",
      "https://books.toscrape.com/catalogue/page-13.html\n",
      "https://books.toscrape.com/catalogue/page-14.html\n",
      "https://books.toscrape.com/catalogue/page-15.html\n",
      "https://books.toscrape.com/catalogue/page-16.html\n",
      "https://books.toscrape.com/catalogue/page-17.html\n",
      "https://books.toscrape.com/catalogue/page-18.html\n",
      "https://books.toscrape.com/catalogue/page-19.html\n",
      "https://books.toscrape.com/catalogue/page-20.html\n",
      "https://books.toscrape.com/catalogue/page-21.html\n",
      "https://books.toscrape.com/catalogue/page-22.html\n",
      "https://books.toscrape.com/catalogue/page-23.html\n",
      "https://books.toscrape.com/catalogue/page-24.html\n",
      "https://books.toscrape.com/catalogue/page-25.html\n",
      "https://books.toscrape.com/catalogue/page-26.html\n",
      "https://books.toscrape.com/catalogue/page-27.html\n",
      "https://books.toscrape.com/catalogue/page-28.html\n",
      "https://books.toscrape.com/catalogue/page-29.html\n",
      "https://books.toscrape.com/catalogue/page-30.html\n",
      "https://books.toscrape.com/catalogue/page-31.html\n",
      "https://books.toscrape.com/catalogue/page-32.html\n",
      "https://books.toscrape.com/catalogue/page-33.html\n",
      "https://books.toscrape.com/catalogue/page-34.html\n",
      "https://books.toscrape.com/catalogue/page-35.html\n",
      "https://books.toscrape.com/catalogue/page-36.html\n",
      "https://books.toscrape.com/catalogue/page-37.html\n",
      "https://books.toscrape.com/catalogue/page-38.html\n",
      "https://books.toscrape.com/catalogue/page-39.html\n",
      "https://books.toscrape.com/catalogue/page-40.html\n",
      "https://books.toscrape.com/catalogue/page-41.html\n",
      "https://books.toscrape.com/catalogue/page-42.html\n",
      "https://books.toscrape.com/catalogue/page-43.html\n",
      "https://books.toscrape.com/catalogue/page-44.html\n",
      "https://books.toscrape.com/catalogue/page-45.html\n",
      "https://books.toscrape.com/catalogue/page-46.html\n",
      "https://books.toscrape.com/catalogue/page-47.html\n",
      "https://books.toscrape.com/catalogue/page-48.html\n",
      "https://books.toscrape.com/catalogue/page-49.html\n",
      "https://books.toscrape.com/catalogue/page-50.html\n"
     ]
    }
   ],
   "source": [
    "#links to all pages\n",
    "from bs4 import BeautifulSoup\n",
    "import requests\n",
    "all_urls=['https://books.toscrape.com/catalogue/page-1.html']\n",
    "curr_page='https://books.toscrape.com/catalogue/page-1.html'\n",
    "base_url='https://books.toscrape.com/catalogue/'\n",
    "response=requests.get(curr_page)\n",
    "while response.status_code==200:\n",
    "    data=BeautifulSoup(response.text,'html.parser')\n",
    "    next_page=data.find(class_='next')\n",
    "    if next_page==None:\n",
    "        break\n",
    "    next_page_url=base_url+next_page.a['href']\n",
    "    print(next_page_url)\n",
    "    all_urls.append(next_page_url)\n",
    "    curr_page=next_page_url\n",
    "    response=requests.get(curr_page)"
   ]
  },
  {
   "cell_type": "code",
   "execution_count": 59,
   "metadata": {},
   "outputs": [
    {
     "name": "stdout",
     "output_type": "stream",
     "text": [
      "A Light in the Attic\n",
      "In Her Wake\n",
      "Slow States of Collapse: Poems\n",
      "The Nameless City (The Nameless City #1)\n",
      "Princess Jellyfish 2-in-1 Omnibus, Vol. 01 (Princess Jellyfish 2-in-1 Omnibus #1)\n",
      "Immunity: How Elie Metchnikoff Changed the Course of Modern Medicine\n",
      "Algorithms to Live By: The Computer Science of Human Decisions\n",
      "The Shadow Hero (The Shadow Hero)\n",
      "The Bridge to Consciousness: I'm Writing the Bridge Between Science and Our Old and New Beliefs.\n",
      "Modern Romance\n"
     ]
    }
   ],
   "source": [
    "#Print the title of all books which are present on first 10 pages of this website.\n",
    "#with this we are only getting for one page\n",
    "from bs4 import BeautifulSoup\n",
    "import requests\n",
    "allPages = ['http://books.toscrape.com/catalogue/page-1.html',\n",
    "            'http://books.toscrape.com/catalogue/page-2.html',\n",
    "            'http://books.toscrape.com/catalogue/page-3.html',\n",
    "            'http://books.toscrape.com/catalogue/page-4.html',\n",
    "            'http://books.toscrape.com/catalogue/page-5.html',\n",
    "            'http://books.toscrape.com/catalogue/page-6.html',\n",
    "            'http://books.toscrape.com/catalogue/page-7.html',\n",
    "            'http://books.toscrape.com/catalogue/page-8.html',\n",
    "            'http://books.toscrape.com/catalogue/page-9.html',\n",
    "            'http://books.toscrape.com/catalogue/page-10.html']\n",
    "for i in allPages:\n",
    "    response=requests.get(i)\n",
    "    #print(response.status_code)\n",
    "    data=BeautifulSoup(response.text,\"html.parser\")\n",
    "    next_page=data.find(class_='product_pod')\n",
    "    print(next_page.h3.a['title'])   "
   ]
  },
  {
   "cell_type": "code",
   "execution_count": 60,
   "metadata": {},
   "outputs": [
    {
     "name": "stdout",
     "output_type": "stream",
     "text": [
      "A Light in the Attic\n",
      "Tipping the Velvet\n",
      "Soumission\n",
      "Sharp Objects\n",
      "Sapiens: A Brief History of Humankind\n",
      "The Requiem Red\n",
      "The Dirty Little Secrets of Getting Your Dream Job\n",
      "The Coming Woman: A Novel Based on the Life of the Infamous Feminist, Victoria Woodhull\n",
      "The Boys in the Boat: Nine Americans and Their Epic Quest for Gold at the 1936 Berlin Olympics\n",
      "The Black Maria\n",
      "Starving Hearts (Triangular Trade Trilogy, #1)\n",
      "Shakespeare's Sonnets\n",
      "Set Me Free\n",
      "Scott Pilgrim's Precious Little Life (Scott Pilgrim #1)\n",
      "Rip it Up and Start Again\n",
      "Our Band Could Be Your Life: Scenes from the American Indie Underground, 1981-1991\n",
      "Olio\n",
      "Mesaerion: The Best Science Fiction Stories 1800-1849\n",
      "Libertarianism for Beginners\n",
      "It's Only the Himalayas\n",
      "In Her Wake\n",
      "How Music Works\n",
      "Foolproof Preserving: A Guide to Small Batch Jams, Jellies, Pickles, Condiments, and More: A Foolproof Guide to Making Small Batch Jams, Jellies, Pickles, Condiments, and More\n",
      "Chase Me (Paris Nights #2)\n",
      "Black Dust\n",
      "Birdsong: A Story in Pictures\n",
      "America's Cradle of Quarterbacks: Western Pennsylvania's Football Factory from Johnny Unitas to Joe Montana\n",
      "Aladdin and His Wonderful Lamp\n",
      "Worlds Elsewhere: Journeys Around Shakespeareâs Globe\n",
      "Wall and Piece\n",
      "The Four Agreements: A Practical Guide to Personal Freedom\n",
      "The Five Love Languages: How to Express Heartfelt Commitment to Your Mate\n",
      "The Elephant Tree\n",
      "The Bear and the Piano\n",
      "Sophie's World\n",
      "Penny Maybe\n",
      "Maude (1883-1993):She Grew Up with the country\n",
      "In a Dark, Dark Wood\n",
      "Behind Closed Doors\n",
      "You can't bury them all: Poems\n",
      "Slow States of Collapse: Poems\n",
      "Reasons to Stay Alive\n",
      "Private Paris (Private #10)\n",
      "#HigherSelfie: Wake Up Your Life. Free Your Soul. Find Your Tribe.\n",
      "Without Borders (Wanderlove #1)\n",
      "When We Collided\n",
      "We Love You, Charlie Freeman\n",
      "Untitled Collection: Sabbath Poems 2014\n",
      "Unseen City: The Majesty of Pigeons, the Discreet Charm of Snails & Other Wonders of the Urban Wilderness\n",
      "Unicorn Tracks\n",
      "Unbound: How Eight Technologies Made Us Human, Transformed Society, and Brought Our World to the Brink\n",
      "Tsubasa: WoRLD CHRoNiCLE 2 (Tsubasa WoRLD CHRoNiCLE #2)\n",
      "Throwing Rocks at the Google Bus: How Growth Became the Enemy of Prosperity\n",
      "This One Summer\n",
      "Thirst\n",
      "The Torch Is Passed: A Harding Family Story\n",
      "The Secret of Dreadwillow Carse\n",
      "The Pioneer Woman Cooks: Dinnertime: Comfort Classics, Freezer Food, 16-Minute Meals, and Other Delicious Ways to Solve Supper!\n",
      "The Past Never Ends\n",
      "The Natural History of Us (The Fine Art of Pretending #2)\n",
      "The Nameless City (The Nameless City #1)\n",
      "The Murder That Never Was (Forensic Instincts #5)\n",
      "The Most Perfect Thing: Inside (and Outside) a Bird's Egg\n",
      "The Mindfulness and Acceptance Workbook for Anxiety: A Guide to Breaking Free from Anxiety, Phobias, and Worry Using Acceptance and Commitment Therapy\n",
      "The Life-Changing Magic of Tidying Up: The Japanese Art of Decluttering and Organizing\n",
      "The Inefficiency Assassin: Time Management Tactics for Working Smarter, Not Longer\n",
      "The Gutsy Girl: Escapades for Your Life of Epic Adventure\n",
      "The Electric Pencil: Drawings from Inside State Hospital No. 3\n",
      "The Death of Humanity: and the Case for Life\n",
      "The Bulletproof Diet: Lose up to a Pound a Day, Reclaim Energy and Focus, Upgrade Your Life\n",
      "The Art Forger\n",
      "The Age of Genius: The Seventeenth Century and the Birth of the Modern Mind\n",
      "The Activist's Tao Te Ching: Ancient Advice for a Modern Revolution\n",
      "Spark Joy: An Illustrated Master Class on the Art of Organizing and Tidying Up\n",
      "Soul Reader\n",
      "Security\n",
      "Saga, Volume 6 (Saga (Collected Editions) #6)\n",
      "Saga, Volume 5 (Saga (Collected Editions) #5)\n",
      "Reskilling America: Learning to Labor in the Twenty-First Century\n",
      "Rat Queens, Vol. 3: Demons (Rat Queens (Collected Editions) #11-15)\n",
      "Princess Jellyfish 2-in-1 Omnibus, Vol. 01 (Princess Jellyfish 2-in-1 Omnibus #1)\n",
      "Princess Between Worlds (Wide-Awake Princess #5)\n",
      "Pop Gun War, Volume 1: Gift\n",
      "Political Suicide: Missteps, Peccadilloes, Bad Calls, Backroom Hijinx, Sordid Pasts, Rotten Breaks, and Just Plain Dumb Mistakes in the Annals of American Politics\n",
      "Patience\n",
      "Outcast, Vol. 1: A Darkness Surrounds Him (Outcast #1)\n",
      "orange: The Complete Collection 1 (orange: The Complete Collection #1)\n",
      "Online Marketing for Busy Authors: A Step-By-Step Guide\n",
      "On a Midnight Clear\n",
      "Obsidian (Lux #1)\n",
      "My Paris Kitchen: Recipes and Stories\n",
      "Masks and Shadows\n",
      "Mama Tried: Traditional Italian Cooking for the Screwed, Crude, Vegan, and Tattooed\n",
      "Lumberjanes, Vol. 2: Friendship to the Max (Lumberjanes #5-8)\n",
      "Lumberjanes, Vol. 1: Beware the Kitten Holy (Lumberjanes #1-4)\n",
      "Lumberjanes Vol. 3: A Terrible Plan (Lumberjanes #9-12)\n",
      "Layered: Baking, Building, and Styling Spectacular Cakes\n",
      "Judo: Seven Steps to Black Belt (an Introductory Guide for Beginners)\n",
      "Join\n",
      "In the Country We Love: My Family Divided\n",
      "Immunity: How Elie Metchnikoff Changed the Course of Modern Medicine\n",
      "I Hate Fairyland, Vol. 1: Madly Ever After (I Hate Fairyland (Compilations) #1-5)\n",
      "I am a Hero Omnibus Volume 1\n",
      "How to Be Miserable: 40 Strategies You Already Use\n",
      "Her Backup Boyfriend (The Sorensen Family #1)\n",
      "Giant Days, Vol. 2 (Giant Days #5-8)\n",
      "Forever and Forever: The Courtship of Henry Longfellow and Fanny Appleton\n",
      "First and First (Five Boroughs #3)\n",
      "Fifty Shades Darker (Fifty Shades #2)\n",
      "Everydata: The Misinformation Hidden in the Little Data You Consume Every Day\n",
      "Don't Be a Jerk: And Other Practical Advice from Dogen, Japan's Greatest Zen Master\n",
      "Danganronpa Volume 1\n",
      "Crown of Midnight (Throne of Glass #2)\n",
      "Codename Baboushka, Volume 1: The Conclave of Death\n",
      "Camp Midnight\n",
      "Call the Nurse: True Stories of a Country Nurse on a Scottish Isle\n",
      "Burning\n",
      "Bossypants\n",
      "Bitch Planet, Vol. 1: Extraordinary Machine (Bitch Planet (Collected Editions))\n",
      "Avatar: The Last Airbender: Smoke and Shadow, Part 3 (Smoke and Shadow #3)\n",
      "Algorithms to Live By: The Computer Science of Human Decisions\n",
      "A World of Flavor: Your Gluten Free Passport\n",
      "A Piece of Sky, a Grain of Rice: A Memoir in Four Meditations\n",
      "A Murder in Time\n",
      "A Flight of Arrows (The Pathfinders #2)\n",
      "A Fierce and Subtle Poison\n",
      "A Court of Thorns and Roses (A Court of Thorns and Roses #1)\n",
      "(Un)Qualified: How God Uses Broken People to Do Big Things\n",
      "You Are What You Love: The Spiritual Power of Habit\n",
      "William Shakespeare's Star Wars: Verily, A New Hope (William Shakespeare's Star Wars #4)\n",
      "Tuesday Nights in 1980\n",
      "Tracing Numbers on a Train\n",
      "Throne of Glass (Throne of Glass #1)\n",
      "Thomas Jefferson and the Tripoli Pirates: The Forgotten War That Changed American History\n",
      "Thirteen Reasons Why\n",
      "The White Cat and the Monk: A Retelling of the Poem âPangur BÃ¡nâ\n",
      "The Wedding Dress\n",
      "The Vacationers\n",
      "The Third Wave: An Entrepreneurâs Vision of the Future\n",
      "The Stranger\n",
      "The Shadow Hero (The Shadow Hero)\n",
      "The Secret (The Secret #1)\n",
      "The Regional Office Is Under Attack!\n",
      "The Psychopath Test: A Journey Through the Madness Industry\n",
      "The Project\n",
      "The Power of Now: A Guide to Spiritual Enlightenment\n",
      "The Omnivore's Dilemma: A Natural History of Four Meals\n",
      "The Nerdy Nummies Cookbook: Sweet Treats for the Geek in All of Us\n",
      "The Murder of Roger Ackroyd (Hercule Poirot #4)\n",
      "The Mistake (Off-Campus #2)\n",
      "The Matchmaker's Playbook (Wingmen Inc. #1)\n",
      "The Love and Lemons Cookbook: An Apple-to-Zucchini Celebration of Impromptu Cooking\n",
      "The Long Shadow of Small Ghosts: Murder and Memory in an American City\n",
      "The Kite Runner\n",
      "The House by the Lake\n",
      "The Glittering Court (The Glittering Court #1)\n",
      "The Girl on the Train\n",
      "The Genius of Birds\n",
      "The Emerald Mystery\n",
      "The Cookies & Cups Cookbook: 125+ sweet & savory recipes reminding you to Always Eat Dessert First\n",
      "The Bridge to Consciousness: I'm Writing the Bridge Between Science and Our Old and New Beliefs.\n",
      "The Artist's Way: A Spiritual Path to Higher Creativity\n",
      "The Art of War\n",
      "The Argonauts\n",
      "The 10% Entrepreneur: Live Your Startup Dream Without Quitting Your Day Job\n",
      "Suddenly in Love (Lake Haven #1)\n",
      "Something More Than This\n",
      "Soft Apocalypse\n",
      "So You've Been Publicly Shamed\n",
      "Shoe Dog: A Memoir by the Creator of NIKE\n",
      "Shobu Samurai, Project Aryoku (#3)\n",
      "Secrets and Lace (Fatal Hearts #1)\n",
      "Scarlett Epstein Hates It Here\n",
      "Romero and Juliet: A Tragic Tale of Love and Zombies\n",
      "Redeeming Love\n",
      "Poses for Artists Volume 1 - Dynamic and Sitting Poses: An Essential Reference for Figure Drawing and the Human Form\n",
      "Poems That Make Grown Women Cry\n",
      "Nightingale, Sing\n",
      "Night Sky with Exit Wounds\n",
      "Mrs. Houdini\n",
      "Modern Romance\n",
      "Miss Peregrineâs Home for Peculiar Children (Miss Peregrineâs Peculiar Children #1)\n",
      "Louisa: The Extraordinary Life of Mrs. Adams\n",
      "Little Red\n",
      "Library of Souls (Miss Peregrineâs Peculiar Children #3)\n",
      "Large Print Heart of the Pride\n",
      "I Had a Nice Time And Other Lies...: How to find love & sh*t like that\n",
      "Hollow City (Miss Peregrineâs Peculiar Children #2)\n",
      "Grumbles\n",
      "Full Moon over Noahâs Ark: An Odyssey to Mount Ararat and Beyond\n",
      "Frostbite (Vampire Academy #2)\n",
      "Follow You Home\n",
      "First Steps for New Christians (Print Edition)\n",
      "Finders Keepers (Bill Hodges Trilogy #2)\n",
      "Fables, Vol. 1: Legends in Exile (Fables #1)\n",
      "Eureka Trivia 6.0\n",
      "Drive: The Surprising Truth About What Motivates Us\n",
      "Done Rubbed Out (Reightman & Bailey #1)\n",
      "Doing It Over (Most Likely To #1)\n",
      "Deliciously Ella Every Day: Quick and Easy Recipes for Gluten-Free Snacks, Packed Lunches, and Simple Meals\n"
     ]
    }
   ],
   "source": [
    "#by this we are getting for all pages\n",
    "from bs4 import BeautifulSoup\n",
    "import requests\n",
    "allPages = ['http://books.toscrape.com/catalogue/page-1.html',\n",
    "            'http://books.toscrape.com/catalogue/page-2.html',\n",
    "            'http://books.toscrape.com/catalogue/page-3.html',\n",
    "            'http://books.toscrape.com/catalogue/page-4.html',\n",
    "            'http://books.toscrape.com/catalogue/page-5.html',\n",
    "            'http://books.toscrape.com/catalogue/page-6.html',\n",
    "            'http://books.toscrape.com/catalogue/page-7.html',\n",
    "            'http://books.toscrape.com/catalogue/page-8.html',\n",
    "            'http://books.toscrape.com/catalogue/page-9.html',\n",
    "            'http://books.toscrape.com/catalogue/page-10.html']\n",
    "\n",
    "def getNames(url):\n",
    "    books=[]\n",
    "    response=requests.get(url)\n",
    "    data=BeautifulSoup(response.text,'html.parser')\n",
    "    li=data.find_all(class_='product_pod')\n",
    "    for i in li:\n",
    "        books.append(i.h3.a['title'])\n",
    "    return books\n",
    "\n",
    "allBooks=[]\n",
    "for page in allPages:\n",
    "    allBooks.append(getNames(page))\n",
    "\n",
    "for i in range(len(allBooks)):\n",
    "    for book in allBooks[i]:\n",
    "        print(book)\n",
    "    "
   ]
  },
  {
   "cell_type": "code",
   "execution_count": 4,
   "metadata": {},
   "outputs": [
    {
     "name": "stdout",
     "output_type": "stream",
     "text": [
      "https://books.toscrape.com/catalogue/a-light-in-the-attic_1000/index.html\n"
     ]
    }
   ],
   "source": [
    "#store in csv files\n",
    "import requests\n",
    "from bs4 import BeautifulSoup\n",
    "response=requests.get('https://books.toscrape.com/')\n",
    "data=BeautifulSoup(response.text,'html.parser')\n",
    "b=data.find(class_='product_pod')\n",
    "base_url='https://books.toscrape.com/'\n",
    "l=base_url+b.a['href']\n",
    "print(l)\n"
   ]
  },
  {
   "cell_type": "code",
   "execution_count": 6,
   "metadata": {},
   "outputs": [
    {
     "data": {
      "text/plain": [
       "\n",
       "<!DOCTYPE html>\n",
       "\n",
       "<!--[if lt IE 7]>      <html lang=\"en-us\" class=\"no-js lt-ie9 lt-ie8 lt-ie7\"> <![endif]-->\n",
       "<!--[if IE 7]>         <html lang=\"en-us\" class=\"no-js lt-ie9 lt-ie8\"> <![endif]-->\n",
       "<!--[if IE 8]>         <html lang=\"en-us\" class=\"no-js lt-ie9\"> <![endif]-->\n",
       "<!--[if gt IE 8]><!--> <html class=\"no-js\" lang=\"en-us\"> <!--<![endif]-->\n",
       "<head>\n",
       "<title>\n",
       "    A Light in the Attic | Books to Scrape - Sandbox\n",
       "</title>\n",
       "<meta content=\"text/html; charset=utf-8\" http-equiv=\"content-type\"/>\n",
       "<meta content=\"24th Jun 2016 09:29\" name=\"created\"/>\n",
       "<meta content=\"\n",
       "    It's hard to imagine a world without A Light in the Attic. This now-classic collection of poetry and drawings from Shel Silverstein celebrates its 20th anniversary with this special edition. Silverstein's humorous and creative verse can amuse the dowdiest of readers. Lemon-faced adults and fidgety kids sit still and read these rhythmic words and laugh and smile and love th It's hard to imagine a world without A Light in the Attic. This now-classic collection of poetry and drawings from Shel Silverstein celebrates its 20th anniversary with this special edition. Silverstein's humorous and creative verse can amuse the dowdiest of readers. Lemon-faced adults and fidgety kids sit still and read these rhythmic words and laugh and smile and love that Silverstein. Need proof of his genius? RockabyeRockabye baby, in the treetopDon't you know a treetopIs no safe place to rock?And who put you up there,And your cradle, too?Baby, I think someone down here'sGot it in for you. Shel, you never sounded so good. ...more\n",
       "\" name=\"description\"/>\n",
       "<meta content=\"width=device-width\" name=\"viewport\"/>\n",
       "<meta content=\"NOARCHIVE,NOCACHE\" name=\"robots\"/>\n",
       "<!-- Le HTML5 shim, for IE6-8 support of HTML elements -->\n",
       "<!--[if lt IE 9]>\n",
       "        <script src=\"//html5shim.googlecode.com/svn/trunk/html5.js\"></script>\n",
       "        <![endif]-->\n",
       "<link href=\"../../static/oscar/favicon.ico\" rel=\"shortcut icon\"/>\n",
       "<link href=\"../../static/oscar/css/styles.css\" rel=\"stylesheet\" type=\"text/css\"/>\n",
       "<link href=\"../../static/oscar/js/bootstrap-datetimepicker/bootstrap-datetimepicker.css\" rel=\"stylesheet\"/>\n",
       "<link href=\"../../static/oscar/css/datetimepicker.css\" rel=\"stylesheet\" type=\"text/css\"/>\n",
       "</head>\n",
       "<body class=\"default\" id=\"default\">\n",
       "<header class=\"header container-fluid\">\n",
       "<div class=\"page_inner\">\n",
       "<div class=\"row\">\n",
       "<div class=\"col-sm-8 h1\"><a href=\"../../index.html\">Books to Scrape</a><small> We love being scraped!</small>\n",
       "</div>\n",
       "</div>\n",
       "</div>\n",
       "</header>\n",
       "<div class=\"container-fluid page\">\n",
       "<div class=\"page_inner\">\n",
       "<ul class=\"breadcrumb\">\n",
       "<li>\n",
       "<a href=\"../../index.html\">Home</a>\n",
       "</li>\n",
       "<li>\n",
       "<a href=\"../category/books_1/index.html\">Books</a>\n",
       "</li>\n",
       "<li>\n",
       "<a href=\"../category/books/poetry_23/index.html\">Poetry</a>\n",
       "</li>\n",
       "<li class=\"active\">A Light in the Attic</li>\n",
       "</ul>\n",
       "<div id=\"messages\">\n",
       "</div>\n",
       "<div class=\"content\">\n",
       "<div id=\"promotions\">\n",
       "</div>\n",
       "<div id=\"content_inner\">\n",
       "<article class=\"product_page\"><!-- Start of product page -->\n",
       "<div class=\"row\">\n",
       "<div class=\"col-sm-6\">\n",
       "<div class=\"carousel\" id=\"product_gallery\">\n",
       "<div class=\"thumbnail\">\n",
       "<div class=\"carousel-inner\">\n",
       "<div class=\"item active\">\n",
       "<img alt=\"A Light in the Attic\" src=\"../../media/cache/fe/72/fe72f0532301ec28892ae79a629a293c.jpg\"/>\n",
       "</div>\n",
       "</div>\n",
       "</div>\n",
       "</div>\n",
       "</div>\n",
       "<div class=\"col-sm-6 product_main\">\n",
       "<h1>A Light in the Attic</h1>\n",
       "<p class=\"price_color\">Â£51.77</p>\n",
       "<p class=\"instock availability\">\n",
       "<i class=\"icon-ok\"></i>\n",
       "    \n",
       "        In stock (22 available)\n",
       "    \n",
       "</p>\n",
       "<p class=\"star-rating Three\">\n",
       "<i class=\"icon-star\"></i>\n",
       "<i class=\"icon-star\"></i>\n",
       "<i class=\"icon-star\"></i>\n",
       "<i class=\"icon-star\"></i>\n",
       "<i class=\"icon-star\"></i>\n",
       "<!-- <small><a href=\"/catalogue/a-light-in-the-attic_1000/reviews/\">\n",
       "        \n",
       "                \n",
       "                    0 customer reviews\n",
       "                \n",
       "        </a></small>\n",
       "         --> \n",
       "\n",
       "\n",
       "<!-- \n",
       "    <a id=\"write_review\" href=\"/catalogue/a-light-in-the-attic_1000/reviews/add/#addreview\" class=\"btn btn-success btn-sm\">\n",
       "        Write a review\n",
       "    </a>\n",
       "\n",
       " --></p>\n",
       "<hr/>\n",
       "<div class=\"alert alert-warning\" role=\"alert\"><strong>Warning!</strong> This is a demo website for web scraping purposes. Prices and ratings here were randomly assigned and have no real meaning.</div>\n",
       "</div><!-- /col-sm-6 -->\n",
       "</div><!-- /row -->\n",
       "<div class=\"sub-header\" id=\"product_description\">\n",
       "<h2>Product Description</h2>\n",
       "</div>\n",
       "<p>It's hard to imagine a world without A Light in the Attic. This now-classic collection of poetry and drawings from Shel Silverstein celebrates its 20th anniversary with this special edition. Silverstein's humorous and creative verse can amuse the dowdiest of readers. Lemon-faced adults and fidgety kids sit still and read these rhythmic words and laugh and smile and love th It's hard to imagine a world without A Light in the Attic. This now-classic collection of poetry and drawings from Shel Silverstein celebrates its 20th anniversary with this special edition. Silverstein's humorous and creative verse can amuse the dowdiest of readers. Lemon-faced adults and fidgety kids sit still and read these rhythmic words and laugh and smile and love that Silverstein. Need proof of his genius? RockabyeRockabye baby, in the treetopDon't you know a treetopIs no safe place to rock?And who put you up there,And your cradle, too?Baby, I think someone down here'sGot it in for you. Shel, you never sounded so good. ...more</p>\n",
       "<div class=\"sub-header\">\n",
       "<h2>Product Information</h2>\n",
       "</div>\n",
       "<table class=\"table table-striped\">\n",
       "<tr>\n",
       "<th>UPC</th><td>a897fe39b1053632</td>\n",
       "</tr>\n",
       "<tr>\n",
       "<th>Product Type</th><td>Books</td>\n",
       "</tr>\n",
       "<tr>\n",
       "<th>Price (excl. tax)</th><td>Â£51.77</td>\n",
       "</tr>\n",
       "<tr>\n",
       "<th>Price (incl. tax)</th><td>Â£51.77</td>\n",
       "</tr>\n",
       "<tr>\n",
       "<th>Tax</th><td>Â£0.00</td>\n",
       "</tr>\n",
       "<tr>\n",
       "<th>Availability</th>\n",
       "<td>In stock (22 available)</td>\n",
       "</tr>\n",
       "<tr>\n",
       "<th>Number of reviews</th>\n",
       "<td>0</td>\n",
       "</tr>\n",
       "</table>\n",
       "<section>\n",
       "<div class=\"sub-header\" id=\"reviews\">\n",
       "</div>\n",
       "</section>\n",
       "</article><!-- End of product page -->\n",
       "</div>\n",
       "</div>\n",
       "</div>\n",
       "</div>\n",
       "<footer class=\"footer container-fluid\">\n",
       "</footer>\n",
       "<!-- jQuery -->\n",
       "<script src=\"http://ajax.googleapis.com/ajax/libs/jquery/1.9.1/jquery.min.js\"></script>\n",
       "<script>window.jQuery || document.write('<script src=\"../../static/oscar/js/jquery/jquery-1.9.1.min.js\"><\\/script>')</script>\n",
       "<!-- Twitter Bootstrap -->\n",
       "<script src=\"../../static/oscar/js/bootstrap3/bootstrap.min.js\" type=\"text/javascript\"></script>\n",
       "<!-- Oscar -->\n",
       "<script charset=\"utf-8\" src=\"../../static/oscar/js/oscar/ui.js\" type=\"text/javascript\"></script>\n",
       "<script charset=\"utf-8\" src=\"../../static/oscar/js/bootstrap-datetimepicker/bootstrap-datetimepicker.js\" type=\"text/javascript\"></script>\n",
       "<script charset=\"utf-8\" src=\"../../static/oscar/js/bootstrap-datetimepicker/locales/bootstrap-datetimepicker.all.js\" type=\"text/javascript\"></script>\n",
       "<script type=\"text/javascript\">\n",
       "            $(function() {\n",
       "                \n",
       "    \n",
       "    oscar.init();\n",
       "\n",
       "            });\n",
       "        </script>\n",
       "<!-- Version: N/A -->\n",
       "</body>\n",
       "</html>"
      ]
     },
     "execution_count": 6,
     "metadata": {},
     "output_type": "execute_result"
    }
   ],
   "source": [
    "response=requests.get(l)\n",
    "data=BeautifulSoup(response.text,'html.parser')\n",
    "data"
   ]
  },
  {
   "cell_type": "code",
   "execution_count": 15,
   "metadata": {},
   "outputs": [
    {
     "data": {
      "text/plain": [
       "'In stock (22 available)'"
      ]
     },
     "execution_count": 15,
     "metadata": {},
     "output_type": "execute_result"
    }
   ],
   "source": [
    "title=data.h1.string\n",
    "price=data.find(class_='price_color').string\n",
    "qty=data.find(class_='instock availability')\n",
    "qt=qty.contents[-1].strip()\n",
    "qt"
   ]
  },
  {
   "cell_type": "code",
   "execution_count": 16,
   "metadata": {},
   "outputs": [
    {
     "name": "stdout",
     "output_type": "stream",
     "text": [
      "https://books.toscrape.com/catalogue/a-light-in-the-attic_1000/index.html\n",
      "A Light in the Attic\n",
      "Â£51.77\n",
      "In stock (22 available)\n"
     ]
    }
   ],
   "source": [
    "print(l)\n",
    "print(title)\n",
    "print(price)\n",
    "print(qt)"
   ]
  },
  {
   "cell_type": "code",
   "execution_count": 23,
   "metadata": {},
   "outputs": [
    {
     "data": {
      "text/plain": [
       "'22'"
      ]
     },
     "execution_count": 23,
     "metadata": {},
     "output_type": "execute_result"
    }
   ],
   "source": [
    "#to print price without special character\n",
    "#use regular expressions to perform operations on functions\n",
    "#\\d+-->After [0-9] also included\n",
    "#group() matches the pattern in the string\n",
    "import re\n",
    "qty=re.search('\\d\\d',qt).group()\n",
    "qty"
   ]
  },
  {
   "cell_type": "code",
   "execution_count": 26,
   "metadata": {},
   "outputs": [
    {
     "name": "stdout",
     "output_type": "stream",
     "text": [
      "51.77\n",
      "<class 'str'>\n",
      "<class 'float'>\n"
     ]
    }
   ],
   "source": [
    "#[\\d]. matches 0-9 or .\n",
    "price=re.search('[\\d.]+',price).group()\n",
    "print(price)\n",
    "print(type(price)) #in the form of string -->convert to float\n",
    "price=float(re.search('[\\d.]+',price).group())\n",
    "print(type(price))\n"
   ]
  },
  {
   "cell_type": "code",
   "execution_count": 27,
   "metadata": {},
   "outputs": [
    {
     "name": "stdout",
     "output_type": "stream",
     "text": [
      "https://books.toscrape.com/catalogue/a-light-in-the-attic_1000/index.html\n",
      "A Light in the Attic\n",
      "51.77\n",
      "22\n"
     ]
    }
   ],
   "source": [
    "print(l)\n",
    "print(title)\n",
    "print(price)\n",
    "print(qty)"
   ]
  },
  {
   "cell_type": "code",
   "execution_count": 29,
   "metadata": {},
   "outputs": [
    {
     "data": {
      "text/plain": [
       "[['https://books.toscrape.com/catalogue/a-light-in-the-attic_1000/index.html',\n",
       "  'A Light in the Attic',\n",
       "  51.77,\n",
       "  '22']]"
      ]
     },
     "execution_count": 29,
     "metadata": {},
     "output_type": "execute_result"
    }
   ],
   "source": [
    "#Now we have to convert to csv file\n",
    "#from dataframe to csv file is very easy so start with that\n",
    "book=[]\n",
    "book.append([l,title,price,qty])\n",
    "book"
   ]
  },
  {
   "cell_type": "code",
   "execution_count": 33,
   "metadata": {},
   "outputs": [
    {
     "data": {
      "text/html": [
       "<div>\n",
       "<style scoped>\n",
       "    .dataframe tbody tr th:only-of-type {\n",
       "        vertical-align: middle;\n",
       "    }\n",
       "\n",
       "    .dataframe tbody tr th {\n",
       "        vertical-align: top;\n",
       "    }\n",
       "\n",
       "    .dataframe thead th {\n",
       "        text-align: right;\n",
       "    }\n",
       "</style>\n",
       "<table border=\"1\" class=\"dataframe\">\n",
       "  <thead>\n",
       "    <tr style=\"text-align: right;\">\n",
       "      <th></th>\n",
       "      <th>Link</th>\n",
       "      <th>Title of the book</th>\n",
       "      <th>Price of the book</th>\n",
       "      <th>Quantity</th>\n",
       "    </tr>\n",
       "  </thead>\n",
       "  <tbody>\n",
       "    <tr>\n",
       "      <td>0</td>\n",
       "      <td>https://books.toscrape.com/catalogue/a-light-i...</td>\n",
       "      <td>A Light in the Attic</td>\n",
       "      <td>51.77</td>\n",
       "      <td>22</td>\n",
       "    </tr>\n",
       "  </tbody>\n",
       "</table>\n",
       "</div>"
      ],
      "text/plain": [
       "                                                Link     Title of the book  \\\n",
       "0  https://books.toscrape.com/catalogue/a-light-i...  A Light in the Attic   \n",
       "\n",
       "   Price of the book Quantity  \n",
       "0              51.77       22  "
      ]
     },
     "execution_count": 33,
     "metadata": {},
     "output_type": "execute_result"
    }
   ],
   "source": [
    "import pandas as pd\n",
    "df=pd.DataFrame(book,columns=['Link','Title of the book','Price of the book','Quantity'])\n",
    "df"
   ]
  },
  {
   "cell_type": "code",
   "execution_count": 34,
   "metadata": {},
   "outputs": [],
   "source": [
    "#to_csv is used to convert into csv file\n",
    "df.to_csv('books.csv',index=False)"
   ]
  },
  {
   "cell_type": "code",
   "execution_count": 9,
   "metadata": {},
   "outputs": [
    {
     "name": "stdout",
     "output_type": "stream",
     "text": [
      "A Light in the Attic http://books.toscrape.com/catalogue/a-light-in-the-attic_1000/index.html 51.77 22\n",
      "Tipping the Velvet http://books.toscrape.com/catalogue/tipping-the-velvet_999/index.html 53.74 20\n",
      "Soumission http://books.toscrape.com/catalogue/soumission_998/index.html 50.1 20\n",
      "Sharp Objects http://books.toscrape.com/catalogue/sharp-objects_997/index.html 47.82 20\n",
      "Sapiens: A Brief History of Humankind http://books.toscrape.com/catalogue/sapiens-a-brief-history-of-humankind_996/index.html 54.23 20\n",
      "The Requiem Red http://books.toscrape.com/catalogue/the-requiem-red_995/index.html 22.65 19\n",
      "The Dirty Little Secrets of Getting Your Dream Job http://books.toscrape.com/catalogue/the-dirty-little-secrets-of-getting-your-dream-job_994/index.html 33.34 19\n",
      "The Coming Woman: A Novel Based on the Life of the Infamous Feminist, Victoria Woodhull http://books.toscrape.com/catalogue/the-coming-woman-a-novel-based-on-the-life-of-the-infamous-feminist-victoria-woodhull_993/index.html 17.93 19\n",
      "The Boys in the Boat: Nine Americans and Their Epic Quest for Gold at the 1936 Berlin Olympics http://books.toscrape.com/catalogue/the-boys-in-the-boat-nine-americans-and-their-epic-quest-for-gold-at-the-1936-berlin-olympics_992/index.html 22.6 19\n",
      "The Black Maria http://books.toscrape.com/catalogue/the-black-maria_991/index.html 52.15 19\n",
      "Starving Hearts (Triangular Trade Trilogy, #1) http://books.toscrape.com/catalogue/starving-hearts-triangular-trade-trilogy-1_990/index.html 13.99 19\n",
      "Shakespeare's Sonnets http://books.toscrape.com/catalogue/shakespeares-sonnets_989/index.html 20.66 19\n",
      "Set Me Free http://books.toscrape.com/catalogue/set-me-free_988/index.html 17.46 19\n",
      "Scott Pilgrim's Precious Little Life (Scott Pilgrim #1) http://books.toscrape.com/catalogue/scott-pilgrims-precious-little-life-scott-pilgrim-1_987/index.html 52.29 19\n",
      "Rip it Up and Start Again http://books.toscrape.com/catalogue/rip-it-up-and-start-again_986/index.html 35.02 19\n",
      "Our Band Could Be Your Life: Scenes from the American Indie Underground, 1981-1991 http://books.toscrape.com/catalogue/our-band-could-be-your-life-scenes-from-the-american-indie-underground-1981-1991_985/index.html 57.25 19\n",
      "Olio http://books.toscrape.com/catalogue/olio_984/index.html 23.88 19\n",
      "Mesaerion: The Best Science Fiction Stories 1800-1849 http://books.toscrape.com/catalogue/mesaerion-the-best-science-fiction-stories-1800-1849_983/index.html 37.59 19\n",
      "Libertarianism for Beginners http://books.toscrape.com/catalogue/libertarianism-for-beginners_982/index.html 51.33 19\n",
      "It's Only the Himalayas http://books.toscrape.com/catalogue/its-only-the-himalayas_981/index.html 45.17 19\n",
      "In Her Wake http://books.toscrape.com/catalogue/in-her-wake_980/index.html 12.84 19\n",
      "How Music Works http://books.toscrape.com/catalogue/how-music-works_979/index.html 37.32 19\n",
      "Foolproof Preserving: A Guide to Small Batch Jams, Jellies, Pickles, Condiments, and More: A Foolproof Guide to Making Small Batch Jams, Jellies, Pickles, Condiments, and More http://books.toscrape.com/catalogue/foolproof-preserving-a-guide-to-small-batch-jams-jellies-pickles-condiments-and-more-a-foolproof-guide-to-making-small-batch-jams-jellies-pickles-condiments-and-more_978/index.html 30.52 19\n",
      "Chase Me (Paris Nights #2) http://books.toscrape.com/catalogue/chase-me-paris-nights-2_977/index.html 25.27 19\n",
      "Black Dust http://books.toscrape.com/catalogue/black-dust_976/index.html 34.53 19\n",
      "Birdsong: A Story in Pictures http://books.toscrape.com/catalogue/birdsong-a-story-in-pictures_975/index.html 54.64 19\n",
      "America's Cradle of Quarterbacks: Western Pennsylvania's Football Factory from Johnny Unitas to Joe Montana http://books.toscrape.com/catalogue/americas-cradle-of-quarterbacks-western-pennsylvanias-football-factory-from-johnny-unitas-to-joe-montana_974/index.html 22.5 19\n",
      "Aladdin and His Wonderful Lamp http://books.toscrape.com/catalogue/aladdin-and-his-wonderful-lamp_973/index.html 53.13 19\n",
      "Worlds Elsewhere: Journeys Around Shakespeareâs Globe http://books.toscrape.com/catalogue/worlds-elsewhere-journeys-around-shakespeares-globe_972/index.html 40.3 18\n",
      "Wall and Piece http://books.toscrape.com/catalogue/wall-and-piece_971/index.html 44.18 18\n",
      "The Four Agreements: A Practical Guide to Personal Freedom http://books.toscrape.com/catalogue/the-four-agreements-a-practical-guide-to-personal-freedom_970/index.html 17.66 18\n",
      "The Five Love Languages: How to Express Heartfelt Commitment to Your Mate http://books.toscrape.com/catalogue/the-five-love-languages-how-to-express-heartfelt-commitment-to-your-mate_969/index.html 31.05 18\n",
      "The Elephant Tree http://books.toscrape.com/catalogue/the-elephant-tree_968/index.html 23.82 18\n",
      "The Bear and the Piano http://books.toscrape.com/catalogue/the-bear-and-the-piano_967/index.html 36.89 18\n",
      "Sophie's World http://books.toscrape.com/catalogue/sophies-world_966/index.html 15.94 18\n",
      "Penny Maybe http://books.toscrape.com/catalogue/penny-maybe_965/index.html 33.29 18\n",
      "Maude (1883-1993):She Grew Up with the country http://books.toscrape.com/catalogue/maude-1883-1993she-grew-up-with-the-country_964/index.html 18.02 18\n",
      "In a Dark, Dark Wood http://books.toscrape.com/catalogue/in-a-dark-dark-wood_963/index.html 19.63 18\n",
      "Behind Closed Doors http://books.toscrape.com/catalogue/behind-closed-doors_962/index.html 52.22 18\n",
      "You can't bury them all: Poems http://books.toscrape.com/catalogue/you-cant-bury-them-all-poems_961/index.html 33.63 17\n"
     ]
    }
   ],
   "source": [
    "## Print the required output in given format\n",
    "## You are given page links in variable allPages, use this\n",
    "## Column names of your dataframes should be as per given in the variable column_names\n",
    "import requests\n",
    "from bs4 import BeautifulSoup\n",
    "import re\n",
    "import pandas as pd\n",
    "allPages = ['http://books.toscrape.com/catalogue/page-1.html',\n",
    "            'http://books.toscrape.com/catalogue/page-2.html']\n",
    "\n",
    "column_names = ['Title', 'Link', 'Price', 'Quantity in Stock']\n",
    "\n",
    "def book_urls(url):\n",
    "    books=[]\n",
    "    response=requests.get(url)\n",
    "    data=BeautifulSoup(response.text,'html.parser')\n",
    "    li=data.find_all(class_='product_pod')\n",
    "    #Extract link\n",
    "    base_url='http://books.toscrape.com/catalogue/'\n",
    "    for i in li:\n",
    "        books.append(base_url+i.h3.a['href'])\n",
    "    return books\n",
    "\n",
    "def book_details(url,book_info):\n",
    "    book_url=book_urls(url)\n",
    "    for u in book_url:\n",
    "        response=requests.get(u)\n",
    "        data=BeautifulSoup(response.text,'html.parser')\n",
    "        title=data.find('h1').string\n",
    "        price_st=data.find(class_='price_color').string\n",
    "        price=float(re.search('[\\d.]+',price_st).group())\n",
    "        \n",
    "        qty=data.find(class_='instock availability')\n",
    "        qt_string=qty.contents[-1].strip()\n",
    "        qt=int(re.search('\\d+',qt_string).group())\n",
    "        \n",
    "        detail=[title,u,price,qt]\n",
    "        book_info.append(detail)\n",
    "        \n",
    "\n",
    "all_books=[]\n",
    "for i in allPages:\n",
    "    book_details(i,all_books)\n",
    "all_books_df=pd.DataFrame(all_books,columns=['Title', 'Link', 'Price', 'Quantity in Stock'])\n",
    "\n",
    "for i in range(len(all_books_df)):\n",
    "    print(all_books_df['Title'][i],all_books_df['Link'][i],all_books_df['Price'][i],all_books_df['Quantity in Stock'][i])"
   ]
  },
  {
   "cell_type": "code",
   "execution_count": 1,
   "metadata": {},
   "outputs": [
    {
     "name": "stdout",
     "output_type": "stream",
     "text": [
      "Requirement already satisfied: selenium in c:\\users\\admin\\anaconda3\\lib\\site-packages (3.141.0)\n",
      "Requirement already satisfied: urllib3 in c:\\users\\admin\\anaconda3\\lib\\site-packages (from selenium) (1.24.2)\n",
      "Note: you may need to restart the kernel to use updated packages.\n"
     ]
    }
   ],
   "source": [
    "pip install selenium"
   ]
  },
  {
   "cell_type": "code",
   "execution_count": 7,
   "metadata": {},
   "outputs": [
    {
     "data": {
      "text/plain": [
       "<selenium.webdriver.chrome.webdriver.WebDriver (session=\"6f044f9e3e51ba7fd0e25013f36bcb2a\")>"
      ]
     },
     "execution_count": 7,
     "metadata": {},
     "output_type": "execute_result"
    }
   ],
   "source": [
    "from selenium import webdriver\n",
    "driver=webdriver.Chrome(executable_path='Desktop\\Selenium\\chromedriver')\n",
    "driver"
   ]
  },
  {
   "cell_type": "code",
   "execution_count": 9,
   "metadata": {},
   "outputs": [],
   "source": [
    "driver.get('https://www.codingninjas.com/')"
   ]
  },
  {
   "cell_type": "code",
   "execution_count": 10,
   "metadata": {},
   "outputs": [
    {
     "data": {
      "text/plain": [
       "'Coding Ninjas – Learn coding online at India’s best coding institute'"
      ]
     },
     "execution_count": 10,
     "metadata": {},
     "output_type": "execute_result"
    }
   ],
   "source": [
    "driver.title"
   ]
  },
  {
   "cell_type": "code",
   "execution_count": 11,
   "metadata": {},
   "outputs": [],
   "source": [
    "driver.back()"
   ]
  },
  {
   "cell_type": "code",
   "execution_count": 12,
   "metadata": {},
   "outputs": [],
   "source": [
    "driver.forward()"
   ]
  },
  {
   "cell_type": "code",
   "execution_count": 13,
   "metadata": {},
   "outputs": [
    {
     "data": {
      "text/plain": [
       "True"
      ]
     },
     "execution_count": 13,
     "metadata": {},
     "output_type": "execute_result"
    }
   ],
   "source": [
    "driver.save_screenshot('test.png')"
   ]
  },
  {
   "cell_type": "code",
   "execution_count": 14,
   "metadata": {},
   "outputs": [
    {
     "data": {
      "text/plain": [
       "'<html lang=\"en\" style=\"--batchMonthBG:#FFEBC2; --batchCardBC:#FFEBC2; --batchMonthTC:#AC933C;\"><head>\\n    <meta charset=\"utf-8\">\\n    <title>Coding Ninjas – Learn coding online at India’s best coding institute</title>\\n\\n    <meta name=\"google-site-verification\" content=\"ASe_HQRsu8j61tGt95RROjXi07M380nMuoJ0Mu9rytk\">\\n    <meta name=\"title\" content=\"Coding Ninjas – Learn coding online at India’s best coding institute\">\\n    <meta property=\"og:title\" content=\"Coding Ninjas – Learn coding online at India’s best coding institute\">\\n    <meta name=\"description\" content=\"With live 1:1 mentor support, get your doubts resolved via Audio Call, Video Call and Screen Share from the Teaching Assistants at Coding Ninjas.\">\\n    <meta property=\"og:description\" content=\"With live 1:1 mentor support, get your doubts resolved via Audio Call, Video Call and Screen Share from the Teaching Assistants at Coding Ninjas.\">\\n    <meta property=\"og:image\" content=\"https://files.codingninjas.in/0000000000000723.jpg\">\\n\\n    <base href=\"/\">\\n    <meta name=\"viewport\" content=\"width=device-width, initial-scale=1.0\">\\n    <meta name=\"theme-color\" content=\"#4e4e4e\">\\n    <link rel=\"manifest\" href=\"manifest.json\">\\n    <link rel=\"icon\" type=\"image/x-icon\" href=\"./favicon.ico\">\\n    <link rel=\"mask-icon\" href=\"assets-landing/icons/icon-192x192.png\" color=\"#4e4e4e\">\\n    <link rel=\"stylesheet\" href=\"https://cdn.jsdelivr.net/npm/animate.css@3.5.2/animate.min.css\" media=\"all\" onload=\"this.media=\\'all\\'\">\\n\\n    <!-- Google Tag Manager -->\\n    <script async=\"\" src=\"https://www.clarity.ms/eus2/s/0.6.10/clarity.js\"></script><script type=\"text/javascript\" async=\"\" src=\"https://www.google-analytics.com/gtm/js?id=OPT-NW65WZJ&amp;t=ninjasGATracker&amp;cid=676923015.1616320050\"></script><script type=\"text/javascript\" async=\"\" src=\"https://www.google-analytics.com/plugins/ua/ec.js\"></script><script type=\"text/javascript\" async=\"\" src=\"https://www.google-analytics.com/plugins/ua/linkid.js\"></script><script type=\"text/javascript\" async=\"\" src=\"https://www.google-analytics.com/analytics.js\"></script><script async=\"\" src=\"https://www.clarity.ms/tag/3wfyxuahfv\"></script><script type=\"text/javascript\" id=\"sendinblue-js\" async=\"\" src=\"https://sibautomation.com/sa.js?key=lqvitlrlpovqm7lr5abr8\"></script><script type=\"text/javascript\" async=\"\" src=\"https://snap.licdn.com/li.lms-analytics/insight.min.js\"></script><script type=\"text/javascript\" async=\"\" src=\"//www.googleadservices.com/pagead/conversion_async.js\"></script><script type=\"text/javascript\" integrity=\"sha384-d/yhnowERvm+7eCU79T/bYjOiMmq4F11ElWYLmt0ktvYEVgqLDazh4+gW9CKMpYW\" crossorigin=\"anonymous\" async=\"\" src=\"https://cdn.amplitude.com/libs/amplitude-5.2.2-min.gz.js\"></script><script src=\"https://connect.facebook.net/signals/config/491083221301465?v=2.9.33&amp;r=stable\" async=\"\"></script><script async=\"\" src=\"https://connect.facebook.net/en_US/fbevents.js\"></script><script type=\"text/javascript\" async=\"\" src=\"https://www.google-analytics.com/analytics.js\"></script><script type=\"text/javascript\" async=\"\" src=\"https://www.googletagmanager.com/gtag/js?id=G-REZW36RRQN&amp;l=dataLayer&amp;cx=c\"></script><script src=\"https://apis.google.com/_/scs/apps-static/_/js/k=oz.gapi.en_US.MWM3Xj_RD9s.O/m=auth2/rt=j/sv=1/d=1/ed=1/am=AQ/rs=AGLTcCOUmnuCcTtedasW7L1tq37fs4eoIg/cb=gapi.loaded_0\" async=\"\"></script><script defer=\"\" src=\"//apis.google.com/js/platform.js\" gapi_processed=\"true\"></script><script id=\"facebook-jssdk\" defer=\"\" src=\"//connect.facebook.net/en_US/sdk.js\"></script><script src=\"https://connect.facebook.net/en_US/sdk.js?hash=6487aec99d6fcc5f8685331cf8d269c6&amp;ua=modern_es6\" async=\"\" crossorigin=\"anonymous\"></script><script async=\"\" src=\"https://www.googletagmanager.com/gtm.js?id=GTM-NSRR859&amp;gtm_auth=2Obs6MKGpBvVcCJFBFgP7A&amp;gtm_preview=env-325&amp;gtm_cookies_win=x\"></script><script defer=\"\" src=\"//apis.google.com/js/platform.js\" gapi_processed=\"true\"></script><script id=\"facebook-jssdk\" defer=\"\" src=\"//connect.facebook.net/en_US/sdk.js\"></script><script>\\n      (function (w, d, s, l, i) {\\n        w[l] = w[l] || [];\\n        w[l].push({ \\'gtm.start\\': new Date().getTime(), event: \\'gtm.js\\' });\\n        var f = d.getElementsByTagName(s)[0],\\n          j = d.createElement(s),\\n          dl = l != \\'dataLayer\\' ? \\'&l=\\' + l : \\'\\';\\n        j.async = true;\\n        j.src =\\n          \\'https://www.googletagmanager.com/gtm.js?id=\\' +\\n          i +\\n          dl +\\n          \\'&gtm_auth=2Obs6MKGpBvVcCJFBFgP7A&gtm_preview=env-325&gtm_cookies_win=x\\';\\n        f.parentNode.insertBefore(j, f);\\n      })(window, document, \\'script\\', \\'dataLayer\\', \\'GTM-NSRR859\\');\\n    </script>\\n    <!-- End Google Tag Manager -->\\n\\n    <style>\\n      @font-face {\\n        font-family: \\'Muli\\';\\n        font-style: italic;\\n        font-weight: 400;\\n        font-display: swap;\\n        src: url(https://fonts.gstatic.com/s/muli/v22/7Aujp_0qiz-afTfcIyoiGtm2P0wG05Fz4eqVxVqHrzJoAw.woff)\\n          format(\\'woff\\');\\n      }\\n      @font-face {\\n        font-family: \\'Muli\\';\\n        font-style: normal;\\n        font-weight: 300;\\n        font-display: swap;\\n        src: url(https://fonts.gstatic.com/s/muli/v22/7Auwp_0qiz-afTLGLQjUwkQ.woff2)\\n          format(\\'woff2\\');\\n      }\\n      @font-face {\\n        font-family: \\'Muli\\';\\n        font-style: normal;\\n        font-weight: 400;\\n        font-display: swap;\\n        src: url(https://fonts.gstatic.com/s/muli/v22/7Auwp_0qiz-afTLGLQjUwkQ.woff2)\\n          format(\\'woff2\\');\\n      }\\n      @font-face {\\n        font-family: \\'Muli\\';\\n        font-style: normal;\\n        font-weight: 600;\\n        font-display: swap;\\n        src: url(https://fonts.gstatic.com/s/muli/v22/7Auwp_0qiz-afTLGLQjUwkQ.woff2)\\n          format(\\'woff2\\');\\n      }\\n      @font-face {\\n        font-family: \\'Muli\\';\\n        font-style: normal;\\n        font-weight: 700;\\n        font-display: swap;\\n        src: url(https://fonts.gstatic.com/s/muli/v22/7Auwp_0qiz-afTLGLQjUwkQ.woff2)\\n          format(\\'woff2\\');\\n      }\\n      @font-face {\\n        font-family: \\'Material Icons\\';\\n        font-style: normal;\\n        font-weight: 400;\\n        src: url(https://fonts.gstatic.com/s/materialicons/v70/flUhRq6tzZclQEJ-Vdg-IuiaDsNcIhQ8tQ.woff2)\\n          format(\\'woff2\\');\\n      }\\n      .material-icons {\\n        font-family: \\'Material Icons\\';\\n        font-weight: normal;\\n        font-style: normal;\\n        font-size: 24px;\\n        line-height: 1;\\n        letter-spacing: normal;\\n        text-transform: none;\\n        display: inline-block;\\n        white-space: nowrap;\\n        word-wrap: normal;\\n        direction: ltr;\\n        -webkit-font-feature-settings: \\'liga\\';\\n        -webkit-font-smoothing: antialiased;\\n      }\\n    </style>\\n  <style>:root{--grey-900:#212121;--grey-800:#424242;--grey-700:#616161;--grey-600:#757575;--grey-500:#9e9e9e;--grey-400:#bdbdbd;--grey-300:#e0e0e0;--grey-200:#eee;--grey-100:#f5f5f5;--grey-50:#fafafa;--grey-A700:#000;--grey-A400:#343434;--grey-A200:#d0d0d0;--grey-A100:#fff;--orange-900:#f6430f;--orange-800:#f85618;--orange-700:#f9601e;--orange-600:#f96b24;--orange-500:#fa7328;--orange-400:#fb8848;--orange-300:#fc9d69;--orange-200:#fdb994;--orange-100:#fed5bf;--orange-50:#feeee5;--green-900:#00631f;--green-800:#00752e;--green-700:#007f36;--green-600:#008a3e;--green-500:#009245;--green-400:#26a261;--green-300:#4db37d;--green-200:#80c9a2;--green-100:#b3dec7;--green-50:#e0f2e9;--red-900:#b30108;--red-800:#be0110;--red-700:#c40114;--red-600:#cb0218;--red-500:#d0021b;--red-400:#d7283d;--red-300:#de4e5f;--red-200:#e8818d;--red-100:#f1b3bb;--red-50:#f9e1e4;--purple-900:#3400e2;--purple-800:#4600e7;--purple-700:#5000e9;--purple-600:#5a00ec;--purple-500:#6200ee;--purple-400:#7a26f1;--purple-300:#914df3;--purple-200:#b180f7;--purple-100:#d0b3fa;--purple-50:#ece0fd;--purple-10:#faf6ff;--pink-900:#8a004e;--pink-800:#b00054;--pink-700:#c50058;--pink-600:#db005c;--pink-500:#ec005e;--pink-400:#ee0978;--pink-300:#f14d91;--pink-200:#f484b1;--pink-100:#f8b5d0;--pink-50:#fce2ec;}*{-webkit-font-smoothing:antialiased;-webkit-tap-highlight-color:transparent;}*,body{font-family:Muli,Helvetica,Arial,sans-serif;}body{box-sizing:border-box;margin:0;padding:0;font-weight:400;}.heart{height:100vh;width:100vw;box-sizing:border-box;display:flex;justify-content:center;align-items:center;}.loader span{display:inline-block;-webkit-animation:pulse .5s ease-in-out infinite alternate;animation:pulse .5s ease-in-out infinite alternate;}.loader span:nth-child(odd){-webkit-animation-delay:.5s;animation-delay:.5s;}@-webkit-keyframes pulse{to{transform:scale(.8);opacity:.7;}}@keyframes pulse{to{transform:scale(.8);opacity:.7;}}</style><link rel=\"stylesheet\" href=\"v/3.46.430/styles.6be8268e1f0419f389ae.css\" media=\"all\" onload=\"this.media=\\'all\\'\"><noscript><link rel=\"stylesheet\" href=\"v/3.46.430/styles.6be8268e1f0419f389ae.css\"></noscript><meta name=\"keywords\" content=\"learn coding online\"><script charset=\"utf-8\" src=\"v/3.46.430/3.dcb4f1b72511786d0c03.js\"></script><script charset=\"utf-8\" src=\"v/3.46.430/common.e8d02679b1eada4dcdfa.js\"></script><script charset=\"utf-8\" src=\"v/3.46.430/19.07f2bc344a34234f4b6a.js\"></script><style></style><style>.ninjas-notification-container[_ngcontent-serverApp-c89]{position:fixed;z-index:1010;width:384px;max-width:calc(100vw - 32px);margin-right:24px}.ninjas-notification-container-bottomLeft[_ngcontent-serverApp-c89], .ninjas-notification-container-topLeft[_ngcontent-serverApp-c89]{margin-left:24px;margin-right:0}</style><style>#landing-container[_ngcontent-serverApp-c96]{display:flex;width:100%;background-color:#ececec;justify-content:center}#landing-content[_ngcontent-serverApp-c96]{max-width:1600px;width:100%;overflow:hidden;background-color:#fff}</style><style>#progress-bar[_ngcontent-serverApp-c27]{position:fixed;z-index:999}.progress-line[_ngcontent-serverApp-c27], .progress-line[_ngcontent-serverApp-c27]:before{height:3px;width:100%;margin:0}.progress-line[_ngcontent-serverApp-c27]{background-color:#ffa261;display:flex}.progress-line[_ngcontent-serverApp-c27]:before{background-color:#ed5d00;content:\"\";-webkit-animation:running-progress 2s cubic-bezier(.4,0,.2,1) infinite;animation:running-progress 2s cubic-bezier(.4,0,.2,1) infinite}@-webkit-keyframes running-progress{0%{margin-left:0;margin-right:100%}50%{margin-left:25%;margin-right:0}to{margin-left:100%;margin-right:0}}@keyframes running-progress{0%{margin-left:0;margin-right:100%}50%{margin-left:25%;margin-right:0}to{margin-left:100%;margin-right:0}}</style><style>*[_ngcontent-serverApp-c95]{box-sizing:border-box;margin:0;padding:0}.tab-title[_ngcontent-serverApp-c95]{display:flex;align-items:center;margin:8px 0;font-weight:700;letter-spacing:.8px;font-size:18px;cursor:pointer}.tab-title[_ngcontent-serverApp-c95]   .nav-image[_ngcontent-serverApp-c95]{width:250px}.mobile-profile[_ngcontent-serverApp-c95]{display:flex;margin-top:8px;margin-bottom:8px}.timezone-container-mobile[_ngcontent-serverApp-c95]{display:flex;font-size:11px;margin-bottom:8px}.timezone-container-mobile[_ngcontent-serverApp-c95]   .value[_ngcontent-serverApp-c95]{margin-left:4px}.space-left[_ngcontent-serverApp-c95]{margin-left:16px}.profile-image[_ngcontent-serverApp-c95]{width:30px;height:30px;-o-object-fit:cover;object-fit:cover;border-radius:50px;border:none}.navbar[_ngcontent-serverApp-c95]{position:-webkit-sticky;position:sticky;top:0;z-index:99}.header-container[_ngcontent-serverApp-c95]{justify-content:space-between;height:55px;width:100%;background:#fff;box-shadow:0 2px 4px 0 rgba(0,0,0,.07);padding:0 30px;z-index:99}.header-container[_ngcontent-serverApp-c95], .header-container[_ngcontent-serverApp-c95]   .header-content[_ngcontent-serverApp-c95]{display:flex;align-items:center}.header-container[_ngcontent-serverApp-c95]   .main-logo[_ngcontent-serverApp-c95]{padding:0 20px}.header-container[_ngcontent-serverApp-c95]   .main-logo[_ngcontent-serverApp-c95]   img[_ngcontent-serverApp-c95]{width:75px;height:28px}.header-container[_ngcontent-serverApp-c95]   .menu-items[_ngcontent-serverApp-c95]{display:flex;font-weight:600}.header-container[_ngcontent-serverApp-c95]   .menu-items[_ngcontent-serverApp-c95]   .menu-item[_ngcontent-serverApp-c95]{height:55px;padding:0 12px;display:flex;justify-content:center;align-items:center;font-size:12px;letter-spacing:.5px;position:relative}.header-container[_ngcontent-serverApp-c95]   .menu-items[_ngcontent-serverApp-c95]   .menu-item[_ngcontent-serverApp-c95]   a[_ngcontent-serverApp-c95]{display:flex}.header-container[_ngcontent-serverApp-c95]   .menu-items[_ngcontent-serverApp-c95]   .menu-item[_ngcontent-serverApp-c95]   a[_ngcontent-serverApp-c95]   .icon[_ngcontent-serverApp-c95]{width:7.5px;height:15px}.header-container[_ngcontent-serverApp-c95]   .menu-items[_ngcontent-serverApp-c95]   .menu-item[_ngcontent-serverApp-c95]:hover{background:#f6f6f6;cursor:pointer}.header-container[_ngcontent-serverApp-c95]   .menu-items[_ngcontent-serverApp-c95]   .menu-item[_ngcontent-serverApp-c95]:hover   .courses-dropdown-items[_ngcontent-serverApp-c95], .header-container[_ngcontent-serverApp-c95]   .menu-items[_ngcontent-serverApp-c95]   .menu-item[_ngcontent-serverApp-c95]:hover   .dropdown-items[_ngcontent-serverApp-c95]{display:flex;flex-direction:column;list-style:none}.header-container[_ngcontent-serverApp-c95]   .menu-items[_ngcontent-serverApp-c95]   .menu-item[_ngcontent-serverApp-c95]:hover   .courses-dropdown-items[_ngcontent-serverApp-c95]   li[_ngcontent-serverApp-c95], .header-container[_ngcontent-serverApp-c95]   .menu-items[_ngcontent-serverApp-c95]   .menu-item[_ngcontent-serverApp-c95]:hover   .dropdown-items[_ngcontent-serverApp-c95]   li[_ngcontent-serverApp-c95]{padding:12px 20px;font-weight:600}.header-container[_ngcontent-serverApp-c95]   .menu-items[_ngcontent-serverApp-c95]   .menu-item[_ngcontent-serverApp-c95]:hover   .courses-dropdown-items[_ngcontent-serverApp-c95]   li[_ngcontent-serverApp-c95]:hover, .header-container[_ngcontent-serverApp-c95]   .menu-items[_ngcontent-serverApp-c95]   .menu-item[_ngcontent-serverApp-c95]:hover   .dropdown-items[_ngcontent-serverApp-c95]   li[_ngcontent-serverApp-c95]:hover{background-color:#fff;box-shadow:0 3px 8px 0 rgba(37,37,37,.1)}.header-container[_ngcontent-serverApp-c95]   .menu-items[_ngcontent-serverApp-c95]   .menu-item[_ngcontent-serverApp-c95]:hover   .courses-dropdown-items[_ngcontent-serverApp-c95]   li[_ngcontent-serverApp-c95]:hover   .dropdown-subitems[_ngcontent-serverApp-c95], .header-container[_ngcontent-serverApp-c95]   .menu-items[_ngcontent-serverApp-c95]   .menu-item[_ngcontent-serverApp-c95]:hover   .dropdown-items[_ngcontent-serverApp-c95]   li[_ngcontent-serverApp-c95]:hover   .dropdown-subitems[_ngcontent-serverApp-c95]{display:block}.header-container[_ngcontent-serverApp-c95]   .menu-items[_ngcontent-serverApp-c95]   .menu-item[_ngcontent-serverApp-c95]:hover   .courses-dropdown-items[_ngcontent-serverApp-c95]{display:grid;grid-column-gap:3%;grid-row-gap:5px;grid-template-columns:1fr 1fr;grid-template-rows:1fr;width:750px;max-height:550px;overflow-y:auto}.header-container[_ngcontent-serverApp-c95]   .menu-items[_ngcontent-serverApp-c95]   .menu-item[_ngcontent-serverApp-c95]:hover   .courses-dropdown-items[_ngcontent-serverApp-c95]   li[_ngcontent-serverApp-c95]{padding:8px 20px}.header-container[_ngcontent-serverApp-c95]   .menu-items[_ngcontent-serverApp-c95]   .menu-item[_ngcontent-serverApp-c95]:hover   .courses-dropdown-items[_ngcontent-serverApp-c95]   .cashback-offer-web[_ngcontent-serverApp-c95]{cursor:auto}.header-container[_ngcontent-serverApp-c95]   .menu-items[_ngcontent-serverApp-c95]   .menu-item[_ngcontent-serverApp-c95]   .nav-image[_ngcontent-serverApp-c95]{max-width:105px}.header-container[_ngcontent-serverApp-c95]   .menu-items[_ngcontent-serverApp-c95]   .dropdown[_ngcontent-serverApp-c95]   img[_ngcontent-serverApp-c95]{padding:3px 5px}.header-container[_ngcontent-serverApp-c95]   .menu-items[_ngcontent-serverApp-c95]   .dropdown[_ngcontent-serverApp-c95]   .courses-dropdown-items[_ngcontent-serverApp-c95], .header-container[_ngcontent-serverApp-c95]   .menu-items[_ngcontent-serverApp-c95]   .dropdown[_ngcontent-serverApp-c95]   .dropdown-items[_ngcontent-serverApp-c95], .header-container[_ngcontent-serverApp-c95]   .menu-items[_ngcontent-serverApp-c95]   .dropdown[_ngcontent-serverApp-c95]   .menu-item[_ngcontent-serverApp-c95]:hover   .courses-dropdown-items[_ngcontent-serverApp-c95], .header-container[_ngcontent-serverApp-c95]   .menu-items[_ngcontent-serverApp-c95]   .menu-item[_ngcontent-serverApp-c95]:hover   .dropdown[_ngcontent-serverApp-c95]   .courses-dropdown-items[_ngcontent-serverApp-c95]{position:absolute;display:none;top:55px;left:0;min-width:250px;background-color:#fff;box-shadow:0 3px 8px 0 rgba(37,37,37,.1);border-bottom:3px solid #ff1456}.header-container[_ngcontent-serverApp-c95]   .menu-items[_ngcontent-serverApp-c95]   .dropdown[_ngcontent-serverApp-c95]   .courses-dropdown-items[_ngcontent-serverApp-c95]   .premium_course_cover[_ngcontent-serverApp-c95], .header-container[_ngcontent-serverApp-c95]   .menu-items[_ngcontent-serverApp-c95]   .dropdown[_ngcontent-serverApp-c95]   .dropdown-items[_ngcontent-serverApp-c95]   .premium_course_cover[_ngcontent-serverApp-c95], .header-container[_ngcontent-serverApp-c95]   .menu-items[_ngcontent-serverApp-c95]   .dropdown[_ngcontent-serverApp-c95]   .menu-item[_ngcontent-serverApp-c95]:hover   .courses-dropdown-items[_ngcontent-serverApp-c95]   .premium_course_cover[_ngcontent-serverApp-c95], .header-container[_ngcontent-serverApp-c95]   .menu-items[_ngcontent-serverApp-c95]   .menu-item[_ngcontent-serverApp-c95]:hover   .dropdown[_ngcontent-serverApp-c95]   .courses-dropdown-items[_ngcontent-serverApp-c95]   .premium_course_cover[_ngcontent-serverApp-c95]{position:relative;overflow:hidden}.header-container[_ngcontent-serverApp-c95]   .menu-items[_ngcontent-serverApp-c95]   .dropdown[_ngcontent-serverApp-c95]   .courses-dropdown-items[_ngcontent-serverApp-c95]   .header-section-title[_ngcontent-serverApp-c95], .header-container[_ngcontent-serverApp-c95]   .menu-items[_ngcontent-serverApp-c95]   .dropdown[_ngcontent-serverApp-c95]   .dropdown-items[_ngcontent-serverApp-c95]   .header-section-title[_ngcontent-serverApp-c95], .header-container[_ngcontent-serverApp-c95]   .menu-items[_ngcontent-serverApp-c95]   .dropdown[_ngcontent-serverApp-c95]   .menu-item[_ngcontent-serverApp-c95]:hover   .courses-dropdown-items[_ngcontent-serverApp-c95]   .header-section-title[_ngcontent-serverApp-c95], .header-container[_ngcontent-serverApp-c95]   .menu-items[_ngcontent-serverApp-c95]   .menu-item[_ngcontent-serverApp-c95]:hover   .dropdown[_ngcontent-serverApp-c95]   .courses-dropdown-items[_ngcontent-serverApp-c95]   .header-section-title[_ngcontent-serverApp-c95]{color:#616161;padding:8px 20px}.header-container[_ngcontent-serverApp-c95]   .menu-items[_ngcontent-serverApp-c95]   .dropdown[_ngcontent-serverApp-c95]   .courses-dropdown-items[_ngcontent-serverApp-c95]   .premium-course-title[_ngcontent-serverApp-c95], .header-container[_ngcontent-serverApp-c95]   .menu-items[_ngcontent-serverApp-c95]   .dropdown[_ngcontent-serverApp-c95]   .dropdown-items[_ngcontent-serverApp-c95]   .premium-course-title[_ngcontent-serverApp-c95], .header-container[_ngcontent-serverApp-c95]   .menu-items[_ngcontent-serverApp-c95]   .dropdown[_ngcontent-serverApp-c95]   .menu-item[_ngcontent-serverApp-c95]:hover   .courses-dropdown-items[_ngcontent-serverApp-c95]   .premium-course-title[_ngcontent-serverApp-c95], .header-container[_ngcontent-serverApp-c95]   .menu-items[_ngcontent-serverApp-c95]   .menu-item[_ngcontent-serverApp-c95]:hover   .dropdown[_ngcontent-serverApp-c95]   .courses-dropdown-items[_ngcontent-serverApp-c95]   .premium-course-title[_ngcontent-serverApp-c95]{color:#212121;font-weight:700;background:linear-gradient(273.95deg,#efc46d,#feed95 24.35%,#e4bd6c 48.56%,#feed95 103.54%);border-radius:4px 0 0 4px}.header-container[_ngcontent-serverApp-c95]   .menu-items[_ngcontent-serverApp-c95]   .dropdown[_ngcontent-serverApp-c95]   .courses-dropdown-items[_ngcontent-serverApp-c95]   hr[_ngcontent-serverApp-c95], .header-container[_ngcontent-serverApp-c95]   .menu-items[_ngcontent-serverApp-c95]   .dropdown[_ngcontent-serverApp-c95]   .dropdown-items[_ngcontent-serverApp-c95]   hr[_ngcontent-serverApp-c95], .header-container[_ngcontent-serverApp-c95]   .menu-items[_ngcontent-serverApp-c95]   .dropdown[_ngcontent-serverApp-c95]   .menu-item[_ngcontent-serverApp-c95]:hover   .courses-dropdown-items[_ngcontent-serverApp-c95]   hr[_ngcontent-serverApp-c95], .header-container[_ngcontent-serverApp-c95]   .menu-items[_ngcontent-serverApp-c95]   .menu-item[_ngcontent-serverApp-c95]:hover   .dropdown[_ngcontent-serverApp-c95]   .courses-dropdown-items[_ngcontent-serverApp-c95]   hr[_ngcontent-serverApp-c95]{width:85%;height:1px;border:none;background-image:linear-gradient(60deg,#ff1456,#bf6a81 40%,#c2acb2 70%,#d4cdcf)}.header-container[_ngcontent-serverApp-c95]   .menu-items[_ngcontent-serverApp-c95]   .dropdown[_ngcontent-serverApp-c95]   .courses-dropdown-items[_ngcontent-serverApp-c95]   li[_ngcontent-serverApp-c95], .header-container[_ngcontent-serverApp-c95]   .menu-items[_ngcontent-serverApp-c95]   .dropdown[_ngcontent-serverApp-c95]   .dropdown-items[_ngcontent-serverApp-c95]   li[_ngcontent-serverApp-c95], .header-container[_ngcontent-serverApp-c95]   .menu-items[_ngcontent-serverApp-c95]   .dropdown[_ngcontent-serverApp-c95]   .menu-item[_ngcontent-serverApp-c95]:hover   .courses-dropdown-items[_ngcontent-serverApp-c95]   li[_ngcontent-serverApp-c95], .header-container[_ngcontent-serverApp-c95]   .menu-items[_ngcontent-serverApp-c95]   .menu-item[_ngcontent-serverApp-c95]:hover   .dropdown[_ngcontent-serverApp-c95]   .courses-dropdown-items[_ngcontent-serverApp-c95]   li[_ngcontent-serverApp-c95]{position:relative}.header-container[_ngcontent-serverApp-c95]   .menu-items[_ngcontent-serverApp-c95]   .dropdown[_ngcontent-serverApp-c95]   .courses-dropdown-items[_ngcontent-serverApp-c95]   li[_ngcontent-serverApp-c95]   .dropdown-subitems[_ngcontent-serverApp-c95], .header-container[_ngcontent-serverApp-c95]   .menu-items[_ngcontent-serverApp-c95]   .dropdown[_ngcontent-serverApp-c95]   .dropdown-items[_ngcontent-serverApp-c95]   li[_ngcontent-serverApp-c95]   .dropdown-subitems[_ngcontent-serverApp-c95], .header-container[_ngcontent-serverApp-c95]   .menu-items[_ngcontent-serverApp-c95]   .dropdown[_ngcontent-serverApp-c95]   .menu-item[_ngcontent-serverApp-c95]:hover   .courses-dropdown-items[_ngcontent-serverApp-c95]   li[_ngcontent-serverApp-c95]   .dropdown-subitems[_ngcontent-serverApp-c95], .header-container[_ngcontent-serverApp-c95]   .menu-items[_ngcontent-serverApp-c95]   .menu-item[_ngcontent-serverApp-c95]:hover   .dropdown[_ngcontent-serverApp-c95]   .courses-dropdown-items[_ngcontent-serverApp-c95]   li[_ngcontent-serverApp-c95]   .dropdown-subitems[_ngcontent-serverApp-c95]{display:none;position:absolute;top:0;left:250px;background-color:#fff;min-width:280px;list-style:none;box-shadow:0 3px 8px 0 rgba(37,37,37,.1);border-bottom:3px solid #ff1456}.header-container[_ngcontent-serverApp-c95]   .menu-items[_ngcontent-serverApp-c95]   .dropdown[_ngcontent-serverApp-c95]   .courses-dropdown-items[_ngcontent-serverApp-c95]   li[_ngcontent-serverApp-c95]   .dropdown-subitems[_ngcontent-serverApp-c95]   .header-section-title[_ngcontent-serverApp-c95], .header-container[_ngcontent-serverApp-c95]   .menu-items[_ngcontent-serverApp-c95]   .dropdown[_ngcontent-serverApp-c95]   .dropdown-items[_ngcontent-serverApp-c95]   li[_ngcontent-serverApp-c95]   .dropdown-subitems[_ngcontent-serverApp-c95]   .header-section-title[_ngcontent-serverApp-c95], .header-container[_ngcontent-serverApp-c95]   .menu-items[_ngcontent-serverApp-c95]   .dropdown[_ngcontent-serverApp-c95]   .menu-item[_ngcontent-serverApp-c95]:hover   .courses-dropdown-items[_ngcontent-serverApp-c95]   li[_ngcontent-serverApp-c95]   .dropdown-subitems[_ngcontent-serverApp-c95]   .header-section-title[_ngcontent-serverApp-c95], .header-container[_ngcontent-serverApp-c95]   .menu-items[_ngcontent-serverApp-c95]   .menu-item[_ngcontent-serverApp-c95]:hover   .dropdown[_ngcontent-serverApp-c95]   .courses-dropdown-items[_ngcontent-serverApp-c95]   li[_ngcontent-serverApp-c95]   .dropdown-subitems[_ngcontent-serverApp-c95]   .header-section-title[_ngcontent-serverApp-c95]{color:#ff1456;padding:8px 20px}.header-container[_ngcontent-serverApp-c95]   .profile-dropdown-container[_ngcontent-serverApp-c95]{position:relative;top:15px;right:11px}.header-container[_ngcontent-serverApp-c95]   .profile-dropdown-container[_ngcontent-serverApp-c95]   .profile-dropdown[_ngcontent-serverApp-c95]{position:absolute;right:0;width:200px;background-color:#fff;box-shadow:0 3px 8px 0 rgba(37,37,37,.1)}.header-container[_ngcontent-serverApp-c95]   .profile-dropdown-container[_ngcontent-serverApp-c95]   .profile-dropdown[_ngcontent-serverApp-c95]   .user-name[_ngcontent-serverApp-c95]{padding:12px 20px}.header-container[_ngcontent-serverApp-c95]   .profile-dropdown-container[_ngcontent-serverApp-c95]   .profile-dropdown[_ngcontent-serverApp-c95]   .timezone-container[_ngcontent-serverApp-c95]{display:flex;font-size:11px;justify-content:center}.header-container[_ngcontent-serverApp-c95]   .profile-dropdown-container[_ngcontent-serverApp-c95]   .profile-dropdown[_ngcontent-serverApp-c95]   .timezone-container[_ngcontent-serverApp-c95]   .value[_ngcontent-serverApp-c95]{margin-left:4px}.header-container[_ngcontent-serverApp-c95]   .profile-dropdown-container[_ngcontent-serverApp-c95]   .profile-dropdown[_ngcontent-serverApp-c95]   .logoutbtn[_ngcontent-serverApp-c95]{display:flex;justify-content:center;align-items:center;padding:10px}.relative-container[_ngcontent-serverApp-c95]{position:relative}.captain-coder-logo[_ngcontent-serverApp-c95]{padding-right:5px;height:28px}.passiveLink[_ngcontent-serverApp-c95]{text-decoration:none;color:#000}.hamburger-container[_ngcontent-serverApp-c95]{width:80px;height:80px;display:none;flex-direction:column;align-items:center;justify-content:center;cursor:pointer;transform:scale(.3)}.stick[_ngcontent-serverApp-c95]{width:80px;height:8px;border-radius:4px;margin-bottom:15px;background-color:#000;display:inline-block}.stick[_ngcontent-serverApp-c95]:last-child{margin-bottom:0}.stick-1.open[_ngcontent-serverApp-c95]{-webkit-animation:stick-1-open .6s ease-out forwards;animation:stick-1-open .6s ease-out forwards}.stick-2.open[_ngcontent-serverApp-c95]{-webkit-animation:stick-2-open .6s linear forwards;animation:stick-2-open .6s linear forwards}.stick-3.open[_ngcontent-serverApp-c95]{-webkit-animation:stick-3-open .6s linear forwards;animation:stick-3-open .6s linear forwards}@-webkit-keyframes stick-1-open{0%{width:80px}40%{background-color:#ff1456;width:8px;transform:translate(40px)}75%,80%{width:8px;transform:translate(40px,-50px);-webkit-animation-timing-function:cubic-bezier(0,1,1,1);animation-timing-function:cubic-bezier(0,1,1,1)}to{background-color:#ff1456;width:8px;transform:translate(35px,46px)}}@keyframes stick-1-open{0%{width:80px}40%{background-color:#ff1456;width:8px;transform:translate(40px)}75%,80%{width:8px;transform:translate(40px,-50px);-webkit-animation-timing-function:cubic-bezier(0,1,1,1);animation-timing-function:cubic-bezier(0,1,1,1)}to{background-color:#ff1456;width:8px;transform:translate(35px,46px)}}@-webkit-keyframes stick-2-open{80%{background-color:#2dfdb9;transform:translate(0) rotate(0deg)}to{background-color:#ff1456;transform:translate(8px) rotate(40deg)}}@keyframes stick-2-open{80%{background-color:#2dfdb9;transform:translate(0) rotate(0deg)}to{background-color:#ff1456;transform:translate(8px) rotate(40deg)}}@-webkit-keyframes stick-3-open{80%{background-color:#2dfdb9;transform:translate(0) rotate(0deg)}to{background-color:#ff1456;transform:translate(8px,-23px) rotate(-40deg)}}@keyframes stick-3-open{80%{background-color:#2dfdb9;transform:translate(0) rotate(0deg)}to{background-color:#ff1456;transform:translate(8px,-23px) rotate(-40deg)}}.stick-1.close[_ngcontent-serverApp-c95]{width:8px;transform:translate(27px,26px);-webkit-animation:stick-1-close .6s ease-out forwards;animation:stick-1-close .6s ease-out forwards}.stick-2.close[_ngcontent-serverApp-c95]{transform:translate(0) rotate(40deg);-webkit-animation:stick-2-close .6s ease-out forwards;animation:stick-2-close .6s ease-out forwards}.stick-3.close[_ngcontent-serverApp-c95]{transform:translateY(-23px) rotate(-40deg);-webkit-animation:stick-3-close .6s ease-out forwards;animation:stick-3-close .6s ease-out forwards}@-webkit-keyframes stick-1-close{0%,70%{width:0}to{width:80px;transform:translate(0)}}@keyframes stick-1-close{0%,70%{width:0}to{width:80px;transform:translate(0)}}@-webkit-keyframes stick-2-close{0%{background-color:#ff1456;width:80px}20%{background-color:#ff1456;width:8px;transform:translate(0) rotate(40deg)}40%{background-color:#2dfdb9;width:0}65%{transform:translateY(-70px);-webkit-animation-timing-function:cubic-bezier(0,1,1,1);animation-timing-function:cubic-bezier(0,1,1,1)}80%{width:0}to{width:80px;transform:translate(0)}}@keyframes stick-2-close{0%{background-color:#ff1456;width:80px}20%{background-color:#ff1456;width:8px;transform:translate(0) rotate(40deg)}40%{background-color:#2dfdb9;width:0}65%{transform:translateY(-70px);-webkit-animation-timing-function:cubic-bezier(0,1,1,1);animation-timing-function:cubic-bezier(0,1,1,1)}80%{width:0}to{width:80px;transform:translate(0)}}@-webkit-keyframes stick-3-close{0%{background-color:#ff1456;width:80px}20%{background-color:#ff1456;width:8px;transform:translateY(-23px) rotate(-40deg)}40%{background-color:#2dfdb9}65%{transform:translateY(-93px);-webkit-animation-timing-function:cubic-bezier(0,1,1,1);animation-timing-function:cubic-bezier(0,1,1,1)}90%{width:8px}to{width:80px;transform:translate(0)}}@keyframes stick-3-close{0%{background-color:#ff1456;width:80px}20%{background-color:#ff1456;width:8px;transform:translateY(-23px) rotate(-40deg)}40%{background-color:#2dfdb9}65%{transform:translateY(-93px);-webkit-animation-timing-function:cubic-bezier(0,1,1,1);animation-timing-function:cubic-bezier(0,1,1,1)}90%{width:8px}to{width:80px;transform:translate(0)}}.prompt[_ngcontent-serverApp-c95]{color:rgba(0,0,0,.5);font-size:12px}.prompt[_ngcontent-serverApp-c95], .user-name[_ngcontent-serverApp-c95]{padding:5px 0}.button[_ngcontent-serverApp-c95]{padding:5px 10px;width:100px;border-radius:100px;border:none;color:#fff;background-image:linear-gradient(-152deg,#facd67,#ffa261)}.button[_ngcontent-serverApp-c95], .classroom_button[_ngcontent-serverApp-c95]{display:flex;align-items:center;justify-content:center}.classroom_button[_ngcontent-serverApp-c95]{padding:0 5px;margin:5px;font-weight:600;color:#000;background:#fff;font-size:13px;letter-spacing:.3px;cursor:pointer;transition:all .3s;height:54px}.classroom_button[_ngcontent-serverApp-c95]:hover{background:#f6f6f6}.classroom_container[_ngcontent-serverApp-c95]{display:flex;justify-content:flex-end;margin-right:16px;flex:1}.responsive-drawer[_ngcontent-serverApp-c95]{display:none;top:auto;height:calc(100vh - 55px);width:100vw;background:#fff;z-index:1000}.responsive-drawer[_ngcontent-serverApp-c95]   .responsive-drawer-content[_ngcontent-serverApp-c95]{padding:40px 50px;width:100%;overflow-y:scroll;display:flex;flex-direction:column;justify-content:space-between}.responsive-drawer[_ngcontent-serverApp-c95]   .responsive-drawer-content[_ngcontent-serverApp-c95]   .mobile-dropdown[_ngcontent-serverApp-c95]{list-style:none}.animated[_ngcontent-serverApp-c95]{-webkit-animation-duration:.3s;animation-duration:.3s}#codezen-new[_ngcontent-serverApp-c95]{display:flex;flex-direction:row;align-items:center;justify-content:center;position:relative}#codezen-new[_ngcontent-serverApp-c95]   a[_ngcontent-serverApp-c95]{text-decoration:none!important;color:#000}#codezen-new[_ngcontent-serverApp-c95]   #nav-content-container[_ngcontent-serverApp-c95]{height:55px;padding:0 12px;display:flex;justify-content:center;align-items:center;font-size:12px;letter-spacing:.5px;position:relative;box-sizing:border-box;cursor:pointer}#codezen-new[_ngcontent-serverApp-c95]   #nav-content-container[_ngcontent-serverApp-c95]   #dropdown-arrow[_ngcontent-serverApp-c95]{width:7.5px;height:15px}#codezen-new[_ngcontent-serverApp-c95]   #nav-content-container[_ngcontent-serverApp-c95]   #dropdown-arrow[_ngcontent-serverApp-c95]   img[_ngcontent-serverApp-c95]{padding:3px}#codezen-new[_ngcontent-serverApp-c95]   .new-icon-container[_ngcontent-serverApp-c95]{padding:4px 5px 0}#codezen-new[_ngcontent-serverApp-c95]   #codezen-dropdown-container[_ngcontent-serverApp-c95]:hover, #codezen-new[_ngcontent-serverApp-c95]   #nav-content-container[_ngcontent-serverApp-c95]:hover ~ #codezen-dropdown-container[_ngcontent-serverApp-c95]{display:flex}#codezen-new[_ngcontent-serverApp-c95]   #codezen-dropdown-container[_ngcontent-serverApp-c95]{transition:display .2s ease-in-out;display:none;height:284px;width:211px;position:absolute;top:55px;left:0;flex-direction:column;justify-content:flex-start;align-items:center;background:#fff;box-shadow:-1px 9px 18px rgba(21,11,35,.1);border-radius:0 0 4px 4px}#codezen-new[_ngcontent-serverApp-c95]   #codezen-dropdown-container[_ngcontent-serverApp-c95]   .dropdown-item-heading-container[_ngcontent-serverApp-c95]{width:100%;height:43px}#codezen-new[_ngcontent-serverApp-c95]   #codezen-dropdown-container[_ngcontent-serverApp-c95]   .dropdown-item-heading-container[_ngcontent-serverApp-c95]   .dropdown-heading-box[_ngcontent-serverApp-c95]{position:relative;padding:12px 0 12px 12px;width:100%;height:100%;display:flex;flex-direction:row;justify-content:flex-start;align-items:center}#codezen-new[_ngcontent-serverApp-c95]   #codezen-dropdown-container[_ngcontent-serverApp-c95]   .dropdown-item-heading-container[_ngcontent-serverApp-c95]   .dropdown-heading-box[_ngcontent-serverApp-c95]   .bottom-border[_ngcontent-serverApp-c95]{position:absolute;bottom:0;left:0}#codezen-new[_ngcontent-serverApp-c95]   #codezen-dropdown-container[_ngcontent-serverApp-c95]   .dropdown-new-subitem-container[_ngcontent-serverApp-c95]{height:40px;width:100%;display:flex;flex-direction:row;justify-content:flex-start;align-items:center;padding-left:12px}#codezen-new[_ngcontent-serverApp-c95]   #codezen-dropdown-container[_ngcontent-serverApp-c95]   .dropdown-item[_ngcontent-serverApp-c95]{transition:background-color .1s ease-in-out;cursor:pointer}#codezen-new[_ngcontent-serverApp-c95]   #codezen-dropdown-container[_ngcontent-serverApp-c95]   .dropdown-item[_ngcontent-serverApp-c95]:hover{background-color:#eee}#codezen-new[_ngcontent-serverApp-c95]   .dropdown-heading-title[_ngcontent-serverApp-c95]{padding-right:6px;font-style:normal;font-weight:600;font-size:14px;color:#424242}#codezen-new[_ngcontent-serverApp-c95]   .dropdown-sub-heading-title[_ngcontent-serverApp-c95]{padding-right:6px;font-style:normal;font-weight:400;font-size:12px;color:#424242}#codezen-new-mobile[_ngcontent-serverApp-c95]{display:flex;align-items:center;margin:8px 0;font-weight:700;letter-spacing:.8px;font-size:18px;cursor:pointer;box-sizing:border-box}#codezen-new-mobile[_ngcontent-serverApp-c95]   a[_ngcontent-serverApp-c95]{text-decoration:none!important;color:#000}#codezen-new-mobile[_ngcontent-serverApp-c95]   #mobile-nav-item-title-container[_ngcontent-serverApp-c95]{display:flex;flex-direction:row;justify-content:flex-start;align-items:center}#codezen-new-mobile[_ngcontent-serverApp-c95]   #mobile-nav-item-title-container[_ngcontent-serverApp-c95]   .mobile-nav-item-title[_ngcontent-serverApp-c95]{padding-right:6px}#codezen-new-mobile[_ngcontent-serverApp-c95]   #mobile-nav-item-title-container[_ngcontent-serverApp-c95]   .new-icon-container[_ngcontent-serverApp-c95]{padding:7px 5px 0}#codezen-new-mobile[_ngcontent-serverApp-c95]   #mobile-nav-item-title-container[_ngcontent-serverApp-c95]   .dropdown-arrow[_ngcontent-serverApp-c95]{padding-top:8px}#codezen-new-mobile[_ngcontent-serverApp-c95]   #mobile-nav-item-title-container[_ngcontent-serverApp-c95]   .dropdown-arrow[_ngcontent-serverApp-c95]   img[_ngcontent-serverApp-c95]{width:11px}#mobile-expander[_ngcontent-serverApp-c95]{width:100%;background-color:#fff;padding-bottom:10px}#mobile-expander[_ngcontent-serverApp-c95]   a[_ngcontent-serverApp-c95]{text-decoration:none!important;color:#000}#mobile-expander[_ngcontent-serverApp-c95]   .mobile-expander-item[_ngcontent-serverApp-c95]{display:flex;flex-direction:row;justify-content:flex-start;align-items:center;width:100%;cursor:pointer}#mobile-expander[_ngcontent-serverApp-c95]   .mobile-expander-item[_ngcontent-serverApp-c95]   .new-icon-container[_ngcontent-serverApp-c95]{padding:7px 5px 0}#mobile-expander[_ngcontent-serverApp-c95]   .mobile-expander-heading[_ngcontent-serverApp-c95]{margin:15px 0;padding-left:20px;position:relative}#mobile-expander[_ngcontent-serverApp-c95]   .mobile-expander-heading[_ngcontent-serverApp-c95]   .bottom-border[_ngcontent-serverApp-c95]{position:absolute;bottom:0;left:20px}#mobile-expander[_ngcontent-serverApp-c95]   .mobile-expander-sub-item[_ngcontent-serverApp-c95]{padding-left:35px;margin:10px 0;font-size:14px}@media screen and (max-width:850px){.header-container[_ngcontent-serverApp-c95]{padding:0;justify-content:flex-start}.header-container[_ngcontent-serverApp-c95]   .right-content[_ngcontent-serverApp-c95]{margin-left:auto}.header-container[_ngcontent-serverApp-c95]   .main-logo[_ngcontent-serverApp-c95]{position:absolute;left:50%;transform:translateX(-50%)}.header-container[_ngcontent-serverApp-c95]   .menu-items[_ngcontent-serverApp-c95]{display:none}.header-container[_ngcontent-serverApp-c95]   .hamburger-container[_ngcontent-serverApp-c95]{display:flex}.responsive-drawer[_ngcontent-serverApp-c95]{display:flex;top:auto}.hide-mobile[_ngcontent-serverApp-c95]{display:none}}@media screen and (max-width:470px){.middle-header[_ngcontent-serverApp-c95]{max-width:83px}.header-container[_ngcontent-serverApp-c95]{padding:0;justify-content:flex-start}.header-container[_ngcontent-serverApp-c95]   .main-logo[_ngcontent-serverApp-c95]{position:static;margin-left:30px}.header-container[_ngcontent-serverApp-c95]   .header-content[_ngcontent-serverApp-c95], .header-container[_ngcontent-serverApp-c95]   .right-content[_ngcontent-serverApp-c95], .passiveLink[_ngcontent-serverApp-c95]{margin-left:0}.cashback-offer-mobile[_ngcontent-serverApp-c95]{margin:auto -50px;display:flex;justify-content:center}}</style><style>.container[_ngcontent-serverApp-c107]{display:flex;justify-content:center;padding:50px 20px}.back-white[_ngcontent-serverApp-c107]{background:#fff}.payment-container[_ngcontent-serverApp-c107]{display:flex;justify-content:center}.footer-container[_ngcontent-serverApp-c107]{display:flex;justify-content:space-between;flex-wrap:wrap;width:90%}.dark-back[_ngcontent-serverApp-c107]{background:#1c0d04}shared-ui-footer-down[_ngcontent-serverApp-c107], shared-ui-important-footer-link[_ngcontent-serverApp-c107]{width:100%}shared-ui-footer-left[_ngcontent-serverApp-c107]{width:15%}shared-ui-footer-middle[_ngcontent-serverApp-c107]{width:45%}@media screen and (max-width:1024px){.container[_ngcontent-serverApp-c107]   shared-ui-footer-right[_ngcontent-serverApp-c107]{width:90%;height:-webkit-max-content;height:-moz-max-content;height:max-content;padding:0}.container[_ngcontent-serverApp-c107]   shared-ui-footer-left[_ngcontent-serverApp-c107], .container[_ngcontent-serverApp-c107]   shared-ui-footer-middle[_ngcontent-serverApp-c107]{width:100%;height:-webkit-max-content;height:-moz-max-content;height:max-content}.footer-container[_ngcontent-serverApp-c107]{display:flex;flex-direction:column;align-items:flex-start}}</style><style>img[_ngcontent-serverApp-c98]{height:76px;margin-top:19px;max-width:100%}@media screen and (max-width:720px){img[_ngcontent-serverApp-c98]{margin:0;padding:0}}</style><style>.container[_ngcontent-serverApp-c102]{display:flex;justify-content:space-around}shared-ui-footer-middle-community[_ngcontent-serverApp-c102], shared-ui-footer-middle-info[_ngcontent-serverApp-c102], shared-ui-footer-middle-products[_ngcontent-serverApp-c102]{width:33.3%}@media screen and (max-width:1024px){.container[_ngcontent-serverApp-c102]{flex-direction:row;width:100%;margin:0}}@media screen and (max-width:600px){.container[_ngcontent-serverApp-c102]{flex-direction:column}shared-ui-footer-middle-community[_ngcontent-serverApp-c102], shared-ui-footer-middle-info[_ngcontent-serverApp-c102], shared-ui-footer-middle-products[_ngcontent-serverApp-c102]{width:100%}}</style><style>.container[_ngcontent-serverApp-c104]{display:flex;flex-direction:column}.container[_ngcontent-serverApp-c104]   p[_ngcontent-serverApp-c104]{color:#fff;font-weight:700;font-size:14px;line-height:18px}.container[_ngcontent-serverApp-c104]   .social-links[_ngcontent-serverApp-c104]{display:flex;justify-content:space-between}.container[_ngcontent-serverApp-c104]   .social-links[_ngcontent-serverApp-c104]   a[_ngcontent-serverApp-c104]{margin-right:6px}.container[_ngcontent-serverApp-c104]   .social-links[_ngcontent-serverApp-c104]   a[_ngcontent-serverApp-c104]   img[_ngcontent-serverApp-c104]{width:42px}.container[_ngcontent-serverApp-c104]   .subscribe-text[_ngcontent-serverApp-c104]{margin-top:2rem}.container[_ngcontent-serverApp-c104]   .subscribe-youtube-channel[_ngcontent-serverApp-c104]{background:#fff;width:190px;border-radius:3px;padding:.5rem}@media screen and (max-width:1024px){.container[_ngcontent-serverApp-c104]{flex-direction:row;justify-content:space-between}}@media screen and (max-width:600px){.container[_ngcontent-serverApp-c104]{flex-direction:column}}</style><style>.container[_ngcontent-serverApp-c105]   p[_ngcontent-serverApp-c105]{font-weight:700;font-size:20px;line-height:25px;margin-top:0!important}.container[_ngcontent-serverApp-c105]   .row[_ngcontent-serverApp-c105]{display:flex;flex-direction:column}.container[_ngcontent-serverApp-c105]   .row[_ngcontent-serverApp-c105]   .important-links-section[_ngcontent-serverApp-c105]{margin-right:20px;display:flex;flex-direction:row;flex-wrap:wrap}.container[_ngcontent-serverApp-c105]   .row[_ngcontent-serverApp-c105]   .important-links-section[_ngcontent-serverApp-c105]   .links[_ngcontent-serverApp-c105]{display:flex;flex-wrap:wrap}.container[_ngcontent-serverApp-c105]   .row[_ngcontent-serverApp-c105]   .important-links-section[_ngcontent-serverApp-c105]   p[_ngcontent-serverApp-c105]{margin-bottom:0;padding-top:1px}.container[_ngcontent-serverApp-c105]   .row[_ngcontent-serverApp-c105]   .important-links-section[_ngcontent-serverApp-c105]   a[_ngcontent-serverApp-c105]{font-weight:600;font-size:10px;line-height:200%;color:#424242;text-decoration:none;display:inline-block}.container[_ngcontent-serverApp-c105]   .row[_ngcontent-serverApp-c105]   .important-links-section[_ngcontent-serverApp-c105]   a[_ngcontent-serverApp-c105]:after{content:\"\";display:block;width:0;height:2px;background:#ff783c;transition:width .3s}.container[_ngcontent-serverApp-c105]   .row[_ngcontent-serverApp-c105]   .important-links-section[_ngcontent-serverApp-c105]   a[_ngcontent-serverApp-c105]:hover{color:#ff783c}.container[_ngcontent-serverApp-c105]   .row[_ngcontent-serverApp-c105]   .important-links-section[_ngcontent-serverApp-c105]   a[_ngcontent-serverApp-c105]:hover:after{width:100%}.container[_ngcontent-serverApp-c105]   .row[_ngcontent-serverApp-c105]   p[_ngcontent-serverApp-c105]{font-weight:700;font-size:10px;line-height:18px;color:#000;white-space:nowrap;text-transform:uppercase}@media screen and (max-width:700px){.row[_ngcontent-serverApp-c105]{flex-direction:column}.row[_ngcontent-serverApp-c105]   .important-links-section[_ngcontent-serverApp-c105]{margin-top:10px;flex-direction:column!important}.row[_ngcontent-serverApp-c105]   .important-links-section[_ngcontent-serverApp-c105]   .links[_ngcontent-serverApp-c105]   a[_ngcontent-serverApp-c105]   span[_ngcontent-serverApp-c105]{display:none}}</style><style>.container[_ngcontent-serverApp-c106]{justify-content:space-between;padding:14px 0}.container[_ngcontent-serverApp-c106], .container[_ngcontent-serverApp-c106]   .footer-payments-section[_ngcontent-serverApp-c106]{display:flex;align-items:center}.container[_ngcontent-serverApp-c106]   .footer-payments-section[_ngcontent-serverApp-c106]   p[_ngcontent-serverApp-c106]{font-weight:700;font-size:14px;line-height:18px;color:#212121;margin:0 6px 0 0}.container[_ngcontent-serverApp-c106]   .footer-payments-section[_ngcontent-serverApp-c106]   img[_ngcontent-serverApp-c106]{max-width:100px;margin-right:16px;max-height:25px}.container[_ngcontent-serverApp-c106]   .footer-payments-section[_ngcontent-serverApp-c106]   .no-margin-right[_ngcontent-serverApp-c106]{margin-right:0}.container[_ngcontent-serverApp-c106]   .footer-payments-section[_ngcontent-serverApp-c106]   .no-max-width[_ngcontent-serverApp-c106]{max-width:unset}@media screen and (max-width:1024px){.container[_ngcontent-serverApp-c106]   .footer-payments-section[_ngcontent-serverApp-c106]   img[_ngcontent-serverApp-c106]{max-width:80px;margin-right:8px}}@media screen and (max-width:1000px){.container[_ngcontent-serverApp-c106]{flex-direction:column;align-items:flex-start}.container[_ngcontent-serverApp-c106]   .footer-payments-section[_ngcontent-serverApp-c106]{margin-bottom:7px}}@media screen and (max-width:500px){.container[_ngcontent-serverApp-c106]   .footer-payments-section[_ngcontent-serverApp-c106]{margin-bottom:10px;flex-direction:column;align-items:flex-start}.container[_ngcontent-serverApp-c106]   .footer-payments-section[_ngcontent-serverApp-c106]   p[_ngcontent-serverApp-c106]{margin-bottom:4px}}</style><style>.container[_ngcontent-serverApp-c99]{display:flex;flex-direction:column}.container[_ngcontent-serverApp-c99] > p[_ngcontent-serverApp-c99]{color:#fff;font-weight:bolder;font-size:16px;line-height:20px}.links[_ngcontent-serverApp-c99]   p[_ngcontent-serverApp-c99]{margin:0}.links[_ngcontent-serverApp-c99]   a[_ngcontent-serverApp-c99]{color:#eee;display:inline-block;text-decoration:none;font-size:14px;line-height:200%;font-weight:600}.links[_ngcontent-serverApp-c99]   a[_ngcontent-serverApp-c99]:after{content:\"\";display:block;width:0;height:2px;background:#ff783c;transition:width .3s}.links[_ngcontent-serverApp-c99]   a[_ngcontent-serverApp-c99]:hover{color:#ff783c}.links[_ngcontent-serverApp-c99]   a[_ngcontent-serverApp-c99]:hover:after{width:100%}.my-16[_ngcontent-serverApp-c99]{margin-bottom:4px!important}</style><style>.container[_ngcontent-serverApp-c100]{display:flex;flex-direction:column}.container[_ngcontent-serverApp-c100]   .my-16[_ngcontent-serverApp-c100]{margin-bottom:4px!important}.container[_ngcontent-serverApp-c100]   p[_ngcontent-serverApp-c100]{color:#fff;font-weight:bolder;font-size:16px;line-height:20px}.container[_ngcontent-serverApp-c100]   .links[_ngcontent-serverApp-c100]   p[_ngcontent-serverApp-c100]{margin:0}.container[_ngcontent-serverApp-c100]   .links[_ngcontent-serverApp-c100]   a[_ngcontent-serverApp-c100]{color:#eee;display:inline-block;text-decoration:none;font-size:14px;font-weight:600;line-height:200%}.container[_ngcontent-serverApp-c100]   .links[_ngcontent-serverApp-c100]   a[_ngcontent-serverApp-c100]:after{content:\"\";display:block;width:0;height:2px;background:#ff783c;transition:width .3s}.container[_ngcontent-serverApp-c100]   .links[_ngcontent-serverApp-c100]   a[_ngcontent-serverApp-c100]:hover{color:#ff783c}.container[_ngcontent-serverApp-c100]   .links[_ngcontent-serverApp-c100]   a[_ngcontent-serverApp-c100]:hover:after{width:100%}</style><style>.container[_ngcontent-serverApp-c101]{display:flex;flex-direction:column}.container[_ngcontent-serverApp-c101]   .my-16[_ngcontent-serverApp-c101]{margin-bottom:4px!important}.container[_ngcontent-serverApp-c101]   p[_ngcontent-serverApp-c101]{color:#fff;font-weight:bolder;font-size:16px;line-height:20px}.container[_ngcontent-serverApp-c101]   .links[_ngcontent-serverApp-c101]   p[_ngcontent-serverApp-c101]{margin:0}.container[_ngcontent-serverApp-c101]   .links[_ngcontent-serverApp-c101]   a[_ngcontent-serverApp-c101]{color:#eee;display:inline-block;text-decoration:none;font-size:14px;font-weight:600;line-height:200%}.container[_ngcontent-serverApp-c101]   .links[_ngcontent-serverApp-c101]   a[_ngcontent-serverApp-c101]:after{content:\"\";display:block;width:0;height:2px;background:#ff783c;transition:width .3s}.container[_ngcontent-serverApp-c101]   .links[_ngcontent-serverApp-c101]   a[_ngcontent-serverApp-c101]:hover{color:#ff783c}.container[_ngcontent-serverApp-c101]   .links[_ngcontent-serverApp-c101]   a[_ngcontent-serverApp-c101]:hover:after{width:100%}</style><style>.container[_ngcontent-serverApp-c103]{display:flex;flex-direction:column}.container[_ngcontent-serverApp-c103] > p[_ngcontent-serverApp-c103]{color:#fff;font-weight:700;font-size:14px;line-height:18px}.links[_ngcontent-serverApp-c103]   p[_ngcontent-serverApp-c103]{margin:0}.links[_ngcontent-serverApp-c103]   a[_ngcontent-serverApp-c103]{color:#eee;display:inline-block;text-decoration:none;font-size:14px;line-height:200%}.links[_ngcontent-serverApp-c103]   a[_ngcontent-serverApp-c103]:after{content:\"\";display:block;width:0;height:2px;background:#ff783c;transition:width .3s}.links[_ngcontent-serverApp-c103]   a[_ngcontent-serverApp-c103]:hover{color:#ff783c}.links[_ngcontent-serverApp-c103]   a[_ngcontent-serverApp-c103]:hover:after{width:100%}.row[_ngcontent-serverApp-c103]{display:flex;align-items:center}img[_ngcontent-serverApp-c103]{width:18px;height:18px;margin-right:17px}.my-16[_ngcontent-serverApp-c103]{margin-bottom:4px!important}</style><style>#main-container[_ngcontent-serverApp-c143]{height:0}</style><link rel=\"canonical\" href=\"https://www.codingninjas.com/\"><style>section.courses-section[_ngcontent-serverApp-c116]   div.courses-container[_ngcontent-serverApp-c116]{width:1180px;margin:32px auto}section.courses-section[_ngcontent-serverApp-c116]   div.courses-container[_ngcontent-serverApp-c116]   h2.heading[_ngcontent-serverApp-c116]{display:flex;align-items:center}section.courses-section[_ngcontent-serverApp-c116]   div.courses-container[_ngcontent-serverApp-c116]   h2.heading[_ngcontent-serverApp-c116]   strong[_ngcontent-serverApp-c116]{font-size:32px;line-height:140%;margin-right:4px}section.courses-section[_ngcontent-serverApp-c116]   div.courses-container[_ngcontent-serverApp-c116]   div.course-group-tabs-container[_ngcontent-serverApp-c116]{margin-top:24px}section.courses-section[_ngcontent-serverApp-c116]   div.courses-container[_ngcontent-serverApp-c116]   p.sub-heading[_ngcontent-serverApp-c116]{margin-top:4px;color:#616161;line-height:160%;letter-spacing:.3px}section.courses-section[_ngcontent-serverApp-c116]   div.courses-container[_ngcontent-serverApp-c116]   div.courses-container[_ngcontent-serverApp-c116]{display:flex;flex-wrap:wrap}section.courses-section[_ngcontent-serverApp-c116]   div.courses-container[_ngcontent-serverApp-c116]   span.heading[_ngcontent-serverApp-c116]{display:flex;align-items:center}@media screen and (max-width:1024px){section.courses-section[_ngcontent-serverApp-c116]   div.courses-container[_ngcontent-serverApp-c116]{width:980px}}@media screen and (max-width:768px){section.courses-section[_ngcontent-serverApp-c116]   div.courses-container[_ngcontent-serverApp-c116]{width:720px}}@media screen and (max-width:576px){section.courses-section[_ngcontent-serverApp-c116]   div.courses-container[_ngcontent-serverApp-c116]{width:328px}}</style><style>a{text-decoration:none;color:#212121}#container{width:95%;margin-bottom:50px;font-family:Muli,sans-serif}#container h2{margin-top:70px;font-weight:700;padding-left:77px}#container .container-elements-wrapper{display:flex;width:100%;padding:28px 0 10px;margin-left:68px}#container .container-elements-wrapper .container-elements{display:flex;justify-content:space-between;flex-wrap:wrap}#container .container-elements-wrapper .container-elements .element{width:20vw;margin:10px 3px 0;text-align:left}#container .container-elements-wrapper .container-elements .element .element-info{width:20vw;height:150px}#container .container-elements-wrapper .container-elements .element .image-container{height:50px}#container .container-elements-wrapper .container-elements .element .image-container img{margin-bottom:12px;max-width:250px;max-height:38px}#container .container-elements-wrapper .container-elements .element .text-container{font-weight:600}#container .container-elements-wrapper #video-box{width:633px;height:400px;margin-right:35px}#container .container-elements-wrapper #content{width:50%;height:-webkit-max-content;height:-moz-max-content;height:max-content;display:flex;flex-wrap:wrap}#container .container-elements-wrapper #content h3{margin:3% 0 0 24px;font-family:Muli,sans-serif;font-weight:700}#container .container-elements-wrapper #content p{font-weight:400}#container .container-elements-wrapper #content img{width:70px;height:74.74px;margin-bottom:7px}#container .container-elements-wrapper #content .content-text{width:550px;line-height:30px}#container .container-elements-wrapper #content .content-text p{white-space:pre-line;font-weight:400}#container .video-container{justify-content:left}#mat-tab-container{width:100vw}#mat-tab-container .mat-tab-label{min-width:40vw;min-height:25vh;opacity:1}#mat-tab-container .mat-tab-label .component-text{font-family:Muli,sans-serif;font-weight:700;width:100px;max-height:50px;overflow-y:hidden;word-wrap:break-word;white-space:normal;text-align:left;text-overflow:ellipsis}.mat-tab-header-pagination{max-height:35px;max-width:20px;border-radius:50%;margin-top:80px;border:1px solid #e0e0e0;background-color:#fafafa}@media only screen and (max-width:850px){h2{padding-left:5%}.mat-tab-label.mat-tab-label-active{border:none;text-align:left;max-height:100px}.mat-tab-label-content{width:45vw;height:30vh}.mat-tab-label-content img{max-height:60%;max-width:30vw}.component{text-align:left}.component .component-text{max-height:70%!important;width:45vw!important}.container-elements #content{padding:10px 5% 6% 6%}.container-elements #content shared-ui-glass-youtube-video{max-width:85vw;padding:10px 5% 10px 6%}.container-elements #content p{white-space:pre-line;line-height:30px}}.mat-tab-group.mat-primary .mat-ink-bar,.mat-tab-nav-bar.mat-primary .mat-ink-bar{height:0}:host ::ng-deep .mat-tab-body-wrapper{height:600px}.tohide{display:none!important}.hide-arrow{visibility:hidden}.left-arrow{left:-42px}.left-arrow img{margin:8px 0 0 7px;transform:rotate(180deg)}.right-arrow{right:42px;padding:2px 0 0}.right-arrow img{margin:7px 0 0 10px}.arrow{width:68px;height:35px;background:#fafafa;border-radius:50%;position:relative;top:120px;box-shadow:0 5px 5px rgba(0,0,0,.2),0 3px 14px rgba(0,0,0,.12),0 8px 10px rgba(0,0,0,.14)}.arrow img{width:18px;height:18px}.arrow:hover{cursor:pointer}.landing h2{font-size:32px;color:#000;font-family:Muli,sans-serif;font-weight:700;text-transform:uppercase}.careercamp h2{font-size:32px;font-weight:600;color:#0c1027;text-align:left}</style><style>.course-group-cover[_ngcontent-serverApp-c111]{display:flex;justify-content:flex-start;margin-bottom:20px;overflow-x:scroll;-ms-overflow-style:none}.course-group-cover[_ngcontent-serverApp-c111]::-webkit-scrollbar{display:none!important}.course-group-cover[_ngcontent-serverApp-c111]   .tab[_ngcontent-serverApp-c111]{padding:0 10px;display:flex;align-items:center;justify-content:flex-start;border-radius:6px;width:320px;position:relative;margin-right:30px;height:80px;background:#fde8db;cursor:pointer}.course-group-cover[_ngcontent-serverApp-c111]   .tab[_ngcontent-serverApp-c111]   .image[_ngcontent-serverApp-c111]{margin-right:10px;height:40px;width:40px}.course-group-cover[_ngcontent-serverApp-c111]   .tab[_ngcontent-serverApp-c111]   .name[_ngcontent-serverApp-c111]{font-style:normal;font-weight:600;font-size:20px;line-height:125%;color:#757575}.course-group-cover[_ngcontent-serverApp-c111]   .tab[_ngcontent-serverApp-c111]   .career-track-cashback-prompt-container[_ngcontent-serverApp-c111]{position:relative;left:0;margin-left:10px}.course-group-cover[_ngcontent-serverApp-c111]   .selected[_ngcontent-serverApp-c111]{margin-left:9px;background:#fff;box-shadow:-1px 9px 18px rgba(21,11,35,.1)}.course-group-cover[_ngcontent-serverApp-c111]   .selected[_ngcontent-serverApp-c111]   .name[_ngcontent-serverApp-c111]{color:#212121}.course-group-cover[_ngcontent-serverApp-c111]   .selected[_ngcontent-serverApp-c111]:after{content:\"\";background:linear-gradient(138.19deg,#f6430f .78%,#ee9f15 99.43%);height:4px;width:100%;display:block;bottom:0;position:absolute;left:0;border-bottom-left-radius:4px;border-bottom-right-radius:4px}@-webkit-keyframes placeHolderShimmer{0%{background-position:-468px 0}to{background-position:468px 0}}@keyframes placeHolderShimmer{0%{background-position:-468px 0}to{background-position:468px 0}}.course-group-cover[_ngcontent-serverApp-c111]   .linear-background[_ngcontent-serverApp-c111]{-webkit-animation-duration:1s;animation-duration:1s;-webkit-animation-fill-mode:forwards;animation-fill-mode:forwards;-webkit-animation-iteration-count:infinite;animation-iteration-count:infinite;-webkit-animation-name:placeHolderShimmer;animation-name:placeHolderShimmer;-webkit-animation-timing-function:linear;animation-timing-function:linear;background:#f6f7f8;background:linear-gradient(90deg,#eee 8%,#ddd 18%,#eee 33%);background-size:1000px 104px;position:relative;overflow:hidden}@media screen and (max-width:1024px){.course-group-cover[_ngcontent-serverApp-c111]   .tab[_ngcontent-serverApp-c111]   .career-track-cashback-prompt-container[_ngcontent-serverApp-c111]{width:100%}}@media screen and (max-width:768px){.course-group-cover[_ngcontent-serverApp-c111]{overflow-x:scroll}.course-group-cover[_ngcontent-serverApp-c111]   .tab[_ngcontent-serverApp-c111]{flex-direction:column;align-items:flex-start;height:auto;width:140px;min-height:60px;padding:10px}.course-group-cover[_ngcontent-serverApp-c111]   .tab[_ngcontent-serverApp-c111]   .name[_ngcontent-serverApp-c111]{margin:4px 0 0;width:120px}.course-group-cover[_ngcontent-serverApp-c111]   .tab[_ngcontent-serverApp-c111]   .career-track-cashback-prompt-container[_ngcontent-serverApp-c111]{position:relative;left:0;margin-left:0}}@media screen and (max-width:420px){.course-group-cover[_ngcontent-serverApp-c111]   .tab[_ngcontent-serverApp-c111]{margin-right:1.5%;width:108px;box-sizing:border-box}.course-group-cover[_ngcontent-serverApp-c111]   .tab[_ngcontent-serverApp-c111]   .name[_ngcontent-serverApp-c111]{font-size:14px;width:86px}}</style><style>button[_ngcontent-serverApp-c124]{background:linear-gradient(94.08deg,#f6430f,#ee9f15);display:inline-block;font-weight:700;font-style:normal;text-align:center;text-transform:uppercase;border-radius:6px;border-width:0;color:#fff;cursor:pointer;outline:none}*[_ngcontent-serverApp-c124]{padding:0;margin:0}*[_ngcontent-serverApp-c124], .inner-section[_ngcontent-serverApp-c124]{box-sizing:border-box;font-weight:400}.inner-section[_ngcontent-serverApp-c124]{background:#fff;min-height:510px;padding:0 64px;height:calc(100vh - 195px);justify-content:center;display:grid;grid-template-columns:55% 45%}.inner-section[_ngcontent-serverApp-c124]   .section[_ngcontent-serverApp-c124]{display:flex;justify-content:center;align-items:flex-start;flex-direction:column}.inner-section[_ngcontent-serverApp-c124]   .left[_ngcontent-serverApp-c124]   .second-heading[_ngcontent-serverApp-c124]{margin-top:40px;font-size:60px;font-weight:300;line-height:82px;color:#212121}.inner-section[_ngcontent-serverApp-c124]   .left[_ngcontent-serverApp-c124]   .content[_ngcontent-serverApp-c124]{font-weight:500;font-size:18px;line-height:24px;color:#424242;margin:10px 0 30px}.inner-section[_ngcontent-serverApp-c124]   .left[_ngcontent-serverApp-c124]   .button-container[_ngcontent-serverApp-c124]{display:grid;width:100%}.inner-section[_ngcontent-serverApp-c124]   .left[_ngcontent-serverApp-c124]   .button-container[_ngcontent-serverApp-c124]   .explore-outer[_ngcontent-serverApp-c124]   button[_ngcontent-serverApp-c124]{font-size:18px;line-height:22px;padding:14px 10px;min-width:320px}.inner-section[_ngcontent-serverApp-c124]   .left[_ngcontent-serverApp-c124]   .button-container[_ngcontent-serverApp-c124]   .explore-outer[_ngcontent-serverApp-c124]   .explore-inner[_ngcontent-serverApp-c124]{display:flex}.inner-section[_ngcontent-serverApp-c124]   .left[_ngcontent-serverApp-c124]   .button-container[_ngcontent-serverApp-c124]   .explore-outer[_ngcontent-serverApp-c124]   .explore-inner[_ngcontent-serverApp-c124]   .statement[_ngcontent-serverApp-c124]{font-size:16px;line-height:22px;color:#424242;font-weight:400;margin-top:10px}.inner-section[_ngcontent-serverApp-c124]   .left[_ngcontent-serverApp-c124]   .button-container[_ngcontent-serverApp-c124]   .explore-outer[_ngcontent-serverApp-c124]   .explore-inner[_ngcontent-serverApp-c124]   .statement[_ngcontent-serverApp-c124]   span[_ngcontent-serverApp-c124]{font-weight:700;color:#424242}.inner-section[_ngcontent-serverApp-c124]   .right[_ngcontent-serverApp-c124]{position:relative;background:url(https://files.codingninjas.in/web_website-banner-5226.png) no-repeat 50%;background-size:contain}.inner-section[_ngcontent-serverApp-c124]   .right[_ngcontent-serverApp-c124]   .play-button[_ngcontent-serverApp-c124]{position:absolute;top:49%;left:43%;font-size:5em;color:#fff}.inner-section[_ngcontent-serverApp-c124]   .right[_ngcontent-serverApp-c124]   .play-button[_ngcontent-serverApp-c124]:hover{cursor:pointer}.course-banner[_ngcontent-serverApp-c124]{margin:0 0 20px}.course-banner[_ngcontent-serverApp-c124]   img[_ngcontent-serverApp-c124]{width:92%;height:100%;margin:0 4%}.nasscom-home-banner[_ngcontent-serverApp-c124]{width:76vw;padding:42px;background:linear-gradient(90.8deg,#fddcd3 .78%,#fcedd4 99.43%);border-radius:8px;margin:auto auto 60px}.nasscom-home-banner[_ngcontent-serverApp-c124]   .top[_ngcontent-serverApp-c124]   .top-title[_ngcontent-serverApp-c124]   h1[_ngcontent-serverApp-c124]{font-style:normal;font-weight:700;font-size:30px;line-height:38px;letter-spacing:.02em;background:-webkit-linear-gradient(0deg,#f6430f -20%,#ee9f15 50%);-webkit-background-clip:text;-webkit-text-fill-color:transparent}.nasscom-home-banner[_ngcontent-serverApp-c124]   .top[_ngcontent-serverApp-c124]   .top-description[_ngcontent-serverApp-c124]   p[_ngcontent-serverApp-c124]{font-style:normal;font-weight:400;font-size:18px;line-height:23px;color:#424242;margin-top:8px}.nasscom-home-banner[_ngcontent-serverApp-c124]   .bottom[_ngcontent-serverApp-c124]{margin-top:33px;display:flex;flex-direction:row;justify-content:space-between;align-items:center}.nasscom-home-banner[_ngcontent-serverApp-c124]   .bottom[_ngcontent-serverApp-c124]   button[_ngcontent-serverApp-c124]{padding:6px 14px;font-size:14px}.nasscom-home-banner[_ngcontent-serverApp-c124]   .bottom[_ngcontent-serverApp-c124]   .left-co-brand[_ngcontent-serverApp-c124]{background:#fcfdfe;border:1px solid #fdb994;box-sizing:border-box;display:inline-block;padding:26px 40px 26px 48px;border-radius:0 8px 8px 0;margin-left:-58px}.nasscom-home-banner[_ngcontent-serverApp-c124]   .bottom[_ngcontent-serverApp-c124]   .left-co-brand[_ngcontent-serverApp-c124]:before{content:\"\";position:absolute;z-index:3;display:inline-block;box-sizing:content-box;height:0;width:0;transform:translateX(-49px) translateY(-41px);border-left:16px solid transparent;border-bottom:14px solid #f9601e}.nasscom-home-banner[_ngcontent-serverApp-c124]   .bottom[_ngcontent-serverApp-c124]   .left-co-brand[_ngcontent-serverApp-c124]   .co-brand-logos[_ngcontent-serverApp-c124]{display:flex;align-items:center;margin-top:14px;position:relative;left:-6px}.nasscom-home-banner[_ngcontent-serverApp-c124]   .bottom[_ngcontent-serverApp-c124]   .left-co-brand[_ngcontent-serverApp-c124]   .co-brand-logos[_ngcontent-serverApp-c124]   img.futureskills-bottom-logo[_ngcontent-serverApp-c124]{width:197px}.nasscom-home-banner[_ngcontent-serverApp-c124]   .bottom[_ngcontent-serverApp-c124]   .left-co-brand[_ngcontent-serverApp-c124]   .co-brand-logos[_ngcontent-serverApp-c124]   .divider[_ngcontent-serverApp-c124]{margin-left:14px;margin-right:29px}.nasscom-home-banner[_ngcontent-serverApp-c124]   .bottom[_ngcontent-serverApp-c124]   .left-co-brand[_ngcontent-serverApp-c124]   .co-brand-logos[_ngcontent-serverApp-c124]   .cn-bottom-logo[_ngcontent-serverApp-c124]   img[_ngcontent-serverApp-c124]{width:126px}.nasscom-home-banner[_ngcontent-serverApp-c124]   .bottom[_ngcontent-serverApp-c124]   .left-co-brand[_ngcontent-serverApp-c124]   .co-brand-logos[_ngcontent-serverApp-c124]   .cn-bottom-logo[_ngcontent-serverApp-c124]   p[_ngcontent-serverApp-c124]{font-size:10px}.nasscom-home-banner[_ngcontent-serverApp-c124]   .bottom[_ngcontent-serverApp-c124]   .web-course[_ngcontent-serverApp-c124]{margin-left:32px}.nasscom-home-banner[_ngcontent-serverApp-c124]   .bottom[_ngcontent-serverApp-c124]   .nasscom-course[_ngcontent-serverApp-c124]{padding:40px}.nasscom-home-banner[_ngcontent-serverApp-c124]   .bottom[_ngcontent-serverApp-c124]   .nasscom-course[_ngcontent-serverApp-c124]   h2[_ngcontent-serverApp-c124]{font-size:22px;line-height:28px;margin-bottom:10px}.nasscom-home-banner[_ngcontent-serverApp-c124]   .bottom[_ngcontent-serverApp-c124]   .nasscom-course[_ngcontent-serverApp-c124]   .nasscom-course-icon[_ngcontent-serverApp-c124]   img.nasscom-android-icon[_ngcontent-serverApp-c124], .nasscom-home-banner[_ngcontent-serverApp-c124]   .bottom[_ngcontent-serverApp-c124]   .nasscom-course[_ngcontent-serverApp-c124]   .nasscom-course-icon[_ngcontent-serverApp-c124]   img.nasscom-web-icon[_ngcontent-serverApp-c124]{background-color:#fff;border-radius:6px;width:60px}.clickable[_ngcontent-serverApp-c124]:hover{cursor:pointer}@media screen and (max-width:1300px){#intro-section-container[_ngcontent-serverApp-c124]{height:inherit}}@media screen and (max-width:1200px){.nasscom-home-banner[_ngcontent-serverApp-c124]   .bottom[_ngcontent-serverApp-c124]   .nasscom-course[_ngcontent-serverApp-c124]{padding:10px}.nasscom-home-banner[_ngcontent-serverApp-c124]   .bottom[_ngcontent-serverApp-c124]   .nasscom-course[_ngcontent-serverApp-c124]   h2[_ngcontent-serverApp-c124]{font-size:20px;line-height:25px}}@media screen and (max-width:1024px){.inner-section[_ngcontent-serverApp-c124]{padding:40px 0 50px 25px}.inner-section[_ngcontent-serverApp-c124]   .left[_ngcontent-serverApp-c124]   .second-heading[_ngcontent-serverApp-c124]{font-size:60px}.inner-section[_ngcontent-serverApp-c124]   .left[_ngcontent-serverApp-c124]   .content[_ngcontent-serverApp-c124]{margin:16px 0 30px}.inner-section[_ngcontent-serverApp-c124]   .left[_ngcontent-serverApp-c124]   .button-container[_ngcontent-serverApp-c124]{display:flex;flex-direction:column}.course-banner[_ngcontent-serverApp-c124]   img[_ngcontent-serverApp-c124]{width:96%;margin:0 2%}.nasscom-home-banner[_ngcontent-serverApp-c124]{width:88vw;padding:20px}.nasscom-home-banner[_ngcontent-serverApp-c124]   .top[_ngcontent-serverApp-c124]   .top-title[_ngcontent-serverApp-c124]   h1[_ngcontent-serverApp-c124]{font-weight:600;font-size:22px;line-height:28px}.nasscom-home-banner[_ngcontent-serverApp-c124]   .top[_ngcontent-serverApp-c124]   .top-description[_ngcontent-serverApp-c124]   p[_ngcontent-serverApp-c124]{font-size:14px;line-height:18px}.nasscom-home-banner[_ngcontent-serverApp-c124]   .bottom[_ngcontent-serverApp-c124]{margin-top:33px;flex-direction:column;align-items:flex-start}.nasscom-home-banner[_ngcontent-serverApp-c124]   .bottom[_ngcontent-serverApp-c124]   .left-co-brand[_ngcontent-serverApp-c124]{padding:24px 26px 24px 18px;margin-left:-30px}.nasscom-home-banner[_ngcontent-serverApp-c124]   .bottom[_ngcontent-serverApp-c124]   .left-co-brand[_ngcontent-serverApp-c124]:before{transform:translateX(-19px) translateY(-35px);border-left:10px solid transparent;border-bottom:10px solid #f9601e}.nasscom-home-banner[_ngcontent-serverApp-c124]   .bottom[_ngcontent-serverApp-c124]   .left-co-brand[_ngcontent-serverApp-c124]   .co-brand-logos[_ngcontent-serverApp-c124]   img.futureskills-bottom-logo[_ngcontent-serverApp-c124]{width:116px;height:48px}.nasscom-home-banner[_ngcontent-serverApp-c124]   .bottom[_ngcontent-serverApp-c124]   .left-co-brand[_ngcontent-serverApp-c124]   .co-brand-logos[_ngcontent-serverApp-c124]   .cn-bottom-logo[_ngcontent-serverApp-c124]   img[_ngcontent-serverApp-c124]{width:79px}.nasscom-home-banner[_ngcontent-serverApp-c124]   .bottom[_ngcontent-serverApp-c124]   .left-co-brand[_ngcontent-serverApp-c124]   .co-brand-logos[_ngcontent-serverApp-c124]   .cn-bottom-logo[_ngcontent-serverApp-c124]   p[_ngcontent-serverApp-c124]{font-size:8px}.nasscom-home-banner[_ngcontent-serverApp-c124]   .bottom[_ngcontent-serverApp-c124]   .web-course[_ngcontent-serverApp-c124]{margin-left:0}.nasscom-home-banner[_ngcontent-serverApp-c124]   .bottom[_ngcontent-serverApp-c124]   .nasscom-course[_ngcontent-serverApp-c124]{padding:30px 10px}}@media screen and (max-width:800px){.inner-section[_ngcontent-serverApp-c124]   .left[_ngcontent-serverApp-c124]   .second-heading[_ngcontent-serverApp-c124]{font-size:45px}}@media screen and (max-width:720px){.course-banner[_ngcontent-serverApp-c124]   img[_ngcontent-serverApp-c124]{width:100%;margin:0}.right[_ngcontent-serverApp-c124]{background:url(https://files.codingninjas.in/mobile-06-5224.png) no-repeat 50%!important}.right[_ngcontent-serverApp-c124]   .play-button[_ngcontent-serverApp-c124]{top:40%!important}}@media screen and (max-width:520px){.inner-section[_ngcontent-serverApp-c124]{padding:30px 0;justify-content:flex-start;grid-template-columns:100%;margin-bottom:200px}.inner-section[_ngcontent-serverApp-c124]   .left[_ngcontent-serverApp-c124]   .second-heading[_ngcontent-serverApp-c124]{font-size:34px;line-height:51px;padding:0 16px}.inner-section[_ngcontent-serverApp-c124]   .left[_ngcontent-serverApp-c124]   .content[_ngcontent-serverApp-c124]{font-size:18px;line-height:25px;padding:0 16px}.inner-section[_ngcontent-serverApp-c124]   .left[_ngcontent-serverApp-c124]   .button-container[_ngcontent-serverApp-c124]{padding:0 16px;margin-bottom:32px}.inner-section[_ngcontent-serverApp-c124]   .left[_ngcontent-serverApp-c124]   .button-container[_ngcontent-serverApp-c124]   .explore-outer[_ngcontent-serverApp-c124]{display:flex;flex-direction:column}.inner-section[_ngcontent-serverApp-c124]   .right[_ngcontent-serverApp-c124]{min-height:350px}}@media screen and (max-height:799px) and (max-width:520px){.inner-section[_ngcontent-serverApp-c124]{margin-bottom:300px}}  #home-video-dialog{padding:0}</style><style>*[_ngcontent-serverApp-c126]{box-sizing:border-box}.root-container[_ngcontent-serverApp-c126]{padding:18px 24px;background-color:#fff}.root-container[_ngcontent-serverApp-c126]   .top-text[_ngcontent-serverApp-c126]{text-align:center;font-size:24px;letter-spacing:.5px;padding:24px;font-weight:700}.root-container[_ngcontent-serverApp-c126]   .companies-container[_ngcontent-serverApp-c126]{display:flex;justify-content:center;flex-wrap:wrap}@media screen and (max-width:720px){.root-container[_ngcontent-serverApp-c126]   .top-text[_ngcontent-serverApp-c126]{font-size:16px;padding:12px}}</style><style>#popular-courses[_ngcontent-serverApp-c133]{background:rgba(254,238,229,.7)}#popular-courses[_ngcontent-serverApp-c133]   .popular-courses-section-container[_ngcontent-serverApp-c133]{font-weight:400;width:1180px;margin:auto;padding:25px 0}#popular-courses[_ngcontent-serverApp-c133]   .popular-courses-section-container[_ngcontent-serverApp-c133]   .title[_ngcontent-serverApp-c133]{color:#424242;font-size:27px;font-weight:700;text-transform:uppercase;padding-bottom:20px}#popular-courses[_ngcontent-serverApp-c133]   .popular-courses-section-container[_ngcontent-serverApp-c133]   .popular-course-detail-section[_ngcontent-serverApp-c133]{display:grid;grid-template-columns:40% 58%;justify-content:space-between}#popular-courses[_ngcontent-serverApp-c133]   .popular-courses-section-container[_ngcontent-serverApp-c133]   .popular-course-detail-section[_ngcontent-serverApp-c133]   .popular-course-details[_ngcontent-serverApp-c133]{padding:27px 0 30px 8px}#popular-courses[_ngcontent-serverApp-c133]   .popular-courses-section-container[_ngcontent-serverApp-c133]   .popular-course-detail-section[_ngcontent-serverApp-c133]   .popular-carousel-container[_ngcontent-serverApp-c133]{display:flex;flex-direction:column}#popular-courses[_ngcontent-serverApp-c133]   .popular-courses-section-container[_ngcontent-serverApp-c133]   .popular-course-detail-section[_ngcontent-serverApp-c133]   .popular-carousel-container[_ngcontent-serverApp-c133]   .popular-carousel-section[_ngcontent-serverApp-c133]{position:relative;display:flex;flex-direction:row}#popular-courses[_ngcontent-serverApp-c133]   .popular-courses-section-container[_ngcontent-serverApp-c133]   .popular-course-detail-section[_ngcontent-serverApp-c133]   .popular-carousel-container[_ngcontent-serverApp-c133]   .bottom-text[_ngcontent-serverApp-c133]{font-size:12px;line-height:15px;font-weight:400;padding-left:24px}#popular-courses[_ngcontent-serverApp-c133]   .popular-courses-section-container[_ngcontent-serverApp-c133]   .popular-course-detail-section[_ngcontent-serverApp-c133]   .popular-course-batch-selection[_ngcontent-serverApp-c133]{display:grid;grid-template-columns:auto auto auto auto auto;padding:38px 15px 38px 18px;overflow-x:hidden;scroll-behavior:smooth}#popular-courses[_ngcontent-serverApp-c133]   .popular-courses-section-container[_ngcontent-serverApp-c133]   .popular-course-detail-section[_ngcontent-serverApp-c133]   .left-scroll-button-container[_ngcontent-serverApp-c133]{position:absolute;display:flex;height:100%;top:0;left:-1px;background:linear-gradient(270deg,hsla(0,0%,100%,0),#fef8ee);z-index:4}#popular-courses[_ngcontent-serverApp-c133]   .popular-courses-section-container[_ngcontent-serverApp-c133]   .popular-course-detail-section[_ngcontent-serverApp-c133]   .right-scroll-button-container[_ngcontent-serverApp-c133]{position:absolute;display:flex;height:100%;top:0;right:0;background:linear-gradient(270deg,#fef8ee,hsla(0,0%,100%,0));z-index:4}#popular-courses[_ngcontent-serverApp-c133]   .popular-courses-section-container[_ngcontent-serverApp-c133]   .popular-course-detail-section[_ngcontent-serverApp-c133]   .scroll-button[_ngcontent-serverApp-c133]{cursor:pointer;z-index:5;display:flex}#popular-courses[_ngcontent-serverApp-c133]   .popular-courses-section-container[_ngcontent-serverApp-c133]   .popular-course-detail-section[_ngcontent-serverApp-c133]   .left-scroll-button[_ngcontent-serverApp-c133]{top:0;left:0;margin:auto 0;height:90px;width:42px;border-radius:0 90px 90px 0;background:#fff;box-shadow:-1px 9px 18px rgba(21,11,35,.1)}#popular-courses[_ngcontent-serverApp-c133]   .popular-courses-section-container[_ngcontent-serverApp-c133]   .popular-course-detail-section[_ngcontent-serverApp-c133]   .right-scroll-button[_ngcontent-serverApp-c133]{top:0;right:0;margin:auto 0;height:90px;width:42px;border-radius:90px 0 0 90px;background:#fff;box-shadow:-1px 9px 18px rgba(21,11,35,.1)}#popular-courses[_ngcontent-serverApp-c133]   .popular-courses-section-container[_ngcontent-serverApp-c133]   .popular-course-detail-section[_ngcontent-serverApp-c133]   .left-right-arrow[_ngcontent-serverApp-c133]{font-size:29px!important;margin:auto;height:29px;width:29px;color:#f64108}@-webkit-keyframes placeHolderShimmer{0%{background-position:-468px 0}to{background-position:468px 0}}@keyframes placeHolderShimmer{0%{background-position:-468px 0}to{background-position:468px 0}}#popular-courses[_ngcontent-serverApp-c133]   .popular-courses-section-container[_ngcontent-serverApp-c133]   .linear-background[_ngcontent-serverApp-c133]{-webkit-animation-duration:1s;animation-duration:1s;-webkit-animation-fill-mode:forwards;animation-fill-mode:forwards;-webkit-animation-iteration-count:infinite;animation-iteration-count:infinite;-webkit-animation-name:placeHolderShimmer;animation-name:placeHolderShimmer;-webkit-animation-timing-function:linear;animation-timing-function:linear;background:#f6f7f8;background:linear-gradient(90deg,#eee 8%,#ddd 18%,#eee 33%);background-size:1000px 104px;position:relative;overflow:hidden}#popular-courses[_ngcontent-serverApp-c133]   .popular-courses-section-container[_ngcontent-serverApp-c133]   .batches-card-animation[_ngcontent-serverApp-c133]{height:252px;width:332px;margin-right:20px}@media screen and (max-width:1130px){#popular-course[_ngcontent-serverApp-c133]   .popular-courses-section-container[_ngcontent-serverApp-c133]   .popular-course-detail-section[_ngcontent-serverApp-c133]{grid-template-columns:39% 60%}}@media screen and (max-width:1024px){#popular-courses[_ngcontent-serverApp-c133]   .popular-courses-section-container[_ngcontent-serverApp-c133]{width:980px}#popular-courses[_ngcontent-serverApp-c133]   .popular-courses-section-container[_ngcontent-serverApp-c133]   .popular-course-detail-section[_ngcontent-serverApp-c133]{grid-template-columns:38% 60%}}@media screen and (max-width:768px){#popular-courses[_ngcontent-serverApp-c133]   .popular-courses-section-container[_ngcontent-serverApp-c133]{width:720px}#popular-courses[_ngcontent-serverApp-c133]   .popular-courses-section-container[_ngcontent-serverApp-c133]   .popular-course-detail-section[_ngcontent-serverApp-c133]{grid-template-columns:42% 55%}#popular-courses[_ngcontent-serverApp-c133]   .popular-courses-section-container[_ngcontent-serverApp-c133]   .popular-course-detail-section[_ngcontent-serverApp-c133]   .popular-course-batch-selection[_ngcontent-serverApp-c133]{overflow-x:auto}#popular-courses[_ngcontent-serverApp-c133]   .popular-courses-section-container[_ngcontent-serverApp-c133]   .popular-course-detail-section[_ngcontent-serverApp-c133]   .popular-course-batch-selection[_ngcontent-serverApp-c133]::-webkit-scrollbar{display:none!important}#popular-courses[_ngcontent-serverApp-c133]   .popular-courses-section-container[_ngcontent-serverApp-c133]   .popular-course-detail-section[_ngcontent-serverApp-c133]   .left-scroll-button-container[_ngcontent-serverApp-c133], #popular-courses[_ngcontent-serverApp-c133]   .popular-courses-section-container[_ngcontent-serverApp-c133]   .popular-course-detail-section[_ngcontent-serverApp-c133]   .right-scroll-button-container[_ngcontent-serverApp-c133]{display:none}}@media screen and (max-width:576px){#popular-courses[_ngcontent-serverApp-c133]   .popular-courses-section-container[_ngcontent-serverApp-c133]{width:328px;padding:16px 0}#popular-courses[_ngcontent-serverApp-c133]   .popular-courses-section-container[_ngcontent-serverApp-c133]   .title[_ngcontent-serverApp-c133]{font-size:20px}#popular-courses[_ngcontent-serverApp-c133]   .popular-courses-section-container[_ngcontent-serverApp-c133]   .popular-course-detail-section[_ngcontent-serverApp-c133]{grid-template-columns:100%}#popular-courses[_ngcontent-serverApp-c133]   .popular-courses-section-container[_ngcontent-serverApp-c133]   .popular-course-detail-section[_ngcontent-serverApp-c133]   .popular-course-details[_ngcontent-serverApp-c133]{padding:30px 10px 12px 0}#popular-courses[_ngcontent-serverApp-c133]   .popular-courses-section-container[_ngcontent-serverApp-c133]   .popular-course-detail-section[_ngcontent-serverApp-c133]   .popular-carousel-section[_ngcontent-serverApp-c133]{position:relative}#popular-courses[_ngcontent-serverApp-c133]   .popular-courses-section-container[_ngcontent-serverApp-c133]   .popular-course-detail-section[_ngcontent-serverApp-c133]   .popular-course-batch-selection[_ngcontent-serverApp-c133]{padding:12px 0 12px 15px;margin-left:-10px;overflow-x:auto}}</style><style>.course-group-description{font-size:16px;line-height:22px;letter-spacing:.3px;color:#212121;margin-bottom:20px;width:70%;min-height:44px}  .course-group-description span{font-weight:600}@-webkit-keyframes placeHolderShimmer{0%{background-position:-468px 0}to{background-position:468px 0}}@keyframes placeHolderShimmer{0%{background-position:-468px 0}to{background-position:468px 0}}.linear-background[_ngcontent-serverApp-c127]{-webkit-animation-duration:1s;animation-duration:1s;-webkit-animation-fill-mode:forwards;animation-fill-mode:forwards;-webkit-animation-iteration-count:infinite;animation-iteration-count:infinite;-webkit-animation-name:placeHolderShimmer;animation-name:placeHolderShimmer;-webkit-animation-timing-function:linear;animation-timing-function:linear;background:#f6f7f8;background:linear-gradient(90deg,#eee 8%,#ddd 18%,#eee 33%);background-size:1000px 104px;position:relative;overflow:hidden}@media screen and (max-width:1024px){.course-group-description[_ngcontent-serverApp-c127]{width:auto}}@media screen and (max-width:768px){.course-group-description[_ngcontent-serverApp-c127]{margin-right:25px}}@media screen and (max-width:420px){.course-group-description[_ngcontent-serverApp-c127]{margin-right:25px;font-size:14px}}</style><style>.course-card-section-inner[_ngcontent-serverApp-c128]{display:flex;width:100%;overflow-x:auto;overflow-y:hidden;cursor:pointer;border-bottom:1px solid #bdbdbd;-ms-overflow-style:none}.course-card-section-inner[_ngcontent-serverApp-c128]::-webkit-scrollbar{display:none!important}.course-card-section-inner[_ngcontent-serverApp-c128]   .course-card[_ngcontent-serverApp-c128]{display:flex;flex-direction:column;justify-content:flex-start;padding-bottom:7px;padding-right:40px}.course-card-section-inner[_ngcontent-serverApp-c128]   .course-card[_ngcontent-serverApp-c128]   .course-card-inner[_ngcontent-serverApp-c128]{position:relative}.course-card-section-inner[_ngcontent-serverApp-c128]   .course-card[_ngcontent-serverApp-c128]   .course-card-inner[_ngcontent-serverApp-c128]   .course-img[_ngcontent-serverApp-c128]{background:#fff;border-radius:6px;width:50px;height:50px;padding:3px;filter:grayscale(1);opacity:.7;transition:opacity .3s ease;-webkit-transition:opacity .3s ease;-moz-transition:opacity .3s ease}.course-card-section-inner[_ngcontent-serverApp-c128]   .course-card[_ngcontent-serverApp-c128]   .course-card-inner[_ngcontent-serverApp-c128]   .course-name[_ngcontent-serverApp-c128]{font-style:normal;font-weight:600;font-size:15px;line-height:20px;height:41px;overflow:hidden;letter-spacing:.3px;color:#757575;width:110px}.course-card-section-inner[_ngcontent-serverApp-c128]   .course-card[_ngcontent-serverApp-c128]   .selected[_ngcontent-serverApp-c128]   .course-img[_ngcontent-serverApp-c128]{filter:none;opacity:1;transition:opacity .3s ease;-webkit-transition:opacity .3s ease;-moz-transition:opacity .3s ease}.course-card-section-inner[_ngcontent-serverApp-c128]   .course-card[_ngcontent-serverApp-c128]   .selected[_ngcontent-serverApp-c128]   .course-name[_ngcontent-serverApp-c128]{color:#424242!important;transition:color .3s ease;-webkit-transition:color .3s ease;-moz-transition:color .3s ease}.course-card-section-inner[_ngcontent-serverApp-c128]   .course-card[_ngcontent-serverApp-c128]   .selected[_ngcontent-serverApp-c128]:after{content:\"\";background:#f6430f;height:6px;width:100%;display:block;position:absolute;bottom:-9px;border-radius:9px;opacity:1;transition:opacity .3s ease;-webkit-transition:opacity .3s ease;-moz-transition:opacity .3s ease}@-webkit-keyframes placeHolderShimmer{0%{background-position:-468px 0}to{background-position:468px 0}}@keyframes placeHolderShimmer{0%{background-position:-468px 0}to{background-position:468px 0}}.course-card-section-inner[_ngcontent-serverApp-c128]   .course-card[_ngcontent-serverApp-c128]   .linear-background[_ngcontent-serverApp-c128]{-webkit-animation-duration:1s;animation-duration:1s;-webkit-animation-fill-mode:forwards;animation-fill-mode:forwards;-webkit-animation-iteration-count:infinite;animation-iteration-count:infinite;-webkit-animation-name:placeHolderShimmer;animation-name:placeHolderShimmer;-webkit-animation-timing-function:linear;animation-timing-function:linear;background:#f6f7f8;background:linear-gradient(90deg,#eee 8%,#ddd 18%,#eee 33%);background-size:1000px 104px;position:relative;overflow:hidden}.course-card-section-inner[_ngcontent-serverApp-c128]   .course-card[_ngcontent-serverApp-c128]   .content-line[_ngcontent-serverApp-c128]{min-width:50px;height:20px;margin-top:4px}@media screen and (max-width:420px){.course-card-section-inner[_ngcontent-serverApp-c128]   .course-card[_ngcontent-serverApp-c128]{padding:0 9.3% 7px 0}.course-card-section-inner[_ngcontent-serverApp-c128]   .course-card[_ngcontent-serverApp-c128]   .course-card-inner[_ngcontent-serverApp-c128]   .course-name[_ngcontent-serverApp-c128]{width:auto;font-size:14px}}</style><style>.mat-icon{background-repeat:no-repeat;display:inline-block;fill:currentColor;height:24px;width:24px}.mat-icon.mat-icon-inline{font-size:inherit;height:inherit;line-height:inherit;width:inherit}[dir=rtl] .mat-icon-rtl-mirror{transform:scale(-1, 1)}.mat-form-field:not(.mat-form-field-appearance-legacy) .mat-form-field-prefix .mat-icon,.mat-form-field:not(.mat-form-field-appearance-legacy) .mat-form-field-suffix .mat-icon{display:block}.mat-form-field:not(.mat-form-field-appearance-legacy) .mat-form-field-prefix .mat-icon-button .mat-icon,.mat-form-field:not(.mat-form-field-appearance-legacy) .mat-form-field-suffix .mat-icon-button .mat-icon{margin:auto}\\n</style><style>.features-container-vertical[_ngcontent-serverApp-c135]{display:flex;flex-wrap:wrap;justify-content:space-around}</style><style>.outer-container[_ngcontent-serverApp-c136]{background-color:#fff}.outer-container[_ngcontent-serverApp-c136]   .title[_ngcontent-serverApp-c136]{font-size:38px;color:#000;font-weight:700;margin:0 0 5px}.outer-container[_ngcontent-serverApp-c136]   .title[_ngcontent-serverApp-c136]   span[_ngcontent-serverApp-c136]{color:rgba(0,0,0,.6)}.outer-container[_ngcontent-serverApp-c136]   .sub-heading[_ngcontent-serverApp-c136]{padding:4px 16px 26px 0;font-size:18px;color:#424242;font-weight:300}</style><style>.testimonials-section[_ngcontent-serverApp-c138]{background-image:linear-gradient(270deg,#ffcc8d,#ff6868 98%);color:#fff}.testimonials-section[_ngcontent-serverApp-c138]   .section-title[_ngcontent-serverApp-c138]{color:#fff}.testimonials-section[_ngcontent-serverApp-c138]   .sub-heading[_ngcontent-serverApp-c138]{font-size:18px;letter-spacing:.2px;color:hsla(0,0%,100%,.9);margin-bottom:40px;font-weight:600}</style><style>.section-contents[_ngcontent-serverApp-c140]   landing-team-member[_ngcontent-serverApp-c140]{width:25%;margin:20px 0;min-width:240px}</style><style>.blog-container[_ngcontent-serverApp-c142]{padding:30px 64px}.blog-section[_ngcontent-serverApp-c142]{padding-top:0}</style><style>#pc-home-banner-container[_ngcontent-serverApp-c120]{background:linear-gradient(273.95deg,#efc46d,#feed95 25.62%,rgba(228,189,108,.48) 63.88%,rgba(254,237,149,.3) 103.54%);max-width:-webkit-fit-content;max-width:-moz-fit-content;max-width:fit-content;border-radius:4px}#pc-home-banner[_ngcontent-serverApp-c120]{background:rgba(253,253,255,.5) url(https://files.codingninjas.in/pc-home-banner-bg-6466.svg) no-repeat;-webkit-backdrop-filter:blur(40px);backdrop-filter:blur(40px);display:flex;background-size:cover;border-radius:4px}#pc-home-banner[_ngcontent-serverApp-c120]   .left-section[_ngcontent-serverApp-c120]{color:var(--grey-800);font-size:14px;width:38%}#pc-home-banner[_ngcontent-serverApp-c120]   .left-section[_ngcontent-serverApp-c120]   p[_ngcontent-serverApp-c120]{font-weight:600;letter-spacing:.16em}#pc-home-banner[_ngcontent-serverApp-c120]   .left-section[_ngcontent-serverApp-c120]   img[_ngcontent-serverApp-c120]{position:relative;right:26px}.pc-roadmap-steps[_ngcontent-serverApp-c120]{font-size:14px;font-weight:700;width:-webkit-max-content;width:-moz-max-content;width:max-content}.pc-roadmap-steps[_ngcontent-serverApp-c120]   span[_ngcontent-serverApp-c120]:not(:nth-child(3)):after{content:\"\\\\00b7\";margin:0 4px}.pc-roadmap-steps[_ngcontent-serverApp-c120]   .pc-roadmap-caption[_ngcontent-serverApp-c120]{font-size:14px;font-weight:400;color:var(--grey-900)}#explore-pc-link[_ngcontent-serverApp-c120]:before{content:\"Explore Courses\";font-size:14px;width:-webkit-max-content;width:-moz-max-content;width:max-content}#explore-pc-link[_ngcontent-serverApp-c120]{color:#f6430f;opacity:.9;width:-webkit-fit-content;width:-moz-fit-content;width:fit-content;display:flex;align-items:center;margin:30px 0 0 64px;cursor:pointer;text-decoration:none}@media screen and (min-width:521px){#explore-pc-link[_ngcontent-serverApp-c120]{margin:0 0 0 40px}}@media screen and (min-width:1136px){#pc-home-banner[_ngcontent-serverApp-c120]{background-size:contain;background-position:bottom}#pc-home-banner[_ngcontent-serverApp-c120]   .right-section[_ngcontent-serverApp-c120]{flex-direction:column}.pc-roadmap-steps[_ngcontent-serverApp-c120]{font-size:16px}#explore-pc-link[_ngcontent-serverApp-c120]{margin:0}#explore-pc-link[_ngcontent-serverApp-c120]:before{content:\"Explore Premium Courses\";font-weight:600}}</style><style>.scroll-container[_ngcontent-serverApp-c123]{width:100%;box-sizing:border-box;height:140px;display:flex;align-items:center;white-space:nowrap;position:relative;overflow-x:scroll;overflow-y:hidden;-webkit-overflow-scrolling:touch;background-image:linear-gradient(270deg,#ffcc8d,#ff6868 98%)}.scroll-container[_ngcontent-serverApp-c123]::-webkit-scrollbar, .scroll-container[_ngcontent-serverApp-c123]::-webkit-scrollbar-thumb{display:none}.scroll-container[_ngcontent-serverApp-c123]::-webkit-scrollbar-track{display:none}.holder[_ngcontent-serverApp-c123]{display:inline-block}</style><style>*[_ngcontent-serverApp-c121]{box-sizing:border-box;padding:0;margin:0;font-weight:400}.card[_ngcontent-serverApp-c121]{width:390px}.card[_ngcontent-serverApp-c121]   .container[_ngcontent-serverApp-c121]{height:100px;background-color:#fff;margin:5px 0 5px 10px;display:flex;align-items:center;box-sizing:border-box;padding:0 16px;box-shadow:0 3px 20px 0 rgba(44,37,37,.13);border-radius:2px}.card[_ngcontent-serverApp-c121]   .container[_ngcontent-serverApp-c121]   .image-container[_ngcontent-serverApp-c121], .card[_ngcontent-serverApp-c121]   .container[_ngcontent-serverApp-c121]   img[_ngcontent-serverApp-c121]{width:50px;height:50px}.card[_ngcontent-serverApp-c121]   .container[_ngcontent-serverApp-c121]   img[_ngcontent-serverApp-c121]{border-radius:25px;-o-object-fit:cover;object-fit:cover}.card[_ngcontent-serverApp-c121]   .container[_ngcontent-serverApp-c121]   .text-container[_ngcontent-serverApp-c121]{max-width:500px;min-width:300px;padding-left:16px;word-wrap:break-word}.card[_ngcontent-serverApp-c121]   .container[_ngcontent-serverApp-c121]   .text-container[_ngcontent-serverApp-c121]   .name[_ngcontent-serverApp-c121]{font-size:16px;padding:2px;color:#616161;font-weight:400}.card[_ngcontent-serverApp-c121]   .container[_ngcontent-serverApp-c121]   .text-container[_ngcontent-serverApp-c121]   .company[_ngcontent-serverApp-c121]{font-size:16px;padding:2px;color:#424242;font-weight:700}.card[_ngcontent-serverApp-c121]   .container[_ngcontent-serverApp-c121]   .text-container[_ngcontent-serverApp-c121]   .review[_ngcontent-serverApp-c121]{font-size:12px;color:#212121;padding:4px 2px 2px;width:100%;white-space:normal;overflow:hidden;text-overflow:ellipsis;opacity:.7}</style><style>img[_ngcontent-serverApp-c125]{height:60px;width:120px;-o-object-fit:contain;object-fit:contain;margin:20px 50px}@media screen and (max-width:720px){img[_ngcontent-serverApp-c125]{width:72px;height:32px;margin:12px 24px}}</style><style>.feature[_ngcontent-serverApp-c134]{display:flex;width:100%}.feature[_ngcontent-serverApp-c134]   .feature-title[_ngcontent-serverApp-c134]{padding:10px 0;font-size:18px;color:#000;font-weight:700}.feature[_ngcontent-serverApp-c134]   .feature-description[_ngcontent-serverApp-c134]{font-weight:300;font-size:16px;color:#424242;line-height:23px}.feature[_ngcontent-serverApp-c134]   .feature-image[_ngcontent-serverApp-c134]   img[_ngcontent-serverApp-c134]{height:270px;max-width:330px}.feature-title-description[_ngcontent-serverApp-c134]{padding-left:20px;padding-right:20px;align-self:center}.feature-vertical[_ngcontent-serverApp-c134]   .feature-title[_ngcontent-serverApp-c134]{padding:10px 0;font-size:18px;color:#000;font-weight:700;margin:0}.feature-vertical[_ngcontent-serverApp-c134]   .feature-description[_ngcontent-serverApp-c134]{font-weight:300;font-size:16px;color:rgba(0,0,0,.6);line-height:23px}.feature-vertical[_ngcontent-serverApp-c134]   .feature-image[_ngcontent-serverApp-c134], .feature-vertical[_ngcontent-serverApp-c134]   .feature-image[_ngcontent-serverApp-c134]   img[_ngcontent-serverApp-c134]{width:100%}@media screen and (max-width:720px){.feature[_ngcontent-serverApp-c134]{display:block;text-align:center;width:100%;margin-right:0;margin-bottom:20px}.feature[_ngcontent-serverApp-c134]   .feature-title[_ngcontent-serverApp-c134]{font-size:16px}.feature[_ngcontent-serverApp-c134]   .feature-description[_ngcontent-serverApp-c134]{font-size:14px}}</style><style>.youtube-player-lite{display:flex;justify-content:center;position:relative}.youtube-player-lite div:hover{-moz-filter:brightness(75%);filter:brightness(75%)}.border-class{border:8px solid #fff;border-radius:8px}.play{height:72px;width:72px;left:50%;top:50%;margin-left:-36px;margin-top:-36px;position:absolute;font-size:72px!important;color:#fff;filter:drop-shadow(0 3px 3px rgba(0,0,0,.4));cursor:pointer}</style><style>.testimonial[_ngcontent-serverApp-c137]{font-weight:400;width:100%;box-sizing:border-box;background-color:#fff;box-shadow:-8px 16px 57px 0 rgba(84,84,84,.16);padding:32px}.testimonial[_ngcontent-serverApp-c137]   .header[_ngcontent-serverApp-c137]{width:100%;height:25%;display:flex;justify-content:space-between;align-items:center}.testimonial[_ngcontent-serverApp-c137]   .header[_ngcontent-serverApp-c137]   .profile[_ngcontent-serverApp-c137]   img[_ngcontent-serverApp-c137]{width:60px;height:60px;-o-object-fit:cover;object-fit:cover;border-radius:30px}.testimonial[_ngcontent-serverApp-c137]   .header[_ngcontent-serverApp-c137]   div[_ngcontent-serverApp-c137]   .name[_ngcontent-serverApp-c137]{font-size:16px;letter-spacing:.2px;color:#616161;font-weight:500;margin-bottom:6px}.testimonial[_ngcontent-serverApp-c137]   .header[_ngcontent-serverApp-c137]   div[_ngcontent-serverApp-c137]   .job-position[_ngcontent-serverApp-c137]{font-size:16px;font-weight:600;color:#424242;margin-right:6px}.testimonial[_ngcontent-serverApp-c137]   .content[_ngcontent-serverApp-c137]{height:240px;overflow:hidden;margin-top:20px;font-size:16px;color:#424242;letter-spacing:.4px;line-height:24px}</style><style>[_nghost-serverApp-c139]{display:flex;justify-content:center}#team-card-container[_ngcontent-serverApp-c139]{position:relative;width:240px}.member[_ngcontent-serverApp-c139]{width:100%;background-color:#fff;box-shadow:0 7px 10px 0 rgba(0,0,0,.07)}.member[_ngcontent-serverApp-c139]   img[_ngcontent-serverApp-c139]{width:240px;height:280px;border:none;-o-object-fit:cover;object-fit:cover}.member[_ngcontent-serverApp-c139]   .name-container[_ngcontent-serverApp-c139]{padding:12px 18px}.name[_ngcontent-serverApp-c139]{padding:2px;font-size:17px;letter-spacing:.2px;font-weight:700;color:#292929}.job-desc[_ngcontent-serverApp-c139]{color:#f36;font-size:14px;letter-spacing:.4px;padding:2px;margin-right:4px;height:30px}.member-focus[_ngcontent-serverApp-c139]{width:100%;height:100%;box-sizing:border-box;top:0;padding:20px 30px;position:absolute;background-color:#fff;visibility:hidden;opacity:0}.member-focus[_ngcontent-serverApp-c139]   .name-container[_ngcontent-serverApp-c139]{display:flex;justify-content:center;flex-direction:column;padding-top:10px;padding-left:20px}.visible[_ngcontent-serverApp-c139]{transition:all .5s ease-in-out;visibility:visible;opacity:1}.details-container[_ngcontent-serverApp-c139]{display:flex;height:95px;align-items:center;justify-content:space-between}.details-container[_ngcontent-serverApp-c139]   img[_ngcontent-serverApp-c139]{width:40px;height:40px;border-radius:50px;-o-object-fit:cover;object-fit:cover}.desc[_ngcontent-serverApp-c139]{overflow:hidden;font-weight:300;font-size:14px;color:#424242;letter-spacing:.4px;line-height:19px}</style><style>.blog[_ngcontent-serverApp-c141]   .blog-title[_ngcontent-serverApp-c141]{padding:10px 0;font-size:18px;color:#000;font-weight:600}.blog[_ngcontent-serverApp-c141]   .blog-description[_ngcontent-serverApp-c141]{font-weight:300;font-size:16px;color:#424242;line-height:23px}.blog[_ngcontent-serverApp-c141]   .blog-image[_ngcontent-serverApp-c141]{width:100%}.blog[_ngcontent-serverApp-c141]   .blog-image[_ngcontent-serverApp-c141]   img[_ngcontent-serverApp-c141]{margin:10px 0;width:100%}@media screen and (max-width:720px){.blog[_ngcontent-serverApp-c141]{width:100%;margin-right:0;margin-bottom:20px}.blog[_ngcontent-serverApp-c141]   .blog-title[_ngcontent-serverApp-c141]{font-size:16px}.blog[_ngcontent-serverApp-c141]   .blog-description[_ngcontent-serverApp-c141]{font-size:14px}}</style><style>.course-card[_ngcontent-serverApp-c112]{background:#f9f9fb;border-radius:6px;width:128px;height:128px;justify-content:space-around;padding:16px;margin:0 12px 12px 0;cursor:pointer;border:1px solid #f9f9fb}.course-card[_ngcontent-serverApp-c112]   img[_ngcontent-serverApp-c112]{-o-object-fit:contain;object-fit:contain;width:128px;height:64px}.course-card[_ngcontent-serverApp-c112]   h4[_ngcontent-serverApp-c112]{text-align:center;font-size:16px;font-weight:400}.course-card[_ngcontent-serverApp-c112]:hover{background:#fff;border-color:#fa7328;box-shadow:-1px 9px 18px rgba(21,11,35,.1)}@media screen and (max-width:576px){.course-card[_ngcontent-serverApp-c112]{width:84px;height:120px;justify-content:space-around;padding:8px;margin:0 8px 12px 0;border:initial}.course-card[_ngcontent-serverApp-c112]   img[_ngcontent-serverApp-c112]{width:84px}.course-card[_ngcontent-serverApp-c112]   h4[_ngcontent-serverApp-c112]{font-size:12px}.course-card[_ngcontent-serverApp-c112]:hover{background:#f9f9fb;border:initial;box-shadow:none}}</style><style>.career-track-cashback-prompt[_ngcontent-serverApp-c91]{background:linear-gradient(90deg,#79ac0c .3%,#0bacb7 100.3%);border-radius:4px;font-weight:700;font-size:12px;line-height:16px;letter-spacing:.3px;color:#fff;padding:3px 10px;margin-left:12px}.career-track-cashback-prompt[_ngcontent-serverApp-c91]   img[_ngcontent-serverApp-c91]{height:12px;margin-bottom:-2px}@media screen and (max-width:768px){.career-track-cashback-prompt[_ngcontent-serverApp-c91]{padding:3px 5px}}@media screen and (max-width:576px){.career-track-cashback-prompt[_ngcontent-serverApp-c91]{font-size:10px}}</style><style>#pc-home-entrypoint[_ngcontent-serverApp-c115]{background:url(https://files.codingninjas.in/pc-entrypoint-bg-6203.png),linear-gradient(269.44deg,#fbf4e3 8.87%,rgba(251,244,227,.35) 86.51%);background-size:cover;-webkit-backdrop-filter:blur(40px);backdrop-filter:blur(40px);padding-top:30px;padding-bottom:30px}#introduction-heading[_ngcontent-serverApp-c115]{font-size:16px;font-weight:600;color:var(--grey-700)}#pc-entrypoint-header[_ngcontent-serverApp-c115]   div[_ngcontent-serverApp-c115]:nth-child(2){font-size:30px;font-weight:700;color:var(--grey-900)}#pc-entrypoint-header[_ngcontent-serverApp-c115]   div[_ngcontent-serverApp-c115]:nth-child(2)   span[_ngcontent-serverApp-c115]:first-child{background:linear-gradient(273.95deg,#efc46d,#feed95 25.62%,#e4bd6c 63.88%,#feed95 103.54%);border-radius:4px}#pc-entrypoint-content[_ngcontent-serverApp-c115]{display:flex;flex-direction:column-reverse}.pc-entrypoint-content-caption[_ngcontent-serverApp-c115]{font-size:18px;font-weight:700;color:var(--grey-800)}@media screen and (min-width:600px){#pc-entrypoint-content[_ngcontent-serverApp-c115]{flex-direction:row;justify-content:space-between}#pc-entrypoint-content[_ngcontent-serverApp-c115]   .left-section[_ngcontent-serverApp-c115]{width:60%}#pc-entrypoint-content[_ngcontent-serverApp-c115]   .right-section[_ngcontent-serverApp-c115]{position:relative;top:-150px}}@media screen and (min-width:960px){#pc-entrypoint-content[_ngcontent-serverApp-c115]   .right-section[_ngcontent-serverApp-c115]{margin-bottom:0!important}}</style><style>.course-icons-container[_ngcontent-serverApp-c113]{display:flex;flex-wrap:wrap}.course-icons-container[_ngcontent-serverApp-c113]   .course-icon[_ngcontent-serverApp-c113]{background:#fff;margin:8px;width:148px;height:148px;display:flex;flex-direction:column;align-items:center;border:1px solid var(--grey-300);box-sizing:border-box}.course-icons-container[_ngcontent-serverApp-c113]   .course-icon[_ngcontent-serverApp-c113]   .coming-soon-icon[_ngcontent-serverApp-c113]{width:100%}.course-icons-container[_ngcontent-serverApp-c113]   .course-icon[_ngcontent-serverApp-c113]   a[_ngcontent-serverApp-c113]{cursor:pointer;color:var(--grey-800);font-size:16px;font-weight:600;text-decoration:none;display:flex;flex-direction:column;justify-content:center;align-items:center}.course-icons-container[_ngcontent-serverApp-c113]   .course-icon[_ngcontent-serverApp-c113]   a[_ngcontent-serverApp-c113]   .course-name[_ngcontent-serverApp-c113]{text-align:center}.course-icon[_ngcontent-serverApp-c113]:hover{background:#fff;border:1px solid var(--orange-500)!important;box-shadow:-1px 9px 18px rgba(21,11,35,.1)}</style><style>#premium-course-intro-right-section-wrapper[_ngcontent-serverApp-c114]{width:100%;height:-webkit-fit-content;height:-moz-fit-content;height:fit-content;background:hsla(0,0%,100%,.7);box-shadow:-1px 9px 18px rgba(21,11,35,.1);border-radius:8px;margin:auto}#premium-course-intro-right-section-wrapper[_ngcontent-serverApp-c114]   #premium-course-offerings-icon[_ngcontent-serverApp-c114]{position:relative;right:11px;top:18px}#premium-course-intro-right-section-wrapper[_ngcontent-serverApp-c114]   #premium-course-offerings[_ngcontent-serverApp-c114]{margin-top:32px}#premium-course-intro-right-section-wrapper[_ngcontent-serverApp-c114]   #premium-course-offerings[_ngcontent-serverApp-c114]   .premium-course-offering[_ngcontent-serverApp-c114]{display:flex}#premium-course-intro-right-section-wrapper[_ngcontent-serverApp-c114]   #premium-course-offerings[_ngcontent-serverApp-c114]   .premium-course-offering[_ngcontent-serverApp-c114]   .premium-course-offering-icon[_ngcontent-serverApp-c114]{height:48px;width:48px}#premium-course-intro-right-section-wrapper[_ngcontent-serverApp-c114]   #premium-course-offerings[_ngcontent-serverApp-c114]   .premium-course-offering[_ngcontent-serverApp-c114]   .premium-course-offering-content[_ngcontent-serverApp-c114]   .premium-course-offering-heading[_ngcontent-serverApp-c114]{font-weight:700;font-size:14px;color:#287cfa}#premium-course-intro-right-section-wrapper[_ngcontent-serverApp-c114]   #premium-course-offerings[_ngcontent-serverApp-c114]   .premium-course-offering[_ngcontent-serverApp-c114]   .premium-course-offering-content[_ngcontent-serverApp-c114]   .premium-course-offering-description[_ngcontent-serverApp-c114]{font-size:12px;color:var(--grey-700)}#pc-entrypoint-offering-heading[_ngcontent-serverApp-c114]{font-size:18px}@media screen and (min-width:750px){#pc-entrypoint-offering-heading[_ngcontent-serverApp-c114]{font-size:24px;padding-top:74px!important}#premium-course-intro-right-section-wrapper[_ngcontent-serverApp-c114]{width:360px;height:-webkit-fit-content;height:-moz-fit-content;height:fit-content}#premium-course-intro-right-section-wrapper[_ngcontent-serverApp-c114]   #premium-course-offerings[_ngcontent-serverApp-c114]{margin-top:32px}#premium-course-intro-right-section-wrapper[_ngcontent-serverApp-c114]   #premium-course-offerings[_ngcontent-serverApp-c114]   .premium-course-offering[_ngcontent-serverApp-c114]   .premium-course-offering-content[_ngcontent-serverApp-c114]   .premium-course-offering-heading[_ngcontent-serverApp-c114]{font-size:16px}}</style><style>.mat-tab-group{display:flex;flex-direction:column}.mat-tab-group.mat-tab-group-inverted-header{flex-direction:column-reverse}.mat-tab-label{height:48px;padding:0 24px;cursor:pointer;box-sizing:border-box;opacity:.6;min-width:160px;text-align:center;display:inline-flex;justify-content:center;align-items:center;white-space:nowrap;position:relative}.mat-tab-label:focus{outline:none}.mat-tab-label:focus:not(.mat-tab-disabled){opacity:1}.cdk-high-contrast-active .mat-tab-label:focus{outline:dotted 2px;outline-offset:-2px}.mat-tab-label.mat-tab-disabled{cursor:default}.cdk-high-contrast-active .mat-tab-label.mat-tab-disabled{opacity:.5}.mat-tab-label .mat-tab-label-content{display:inline-flex;justify-content:center;align-items:center;white-space:nowrap}.cdk-high-contrast-active .mat-tab-label{opacity:1}@media(max-width: 599px){.mat-tab-label{padding:0 12px}}@media(max-width: 959px){.mat-tab-label{padding:0 12px}}.mat-tab-group[mat-stretch-tabs]>.mat-tab-header .mat-tab-label{flex-basis:0;flex-grow:1}.mat-tab-body-wrapper{position:relative;overflow:hidden;display:flex;transition:height 500ms cubic-bezier(0.35, 0, 0.25, 1)}._mat-animation-noopable.mat-tab-body-wrapper{transition:none;animation:none}.mat-tab-body{top:0;left:0;right:0;bottom:0;position:absolute;display:block;overflow:hidden;flex-basis:100%}.mat-tab-body.mat-tab-body-active{position:relative;overflow-x:hidden;overflow-y:auto;z-index:1;flex-grow:1}.mat-tab-group.mat-tab-group-dynamic-height .mat-tab-body.mat-tab-body-active{overflow-y:hidden}\\n</style><style>.mat-tab-header{display:flex;overflow:hidden;position:relative;flex-shrink:0}.mat-tab-header-pagination{-webkit-user-select:none;-moz-user-select:none;-ms-user-select:none;user-select:none;position:relative;display:none;justify-content:center;align-items:center;min-width:32px;cursor:pointer;z-index:2;-webkit-tap-highlight-color:transparent;touch-action:none}.mat-tab-header-pagination-controls-enabled .mat-tab-header-pagination{display:flex}.mat-tab-header-pagination-before,.mat-tab-header-rtl .mat-tab-header-pagination-after{padding-left:4px}.mat-tab-header-pagination-before .mat-tab-header-pagination-chevron,.mat-tab-header-rtl .mat-tab-header-pagination-after .mat-tab-header-pagination-chevron{transform:rotate(-135deg)}.mat-tab-header-rtl .mat-tab-header-pagination-before,.mat-tab-header-pagination-after{padding-right:4px}.mat-tab-header-rtl .mat-tab-header-pagination-before .mat-tab-header-pagination-chevron,.mat-tab-header-pagination-after .mat-tab-header-pagination-chevron{transform:rotate(45deg)}.mat-tab-header-pagination-chevron{border-style:solid;border-width:2px 2px 0 0;content:\"\";height:8px;width:8px}.mat-tab-header-pagination-disabled{box-shadow:none;cursor:default}.mat-tab-list{flex-grow:1;position:relative;transition:transform 500ms cubic-bezier(0.35, 0, 0.25, 1)}.mat-ink-bar{position:absolute;bottom:0;height:2px;transition:500ms cubic-bezier(0.35, 0, 0.25, 1)}._mat-animation-noopable.mat-ink-bar{transition:none;animation:none}.mat-tab-group-inverted-header .mat-ink-bar{bottom:auto;top:0}.cdk-high-contrast-active .mat-ink-bar{outline:solid 2px;height:0}.mat-tab-labels{display:flex}[mat-align-tabs=center]>.mat-tab-header .mat-tab-labels{justify-content:center}[mat-align-tabs=end]>.mat-tab-header .mat-tab-labels{justify-content:flex-end}.mat-tab-label-container{display:flex;flex-grow:1;overflow:hidden;z-index:1}._mat-animation-noopable.mat-tab-list{transition:none;animation:none}.mat-tab-label{height:48px;padding:0 24px;cursor:pointer;box-sizing:border-box;opacity:.6;min-width:160px;text-align:center;display:inline-flex;justify-content:center;align-items:center;white-space:nowrap;position:relative}.mat-tab-label:focus{outline:none}.mat-tab-label:focus:not(.mat-tab-disabled){opacity:1}.cdk-high-contrast-active .mat-tab-label:focus{outline:dotted 2px;outline-offset:-2px}.mat-tab-label.mat-tab-disabled{cursor:default}.cdk-high-contrast-active .mat-tab-label.mat-tab-disabled{opacity:.5}.mat-tab-label .mat-tab-label-content{display:inline-flex;justify-content:center;align-items:center;white-space:nowrap}.cdk-high-contrast-active .mat-tab-label{opacity:1}@media(max-width: 599px){.mat-tab-label{min-width:72px}}\\n</style><style>.mat-tab-body-content{height:100%;overflow:auto}.mat-tab-group-dynamic-height .mat-tab-body-content{overflow:hidden}\\n</style><script src=\"https://apis.google.com/js/platform.js\" type=\"text/javascript\" async=\"\" gapi_processed=\"true\"></script><style>#login_button[_ngcontent-serverApp-c87]{background-image:linear-gradient(62deg,#fbab7e,#f7ce68);border-radius:100px;padding:10px 24px;margin:5px;color:#fff;display:flex;justify-content:center;align-items:center;font-size:13px;letter-spacing:.3px;cursor:pointer;transition:all .3s}#login_button[_ngcontent-serverApp-c87]:hover{box-shadow:0 0 3px 0 rgba(0,0,0,.06)}</style><style>.popular-course-details-container[_ngcontent-serverApp-c129]{font-weight:400}.popular-course-details-container[_ngcontent-serverApp-c129]   .course-level[_ngcontent-serverApp-c129]{background:hsla(0,0%,100%,.8);border-radius:4px;color:#616161;font-size:12px;letter-spacing:1.5px;text-transform:uppercase;display:inline-block;padding:4px;font-weight:600;margin-bottom:3px}.popular-course-details-container[_ngcontent-serverApp-c129]   .course-name[_ngcontent-serverApp-c129]{color:#424242;font-size:20px;font-style:normal;padding-right:25px;letter-spacing:.3px;font-weight:700;line-height:26px}.popular-course-details-container[_ngcontent-serverApp-c129]   .language-section[_ngcontent-serverApp-c129]{display:flex;flex-direction:row;align-items:baseline;padding:17px 0 10px}.popular-course-details-container[_ngcontent-serverApp-c129]   .language-section[_ngcontent-serverApp-c129]   .lang-icon[_ngcontent-serverApp-c129]{filter:grayscale(1);height:15px;padding-top:2px}.popular-course-details-container[_ngcontent-serverApp-c129]   .language-section[_ngcontent-serverApp-c129]   .course-lang-text[_ngcontent-serverApp-c129]{font-style:normal;font-weight:500;font-size:16px;line-height:22px;letter-spacing:.3px;color:#616161;margin-left:5px}.popular-course-details-container[_ngcontent-serverApp-c129]   .language-section[_ngcontent-serverApp-c129]   .language-select-container[_ngcontent-serverApp-c129]{display:flex;flex-direction:column}.popular-course-details-container[_ngcontent-serverApp-c129]   .language-section[_ngcontent-serverApp-c129]   .lang-top-section[_ngcontent-serverApp-c129]{display:flex;flex-direction:row}.popular-course-details-container[_ngcontent-serverApp-c129]   .language-section[_ngcontent-serverApp-c129]   .selected-lang[_ngcontent-serverApp-c129]{font-style:normal;font-weight:700;font-size:17px;line-height:22px;letter-spacing:.3px;color:#616161}.popular-course-details-container[_ngcontent-serverApp-c129]   .language-section[_ngcontent-serverApp-c129]   .change-language[_ngcontent-serverApp-c129]{font-style:normal;font-weight:500;font-size:13px;line-height:16px;letter-spacing:.3px;-webkit-text-decoration-line:underline;text-decoration-line:underline;color:#f6430f;margin:auto auto auto 5px;cursor:pointer}.popular-course-details-container[_ngcontent-serverApp-c129]   .language-section[_ngcontent-serverApp-c129]   .lang-bottom-section[_ngcontent-serverApp-c129]{display:flex;flex-direction:column;background:#fff;box-shadow:-1px 9px 18px rgba(21,11,35,.1);border-bottom-left-radius:3px;border-bottom-right-radius:3px}.popular-course-details-container[_ngcontent-serverApp-c129]   .language-section[_ngcontent-serverApp-c129]   .language-select[_ngcontent-serverApp-c129]{font-style:normal;font-weight:600;font-size:16px;line-height:22px;letter-spacing:.3px;color:#616161;border-bottom:1px solid #ddd;padding:5px;cursor:pointer}.popular-course-details-container[_ngcontent-serverApp-c129]   .language-section[_ngcontent-serverApp-c129]   .language-select[_ngcontent-serverApp-c129]:hover{background:#ddd}.popular-course-details-container[_ngcontent-serverApp-c129]   .language-section[_ngcontent-serverApp-c129]   .language-select[_ngcontent-serverApp-c129]:last-child{border-bottom:none}.popular-course-details-container[_ngcontent-serverApp-c129]     .course-specs-section{padding:5px 0 7px}.popular-course-details-container[_ngcontent-serverApp-c129]     .course-specs-section .course-spec{display:flex;flex-direction:row;overflow:hidden;padding:3px 0}.popular-course-details-container[_ngcontent-serverApp-c129]     .course-specs-section .course-spec-icon{filter:grayscale(1)}.popular-course-details-container[_ngcontent-serverApp-c129]     .course-specs-section .course-spec-text-icon{font-style:normal;font-weight:700;font-size:16px;line-height:22px;letter-spacing:.3px;color:#9e9e9e}.popular-course-details-container[_ngcontent-serverApp-c129]     .course-specs-section .course-spec-title{font-style:normal;font-weight:500;font-size:16px;line-height:22px;letter-spacing:.3px;color:#616161;margin-left:10px}.popular-course-details-container[_ngcontent-serverApp-c129]   .explore-btn-section[_ngcontent-serverApp-c129]{display:flex;flex-direction:row;margin-top:10px}.popular-course-details-container[_ngcontent-serverApp-c129]   .explore-btn-section[_ngcontent-serverApp-c129]   .explore-more-btn[_ngcontent-serverApp-c129], .popular-course-details-container[_ngcontent-serverApp-c129]   .explore-btn-section[_ngcontent-serverApp-c129]   .start-learn-free-btn[_ngcontent-serverApp-c129]{border:1px solid #f6430f;box-sizing:border-box;border-radius:4px;padding:10px;text-transform:capitalize;color:#f6430f;font-weight:700;font-size:17px;display:flex;align-items:center;cursor:pointer}.popular-course-details-container[_ngcontent-serverApp-c129]   .explore-btn-section[_ngcontent-serverApp-c129]   .start-learn-free-btn[_ngcontent-serverApp-c129]{border:none;margin-left:8px;font-weight:700}.popular-course-details-container[_ngcontent-serverApp-c129]   .explore-btn-section[_ngcontent-serverApp-c129]   .arrow-right[_ngcontent-serverApp-c129]{color:#f6430f;vertical-align:middle!important}@-webkit-keyframes placeHolderShimmer{0%{background-position:-468px 0}to{background-position:468px 0}}@keyframes placeHolderShimmer{0%{background-position:-468px 0}to{background-position:468px 0}}.popular-course-details-container[_ngcontent-serverApp-c129]   .linear-background[_ngcontent-serverApp-c129]{-webkit-animation-duration:1s;animation-duration:1s;-webkit-animation-fill-mode:forwards;animation-fill-mode:forwards;-webkit-animation-iteration-count:infinite;animation-iteration-count:infinite;-webkit-animation-name:placeHolderShimmer;animation-name:placeHolderShimmer;-webkit-animation-timing-function:linear;animation-timing-function:linear;background:#f6f7f8;background:linear-gradient(90deg,#eee 8%,#ddd 18%,#eee 33%);background-size:1000px 104px;position:relative;overflow:hidden}.popular-course-details-container[_ngcontent-serverApp-c129]   .course-level-animation[_ngcontent-serverApp-c129]{min-width:80px;min-height:14px}.popular-course-details-container[_ngcontent-serverApp-c129]   .course-name-animation[_ngcontent-serverApp-c129]{height:56px;margin-top:4px}@media screen and (max-width:1024px){.popular-course-details-container[_ngcontent-serverApp-c129]   .course-name[_ngcontent-serverApp-c129]{padding-right:35px}}@media screen and (max-width:920px){.popular-course-details-container[_ngcontent-serverApp-c129]   .explore-btn-section[_ngcontent-serverApp-c129]{display:flex;flex-direction:column-reverse;margin-top:10px;align-items:flex-start}.popular-course-details-container[_ngcontent-serverApp-c129]   .explore-btn-section[_ngcontent-serverApp-c129]   .explore-more-btn[_ngcontent-serverApp-c129], .popular-course-details-container[_ngcontent-serverApp-c129]   .explore-btn-section[_ngcontent-serverApp-c129]   .start-learn-free-btn[_ngcontent-serverApp-c129]{padding:10px 15px;font-size:18px}.popular-course-details-container[_ngcontent-serverApp-c129]   .explore-btn-section[_ngcontent-serverApp-c129]   .start-learn-free-btn[_ngcontent-serverApp-c129]{margin-left:0;padding:10px 0}}@media screen and (max-width:768px){.popular-course-details-container[_ngcontent-serverApp-c129]   .course-name[_ngcontent-serverApp-c129]{padding-right:5px}}@media screen and (max-width:420px){.popular-course-details-container[_ngcontent-serverApp-c129]   .course-name-container[_ngcontent-serverApp-c129]{display:grid;grid-template-columns:80% 17%;justify-content:space-between}.popular-course-details-container[_ngcontent-serverApp-c129]   .course-name-container[_ngcontent-serverApp-c129]   .course-name[_ngcontent-serverApp-c129]{padding-right:5px;font-size:18.5px;font-weight:700}.popular-course-details-container[_ngcontent-serverApp-c129]   .course-name-container[_ngcontent-serverApp-c129]   .down-arrow-container[_ngcontent-serverApp-c129]{display:flex;align-items:center;justify-content:center}.popular-course-details-container[_ngcontent-serverApp-c129]   .course-name-container[_ngcontent-serverApp-c129]   .arrow-up-down[_ngcontent-serverApp-c129]{color:#f6430f;transform:scale(2)}.popular-course-details-container[_ngcontent-serverApp-c129]   .course-level[_ngcontent-serverApp-c129]{margin-top:5px;margin-bottom:0}}</style><style>[_ngcontent-serverApp-c132]:root{--batchMonthTC:#ac933c;--batchMonthBG:rgba(255,187,51,0.5);--batchCardBC:rgba(255,187,51,0.5)}.batches-card-container[_ngcontent-serverApp-c132]{background-color:#fff;border-left:6px solid;border-left-color:var(--batchCardBC,rgba(255,187,51,.5))!important;border-radius:6px;margin-right:20px;box-shadow:-1px 9px 18px rgba(21,11,35,.1);height:100%;display:inline-table}.batches-card-container[_ngcontent-serverApp-c132]   .batch-month-discount-container[_ngcontent-serverApp-c132]{display:flex;justify-content:space-between}.batches-card-container[_ngcontent-serverApp-c132]   .batch-month-discount-container[_ngcontent-serverApp-c132]   .batches-month[_ngcontent-serverApp-c132]{background-color:var(--batchMonthBG,rgba(255,187,51,.5))!important;color:var(--batchMonthTC,#ac933c)!important;border-bottom-right-radius:4px;font-weight:600;font-size:14px;display:inline-block;padding:2px 13px;text-transform:uppercase}.batches-card-container[_ngcontent-serverApp-c132]   .batch-month-discount-container[_ngcontent-serverApp-c132]   .referral-discount[_ngcontent-serverApp-c132]{font-weight:700;font-size:18px;line-height:125%;color:#4fa660;position:relative;top:10px;right:16px}.batches-card-container[_ngcontent-serverApp-c132]   .batches-section[_ngcontent-serverApp-c132]{padding:13px 15px;display:flex;flex-direction:column}.batches-card-container[_ngcontent-serverApp-c132]   .batch-card-container[_ngcontent-serverApp-c132]{display:flex;flex-direction:row;justify-content:space-between;border:1px solid #d0d0d0;box-sizing:border-box;border-radius:6px;margin-top:14px;padding:12px 10px 10px;width:300px;position:relative}.batches-card-container[_ngcontent-serverApp-c132]   .batch-card-container[_ngcontent-serverApp-c132]   .left-section[_ngcontent-serverApp-c132]{line-height:24px}.batches-card-container[_ngcontent-serverApp-c132]   .batch-card-container[_ngcontent-serverApp-c132]   .left-section[_ngcontent-serverApp-c132]   .batch-start-date[_ngcontent-serverApp-c132]{color:#616161;font-size:14px}.batches-card-container[_ngcontent-serverApp-c132]   .batch-card-container[_ngcontent-serverApp-c132]   .left-section[_ngcontent-serverApp-c132]   .batch-fees[_ngcontent-serverApp-c132]{font-style:normal;font-weight:500;font-size:12px;line-height:22px;letter-spacing:-.7px;-webkit-text-decoration-line:line-through;text-decoration-line:line-through;color:#9e9e9e}.batches-card-container[_ngcontent-serverApp-c132]   .batch-card-container[_ngcontent-serverApp-c132]   .left-section[_ngcontent-serverApp-c132]   .batch-final-amount[_ngcontent-serverApp-c132]{color:#424242;font-size:18px;font-weight:700}.batches-card-container[_ngcontent-serverApp-c132]   .batch-card-container[_ngcontent-serverApp-c132]   .right-section[_ngcontent-serverApp-c132]{align-self:center}.batches-card-container[_ngcontent-serverApp-c132]   .batch-card-container[_ngcontent-serverApp-c132]   .right-section[_ngcontent-serverApp-c132]   .enroll-now-btn[_ngcontent-serverApp-c132]{color:#fff;border-radius:4px;background:linear-gradient(92.76deg,#f6430f .78%,#ee9f15 99.43%);padding:7px 8px;text-transform:uppercase;border:none;font-weight:700;font-size:13px;cursor:pointer}.batches-card-container[_ngcontent-serverApp-c132]   .batch-card-container[_ngcontent-serverApp-c132]   .discount-tag[_ngcontent-serverApp-c132]{position:absolute;background:linear-gradient(270deg,#b3d3ff -.14%,#71d4e3 99.86%);border-top-right-radius:4px;border-bottom-right-radius:4px;font-size:12px;font-weight:500;padding:3px 10px 3px 28px;left:-30px;top:-10px;width:-webkit-max-content;width:-moz-max-content;width:max-content;color:#18535e;z-index:3;letter-spacing:.3px}.batches-card-container[_ngcontent-serverApp-c132]   .batch-card-container[_ngcontent-serverApp-c132]   .discount-tag[_ngcontent-serverApp-c132]   span[_ngcontent-serverApp-c132]{font-weight:700}.batches-card-container[_ngcontent-serverApp-c132]   .batch-card-container[_ngcontent-serverApp-c132]   .discount-tag[_ngcontent-serverApp-c132]:before{content:\"\";position:absolute;z-index:3;display:inline-block;box-sizing:content-box;height:0;width:0;transform:translateX(-28px) translateY(-12px);border-left:10px solid transparent;border-bottom:9px solid #5ac0cf}.batches-card-container[_ngcontent-serverApp-c132]   .no-cost-emi-refund-component[_ngcontent-serverApp-c132]{padding:13px 15px!important;width:300px}.batches-card-container[_ngcontent-serverApp-c132]     .no-cost-emi-refund-container{flex-direction:row!important}.batches-card-container[_ngcontent-serverApp-c132]     .no-cost-emi-inner-container{width:auto!important}.batches-card-container[_ngcontent-serverApp-c132]     .no-cost-emi-refund-title-text{font-size:12px!important;line-height:15px!important}.batches-card-container[_ngcontent-serverApp-c132]     .no-cost-emi-refund-icon{height:14px!important}@media screen and (max-width:768px){.batches-card-container[_ngcontent-serverApp-c132]   .batch-card-container[_ngcontent-serverApp-c132]{width:265px}.batches-card-container[_ngcontent-serverApp-c132]   .batch-card-container[_ngcontent-serverApp-c132]   .right-section[_ngcontent-serverApp-c132]   .enroll-now-btn[_ngcontent-serverApp-c132]{padding:10px 8px}.no-cost-emi-refund-component[_ngcontent-serverApp-c132]{width:265px!important}}</style><style>.no-cost-emi-refund-container-horizontal[_ngcontent-serverApp-c130]{display:flex;font-weight:400}.no-cost-emi-refund-container-horizontal[_ngcontent-serverApp-c130]   .no-cost-emi-inner-container[_ngcontent-serverApp-c130]{display:flex;align-items:flex-start;width:50%}.no-cost-emi-refund-container-horizontal[_ngcontent-serverApp-c130]   .no-cost-emi-inner-container[_ngcontent-serverApp-c130]   .no-cost-emi-refund-icon-cont[_ngcontent-serverApp-c130]{height:21px}.no-cost-emi-refund-container-horizontal[_ngcontent-serverApp-c130]   .no-cost-emi-inner-container[_ngcontent-serverApp-c130]   .text-container[_ngcontent-serverApp-c130]{display:flex;flex-direction:column;padding:0 8px}.no-cost-emi-refund-container-horizontal[_ngcontent-serverApp-c130]   .no-cost-emi-inner-container[_ngcontent-serverApp-c130]   .text-container[_ngcontent-serverApp-c130]   .no-cost-emi-refund-title-text[_ngcontent-serverApp-c130]{font-style:normal;font-weight:400;font-size:16px;line-height:22px;color:#424242}.no-cost-emi-refund-container-horizontal[_ngcontent-serverApp-c130]   .no-cost-emi-inner-container[_ngcontent-serverApp-c130]   .text-container[_ngcontent-serverApp-c130]   .no-cost-emi-refund-sub-text[_ngcontent-serverApp-c130]{font-style:normal;font-weight:400;font-size:12px;line-height:15px;color:#616161}</style><style>*[_ngcontent-serverApp-c131]{font-family:Muli,\"sans-serif\"}.discount-applied[_ngcontent-serverApp-c131]{display:flex;align-items:center;position:relative}.discount-applied[_ngcontent-serverApp-c131]   mat-icon[_ngcontent-serverApp-c131]{font-size:13px;height:12px;width:13px;margin-right:2px;color:#4fa660;font-family:Material Icons}.discount-applied[_ngcontent-serverApp-c131]   p[_ngcontent-serverApp-c131]{margin:0;color:#4fa660}  .cdk-overlay-pane .discount-description{font-family:Muli,sans-serif;background:#fff;padding:20px;z-index:100;position:absolute;top:calc(100% + 6px);width:240px;border-radius:6px;box-shadow:0 4px 8px 0 rgba(0,0,0,.2),0 6px 20px 0 rgba(0,0,0,.19);margin-bottom:10px}  .cdk-overlay-pane .discount-description .arrow-up{width:0;height:0;border-left:20px solid transparent;border-right:20px solid transparent;border-bottom:20px solid #fff;position:absolute;top:-10px}  .cdk-overlay-pane .discount-description .heading{font-size:14px;line-height:18px;color:#616161;font-weight:700;margin-bottom:16px}  .cdk-overlay-pane .discount-description .desc-field{font-size:14px;line-height:18px;display:flex;justify-content:space-between}  .cdk-overlay-pane .discount-description .desc-field .left-section{display:flex;flex-direction:column;color:#616161}  .cdk-overlay-pane .discount-description .desc-field .left-section span{font-size:12px;line-height:15px;margin-top:2px}  .cdk-overlay-pane .discount-description .desc-field .right-section{color:#414141;font-weight:600}  .cdk-overlay-pane .discount-description .desc-field .green-color{color:#4fa660}  .cdk-overlay-pane .discount-description .desc-field .final-left-section,   .cdk-overlay-pane .discount-description .desc-field .final-right-section{font-size:16px;font-weight:700;color:#424242;line-height:20px}  .cdk-overlay-pane .discount-description .margin-below{margin-bottom:12px}  .cdk-overlay-pane .discount-description .line{border:none;height:1px;background-color:#d0d0d0}</style><script src=\"https://googleads.g.doubleclick.net/pagead/viewthroughconversion/850405725/?random=1616320158328&amp;cv=9&amp;fst=1616320158328&amp;num=1&amp;guid=ON&amp;resp=GooglemKTybQhCsO&amp;u_h=768&amp;u_w=1366&amp;u_ah=728&amp;u_aw=1366&amp;u_cd=24&amp;u_his=2&amp;u_tz=330&amp;u_java=false&amp;u_nplug=3&amp;u_nmime=4&amp;gtm=2wg3a0&amp;sendb=1&amp;ig=1&amp;frm=0&amp;url=https%3A%2F%2Fwww.codingninjas.com%2F&amp;tiba=Coding%20Ninjas%20%E2%80%93%20Learn%20coding%20online%20at%20India%E2%80%99s%20best%20coding%20institute&amp;hn=www.googleadservices.com&amp;async=1&amp;rfmt=3&amp;fmt=4\"></script><style type=\"text/css\" data-fbcssmodules=\"css:fb.css.basecss:fb.css.dialog css:fb.css.iframewidget\">.fb_hidden{position:absolute;top:-10000px;z-index:10001}.fb_reposition{overflow:hidden;position:relative}.fb_invisible{display:none}.fb_reset{background:none;border:0;border-spacing:0;color:#000;cursor:auto;direction:ltr;font-family:\"lucida grande\", tahoma, verdana, arial, sans-serif;font-size:11px;font-style:normal;font-variant:normal;font-weight:normal;letter-spacing:normal;line-height:1;margin:0;overflow:visible;padding:0;text-align:left;text-decoration:none;text-indent:0;text-shadow:none;text-transform:none;visibility:visible;white-space:normal;word-spacing:normal}.fb_reset>div{overflow:hidden}@keyframes fb_transform{from{opacity:0;transform:scale(.95)}to{opacity:1;transform:scale(1)}}.fb_animate{animation:fb_transform .3s forwards}\\n.fb_dialog{background:rgba(82, 82, 82, .7);position:absolute;top:-10000px;z-index:10001}.fb_dialog_advanced{border-radius:8px;padding:10px}.fb_dialog_content{background:#fff;color:#373737}.fb_dialog_close_icon{background:url(https://static.xx.fbcdn.net/rsrc.php/v3/yq/r/IE9JII6Z1Ys.png) no-repeat scroll 0 0 transparent;cursor:pointer;display:block;height:15px;position:absolute;right:18px;top:17px;width:15px}.fb_dialog_mobile .fb_dialog_close_icon{left:5px;right:auto;top:5px}.fb_dialog_padding{background-color:transparent;position:absolute;width:1px;z-index:-1}.fb_dialog_close_icon:hover{background:url(https://static.xx.fbcdn.net/rsrc.php/v3/yq/r/IE9JII6Z1Ys.png) no-repeat scroll 0 -15px transparent}.fb_dialog_close_icon:active{background:url(https://static.xx.fbcdn.net/rsrc.php/v3/yq/r/IE9JII6Z1Ys.png) no-repeat scroll 0 -30px transparent}.fb_dialog_iframe{line-height:0}.fb_dialog_content .dialog_title{background:#6d84b4;border:1px solid #365899;color:#fff;font-size:14px;font-weight:bold;margin:0}.fb_dialog_content .dialog_title>span{background:url(https://static.xx.fbcdn.net/rsrc.php/v3/yd/r/Cou7n-nqK52.gif) no-repeat 5px 50%;float:left;padding:5px 0 7px 26px}body.fb_hidden{height:100%;left:0;margin:0;overflow:visible;position:absolute;top:-10000px;transform:none;width:100%}.fb_dialog.fb_dialog_mobile.loading{background:url(https://static.xx.fbcdn.net/rsrc.php/v3/ya/r/3rhSv5V8j3o.gif) white no-repeat 50% 50%;min-height:100%;min-width:100%;overflow:hidden;position:absolute;top:0;z-index:10001}.fb_dialog.fb_dialog_mobile.loading.centered{background:none;height:auto;min-height:initial;min-width:initial;width:auto}.fb_dialog.fb_dialog_mobile.loading.centered #fb_dialog_loader_spinner{width:100%}.fb_dialog.fb_dialog_mobile.loading.centered .fb_dialog_content{background:none}.loading.centered #fb_dialog_loader_close{clear:both;color:#fff;display:block;font-size:18px;padding-top:20px}#fb-root #fb_dialog_ipad_overlay{background:rgba(0, 0, 0, .4);bottom:0;left:0;min-height:100%;position:absolute;right:0;top:0;width:100%;z-index:10000}#fb-root #fb_dialog_ipad_overlay.hidden{display:none}.fb_dialog.fb_dialog_mobile.loading iframe{visibility:hidden}.fb_dialog_mobile .fb_dialog_iframe{position:sticky;top:0}.fb_dialog_content .dialog_header{background:linear-gradient(from(#738aba), to(#2c4987));border-bottom:1px solid;border-color:#043b87;box-shadow:white 0 1px 1px -1px inset;color:#fff;font:bold 14px Helvetica, sans-serif;text-overflow:ellipsis;text-shadow:rgba(0, 30, 84, .296875) 0 -1px 0;vertical-align:middle;white-space:nowrap}.fb_dialog_content .dialog_header table{height:43px;width:100%}.fb_dialog_content .dialog_header td.header_left{font-size:12px;padding-left:5px;vertical-align:middle;width:60px}.fb_dialog_content .dialog_header td.header_right{font-size:12px;padding-right:5px;vertical-align:middle;width:60px}.fb_dialog_content .touchable_button{background:linear-gradient(from(#4267B2), to(#2a4887));background-clip:padding-box;border:1px solid #29487d;border-radius:3px;display:inline-block;line-height:18px;margin-top:3px;max-width:85px;padding:4px 12px;position:relative}.fb_dialog_content .dialog_header .touchable_button input{background:none;border:none;color:#fff;font:bold 12px Helvetica, sans-serif;margin:2px -12px;padding:2px 6px 3px 6px;text-shadow:rgba(0, 30, 84, .296875) 0 -1px 0}.fb_dialog_content .dialog_header .header_center{color:#fff;font-size:16px;font-weight:bold;line-height:18px;text-align:center;vertical-align:middle}.fb_dialog_content .dialog_content{background:url(https://static.xx.fbcdn.net/rsrc.php/v3/y9/r/jKEcVPZFk-2.gif) no-repeat 50% 50%;border:1px solid #4a4a4a;border-bottom:0;border-top:0;height:150px}.fb_dialog_content .dialog_footer{background:#f5f6f7;border:1px solid #4a4a4a;border-top-color:#ccc;height:40px}#fb_dialog_loader_close{float:left}.fb_dialog.fb_dialog_mobile .fb_dialog_close_icon{visibility:hidden}#fb_dialog_loader_spinner{animation:rotateSpinner 1.2s linear infinite;background-color:transparent;background-image:url(https://static.xx.fbcdn.net/rsrc.php/v3/yD/r/t-wz8gw1xG1.png);background-position:50% 50%;background-repeat:no-repeat;height:24px;width:24px}@keyframes rotateSpinner{0%{transform:rotate(0deg)}100%{transform:rotate(360deg)}}\\n.fb_iframe_widget{display:inline-block;position:relative}.fb_iframe_widget span{display:inline-block;position:relative;text-align:justify}.fb_iframe_widget iframe{position:absolute}.fb_iframe_widget_fluid_desktop,.fb_iframe_widget_fluid_desktop span,.fb_iframe_widget_fluid_desktop iframe{max-width:100%}.fb_iframe_widget_fluid_desktop iframe{min-width:220px;position:relative}.fb_iframe_widget_lift{z-index:1}.fb_iframe_widget_fluid{display:inline}.fb_iframe_widget_fluid span{width:100%}</style><link rel=\"stylesheet\" href=\"https://code.jivosite.com/css/4d329a1f/widget.css\"></head>\\n\\n  <body>\\n    <!-- Google Tag Manager (noscript) -->\\n    <noscript><iframe\\n        src=\"https://www.googletagmanager.com/ns.html?id=GTM-NSRR859&gtm_auth=2Obs6MKGpBvVcCJFBFgP7A&gtm_preview=env-325&gtm_cookies_win=x\"\\n        height=\"0\"\\n        width=\"0\"\\n        style=\"display: none; visibility: hidden;\"\\n      ></iframe\\n    ></noscript>\\n    <!-- End Google Tag Manager (noscript) -->\\n\\n    <landing-root _nghost-sc126=\"\" ng-version=\"11.1.2\" _nghost-serverapp-c90=\"\"><router-outlet _ngcontent-serverapp-c90=\"\"></router-outlet><landing-app _nghost-serverapp-c96=\"\" class=\"ng-star-inserted\"><networking-progress-bar _ngcontent-serverapp-c96=\"\" _nghost-serverapp-c27=\"\"><!----></networking-progress-bar><landing-header _ngcontent-serverapp-c96=\"\" _nghost-serverapp-c95=\"\"><div _ngcontent-serverapp-c95=\"\" class=\"navbar\"><div _ngcontent-serverapp-c95=\"\" class=\"header-container\"><div _ngcontent-serverapp-c95=\"\" class=\"hamburger-container\"><div _ngcontent-serverapp-c95=\"\" class=\"stick stick-1 close\"></div><div _ngcontent-serverapp-c95=\"\" class=\"stick stick-2 close\"></div><div _ngcontent-serverapp-c95=\"\" class=\"stick stick-3 close\"></div></div><div _ngcontent-serverapp-c95=\"\" class=\"header-content middle-header\"><div _ngcontent-serverapp-c95=\"\" class=\"main-logo\"><a _ngcontent-serverapp-c95=\"\" routerlinkactive=\"active\" class=\"passiveLink active\" href=\"/\"><img _ngcontent-serverapp-c95=\"\" src=\"../../../../assets-landing/images/CNLOGO.svg\" alt=\"Coding Ninjas\"></a></div><ul _ngcontent-serverapp-c95=\"\" class=\"menu-items\"><a _ngcontent-serverapp-c95=\"\" routerlinkactive=\"active\" class=\"passiveLink active\" href=\"/\"><li _ngcontent-serverapp-c95=\"\" class=\"menu-item\">Home</li></a><li _ngcontent-serverapp-c95=\"\" class=\"menu-item dropdown ng-star-inserted\"><a _ngcontent-serverapp-c95=\"\" routerlinkactive=\"active\" class=\"passiveLink\" href=\"/courses\"> Courses <div _ngcontent-serverapp-c95=\"\" class=\"icon\"><img _ngcontent-serverapp-c95=\"\" src=\"https://files.codingninjas.in/angle-down-solid-5030.svg\" alt=\"dropdown-icon\"></div></a><ul _ngcontent-serverapp-c95=\"\" class=\"courses-dropdown-items\"><div _ngcontent-serverapp-c95=\"\" class=\"ng-star-inserted\"><p _ngcontent-serverapp-c95=\"\" class=\"header-section-title\"> Foundation, Algorithmic &amp; Advanced <!----></p><hr _ngcontent-serverapp-c95=\"\" class=\"ng-star-inserted\"><!----><a _ngcontent-serverapp-c95=\"\" routerlinkactive=\"active\" class=\"passiveLink ng-star-inserted\" href=\"/courses/onlline-c-plus-plus-course\"><li _ngcontent-serverapp-c95=\"\"> C++ Foundation with Data Structures </li></a><a _ngcontent-serverapp-c95=\"\" routerlinkactive=\"active\" class=\"passiveLink ng-star-inserted\" href=\"/courses/online-java-course\"><li _ngcontent-serverapp-c95=\"\"> JAVA Foundation with Data Structures </li></a><a _ngcontent-serverapp-c95=\"\" routerlinkactive=\"active\" class=\"passiveLink ng-star-inserted\" href=\"/courses/online-interview-preparation\"><li _ngcontent-serverapp-c95=\"\"> Interview Preparation Course </li></a><a _ngcontent-serverapp-c95=\"\" routerlinkactive=\"active\" class=\"passiveLink ng-star-inserted\" href=\"/courses/online-competitive-programming-course\"><li _ngcontent-serverapp-c95=\"\"> Competitive Programming Course </li></a><a _ngcontent-serverapp-c95=\"\" routerlinkactive=\"active\" class=\"passiveLink ng-star-inserted\" href=\"/courses/online-python-course\"><li _ngcontent-serverapp-c95=\"\"> Python Foundation with Data Structures </li></a><a _ngcontent-serverapp-c95=\"\" routerlinkactive=\"active\" class=\"passiveLink ng-star-inserted\" href=\"/courses/online-aptitude-preparation\"><li _ngcontent-serverapp-c95=\"\"> Aptitude Preparation Course </li></a><!----></div><div _ngcontent-serverapp-c95=\"\" class=\"ng-star-inserted\"><p _ngcontent-serverapp-c95=\"\" class=\"header-section-title\"> Data &amp; Development <!----></p><hr _ngcontent-serverapp-c95=\"\" class=\"ng-star-inserted\"><!----><a _ngcontent-serverapp-c95=\"\" routerlinkactive=\"active\" class=\"passiveLink ng-star-inserted\" href=\"/courses/online-web-dev-with-react\"><li _ngcontent-serverapp-c95=\"\"> Advanced  Front-End Web Development with React </li></a><a _ngcontent-serverapp-c95=\"\" routerlinkactive=\"active\" class=\"passiveLink ng-star-inserted\" href=\"/courses/online-machine-learning-course\"><li _ngcontent-serverapp-c95=\"\"> Machine Learning &amp; Deep Learning Course </li></a><a _ngcontent-serverapp-c95=\"\" routerlinkactive=\"active\" class=\"passiveLink ng-star-inserted\" href=\"/courses/online-full-stack-node-js-web-dev-course\"><li _ngcontent-serverapp-c95=\"\"> Full Stack Web Development </li></a><a _ngcontent-serverapp-c95=\"\" routerlinkactive=\"active\" class=\"passiveLink ng-star-inserted\" href=\"/courses/online-data-science-course\"><li _ngcontent-serverapp-c95=\"\"> Data Science &amp; Machine Learning Complete </li></a><a _ngcontent-serverapp-c95=\"\" routerlinkactive=\"active\" class=\"passiveLink ng-star-inserted\" href=\"/courses/online-android-Development-kotlin\"><li _ngcontent-serverapp-c95=\"\"> Android Development with Kotlin </li></a><!----></div><div _ngcontent-serverapp-c95=\"\" class=\"ng-star-inserted\"><p _ngcontent-serverapp-c95=\"\" class=\"header-section-title\"> Career Track <landing-career-track-cashback-prompt _ngcontent-serverapp-c95=\"\" _nghost-serverapp-c91=\"\" class=\"ng-star-inserted\"><span _ngcontent-serverapp-c91=\"\" class=\"career-track-cashback-prompt\"> 25% Cashback\\n</span></landing-career-track-cashback-prompt><!----></p><hr _ngcontent-serverapp-c95=\"\" class=\"ng-star-inserted\"><!----><a _ngcontent-serverapp-c95=\"\" routerlinkactive=\"active\" class=\"passiveLink ng-star-inserted\" href=\"/courses/online-competitive-programming-track\"><li _ngcontent-serverapp-c95=\"\"> Ninja Competitive Programmer Track </li></a><a _ngcontent-serverapp-c95=\"\" routerlinkactive=\"active\" class=\"passiveLink ng-star-inserted\" href=\"/courses/online-android-development-career-track\"><li _ngcontent-serverapp-c95=\"\"> Ninja Android Developer Career Track  </li></a><a _ngcontent-serverapp-c95=\"\" routerlinkactive=\"active\" class=\"passiveLink ng-star-inserted\" href=\"/courses/ninja-web-developer-career-track-mern-stack\"><li _ngcontent-serverapp-c95=\"\"> Ninja  Web Developer Career Track - NodeJS &amp; ReactJs </li></a><a _ngcontent-serverapp-c95=\"\" routerlinkactive=\"active\" class=\"passiveLink ng-star-inserted\" href=\"/courses/web-developer-career-track\"><li _ngcontent-serverapp-c95=\"\"> Ninja  Web Developer Career Track - NodeJS </li></a><a _ngcontent-serverapp-c95=\"\" routerlinkactive=\"active\" class=\"passiveLink ng-star-inserted\" href=\"/courses/data-Scientist-career-track\"><li _ngcontent-serverapp-c95=\"\"> Ninja Data Scientist Career Track </li></a><a _ngcontent-serverapp-c95=\"\" routerlinkactive=\"active\" class=\"passiveLink ng-star-inserted\" href=\"/courses/machine-learning-engineer-career-track\"><li _ngcontent-serverapp-c95=\"\"> Ninja Machine Learning Engineer Career Track </li></a><!----></div><div _ngcontent-serverapp-c95=\"\" class=\"ng-star-inserted\"><p _ngcontent-serverapp-c95=\"\" class=\"header-section-title premium-course-title\"> Premium Course <!----></p><!----><a _ngcontent-serverapp-c95=\"\" routerlinkactive=\"active\" class=\"passiveLink ng-star-inserted\" href=\"/courses/premium-data-science-course\"><li _ngcontent-serverapp-c95=\"\"> Premium Data Science Course </li></a><a _ngcontent-serverapp-c95=\"\" routerlinkactive=\"active\" class=\"passiveLink ng-star-inserted\" href=\"/courses/premium-full-stack-web-development-course\"><li _ngcontent-serverapp-c95=\"\"> Premium Full Stack Web Development </li></a><a _ngcontent-serverapp-c95=\"\" routerlinkactive=\"active\" class=\"passiveLink ng-star-inserted\" href=\"/courses/premium-competitive-course\"><li _ngcontent-serverapp-c95=\"\"> Premium Competitive Programming Course </li></a><a _ngcontent-serverapp-c95=\"\" routerlinkactive=\"active\" class=\"passiveLink ng-star-inserted\" href=\"/courses/premium-android-app-development-course\"><li _ngcontent-serverapp-c95=\"\"> Premium Android App Development </li></a><a _ngcontent-serverapp-c95=\"\" routerlinkactive=\"active\" class=\"passiveLink ng-star-inserted\" href=\"/courses/premium-machine-learning-course\"><li _ngcontent-serverapp-c95=\"\"> Premium Machine Learning Course </li></a><a _ngcontent-serverapp-c95=\"\" routerlinkactive=\"active\" class=\"passiveLink ng-star-inserted\" href=\"/courses/premium-foundation-course\"><li _ngcontent-serverapp-c95=\"\"> Premium Data structures and Algorithms [C++/Java/Python] </li></a><!----></div><!----><!----></ul></li><!----><li _ngcontent-serverapp-c95=\"\" id=\"codezen-new\" class=\"passiveLink\"><div _ngcontent-serverapp-c95=\"\" id=\"nav-content-container\"><div _ngcontent-serverapp-c95=\"\" id=\"navigator-title\">Practice</div><div _ngcontent-serverapp-c95=\"\" class=\"new-icon-container\"><img _ngcontent-serverapp-c95=\"\" src=\"../../../../assets-landing/images/new-tag.svg\" alt=\"new tag\"></div><div _ngcontent-serverapp-c95=\"\" id=\"dropdown-arrow\"><img _ngcontent-serverapp-c95=\"\" src=\"https://files.codingninjas.in/angle-down-solid-5030.svg\" alt=\"dropdown-icon\"></div></div><div _ngcontent-serverapp-c95=\"\" id=\"codezen-dropdown-container\"><a _ngcontent-serverapp-c95=\"\" href=\"https://www.codingninjas.com/codestudio\" target=\"_blank\" rel=\"noopener\" class=\"dropdown-item-heading-container dropdown-item\"><div _ngcontent-serverapp-c95=\"\" class=\"dropdown-heading-box\"><div _ngcontent-serverapp-c95=\"\" class=\"dropdown-heading-title\">CodeStudio</div><div _ngcontent-serverapp-c95=\"\" class=\"new-icon-container\"><img _ngcontent-serverapp-c95=\"\" src=\"../../../../assets-landing/images/new-tag.svg\" alt=\"new tag\"></div><img _ngcontent-serverapp-c95=\"\" src=\"../../../../assets-landing/images/bottom-border.svg\" alt=\"bottom-border\" class=\"bottom-border\"></div></a><a _ngcontent-serverapp-c95=\"\" href=\"https://www.codingninjas.com/codestudio/problems\" class=\"dropdown-new-subitem-container dropdown-item\"><div _ngcontent-serverapp-c95=\"\" class=\"dropdown-sub-heading-title\">Code Problems</div><div _ngcontent-serverapp-c95=\"\" class=\"new-icon-container\"><img _ngcontent-serverapp-c95=\"\" src=\"../../../../assets-landing/images/new-tag.svg\" alt=\"new tag\"></div></a><a _ngcontent-serverapp-c95=\"\" href=\"https://www.codingninjas.com/codestudio/interview-experiences\" class=\"dropdown-new-subitem-container dropdown-item\"><div _ngcontent-serverapp-c95=\"\" class=\"dropdown-sub-heading-title\"> Interview Experiences </div><div _ngcontent-serverapp-c95=\"\" class=\"new-icon-container\"><img _ngcontent-serverapp-c95=\"\" src=\"../../../../assets-landing/images/new-tag.svg\" alt=\"new tag\"></div></a><a _ngcontent-serverapp-c95=\"\" href=\"https://codezen.codingninjas.com/dashboard\" target=\"_blank\" rel=\"noopener\" class=\"dropdown-item-heading-container dropdown-item\"><div _ngcontent-serverapp-c95=\"\" class=\"dropdown-heading-box\"><div _ngcontent-serverapp-c95=\"\" class=\"dropdown-heading-title\">CodeZen</div><img _ngcontent-serverapp-c95=\"\" src=\"../../../../assets-landing/images/bottom-border.svg\" alt=\"bottom-border\" class=\"bottom-border\"></div></a><a _ngcontent-serverapp-c95=\"\" href=\"https://codezen.codingninjas.com/dashboard\" class=\"dropdown-new-subitem-container dropdown-item\"><div _ngcontent-serverapp-c95=\"\" class=\"dropdown-sub-heading-title\">Dashbboard</div></a><a _ngcontent-serverapp-c95=\"\" href=\"https://codezen.codingninjas.com/problem-of-the-day\" class=\"dropdown-new-subitem-container dropdown-item\"><div _ngcontent-serverapp-c95=\"\" class=\"dropdown-sub-heading-title\">Problem of the day</div></a><a _ngcontent-serverapp-c95=\"\" href=\"https://codezen.codingninjas.com/practice\" class=\"dropdown-new-subitem-container dropdown-item\"><div _ngcontent-serverapp-c95=\"\" class=\"dropdown-sub-heading-title\">Practice</div></a><a _ngcontent-serverapp-c95=\"\" href=\"https://classroom.codingninjas.com/app/tests\" class=\"dropdown-new-subitem-container dropdown-item\"><div _ngcontent-serverapp-c95=\"\" class=\"dropdown-sub-heading-title\">Tests</div></a></div></li><a _ngcontent-serverapp-c95=\"\" routerlinkactive=\"active\" class=\"passiveLink\" href=\"/events\"><li _ngcontent-serverapp-c95=\"\" class=\"menu-item\">Events</li></a><a _ngcontent-serverapp-c95=\"\" href=\"https://campus.codingninjas.com/\" target=\"_blank\" rel=\"noopener\" class=\"passiveLink ng-star-inserted\"><li _ngcontent-serverapp-c95=\"\" class=\"menu-item\">Campus Ninjas</li></a><!----><a _ngcontent-serverapp-c95=\"\" href=\"https://codingninjas.com/blog\" target=\"_blank\" rel=\"noopener\" class=\"passiveLink\"><li _ngcontent-serverapp-c95=\"\" class=\"menu-item\">Blog</li></a><a _ngcontent-serverapp-c95=\"\" href=\"https://careercamp.codingninjas.com\" target=\"_blank\" rel=\"noopener\" class=\"passiveLink\"><li _ngcontent-serverapp-c95=\"\" class=\"menu-item\"><img _ngcontent-serverapp-c95=\"\" src=\"https://files.codingninjas.in/cc-desktop-2-5363.svg\" alt=\"Coding Ninjas Career Camp | Ninjas Pro | Ninjas Scholar\" class=\"nav-image\"></li></a></ul></div><div _ngcontent-serverapp-c95=\"\" class=\"header-content right-content\"><div _ngcontent-serverapp-c95=\"\" style=\"display: flex;\"><div _ngcontent-serverapp-c95=\"\" class=\"classroom_container\"><a _ngcontent-serverapp-c95=\"\" target=\"_blank\" rel=\"noopener\" class=\"passiveLink\" href=\"https://classroom.codingninjas.com/app/classroom\"><div _ngcontent-serverapp-c95=\"\" class=\"classroom_button\"> My Classroom </div></a></div><!----></div><auth-social-login-button _ngcontent-serverapp-c95=\"\" _nghost-serverapp-c87=\"\" class=\"ng-star-inserted\"><div _ngcontent-serverapp-c87=\"\" id=\"login_button\"> Login\\n</div></auth-social-login-button><!----><!----></div></div><!----></div></landing-header><div _ngcontent-serverapp-c96=\"\" id=\"landing-container\"><div _ngcontent-serverapp-c96=\"\" id=\"landing-content\"><router-outlet _ngcontent-serverapp-c96=\"\"></router-outlet><landing-landing-page _nghost-serverapp-c108=\"\" class=\"ng-star-inserted\"><router-outlet _ngcontent-serverapp-c108=\"\"></router-outlet><landing-home _nghost-serverapp-c143=\"\" class=\"ng-star-inserted\"><landing-intro-section _ngcontent-serverapp-c143=\"\" _nghost-serverapp-c124=\"\" class=\"ng-star-inserted\"><div _ngcontent-serverapp-c124=\"\" class=\"inner-section ng-star-inserted\"><div _ngcontent-serverapp-c124=\"\" class=\"left section\"><h1 _ngcontent-serverapp-c124=\"\" class=\"second-heading\">Learn.Code.Upskill.</h1><p _ngcontent-serverapp-c124=\"\" class=\"content\"> NASSCOM Futureskills Ecosystem Partner </p><div _ngcontent-serverapp-c124=\"\" class=\"button-container\"><div _ngcontent-serverapp-c124=\"\" class=\"explore-outer mb-40\"><button _ngcontent-serverapp-c124=\"\">Explore Now</button><div _ngcontent-serverapp-c124=\"\" class=\"explore-inner\"><div _ngcontent-serverapp-c124=\"\" class=\"statement\"> HURRY! Avail the <span _ngcontent-serverapp-c124=\"\">20% Early Bird Discount</span></div></div></div><landing-pc-home-banner _ngcontent-serverapp-c124=\"\" _nghost-serverapp-c120=\"\"><div _ngcontent-serverapp-c120=\"\" id=\"pc-home-banner-container\"><div _ngcontent-serverapp-c120=\"\" id=\"pc-home-banner\" class=\"p-12\"><div _ngcontent-serverapp-c120=\"\" class=\"left-section\"><p _ngcontent-serverapp-c120=\"\" class=\"m-0\">INTRODUCING</p><!----><img _ngcontent-serverapp-c120=\"\" src=\"https://files.codingninjas.in/pc-home-banner-mobile-6508.svg\" alt=\"premium-courses\" class=\"mb-12 ng-star-inserted\"><!----><div _ngcontent-serverapp-c120=\"\" class=\"pc-roadmap-steps ng-star-inserted\"><span _ngcontent-serverapp-c120=\"\">LEARN</span><span _ngcontent-serverapp-c120=\"\">PREPARE</span><span _ngcontent-serverapp-c120=\"\">APPLY FOR JOBS</span><div _ngcontent-serverapp-c120=\"\" class=\"pc-roadmap-caption\"> All in one course </div></div><!----></div><div _ngcontent-serverapp-c120=\"\" class=\"right-section\"><!----><a _ngcontent-serverapp-c120=\"\" id=\"explore-pc-link\"><span _ngcontent-serverapp-c120=\"\" class=\"material-icons\"> arrow_right </span></a></div></div></div></landing-pc-home-banner></div></div><div _ngcontent-serverapp-c124=\"\" class=\"right\"><span _ngcontent-serverapp-c124=\"\" class=\"material-icons play-button\"> play_circle_outline </span></div></div><!----><!----><div _ngcontent-serverapp-c124=\"\" class=\"clickable ng-star-inserted\"><div _ngcontent-serverapp-c124=\"\" class=\"course-banner\"><picture _ngcontent-serverapp-c124=\"\"><source _ngcontent-serverapp-c124=\"\" media=\"(min-width: 720px)\" srcset=\"https://files.codingninjas.in/careercamp-home-desktop-6032.svg\"><img _ngcontent-serverapp-c124=\"\" alt=\"Career Camp Banner\" src=\"https://filestore.community.support.microsoft.com/api/images/72e3f188-79a1-465f-90ca-27262d769841\" class=\" ng-lazyloading\"></picture></div><landing-carousel _ngcontent-serverapp-c124=\"\" _nghost-serverapp-c123=\"\"><div _ngcontent-serverapp-c123=\"\" class=\"scroll-container\"><div _ngcontent-serverapp-c123=\"\" class=\"holder ng-star-inserted\"><landing-slider-testimonial-card _ngcontent-serverapp-c123=\"\" _nghost-serverapp-c121=\"\" class=\"ng-star-inserted\"><div _ngcontent-serverapp-c121=\"\" class=\"card\"><div _ngcontent-serverapp-c121=\"\" class=\"container\"><div _ngcontent-serverapp-c121=\"\" class=\"image-container\"><img _ngcontent-serverapp-c121=\"\" alt=\"Divyansh Chowdhary, Microsoft\" src=\"https://filestore.community.support.microsoft.com/api/images/72e3f188-79a1-465f-90ca-27262d769841\" class=\"ng-lazyloading ng-star-inserted\"><!----></div><div _ngcontent-serverapp-c121=\"\" class=\"text-container\"><span _ngcontent-serverapp-c121=\"\" class=\"name ng-star-inserted\">Divyansh Chowdhary,</span><!----><span _ngcontent-serverapp-c121=\"\" class=\"company ng-star-inserted\">Microsoft</span><!----><div _ngcontent-serverapp-c121=\"\" class=\"review ng-star-inserted\"> I had a great learning experience with Coding Ninjas.The concepts were clearly explained by the teachers, especially the way Ankush teaches, makes it more fun and easy. It provided me a perfect foundation. </div><!----></div></div></div></landing-slider-testimonial-card><!----><!----></div><div _ngcontent-serverapp-c123=\"\" class=\"holder ng-star-inserted\"><landing-slider-testimonial-card _ngcontent-serverapp-c123=\"\" _nghost-serverapp-c121=\"\" class=\"ng-star-inserted\"><div _ngcontent-serverapp-c121=\"\" class=\"card\"><div _ngcontent-serverapp-c121=\"\" class=\"container\"><div _ngcontent-serverapp-c121=\"\" class=\"image-container\"><img _ngcontent-serverapp-c121=\"\" alt=\"Ishan Arora, Atlassian\" src=\"https://filestore.community.support.microsoft.com/api/images/72e3f188-79a1-465f-90ca-27262d769841\" class=\"ng-lazyloading ng-star-inserted\"><!----></div><div _ngcontent-serverapp-c121=\"\" class=\"text-container\"><span _ngcontent-serverapp-c121=\"\" class=\"name ng-star-inserted\">Ishan Arora,</span><!----><span _ngcontent-serverapp-c121=\"\" class=\"company ng-star-inserted\">Atlassian</span><!----><div _ngcontent-serverapp-c121=\"\" class=\"review ng-star-inserted\"> My experience with Coding Ninjas was great, both as a student and as a TA later on. The lectures were quite student friendly and the faculty here is amazing. It really helped me enhance my programming skills. </div><!----></div></div></div></landing-slider-testimonial-card><!----><!----></div><div _ngcontent-serverapp-c123=\"\" class=\"holder ng-star-inserted\"><landing-slider-testimonial-card _ngcontent-serverapp-c123=\"\" _nghost-serverapp-c121=\"\" class=\"ng-star-inserted\"><div _ngcontent-serverapp-c121=\"\" class=\"card\"><div _ngcontent-serverapp-c121=\"\" class=\"container\"><div _ngcontent-serverapp-c121=\"\" class=\"image-container\"><img _ngcontent-serverapp-c121=\"\" alt=\"Anjali Garg, Google\" src=\"https://filestore.community.support.microsoft.com/api/images/72e3f188-79a1-465f-90ca-27262d769841\" class=\"ng-lazyloading ng-star-inserted\"><!----></div><div _ngcontent-serverapp-c121=\"\" class=\"text-container\"><span _ngcontent-serverapp-c121=\"\" class=\"name ng-star-inserted\">Anjali Garg,</span><!----><span _ngcontent-serverapp-c121=\"\" class=\"company ng-star-inserted\">Google</span><!----><div _ngcontent-serverapp-c121=\"\" class=\"review ng-star-inserted\"> The course structure was really good and covered most of the topics which attracted my attention. Each of the faculty member especially Ankush Sir did a great job taking each topic to a great clarity level. </div><!----></div></div></div></landing-slider-testimonial-card><!----><!----></div><div _ngcontent-serverapp-c123=\"\" class=\"holder ng-star-inserted\"><landing-slider-testimonial-card _ngcontent-serverapp-c123=\"\" _nghost-serverapp-c121=\"\" class=\"ng-star-inserted\"><div _ngcontent-serverapp-c121=\"\" class=\"card\"><div _ngcontent-serverapp-c121=\"\" class=\"container\"><div _ngcontent-serverapp-c121=\"\" class=\"image-container\"><img _ngcontent-serverapp-c121=\"\" alt=\"Kashish Chanana, SAP Labs\" src=\"https://filestore.community.support.microsoft.com/api/images/72e3f188-79a1-465f-90ca-27262d769841\" class=\"ng-lazyloading ng-star-inserted\"><!----></div><div _ngcontent-serverapp-c121=\"\" class=\"text-container\"><span _ngcontent-serverapp-c121=\"\" class=\"name ng-star-inserted\">Kashish Chanana,</span><!----><span _ngcontent-serverapp-c121=\"\" class=\"company ng-star-inserted\">SAP Labs</span><!----><div _ngcontent-serverapp-c121=\"\" class=\"review ng-star-inserted\"> Coding Ninjas is a one stop destination for understanding data structures and building algorithms from scratch.With great quality online content and video support, difficult topics are presented in a simplified manner. </div><!----></div></div></div></landing-slider-testimonial-card><!----><!----></div><div _ngcontent-serverapp-c123=\"\" class=\"holder ng-star-inserted\"><landing-slider-testimonial-card _ngcontent-serverapp-c123=\"\" _nghost-serverapp-c121=\"\" class=\"ng-star-inserted\"><div _ngcontent-serverapp-c121=\"\" class=\"card\"><div _ngcontent-serverapp-c121=\"\" class=\"container\"><div _ngcontent-serverapp-c121=\"\" class=\"image-container\"><img _ngcontent-serverapp-c121=\"\" alt=\"Priyansh Verma, Tower Research Capital\" src=\"https://filestore.community.support.microsoft.com/api/images/72e3f188-79a1-465f-90ca-27262d769841\" class=\"ng-lazyloading ng-star-inserted\"><!----></div><div _ngcontent-serverapp-c121=\"\" class=\"text-container\"><span _ngcontent-serverapp-c121=\"\" class=\"name ng-star-inserted\">Priyansh Verma,</span><!----><span _ngcontent-serverapp-c121=\"\" class=\"company ng-star-inserted\">Tower Research Capital</span><!----><div _ngcontent-serverapp-c121=\"\" class=\"review ng-star-inserted\"> My experience with Coding Ninjas was absolutely great! The doubt resolution in classroom programmes is amazing, because the TAs are helpful. The course content is to-the-point and apt. </div><!----></div></div></div></landing-slider-testimonial-card><!----><!----></div><!----></div></landing-carousel></div><!----></landing-intro-section><!----><landing-companies _ngcontent-serverapp-c143=\"\" _nghost-serverapp-c126=\"\" class=\"ng-star-inserted\"><div _ngcontent-serverapp-c126=\"\" class=\"root-container\"><h2 _ngcontent-serverapp-c126=\"\" class=\"top-text\"> Where Our Alumni Work </h2><div _ngcontent-serverapp-c126=\"\" class=\"companies-container\"><landing-company _ngcontent-serverapp-c126=\"\" _nghost-serverapp-c125=\"\" class=\"ng-star-inserted\"><img _ngcontent-serverapp-c125=\"\" alt=\"Google\" src=\"https://filestore.community.support.microsoft.com/api/images/72e3f188-79a1-465f-90ca-27262d769841\" class=\" ng-lazyloading\"></landing-company><landing-company _ngcontent-serverapp-c126=\"\" _nghost-serverapp-c125=\"\" class=\"ng-star-inserted\"><img _ngcontent-serverapp-c125=\"\" alt=\"Amazon\" src=\"https://filestore.community.support.microsoft.com/api/images/72e3f188-79a1-465f-90ca-27262d769841\" class=\" ng-lazyloading\"></landing-company><landing-company _ngcontent-serverapp-c126=\"\" _nghost-serverapp-c125=\"\" class=\"ng-star-inserted\"><img _ngcontent-serverapp-c125=\"\" alt=\"Microsoft\" src=\"https://filestore.community.support.microsoft.com/api/images/72e3f188-79a1-465f-90ca-27262d769841\" class=\" ng-lazyloading\"></landing-company><landing-company _ngcontent-serverapp-c126=\"\" _nghost-serverapp-c125=\"\" class=\"ng-star-inserted\"><img _ngcontent-serverapp-c125=\"\" alt=\"Expedia\" src=\"https://filestore.community.support.microsoft.com/api/images/72e3f188-79a1-465f-90ca-27262d769841\" class=\" ng-lazyloading\"></landing-company><landing-company _ngcontent-serverapp-c126=\"\" _nghost-serverapp-c125=\"\" class=\"ng-star-inserted\"><img _ngcontent-serverapp-c125=\"\" alt=\"Adobe\" src=\"https://filestore.community.support.microsoft.com/api/images/72e3f188-79a1-465f-90ca-27262d769841\" class=\" ng-lazyloading\"></landing-company><landing-company _ngcontent-serverapp-c126=\"\" _nghost-serverapp-c125=\"\" class=\"ng-star-inserted\"><img _ngcontent-serverapp-c125=\"\" alt=\"OYO\" src=\"https://filestore.community.support.microsoft.com/api/images/72e3f188-79a1-465f-90ca-27262d769841\" class=\" ng-lazyloading\"></landing-company><landing-company _ngcontent-serverapp-c126=\"\" _nghost-serverapp-c125=\"\" class=\"ng-star-inserted\"><img _ngcontent-serverapp-c125=\"\" alt=\"Flipkart\" src=\"https://filestore.community.support.microsoft.com/api/images/72e3f188-79a1-465f-90ca-27262d769841\" class=\" ng-lazyloading\"></landing-company><landing-company _ngcontent-serverapp-c126=\"\" _nghost-serverapp-c125=\"\" class=\"ng-star-inserted\"><img _ngcontent-serverapp-c125=\"\" alt=\"Samsung\" src=\"https://filestore.community.support.microsoft.com/api/images/72e3f188-79a1-465f-90ca-27262d769841\" class=\" ng-lazyloading\"></landing-company><landing-company _ngcontent-serverapp-c126=\"\" _nghost-serverapp-c125=\"\" class=\"ng-star-inserted\"><img _ngcontent-serverapp-c125=\"\" alt=\"Morgan Stanley\" src=\"https://filestore.community.support.microsoft.com/api/images/72e3f188-79a1-465f-90ca-27262d769841\" class=\" ng-lazyloading\"></landing-company><landing-company _ngcontent-serverapp-c126=\"\" _nghost-serverapp-c125=\"\" class=\"ng-star-inserted\"><img _ngcontent-serverapp-c125=\"\" alt=\"Walmart\" src=\"https://filestore.community.support.microsoft.com/api/images/72e3f188-79a1-465f-90ca-27262d769841\" class=\" ng-lazyloading\"></landing-company><!----></div></div></landing-companies><!----><div _ngcontent-serverapp-c143=\"\" id=\"main-container\" class=\"ng-star-inserted\"></div><landing-popular-courses _ngcontent-serverapp-c143=\"\" _nghost-serverapp-c133=\"\" class=\"ng-star-inserted\"><section _ngcontent-serverapp-c133=\"\" id=\"popular-courses\"><div _ngcontent-serverapp-c133=\"\" class=\"popular-courses-section-container\"><h2 _ngcontent-serverapp-c133=\"\" class=\"title ng-star-inserted\"> Batches for popular courses launching soon </h2><!----><!----><landing-course-group-selection _ngcontent-serverapp-c133=\"\" _nghost-serverapp-c111=\"\"><!----><div _ngcontent-serverapp-c111=\"\" class=\"course-group-cover ng-star-inserted\"><div _ngcontent-serverapp-c111=\"\" class=\"tab selected ng-star-inserted\"><img _ngcontent-serverapp-c111=\"\" class=\"image ng-lazyloading ng-star-inserted\" alt=\"Foundation, Algorithmic &amp; Advanced\" src=\"https://filestore.community.support.microsoft.com/api/images/72e3f188-79a1-465f-90ca-27262d769841\"><!----><h3 _ngcontent-serverapp-c111=\"\" class=\"name\">Foundation, Algorithmic &amp; Advanced</h3><!----></div><div _ngcontent-serverapp-c111=\"\" class=\"tab not_selected ng-star-inserted\"><img _ngcontent-serverapp-c111=\"\" class=\"image ng-lazyloading ng-star-inserted\" alt=\"Data &amp; Development\" src=\"https://filestore.community.support.microsoft.com/api/images/72e3f188-79a1-465f-90ca-27262d769841\"><!----><h3 _ngcontent-serverapp-c111=\"\" class=\"name\">Data &amp; Development</h3><!----></div><div _ngcontent-serverapp-c111=\"\" class=\"tab not_selected ng-star-inserted\"><img _ngcontent-serverapp-c111=\"\" class=\"image ng-lazyloading ng-star-inserted\" alt=\"Career Track\" src=\"https://filestore.community.support.microsoft.com/api/images/72e3f188-79a1-465f-90ca-27262d769841\"><!----><h3 _ngcontent-serverapp-c111=\"\" class=\"name\">Career Track</h3><landing-career-track-cashback-prompt _ngcontent-serverapp-c111=\"\" _nghost-serverapp-c91=\"\" class=\"ng-star-inserted\"><span _ngcontent-serverapp-c91=\"\" class=\"career-track-cashback-prompt\"> 25% Cashback\\n</span></landing-career-track-cashback-prompt><!----></div><!----></div><!----></landing-course-group-selection><landing-course-group-description _ngcontent-serverapp-c133=\"\" _nghost-serverapp-c127=\"\"><!----><div _ngcontent-serverapp-c127=\"\" class=\"course-group-description ng-star-inserted\">Foundation courses are designed such that&nbsp;<strong>no prerequisites are required.</strong>&nbsp;Data Structures(DS) and Algorithms(algo.) parts build on the basics to give you a&nbsp;<strong>solid programming foundation</strong>.&nbsp;Competitive is where you start to&nbsp;<strong>push the boundaries!</strong></div><!----><!----></landing-course-group-description><landing-course-card-selection _ngcontent-serverapp-c133=\"\" _nghost-serverapp-c128=\"\"><!----><div _ngcontent-serverapp-c128=\"\" class=\"course-card-section-inner ng-star-inserted\"><div _ngcontent-serverapp-c128=\"\" class=\"course-card ng-star-inserted\"><div _ngcontent-serverapp-c128=\"\" class=\"course-card-inner selected\"><img _ngcontent-serverapp-c128=\"\" class=\"course-img\" src=\"https://files.codingninjas.in/0000000000003851.svg\" alt=\"C++ &amp; Data Structures\"><h4 _ngcontent-serverapp-c128=\"\" class=\"course-name my-0\"> C++ &amp; Data Structures </h4></div></div><div _ngcontent-serverapp-c128=\"\" class=\"course-card ng-star-inserted\"><div _ngcontent-serverapp-c128=\"\" class=\"course-card-inner not_selected\"><img _ngcontent-serverapp-c128=\"\" class=\"course-img\" src=\"https://files.codingninjas.in/0000000000003852.svg\" alt=\"Java &amp; Data Structures\"><h4 _ngcontent-serverapp-c128=\"\" class=\"course-name my-0\"> Java &amp; Data Structures </h4></div></div><div _ngcontent-serverapp-c128=\"\" class=\"course-card ng-star-inserted\"><div _ngcontent-serverapp-c128=\"\" class=\"course-card-inner not_selected\"><img _ngcontent-serverapp-c128=\"\" class=\"course-img\" src=\"https://files.codingninjas.in/0000000000003858.svg\" alt=\"Interview Preparation\"><h4 _ngcontent-serverapp-c128=\"\" class=\"course-name my-0\"> Interview Preparation </h4></div></div><div _ngcontent-serverapp-c128=\"\" class=\"course-card ng-star-inserted\"><div _ngcontent-serverapp-c128=\"\" class=\"course-card-inner not_selected\"><img _ngcontent-serverapp-c128=\"\" class=\"course-img\" src=\"https://files.codingninjas.in/0000000000003855.svg\" alt=\"Competitive Programming\"><h4 _ngcontent-serverapp-c128=\"\" class=\"course-name my-0\"> Competitive Programming </h4></div></div><div _ngcontent-serverapp-c128=\"\" class=\"course-card ng-star-inserted\"><div _ngcontent-serverapp-c128=\"\" class=\"course-card-inner not_selected\"><img _ngcontent-serverapp-c128=\"\" class=\"course-img\" src=\"https://files.codingninjas.in/0000000000003835.svg\" alt=\"Python &amp; Data Structures\"><h4 _ngcontent-serverapp-c128=\"\" class=\"course-name my-0\"> Python &amp; Data Structures </h4></div></div><div _ngcontent-serverapp-c128=\"\" class=\"course-card ng-star-inserted\"><div _ngcontent-serverapp-c128=\"\" class=\"course-card-inner not_selected\"><img _ngcontent-serverapp-c128=\"\" class=\"course-img\" src=\"https://files.codingninjas.in/0000000000003853.svg\" alt=\"Aptitude Preparation\"><h4 _ngcontent-serverapp-c128=\"\" class=\"course-name my-0\"> Aptitude Preparation </h4></div></div><!----></div><!----><!----></landing-course-card-selection><div _ngcontent-serverapp-c133=\"\" class=\"popular-course-detail-section\"><landing-popular-course-detail _ngcontent-serverapp-c133=\"\" class=\"popular-course-details ng-tns-c129-16 ng-star-inserted\" _nghost-serverapp-c129=\"\"><!----><div _ngcontent-serverapp-c129=\"\" class=\"popular-course-details-container ng-tns-c129-16 ng-star-inserted\"><div _ngcontent-serverapp-c129=\"\" class=\"course-level ng-tns-c129-16 ng-star-inserted\"> Foundation </div><!----><div _ngcontent-serverapp-c129=\"\" class=\"course-name-container ng-tns-c129-16\"><div _ngcontent-serverapp-c129=\"\" class=\"ng-tns-c129-16 ng-star-inserted\"><h4 _ngcontent-serverapp-c129=\"\" class=\"course-name ng-tns-c129-16\"> Combo: C++ Foundation with DS &amp; Algo </h4></div><!----><!----><!----></div><div _ngcontent-serverapp-c129=\"\" class=\"ng-tns-c129-16 ng-star-inserted\"><!----><div _ngcontent-serverapp-c129=\"\" class=\"language-section ng-tns-c129-16\"><img _ngcontent-serverapp-c129=\"\" src=\"https://files.codingninjas.in/0000000000003844.svg\" alt=\"Course Language Selector\" class=\"lang-icon ng-tns-c129-16\"><div _ngcontent-serverapp-c129=\"\" class=\"course-lang-text ng-tns-c129-16\">Course Language</div><div _ngcontent-serverapp-c129=\"\" style=\"color: #616161;\" class=\"ng-tns-c129-16\">&nbsp;-</div><div _ngcontent-serverapp-c129=\"\" class=\"language-select-container ng-tns-c129-16\"><div _ngcontent-serverapp-c129=\"\" class=\"lang-top-section ng-tns-c129-16\"><div _ngcontent-serverapp-c129=\"\" class=\"selected-lang ng-tns-c129-16\"> &nbsp;Hindi&nbsp; </div><!----></div><!----></div></div><div _ngcontent-serverapp-c129=\"\" class=\"course-specs-section ng-tns-c129-16\"><div class=\"course-spec\"><img src=\"https://files.codingninjas.in/0000000000003839.svg\" alt=\"icon\" class=\"course-spec-icon\"><div class=\"course-spec-title\">4-6 Months</div></div><div class=\"course-spec\"><img src=\"https://files.codingninjas.in/0000000000003840.svg\" alt=\"icon\" class=\"course-spec-icon\"><div class=\"course-spec-title\">TA Support</div></div><div class=\"course-spec\"><div class=\"course-spec-text-icon current_count\">49853</div><div class=\"course-spec-title\">Students Enrolled</div></div><div class=\"course-spec\"><img src=\"https://files.codingninjas.in/0000000000003841.svg\" alt=\"icon\" class=\"course-spec-icon\"><div class=\"course-spec-title\">Certificate of completion</div></div></div><div _ngcontent-serverapp-c129=\"\" class=\"explore-btn-section ng-tns-c129-16\"><div _ngcontent-serverapp-c129=\"\" class=\"explore-more-btn ng-tns-c129-16\"> Explore More <mat-icon _ngcontent-serverapp-c129=\"\" role=\"img\" class=\"mat-icon notranslate arrow-right ng-tns-c129-16 material-icons mat-icon-no-color\" aria-hidden=\"true\" data-mat-icon-type=\"font\">arrow_right</mat-icon></div><div _ngcontent-serverapp-c129=\"\" class=\"start-learn-free-btn ng-tns-c129-16 ng-star-inserted\"> Start Learning for Free <mat-icon _ngcontent-serverapp-c129=\"\" role=\"img\" class=\"mat-icon notranslate arrow-right ng-tns-c129-16 material-icons mat-icon-no-color\" aria-hidden=\"true\" data-mat-icon-type=\"font\">arrow_right</mat-icon></div><!----></div></div><!----></div><!----></landing-popular-course-detail><!----><!----><div _ngcontent-serverapp-c133=\"\" class=\"popular-carousel-container\"><div _ngcontent-serverapp-c133=\"\" class=\"popular-carousel-section\"><div _ngcontent-serverapp-c133=\"\" id=\"left-carousel-btn-container\" class=\"left-scroll-button-container\" style=\"visibility: hidden;\"><div _ngcontent-serverapp-c133=\"\" id=\"left-carousel-btn\" alt=\"left\" class=\"scroll-button left-scroll-button\" style=\"visibility: hidden;\"><mat-icon _ngcontent-serverapp-c133=\"\" role=\"img\" class=\"mat-icon notranslate left-right-arrow material-icons mat-icon-no-color\" aria-hidden=\"true\" data-mat-icon-type=\"font\">keyboard_arrow_left</mat-icon></div></div><div _ngcontent-serverapp-c133=\"\" id=\"batch-selection-carousel\" class=\"popular-course-batch-selection\"><!----><!----><!----><landing-course-batch-card _ngcontent-serverapp-c133=\"\" _nghost-serverapp-c132=\"\" class=\"ng-star-inserted\"><div _ngcontent-serverapp-c132=\"\" class=\"batches-card-container\"><div _ngcontent-serverapp-c132=\"\" class=\"batch-month-discount-container\"><div _ngcontent-serverapp-c132=\"\" class=\"batches-month ng-star-inserted\"> March </div><!----><!----></div><div _ngcontent-serverapp-c132=\"\" class=\"batches-section\"><div _ngcontent-serverapp-c132=\"\" class=\"batch-card-container ng-star-inserted\"><!----><div _ngcontent-serverapp-c132=\"\" class=\"left-section\"><div _ngcontent-serverapp-c132=\"\" class=\"batch-start-date\"> 15 March 2021 </div><!----><div _ngcontent-serverapp-c132=\"\" class=\"batch-final-amount\"> ₹11,563 /- </div><shared-ui-discount-applied-tag _ngcontent-serverapp-c132=\"\" _nghost-serverapp-c131=\"\" class=\"ng-star-inserted\"><div _ngcontent-serverapp-c131=\"\" cdkoverlayorigin=\"\" class=\"discount-applied\"><mat-icon _ngcontent-serverapp-c131=\"\" role=\"img\" class=\"mat-icon notranslate material-icons mat-icon-no-color\" aria-hidden=\"true\" data-mat-icon-type=\"font\">local_offer</mat-icon><p _ngcontent-serverapp-c131=\"\" style=\"font-size: 12px; font-weight: 600;\">Discount Applied</p><!----></div><!----></shared-ui-discount-applied-tag><!----></div><div _ngcontent-serverapp-c132=\"\" class=\"right-section\"><button _ngcontent-serverapp-c132=\"\" class=\"enroll-now-btn\"> Enrol Now </button></div></div><div _ngcontent-serverapp-c132=\"\" class=\"batch-card-container ng-star-inserted\"><div _ngcontent-serverapp-c132=\"\" class=\"discount-tag ng-star-inserted\"><span _ngcontent-serverapp-c132=\"\"> 10% off </span> valid till 21 Mar </div><!----><div _ngcontent-serverapp-c132=\"\" class=\"left-section\"><div _ngcontent-serverapp-c132=\"\" class=\"batch-start-date\"> 22 March 2021 </div><div _ngcontent-serverapp-c132=\"\" class=\"batch-fees ng-star-inserted\"> ₹14,159 /- </div><!----><div _ngcontent-serverapp-c132=\"\" class=\"batch-final-amount\"> ₹10,288 /- </div><shared-ui-discount-applied-tag _ngcontent-serverapp-c132=\"\" _nghost-serverapp-c131=\"\" class=\"ng-star-inserted\"><div _ngcontent-serverapp-c131=\"\" cdkoverlayorigin=\"\" class=\"discount-applied\"><mat-icon _ngcontent-serverapp-c131=\"\" role=\"img\" class=\"mat-icon notranslate material-icons mat-icon-no-color\" aria-hidden=\"true\" data-mat-icon-type=\"font\">local_offer</mat-icon><p _ngcontent-serverapp-c131=\"\" style=\"font-size: 12px; font-weight: 600;\">Discount Applied</p><!----></div><!----></shared-ui-discount-applied-tag><!----></div><div _ngcontent-serverapp-c132=\"\" class=\"right-section\"><button _ngcontent-serverapp-c132=\"\" class=\"enroll-now-btn\"> Enrol Now </button></div></div><div _ngcontent-serverapp-c132=\"\" class=\"batch-card-container ng-star-inserted\"><div _ngcontent-serverapp-c132=\"\" class=\"discount-tag ng-star-inserted\"><span _ngcontent-serverapp-c132=\"\"> 15% off </span> valid till 21 Mar </div><!----><div _ngcontent-serverapp-c132=\"\" class=\"left-section\"><div _ngcontent-serverapp-c132=\"\" class=\"batch-start-date\"> 29 March 2021 </div><div _ngcontent-serverapp-c132=\"\" class=\"batch-fees ng-star-inserted\"> ₹14,159 /- </div><!----><div _ngcontent-serverapp-c132=\"\" class=\"batch-final-amount\"> ₹9,651 /- </div><shared-ui-discount-applied-tag _ngcontent-serverapp-c132=\"\" _nghost-serverapp-c131=\"\" class=\"ng-star-inserted\"><div _ngcontent-serverapp-c131=\"\" cdkoverlayorigin=\"\" class=\"discount-applied\"><mat-icon _ngcontent-serverapp-c131=\"\" role=\"img\" class=\"mat-icon notranslate material-icons mat-icon-no-color\" aria-hidden=\"true\" data-mat-icon-type=\"font\">local_offer</mat-icon><p _ngcontent-serverapp-c131=\"\" style=\"font-size: 12px; font-weight: 600;\">Discount Applied</p><!----></div><!----></shared-ui-discount-applied-tag><!----></div><div _ngcontent-serverapp-c132=\"\" class=\"right-section\"><button _ngcontent-serverapp-c132=\"\" class=\"enroll-now-btn\"> Enrol Now </button></div></div><!----></div><div _ngcontent-serverapp-c132=\"\" class=\"no-cost-emi-refund-component\"><landing-no-cost-emi-refund _ngcontent-serverapp-c132=\"\" _nghost-serverapp-c130=\"\"><div _ngcontent-serverapp-c130=\"\" class=\"no-cost-emi-refund-container-horizontal ng-star-inserted\"><div _ngcontent-serverapp-c130=\"\" class=\"no-cost-emi-inner-container\"><img _ngcontent-serverapp-c130=\"\" src=\"assets-landing/icons/no-cost-emi.svg\" alt=\"No Cost EMI\" class=\"no-cost-emi-refund-icon\"><div _ngcontent-serverapp-c130=\"\" class=\"text-container\"><div _ngcontent-serverapp-c130=\"\" class=\"no-cost-emi-refund-title-text\"> No Cost EMI available </div><!----></div></div><div _ngcontent-serverapp-c130=\"\" class=\"no-cost-emi-inner-container ng-star-inserted\"><img _ngcontent-serverapp-c130=\"\" src=\"assets-landing/icons/calendar.svg\" alt=\"7 Day Refund Policy\" class=\"no-cost-emi-refund-icon\"><div _ngcontent-serverapp-c130=\"\" class=\"text-container\"><div _ngcontent-serverapp-c130=\"\" class=\"no-cost-emi-refund-title-text\"> 7 day refund policy </div><!----></div></div><!----><!----></div><!----></landing-no-cost-emi-refund></div></div></landing-course-batch-card><landing-course-batch-card _ngcontent-serverapp-c133=\"\" _nghost-serverapp-c132=\"\" class=\"ng-star-inserted\"><div _ngcontent-serverapp-c132=\"\" class=\"batches-card-container\"><div _ngcontent-serverapp-c132=\"\" class=\"batch-month-discount-container\"><div _ngcontent-serverapp-c132=\"\" class=\"batches-month ng-star-inserted\"> April </div><!----><!----></div><div _ngcontent-serverapp-c132=\"\" class=\"batches-section\"><div _ngcontent-serverapp-c132=\"\" class=\"batch-card-container ng-star-inserted\"><div _ngcontent-serverapp-c132=\"\" class=\"discount-tag ng-star-inserted\"><span _ngcontent-serverapp-c132=\"\"> 20% off </span> valid till 21 Mar </div><!----><div _ngcontent-serverapp-c132=\"\" class=\"left-section\"><div _ngcontent-serverapp-c132=\"\" class=\"batch-start-date\"> 5 April 2021 </div><div _ngcontent-serverapp-c132=\"\" class=\"batch-fees ng-star-inserted\"> ₹14,159 /- </div><!----><div _ngcontent-serverapp-c132=\"\" class=\"batch-final-amount\"> ₹9,014 /- </div><shared-ui-discount-applied-tag _ngcontent-serverapp-c132=\"\" _nghost-serverapp-c131=\"\" class=\"ng-star-inserted\"><div _ngcontent-serverapp-c131=\"\" cdkoverlayorigin=\"\" class=\"discount-applied\"><mat-icon _ngcontent-serverapp-c131=\"\" role=\"img\" class=\"mat-icon notranslate material-icons mat-icon-no-color\" aria-hidden=\"true\" data-mat-icon-type=\"font\">local_offer</mat-icon><p _ngcontent-serverapp-c131=\"\" style=\"font-size: 12px; font-weight: 600;\">Discount Applied</p><!----></div><!----></shared-ui-discount-applied-tag><!----></div><div _ngcontent-serverapp-c132=\"\" class=\"right-section\"><button _ngcontent-serverapp-c132=\"\" class=\"enroll-now-btn\"> Enrol Now </button></div></div><!----></div><div _ngcontent-serverapp-c132=\"\" class=\"no-cost-emi-refund-component\"><landing-no-cost-emi-refund _ngcontent-serverapp-c132=\"\" _nghost-serverapp-c130=\"\"><div _ngcontent-serverapp-c130=\"\" class=\"no-cost-emi-refund-container-horizontal ng-star-inserted\"><div _ngcontent-serverapp-c130=\"\" class=\"no-cost-emi-inner-container\"><img _ngcontent-serverapp-c130=\"\" src=\"assets-landing/icons/no-cost-emi.svg\" alt=\"No Cost EMI\" class=\"no-cost-emi-refund-icon\"><div _ngcontent-serverapp-c130=\"\" class=\"text-container\"><div _ngcontent-serverapp-c130=\"\" class=\"no-cost-emi-refund-title-text\"> No Cost EMI available </div><!----></div></div><div _ngcontent-serverapp-c130=\"\" class=\"no-cost-emi-inner-container ng-star-inserted\"><img _ngcontent-serverapp-c130=\"\" src=\"assets-landing/icons/calendar.svg\" alt=\"7 Day Refund Policy\" class=\"no-cost-emi-refund-icon\"><div _ngcontent-serverapp-c130=\"\" class=\"text-container\"><div _ngcontent-serverapp-c130=\"\" class=\"no-cost-emi-refund-title-text\"> 7 day refund policy </div><!----></div></div><!----><!----></div><!----></landing-no-cost-emi-refund></div></div></landing-course-batch-card><!----></div><div _ngcontent-serverapp-c133=\"\" id=\"right-carousel-btn-container\" class=\"right-scroll-button-container\" style=\"visibility: visible;\"><div _ngcontent-serverapp-c133=\"\" id=\"right-carousel-btn\" alt=\"right\" class=\"scroll-button right-scroll-button\" style=\"visibility: visible;\"><mat-icon _ngcontent-serverapp-c133=\"\" role=\"img\" class=\"mat-icon notranslate left-right-arrow material-icons mat-icon-no-color\" aria-hidden=\"true\" data-mat-icon-type=\"font\">keyboard_arrow_right</mat-icon></div></div></div><div _ngcontent-serverapp-c133=\"\" class=\"bottom-text\"> *All prices are inclusive of GST </div></div></div></div></section></landing-popular-courses><!----><landing-courses-offered _ngcontent-serverapp-c143=\"\" _nghost-serverapp-c116=\"\" class=\"ng-star-inserted\"><section _ngcontent-serverapp-c116=\"\" class=\"courses-section\"><div _ngcontent-serverapp-c116=\"\" class=\"courses-container\"><h2 _ngcontent-serverapp-c116=\"\" class=\"heading\"><strong _ngcontent-serverapp-c116=\"\"> Individual Courses </strong></h2><div _ngcontent-serverapp-c116=\"\" class=\"course-group-tabs-container\"><landing-course-group-selection _ngcontent-serverapp-c116=\"\" _nghost-serverapp-c111=\"\"><!----><div _ngcontent-serverapp-c111=\"\" class=\"course-group-cover ng-star-inserted\"><div _ngcontent-serverapp-c111=\"\" class=\"tab selected ng-star-inserted\"><img _ngcontent-serverapp-c111=\"\" class=\"image ng-lazyloading ng-star-inserted\" alt=\"Foundation, Algorithmic &amp; Advanced\" src=\"https://filestore.community.support.microsoft.com/api/images/72e3f188-79a1-465f-90ca-27262d769841\"><!----><h3 _ngcontent-serverapp-c111=\"\" class=\"name\">Foundation, Algorithmic &amp; Advanced</h3><!----></div><div _ngcontent-serverapp-c111=\"\" class=\"tab not_selected ng-star-inserted\"><img _ngcontent-serverapp-c111=\"\" class=\"image ng-lazyloading ng-star-inserted\" alt=\"Data &amp; Development\" src=\"https://filestore.community.support.microsoft.com/api/images/72e3f188-79a1-465f-90ca-27262d769841\"><!----><h3 _ngcontent-serverapp-c111=\"\" class=\"name\">Data &amp; Development</h3><!----></div><!----></div><!----></landing-course-group-selection></div><p _ngcontent-serverapp-c116=\"\" class=\"sub-heading ng-star-inserted\">Foundation courses are designed such that&nbsp;<strong>no prerequisites are required.</strong>&nbsp;Data Structures(DS) and Algorithms(algo.) parts build on the basics to give you a&nbsp;<strong>solid programming foundation</strong>.&nbsp;Competitive is where you start to&nbsp;<strong>push the boundaries!</strong></p><div _ngcontent-serverapp-c116=\"\" class=\"courses-container ng-star-inserted\"><landing-mini-course-card _ngcontent-serverapp-c116=\"\" _nghost-serverapp-c112=\"\" class=\"ng-star-inserted\"><div _ngcontent-serverapp-c112=\"\" class=\"course-card\"><img _ngcontent-serverapp-c112=\"\" alt=\"C++ Foundation with Data Structures\" src=\"https://filestore.community.support.microsoft.com/api/images/72e3f188-79a1-465f-90ca-27262d769841\" class=\" ng-lazyloading\"><h4 _ngcontent-serverapp-c112=\"\">C++ &amp; Data Structures</h4></div></landing-mini-course-card><!----><landing-mini-course-card _ngcontent-serverapp-c116=\"\" _nghost-serverapp-c112=\"\" class=\"ng-star-inserted\"><div _ngcontent-serverapp-c112=\"\" class=\"course-card\"><img _ngcontent-serverapp-c112=\"\" alt=\"JAVA Foundation with Data Structures\" src=\"https://filestore.community.support.microsoft.com/api/images/72e3f188-79a1-465f-90ca-27262d769841\" class=\" ng-lazyloading\"><h4 _ngcontent-serverapp-c112=\"\">Java &amp; Data Structures</h4></div></landing-mini-course-card><!----><landing-mini-course-card _ngcontent-serverapp-c116=\"\" _nghost-serverapp-c112=\"\" class=\"ng-star-inserted\"><div _ngcontent-serverapp-c112=\"\" class=\"course-card\"><img _ngcontent-serverapp-c112=\"\" alt=\"Interview Preparation Course\" src=\"https://filestore.community.support.microsoft.com/api/images/72e3f188-79a1-465f-90ca-27262d769841\" class=\" ng-lazyloading\"><h4 _ngcontent-serverapp-c112=\"\">Interview Preparation</h4></div></landing-mini-course-card><!----><landing-mini-course-card _ngcontent-serverapp-c116=\"\" _nghost-serverapp-c112=\"\" class=\"ng-star-inserted\"><div _ngcontent-serverapp-c112=\"\" class=\"course-card\"><img _ngcontent-serverapp-c112=\"\" alt=\"Competitive Programming Course\" src=\"https://filestore.community.support.microsoft.com/api/images/72e3f188-79a1-465f-90ca-27262d769841\" class=\" ng-lazyloading\"><h4 _ngcontent-serverapp-c112=\"\">Competitive Programming</h4></div></landing-mini-course-card><!----><landing-mini-course-card _ngcontent-serverapp-c116=\"\" _nghost-serverapp-c112=\"\" class=\"ng-star-inserted\"><div _ngcontent-serverapp-c112=\"\" class=\"course-card\"><img _ngcontent-serverapp-c112=\"\" alt=\"Python Foundation with Data Structures\" src=\"https://filestore.community.support.microsoft.com/api/images/72e3f188-79a1-465f-90ca-27262d769841\" class=\" ng-lazyloading\"><h4 _ngcontent-serverapp-c112=\"\">Python &amp; Data Structures</h4></div></landing-mini-course-card><!----><landing-mini-course-card _ngcontent-serverapp-c116=\"\" _nghost-serverapp-c112=\"\" class=\"ng-star-inserted\"><div _ngcontent-serverapp-c112=\"\" class=\"course-card\"><img _ngcontent-serverapp-c112=\"\" alt=\"Aptitude Preparation Course\" src=\"https://filestore.community.support.microsoft.com/api/images/72e3f188-79a1-465f-90ca-27262d769841\" class=\" ng-lazyloading\"><h4 _ngcontent-serverapp-c112=\"\">Aptitude Preparation</h4></div></landing-mini-course-card><!----><!----></div><!----><!----><span _ngcontent-serverapp-c116=\"\" class=\"heading ng-star-inserted\"><h3 _ngcontent-serverapp-c116=\"\">Career Track</h3><landing-career-track-cashback-prompt _ngcontent-serverapp-c116=\"\" _nghost-serverapp-c91=\"\" class=\"ng-star-inserted\"><span _ngcontent-serverapp-c91=\"\" class=\"career-track-cashback-prompt\"> 25% Cashback\\n</span></landing-career-track-cashback-prompt><!----></span><p _ngcontent-serverapp-c116=\"\" class=\"sub-heading ng-star-inserted\">These are courses that take you from&nbsp;<strong>zero to hero</strong>. Each track is designed specifically to cater to a particular goal you can choose and&nbsp;<strong>covers everything you need to learn and assumes no prior knowledge.</strong></p><div _ngcontent-serverapp-c116=\"\" class=\"courses-container ng-star-inserted\"><landing-mini-course-card _ngcontent-serverapp-c116=\"\" _nghost-serverapp-c112=\"\" class=\"ng-star-inserted\"><div _ngcontent-serverapp-c112=\"\" class=\"course-card\"><img _ngcontent-serverapp-c112=\"\" alt=\"Ninja Competitive Programmer Track\" src=\"https://filestore.community.support.microsoft.com/api/images/72e3f188-79a1-465f-90ca-27262d769841\" class=\" ng-lazyloading\"><h4 _ngcontent-serverapp-c112=\"\">Competitive Programmer</h4></div></landing-mini-course-card><!----><landing-mini-course-card _ngcontent-serverapp-c116=\"\" _nghost-serverapp-c112=\"\" class=\"ng-star-inserted\"><div _ngcontent-serverapp-c112=\"\" class=\"course-card\"><img _ngcontent-serverapp-c112=\"\" alt=\"Ninja Android Developer Career Track \" src=\"https://filestore.community.support.microsoft.com/api/images/72e3f188-79a1-465f-90ca-27262d769841\" class=\" ng-lazyloading\"><h4 _ngcontent-serverapp-c112=\"\">Android Developer</h4></div></landing-mini-course-card><!----><landing-mini-course-card _ngcontent-serverapp-c116=\"\" _nghost-serverapp-c112=\"\" class=\"ng-star-inserted\"><div _ngcontent-serverapp-c112=\"\" class=\"course-card\"><img _ngcontent-serverapp-c112=\"\" alt=\"Ninja  Web Developer Career Track - NodeJS &amp; ReactJs\" src=\"https://filestore.community.support.microsoft.com/api/images/72e3f188-79a1-465f-90ca-27262d769841\" class=\" ng-lazyloading\"><h4 _ngcontent-serverapp-c112=\"\">Python &amp; Web Dev (MERN)</h4></div></landing-mini-course-card><!----><landing-mini-course-card _ngcontent-serverapp-c116=\"\" _nghost-serverapp-c112=\"\" class=\"ng-star-inserted\"><div _ngcontent-serverapp-c112=\"\" class=\"course-card\"><img _ngcontent-serverapp-c112=\"\" alt=\"Ninja  Web Developer Career Track - NodeJS\" src=\"https://filestore.community.support.microsoft.com/api/images/72e3f188-79a1-465f-90ca-27262d769841\" class=\" ng-lazyloading\"><h4 _ngcontent-serverapp-c112=\"\">C++ &amp; Web Dev (Node.js)</h4></div></landing-mini-course-card><!----><landing-mini-course-card _ngcontent-serverapp-c116=\"\" _nghost-serverapp-c112=\"\" class=\"ng-star-inserted\"><div _ngcontent-serverapp-c112=\"\" class=\"course-card\"><img _ngcontent-serverapp-c112=\"\" alt=\"Ninja Data Scientist Career Track\" src=\"https://filestore.community.support.microsoft.com/api/images/72e3f188-79a1-465f-90ca-27262d769841\" class=\" ng-lazyloading\"><h4 _ngcontent-serverapp-c112=\"\">Data Scientist</h4></div></landing-mini-course-card><!----><landing-mini-course-card _ngcontent-serverapp-c116=\"\" _nghost-serverapp-c112=\"\" class=\"ng-star-inserted\"><div _ngcontent-serverapp-c112=\"\" class=\"course-card\"><img _ngcontent-serverapp-c112=\"\" alt=\"Ninja Machine Learning Engineer Career Track\" src=\"https://filestore.community.support.microsoft.com/api/images/72e3f188-79a1-465f-90ca-27262d769841\" class=\" ng-lazyloading\"><h4 _ngcontent-serverapp-c112=\"\">Machine Learning</h4></div></landing-mini-course-card><!----><!----></div><!----><!----><!----><!----><!----><!----></div></section><!----><!----><landing-premium-course-home-entrypoint _ngcontent-serverapp-c116=\"\" _nghost-serverapp-c115=\"\" class=\"ng-star-inserted\"><section _ngcontent-serverapp-c115=\"\" id=\"pc-home-entrypoint\" class=\"zen-grid-section\"><div _ngcontent-serverapp-c115=\"\" class=\"zen-grid-content\"><div _ngcontent-serverapp-c115=\"\" id=\"pc-entrypoint-header\" class=\"mb-24\"><div _ngcontent-serverapp-c115=\"\" id=\"introduction-heading\" class=\"mb-8\">INTRODUCING</div><div _ngcontent-serverapp-c115=\"\"><span _ngcontent-serverapp-c115=\"\" class=\"px-8 mr-8\">Premium</span><span _ngcontent-serverapp-c115=\"\">Courses</span></div></div><div _ngcontent-serverapp-c115=\"\" id=\"pc-entrypoint-content\"><div _ngcontent-serverapp-c115=\"\" class=\"left-section\"><div _ngcontent-serverapp-c115=\"\" class=\"specialization-course mb-24\"><div _ngcontent-serverapp-c115=\"\" class=\"pc-entrypoint-content-caption mb-16\"> Begin the journey for your dream job with these specializations </div><landing-premium-course-icon _ngcontent-serverapp-c115=\"\" _nghost-serverapp-c113=\"\"><div _ngcontent-serverapp-c113=\"\" class=\"course-icons-container\"><div _ngcontent-serverapp-c113=\"\" class=\"course-icon border-radius-6 ng-star-inserted\"><!----><a _ngcontent-serverapp-c113=\"\" class=\"p-8 pt-24\"><div _ngcontent-serverapp-c113=\"\" class=\"course-icon-img mb-8\"><img _ngcontent-serverapp-c113=\"\" alt=\"course-icon\" class=\"h-60 w-60 ng-lazyloading\" src=\"https://filestore.community.support.microsoft.com/api/images/72e3f188-79a1-465f-90ca-27262d769841\"></div><div _ngcontent-serverapp-c113=\"\" class=\"course-name\"> Android App Development </div></a></div><div _ngcontent-serverapp-c113=\"\" class=\"course-icon border-radius-6 ng-star-inserted\"><!----><a _ngcontent-serverapp-c113=\"\" class=\"p-8 pt-24\"><div _ngcontent-serverapp-c113=\"\" class=\"course-icon-img mb-8\"><img _ngcontent-serverapp-c113=\"\" alt=\"course-icon\" class=\"h-60 w-60 ng-lazyloading\" src=\"https://filestore.community.support.microsoft.com/api/images/72e3f188-79a1-465f-90ca-27262d769841\"></div><div _ngcontent-serverapp-c113=\"\" class=\"course-name\"> Machine Learning </div></a></div><div _ngcontent-serverapp-c113=\"\" class=\"course-icon border-radius-6 ng-star-inserted\"><!----><a _ngcontent-serverapp-c113=\"\" class=\"p-8 pt-24\"><div _ngcontent-serverapp-c113=\"\" class=\"course-icon-img mb-8\"><img _ngcontent-serverapp-c113=\"\" alt=\"course-icon\" class=\"h-60 w-60 ng-lazyloading\" src=\"https://filestore.community.support.microsoft.com/api/images/72e3f188-79a1-465f-90ca-27262d769841\"></div><div _ngcontent-serverapp-c113=\"\" class=\"course-name\"> Data Science </div></a></div><div _ngcontent-serverapp-c113=\"\" class=\"course-icon border-radius-6 ng-star-inserted\"><!----><a _ngcontent-serverapp-c113=\"\" class=\"p-8 pt-24\"><div _ngcontent-serverapp-c113=\"\" class=\"course-icon-img mb-8\"><img _ngcontent-serverapp-c113=\"\" alt=\"course-icon\" class=\"h-60 w-60 ng-lazyloading\" src=\"https://filestore.community.support.microsoft.com/api/images/72e3f188-79a1-465f-90ca-27262d769841\"></div><div _ngcontent-serverapp-c113=\"\" class=\"course-name\"> Full Stack Web Development </div></a></div><!----></div></landing-premium-course-icon></div><div _ngcontent-serverapp-c115=\"\" class=\"foundation-course\"><div _ngcontent-serverapp-c115=\"\" class=\"pc-entrypoint-content-caption mb-16\"> Start strong. Build a strong foundation with these courses </div><landing-premium-course-icon _ngcontent-serverapp-c115=\"\" _nghost-serverapp-c113=\"\"><div _ngcontent-serverapp-c113=\"\" class=\"course-icons-container\"><div _ngcontent-serverapp-c113=\"\" class=\"course-icon border-radius-6 ng-star-inserted\"><!----><a _ngcontent-serverapp-c113=\"\" class=\"p-8 pt-24\"><div _ngcontent-serverapp-c113=\"\" class=\"course-icon-img mb-8\"><img _ngcontent-serverapp-c113=\"\" alt=\"course-icon\" class=\"h-60 w-60 ng-lazyloading\" src=\"https://filestore.community.support.microsoft.com/api/images/72e3f188-79a1-465f-90ca-27262d769841\"></div><div _ngcontent-serverapp-c113=\"\" class=\"course-name\"> Data Structures and Algorithms </div></a></div><div _ngcontent-serverapp-c113=\"\" class=\"course-icon border-radius-6 ng-star-inserted\"><!----><a _ngcontent-serverapp-c113=\"\" class=\"p-8 pt-24\"><div _ngcontent-serverapp-c113=\"\" class=\"course-icon-img mb-8\"><img _ngcontent-serverapp-c113=\"\" alt=\"course-icon\" class=\"h-60 w-60 ng-lazyloading\" src=\"https://filestore.community.support.microsoft.com/api/images/72e3f188-79a1-465f-90ca-27262d769841\"></div><div _ngcontent-serverapp-c113=\"\" class=\"course-name\"> Competitive Programming </div></a></div><!----></div></landing-premium-course-icon></div></div><div _ngcontent-serverapp-c115=\"\" class=\"right-section ml-62 mb-36\"><landing-premium-course-offerings _ngcontent-serverapp-c115=\"\" _nghost-serverapp-c114=\"\"><div _ngcontent-serverapp-c114=\"\" id=\"premium-course-intro-right-section-wrapper\"><h2 _ngcontent-serverapp-c114=\"\" id=\"pc-entrypoint-offering-heading\" class=\"px-24 pt-24 ng-star-inserted\"> Exclusive offering included with all premium course </h2><!----><div _ngcontent-serverapp-c114=\"\" id=\"premium-course-offerings\" class=\"pb-32\"><div _ngcontent-serverapp-c114=\"\" class=\"premium-course-offering mb-20 px-24 ng-star-inserted\"><div _ngcontent-serverapp-c114=\"\" class=\"premium-course-offering-icon\"><img _ngcontent-serverapp-c114=\"\" alt=\"offering-icon\" class=\"h-48 w-48 ng-lazyloading\" src=\"https://filestore.community.support.microsoft.com/api/images/72e3f188-79a1-465f-90ca-27262d769841\"></div><div _ngcontent-serverapp-c114=\"\" class=\"premium-course-offering-content ml-8\"><div _ngcontent-serverapp-c114=\"\" class=\"premium-course-offering-heading\"> Best Job Opportunities </div><div _ngcontent-serverapp-c114=\"\" class=\"premium-course-offering-description\"> Get access to curated jobs via Coding Ninjas Placement cell and Premium Hirist account </div></div></div><div _ngcontent-serverapp-c114=\"\" class=\"premium-course-offering mb-20 px-24 ng-star-inserted\"><div _ngcontent-serverapp-c114=\"\" class=\"premium-course-offering-icon\"><img _ngcontent-serverapp-c114=\"\" alt=\"offering-icon\" class=\"h-48 w-48 ng-lazyloading\" src=\"https://filestore.community.support.microsoft.com/api/images/72e3f188-79a1-465f-90ca-27262d769841\"></div><div _ngcontent-serverapp-c114=\"\" class=\"premium-course-offering-content ml-8\"><div _ngcontent-serverapp-c114=\"\" class=\"premium-course-offering-heading\"> 1:1 Mock interviews </div><div _ngcontent-serverapp-c114=\"\" class=\"premium-course-offering-description\"> With Industry Experts from Top Product Companies like Amazon, Adobe focusing on tech and interpersonal skills </div></div></div><div _ngcontent-serverapp-c114=\"\" class=\"premium-course-offering mb-20 px-24 ng-star-inserted\"><div _ngcontent-serverapp-c114=\"\" class=\"premium-course-offering-icon\"><img _ngcontent-serverapp-c114=\"\" alt=\"offering-icon\" class=\"h-48 w-48 ng-lazyloading\" src=\"https://filestore.community.support.microsoft.com/api/images/72e3f188-79a1-465f-90ca-27262d769841\"></div><div _ngcontent-serverapp-c114=\"\" class=\"premium-course-offering-content ml-8\"><div _ngcontent-serverapp-c114=\"\" class=\"premium-course-offering-heading\"> 1:1 Career counselling sessions </div><div _ngcontent-serverapp-c114=\"\" class=\"premium-course-offering-description\"> Focusing on Career Guidance, Projects, creating a good profile and much more </div></div></div><div _ngcontent-serverapp-c114=\"\" class=\"premium-course-offering mb-20 px-24 ng-star-inserted\"><div _ngcontent-serverapp-c114=\"\" class=\"premium-course-offering-icon\"><img _ngcontent-serverapp-c114=\"\" alt=\"offering-icon\" class=\"h-48 w-48 ng-lazyloading\" src=\"https://filestore.community.support.microsoft.com/api/images/72e3f188-79a1-465f-90ca-27262d769841\"></div><div _ngcontent-serverapp-c114=\"\" class=\"premium-course-offering-content ml-8\"><div _ngcontent-serverapp-c114=\"\" class=\"premium-course-offering-heading\"> Profile building workshops </div><div _ngcontent-serverapp-c114=\"\" class=\"premium-course-offering-description\"> Helping you build a great resume and a great profile on GitHub, Codechef, LinkedIn and more </div></div></div><!----></div></div><!----></landing-premium-course-offerings></div></div></div></section></landing-premium-course-home-entrypoint><!----><!----><!----><!----></landing-courses-offered><landing-features _ngcontent-serverapp-c143=\"\" _nghost-serverapp-c135=\"\" class=\"ng-star-inserted\"><div _ngcontent-serverapp-c135=\"\" class=\"section-container\"><h2 _ngcontent-serverapp-c135=\"\" class=\"section-title\"> Exclusive Features </h2><div _ngcontent-serverapp-c135=\"\" class=\"section-contents features-container-vertical\"><!----><landing-feature-card _ngcontent-serverapp-c135=\"\" class=\"responsive-item ng-star-inserted\" _nghost-serverapp-c134=\"\"><!----><div _ngcontent-serverapp-c134=\"\" class=\"ng-star-inserted\"><div _ngcontent-serverapp-c134=\"\" class=\"feature-vertical\"><div _ngcontent-serverapp-c134=\"\" class=\"feature-image ng-star-inserted\"><img _ngcontent-serverapp-c134=\"\" alt=\"Exceptional Faculty\" src=\"https://filestore.community.support.microsoft.com/api/images/72e3f188-79a1-465f-90ca-27262d769841\" class=\" ng-lazyloading\"></div><!----><h3 _ngcontent-serverapp-c134=\"\" class=\"feature-title ng-star-inserted\"> Exceptional Faculty </h3><!----><div _ngcontent-serverapp-c134=\"\" class=\"feature-description ng-star-inserted\"> Our faculty is from the best institutes around the world such as IITD, Stanford and more. They also have work experience in tech giants like Amazon, Facebook, Adobe which makes them exceptional. </div><!----></div></div><!----></landing-feature-card><landing-feature-card _ngcontent-serverapp-c135=\"\" class=\"responsive-item ng-star-inserted\" _nghost-serverapp-c134=\"\"><!----><div _ngcontent-serverapp-c134=\"\" class=\"ng-star-inserted\"><div _ngcontent-serverapp-c134=\"\" class=\"feature-vertical\"><div _ngcontent-serverapp-c134=\"\" class=\"feature-image ng-star-inserted\"><img _ngcontent-serverapp-c134=\"\" alt=\"Mentor Support\" src=\"https://filestore.community.support.microsoft.com/api/images/72e3f188-79a1-465f-90ca-27262d769841\" class=\" ng-lazyloading\"></div><!----><h3 _ngcontent-serverapp-c134=\"\" class=\"feature-title ng-star-inserted\"> Mentor Support </h3><!----><div _ngcontent-serverapp-c134=\"\" class=\"feature-description ng-star-inserted\"> An incredible mentor support is provided where 1 teaching assistant is assigned to 10 students. The TA’s are top performers alumni dedicated to support and clear doubts at any point of time. </div><!----></div></div><!----></landing-feature-card><landing-feature-card _ngcontent-serverapp-c135=\"\" class=\"responsive-item ng-star-inserted\" _nghost-serverapp-c134=\"\"><!----><div _ngcontent-serverapp-c134=\"\" class=\"ng-star-inserted\"><div _ngcontent-serverapp-c134=\"\" class=\"feature-vertical\"><div _ngcontent-serverapp-c134=\"\" class=\"feature-image ng-star-inserted\"><img _ngcontent-serverapp-c134=\"\" alt=\"CodeZen\" src=\"https://filestore.community.support.microsoft.com/api/images/72e3f188-79a1-465f-90ca-27262d769841\" class=\" ng-lazyloading\"></div><!----><h3 _ngcontent-serverapp-c134=\"\" class=\"feature-title ng-star-inserted\"> CodeZen </h3><!----><div _ngcontent-serverapp-c134=\"\" class=\"feature-description ng-star-inserted\"> An online platform using proprietary technologies, social elements and well-crafted content curriculum delivering the finest learning experience. </div><!----></div></div><!----></landing-feature-card><landing-feature-card _ngcontent-serverapp-c135=\"\" class=\"responsive-item ng-star-inserted\" _nghost-serverapp-c134=\"\"><!----><div _ngcontent-serverapp-c134=\"\" class=\"ng-star-inserted\"><div _ngcontent-serverapp-c134=\"\" class=\"feature-vertical\"><div _ngcontent-serverapp-c134=\"\" class=\"feature-image ng-star-inserted\"><img _ngcontent-serverapp-c134=\"\" alt=\"Premium CodingNinjas account on Hirist\" src=\"https://filestore.community.support.microsoft.com/api/images/72e3f188-79a1-465f-90ca-27262d769841\" class=\" ng-lazyloading\"></div><!----><h3 _ngcontent-serverapp-c134=\"\" class=\"feature-title ng-star-inserted\"> Premium CodingNinjas account on Hirist </h3><!----><div _ngcontent-serverapp-c134=\"\" class=\"feature-description ng-star-inserted\"> We do not make false promise to provide 100 % placements rather help students based on their performance. Our students are placed at bigwigs like Adobe, Amazon, Microsoft and many more. </div><!----></div></div><!----></landing-feature-card><landing-feature-card _ngcontent-serverapp-c135=\"\" class=\"responsive-item ng-star-inserted\" _nghost-serverapp-c134=\"\"><!----><div _ngcontent-serverapp-c134=\"\" class=\"ng-star-inserted\"><div _ngcontent-serverapp-c134=\"\" class=\"feature-vertical\"><div _ngcontent-serverapp-c134=\"\" class=\"feature-image ng-star-inserted\"><img _ngcontent-serverapp-c134=\"\" alt=\"Course curriculum\" src=\"https://filestore.community.support.microsoft.com/api/images/72e3f188-79a1-465f-90ca-27262d769841\" class=\" ng-lazyloading\"></div><!----><h3 _ngcontent-serverapp-c134=\"\" class=\"feature-title ng-star-inserted\"> Course curriculum </h3><!----><div _ngcontent-serverapp-c134=\"\" class=\"feature-description ng-star-inserted\"> Industry leading curriculum designed by expert developers turned educators who have invested time to create quality content infused with unique teaching methodology. </div><!----></div></div><!----></landing-feature-card><landing-feature-card _ngcontent-serverapp-c135=\"\" class=\"responsive-item ng-star-inserted\" _nghost-serverapp-c134=\"\"><!----><div _ngcontent-serverapp-c134=\"\" class=\"ng-star-inserted\"><div _ngcontent-serverapp-c134=\"\" class=\"feature-vertical\"><div _ngcontent-serverapp-c134=\"\" class=\"feature-image ng-star-inserted\"><img _ngcontent-serverapp-c134=\"\" alt=\"Get Secured with Certificate\" src=\"https://filestore.community.support.microsoft.com/api/images/72e3f188-79a1-465f-90ca-27262d769841\" class=\" ng-lazyloading\"></div><!----><h3 _ngcontent-serverapp-c134=\"\" class=\"feature-title ng-star-inserted\"> Get Secured with Certificate </h3><!----><div _ngcontent-serverapp-c134=\"\" class=\"feature-description ng-star-inserted\"> The student will be provided the certificates which are signed by instructors and have our logo on it which will help them secure their career and increase job prospects with certificates signed by us. </div><!----></div></div><!----></landing-feature-card><!----><!----><!----></div></div></landing-features><!----><landing-introduction-video _ngcontent-serverapp-c143=\"\" _nghost-serverapp-c136=\"\" class=\"ng-star-inserted\"><div _ngcontent-serverapp-c136=\"\" class=\"outer-container section-container\"><h2 _ngcontent-serverapp-c136=\"\" class=\"title ng-star-inserted\"> Journey from a Beginner to PRO! </h2><!----><div _ngcontent-serverapp-c136=\"\" class=\"sub-heading ng-star-inserted\"> A sneak peek of how students become a Pro through industry-vetted online courses by the expert industry mentors </div><!----><div _ngcontent-serverapp-c136=\"\" class=\"video-responsive-container ng-star-inserted\"><shared-ui-youtube-lite _ngcontent-serverapp-c136=\"\"><div class=\"youtube-player-lite\" id=\"youtube-Kdhje-gdviw\" style=\"width: 641px; height: 340.5px;\"><div data-id=\"Kdhje-gdviw\" width=\"641\" height=\"340.5\"><img src=\"//i.ytimg.com/vi/Kdhje-gdviw/hqdefault.jpg\" alt=\"About Us\" width=\"641\" height=\"340.5\"><span class=\"play material-icons\">play_circle_outline</span></div></div></shared-ui-youtube-lite></div><!----></div></landing-introduction-video><!----><landing-testimonials _ngcontent-serverapp-c143=\"\" _nghost-serverapp-c138=\"\" class=\"ng-star-inserted\"><div _ngcontent-serverapp-c138=\"\" class=\"testimonials-section section-container\"><h2 _ngcontent-serverapp-c138=\"\" class=\"section-title ng-star-inserted\"> What our students say about us </h2><!----><div _ngcontent-serverapp-c138=\"\" class=\"sub-heading ng-star-inserted\"> Here, they share their Coding Ninjas reviews and journeys to victory. </div><!----><shared-ui-youtube-lite _ngcontent-serverapp-c138=\"\" class=\"ng-star-inserted\"><div class=\"youtube-player-lite\" id=\"youtube-oSJnEH2Cb4k\" style=\"width: 641px; height: 320px;\"><div data-id=\"oSJnEH2Cb4k\" width=\"641\" height=\"320\"><img src=\"//i.ytimg.com/vi/oSJnEH2Cb4k/hqdefault.jpg\" alt=\"Student Testimonials\" width=\"641\" height=\"320\"><span class=\"play material-icons\">play_circle_outline</span></div></div></shared-ui-youtube-lite><!----><div _ngcontent-serverapp-c138=\"\" class=\"section-contents\"><landing-testimonial-card _ngcontent-serverapp-c138=\"\" class=\"responsive-item ng-star-inserted\" _nghost-serverapp-c137=\"\"><div _ngcontent-serverapp-c137=\"\" class=\"testimonial\"><div _ngcontent-serverapp-c137=\"\" class=\"header\"><div _ngcontent-serverapp-c137=\"\"><div _ngcontent-serverapp-c137=\"\" class=\"name ng-star-inserted\"> Sukriti Macker </div><!----><div _ngcontent-serverapp-c137=\"\" class=\"job-position ng-star-inserted\"> Maharaja Agrasen Institute of Technology </div><!----></div><div _ngcontent-serverapp-c137=\"\" class=\"profile ng-star-inserted\"><img _ngcontent-serverapp-c137=\"\" alt=\"Sukriti Macker, Maharaja Agrasen Institute of Technology\" src=\"https://filestore.community.support.microsoft.com/api/images/72e3f188-79a1-465f-90ca-27262d769841\" class=\" ng-lazyloading\"></div><!----></div><div _ngcontent-serverapp-c137=\"\" class=\"content ng-star-inserted\"> I was a beginner in Coding, but the way the Nidhi Ma’am taught was exceptionally good!The concepts she taught were so easy to understand. Mentors will help you out at every step! Whatever course you may take, you will be offered the best faculty. I would recommend you to join and it will be the best experience. I guarantee! </div><!----></div></landing-testimonial-card><landing-testimonial-card _ngcontent-serverapp-c138=\"\" class=\"responsive-item ng-star-inserted\" _nghost-serverapp-c137=\"\"><div _ngcontent-serverapp-c137=\"\" class=\"testimonial\"><div _ngcontent-serverapp-c137=\"\" class=\"header\"><div _ngcontent-serverapp-c137=\"\"><div _ngcontent-serverapp-c137=\"\" class=\"name ng-star-inserted\"> Shivam Aggarwal </div><!----><div _ngcontent-serverapp-c137=\"\" class=\"job-position ng-star-inserted\"> Amazon </div><!----></div><div _ngcontent-serverapp-c137=\"\" class=\"profile ng-star-inserted\"><img _ngcontent-serverapp-c137=\"\" alt=\"Shivam Aggarwal, Amazon\" src=\"https://filestore.community.support.microsoft.com/api/images/72e3f188-79a1-465f-90ca-27262d769841\" class=\" ng-lazyloading\"></div><!----></div><div _ngcontent-serverapp-c137=\"\" class=\"content ng-star-inserted\"> I did three courses and was extremely happy with all the courses. They provide quality content, the support from faculty and mentors was amazing. It helped me a lot in preparing for my interview rounds for the different companies. Finally I would say that it is a place to develop attitude and skills required at the industry level. </div><!----></div></landing-testimonial-card><landing-testimonial-card _ngcontent-serverapp-c138=\"\" class=\"responsive-item ng-star-inserted\" _nghost-serverapp-c137=\"\"><div _ngcontent-serverapp-c137=\"\" class=\"testimonial\"><div _ngcontent-serverapp-c137=\"\" class=\"header\"><div _ngcontent-serverapp-c137=\"\"><div _ngcontent-serverapp-c137=\"\" class=\"name ng-star-inserted\"> Yash Kapoor </div><!----><div _ngcontent-serverapp-c137=\"\" class=\"job-position ng-star-inserted\"> Microsoft | Thapar Institute of Engineering &amp; Technology </div><!----></div><div _ngcontent-serverapp-c137=\"\" class=\"profile ng-star-inserted\"><img _ngcontent-serverapp-c137=\"\" alt=\"Yash Kapoor, Microsoft | Thapar Institute of Engineering &amp; Technology\" src=\"https://filestore.community.support.microsoft.com/api/images/72e3f188-79a1-465f-90ca-27262d769841\" class=\" ng-lazyloading\"></div><!----></div><div _ngcontent-serverapp-c137=\"\" class=\"content ng-star-inserted\"> Coding Ninjas plays a big role in my success. It is a place which teaches you to find a solution rather than knowing a solution and builds up a great foundation for any student. Being an electronics engineer, it was difficult to enter the field of programming and my life would have been completely different without Coding Ninjas support. </div><!----></div></landing-testimonial-card><landing-testimonial-card _ngcontent-serverapp-c138=\"\" class=\"responsive-item ng-star-inserted\" _nghost-serverapp-c137=\"\"><div _ngcontent-serverapp-c137=\"\" class=\"testimonial\"><div _ngcontent-serverapp-c137=\"\" class=\"header\"><div _ngcontent-serverapp-c137=\"\"><div _ngcontent-serverapp-c137=\"\" class=\"name ng-star-inserted\"> Tanya Singh </div><!----><div _ngcontent-serverapp-c137=\"\" class=\"job-position ng-star-inserted\"> Expedia </div><!----></div><div _ngcontent-serverapp-c137=\"\" class=\"profile ng-star-inserted\"><img _ngcontent-serverapp-c137=\"\" alt=\"Tanya Singh, Expedia\" src=\"https://filestore.community.support.microsoft.com/api/images/72e3f188-79a1-465f-90ca-27262d769841\" class=\" ng-lazyloading\"></div><!----></div><div _ngcontent-serverapp-c137=\"\" class=\"content ng-star-inserted\"> I joined the course after knowing that it has helped a lot of students in securing good jobs. The course content was really good that I took another course which helped me grab an internship at Amazon and then finally got placed at Expedia. I feel everyone must join as it a place which will the elevate level of your skills, no matter how high it is! </div><!----></div></landing-testimonial-card><landing-testimonial-card _ngcontent-serverapp-c138=\"\" class=\"responsive-item ng-star-inserted\" _nghost-serverapp-c137=\"\"><div _ngcontent-serverapp-c137=\"\" class=\"testimonial\"><div _ngcontent-serverapp-c137=\"\" class=\"header\"><div _ngcontent-serverapp-c137=\"\"><div _ngcontent-serverapp-c137=\"\" class=\"name ng-star-inserted\"> Sahil Harwani </div><!----><div _ngcontent-serverapp-c137=\"\" class=\"job-position ng-star-inserted\"> Delhi Technological University </div><!----></div><div _ngcontent-serverapp-c137=\"\" class=\"profile ng-star-inserted\"><img _ngcontent-serverapp-c137=\"\" alt=\"Sahil Harwani, Delhi Technological University\" src=\"https://filestore.community.support.microsoft.com/api/images/72e3f188-79a1-465f-90ca-27262d769841\" class=\" ng-lazyloading\"></div><!----></div><div _ngcontent-serverapp-c137=\"\" class=\"content ng-star-inserted\"> Amazing experience at Coding Ninjas. It was an extremely good atmosphere for learning as the teachers are very nice and sweet and most importantly they teach very well. The CodeZen is also very well built, they have hint videos and other online doubt resolution system as well. I will be enrolling myself in another course very soon. </div><!----></div></landing-testimonial-card><landing-testimonial-card _ngcontent-serverapp-c138=\"\" class=\"responsive-item ng-star-inserted\" _nghost-serverapp-c137=\"\"><div _ngcontent-serverapp-c137=\"\" class=\"testimonial\"><div _ngcontent-serverapp-c137=\"\" class=\"header\"><div _ngcontent-serverapp-c137=\"\"><div _ngcontent-serverapp-c137=\"\" class=\"name ng-star-inserted\"> Ishtmeet Singh </div><!----><div _ngcontent-serverapp-c137=\"\" class=\"job-position ng-star-inserted\"> Indian Institute of Technology Banaras </div><!----></div><div _ngcontent-serverapp-c137=\"\" class=\"profile ng-star-inserted\"><img _ngcontent-serverapp-c137=\"\" alt=\"Ishtmeet Singh, Indian Institute of Technology Banaras\" src=\"https://filestore.community.support.microsoft.com/api/images/72e3f188-79a1-465f-90ca-27262d769841\" class=\" ng-lazyloading\"></div><!----></div><div _ngcontent-serverapp-c137=\"\" class=\"content ng-star-inserted\"> I enrolled into C++ with data structures at Coding Ninjas. I got admission into IIT but as a fresher I didn\\'t know anything about programming. After joining here, I have learnt a lot. Coding Ninjas\\' practice modules and lectures are perfect and cover easy as well as hard coding questions. I am now capable to think logics for the questions easily. </div><!----></div></landing-testimonial-card><!----></div></div></landing-testimonials><!----><landing-team-panel _ngcontent-serverapp-c143=\"\" _nghost-serverapp-c140=\"\" class=\"ng-star-inserted\"><div _ngcontent-serverapp-c140=\"\" class=\"alt-container section-container\"><h2 _ngcontent-serverapp-c140=\"\" class=\"section-title\"> In-house Ninjas </h2><div _ngcontent-serverapp-c140=\"\" class=\"section-contents\"><landing-team-member _ngcontent-serverapp-c140=\"\" _nghost-serverapp-c139=\"\" class=\"ng-star-inserted\"><div _ngcontent-serverapp-c139=\"\" id=\"team-card-container\"><div _ngcontent-serverapp-c139=\"\" class=\"member\"><img _ngcontent-serverapp-c139=\"\" alt=\"Ankush Singla, Co-Founder &amp; Instructor\" src=\"https://filestore.community.support.microsoft.com/api/images/72e3f188-79a1-465f-90ca-27262d769841\" class=\" ng-lazyloading\"><div _ngcontent-serverapp-c139=\"\" class=\"name-container\"><h3 _ngcontent-serverapp-c139=\"\" class=\"name ng-star-inserted\">Ankush Singla</h3><!----><div _ngcontent-serverapp-c139=\"\" class=\"job-desc ng-star-inserted\"> Co-Founder &amp; Instructor </div><!----></div></div><div _ngcontent-serverapp-c139=\"\" class=\"member-focus\"><div _ngcontent-serverapp-c139=\"\" class=\"details-container\"><div _ngcontent-serverapp-c139=\"\"><div _ngcontent-serverapp-c139=\"\" class=\"name ng-star-inserted\">Ankush Singla</div><!----><div _ngcontent-serverapp-c139=\"\" class=\"job-desc ng-star-inserted\"> Co-Founder &amp; Instructor </div><!----></div><img _ngcontent-serverapp-c139=\"\" alt=\"Ankush Singla, Co-Founder &amp; Instructor\" class=\" ng-lazyloading\"></div><div _ngcontent-serverapp-c139=\"\" class=\"desc\"> He holds a Bachelor’s degree in Computer Science from India’s most premier institute - IIT Delhi and a Master’s degree in Computer Science from Stanford University. He is a coding enthusiast and has worked with bigwigs like Amazon and Facebook in the past. </div></div></div></landing-team-member><landing-team-member _ngcontent-serverapp-c140=\"\" _nghost-serverapp-c139=\"\" class=\"ng-star-inserted\"><div _ngcontent-serverapp-c139=\"\" id=\"team-card-container\"><div _ngcontent-serverapp-c139=\"\" class=\"member\"><img _ngcontent-serverapp-c139=\"\" alt=\"Nidhi Agarwal, Founding Member &amp; Instructor\" src=\"https://filestore.community.support.microsoft.com/api/images/72e3f188-79a1-465f-90ca-27262d769841\" class=\" ng-lazyloading\"><div _ngcontent-serverapp-c139=\"\" class=\"name-container\"><h3 _ngcontent-serverapp-c139=\"\" class=\"name ng-star-inserted\">Nidhi Agarwal</h3><!----><div _ngcontent-serverapp-c139=\"\" class=\"job-desc ng-star-inserted\"> Founding Member &amp; Instructor </div><!----></div></div><div _ngcontent-serverapp-c139=\"\" class=\"member-focus\"><div _ngcontent-serverapp-c139=\"\" class=\"details-container\"><div _ngcontent-serverapp-c139=\"\"><div _ngcontent-serverapp-c139=\"\" class=\"name ng-star-inserted\">Nidhi Agarwal</div><!----><div _ngcontent-serverapp-c139=\"\" class=\"job-desc ng-star-inserted\"> Founding Member &amp; Instructor </div><!----></div><img _ngcontent-serverapp-c139=\"\" alt=\"Nidhi Agarwal, Founding Member &amp; Instructor\" class=\" ng-lazyloading\"></div><div _ngcontent-serverapp-c139=\"\" class=\"desc\"> She holds a Master’s degree in Technology from IIIT Delhi and has a great command on programming concepts. She has taught the Fundamentals and Data Structures in Java &amp; C++ for four years now. </div></div></div></landing-team-member><landing-team-member _ngcontent-serverapp-c140=\"\" _nghost-serverapp-c139=\"\" class=\"ng-star-inserted\"><div _ngcontent-serverapp-c139=\"\" id=\"team-card-container\"><div _ngcontent-serverapp-c139=\"\" class=\"member\"><img _ngcontent-serverapp-c139=\"\" alt=\"Manisha Khattar, Founding Member &amp; Instructor\" src=\"https://filestore.community.support.microsoft.com/api/images/72e3f188-79a1-465f-90ca-27262d769841\" class=\" ng-lazyloading\"><div _ngcontent-serverapp-c139=\"\" class=\"name-container\"><h3 _ngcontent-serverapp-c139=\"\" class=\"name ng-star-inserted\">Manisha Khattar</h3><!----><div _ngcontent-serverapp-c139=\"\" class=\"job-desc ng-star-inserted\"> Founding Member &amp; Instructor </div><!----></div></div><div _ngcontent-serverapp-c139=\"\" class=\"member-focus\"><div _ngcontent-serverapp-c139=\"\" class=\"details-container\"><div _ngcontent-serverapp-c139=\"\"><div _ngcontent-serverapp-c139=\"\" class=\"name ng-star-inserted\">Manisha Khattar</div><!----><div _ngcontent-serverapp-c139=\"\" class=\"job-desc ng-star-inserted\"> Founding Member &amp; Instructor </div><!----></div><img _ngcontent-serverapp-c139=\"\" alt=\"Manisha Khattar, Founding Member &amp; Instructor\" class=\" ng-lazyloading\"></div><div _ngcontent-serverapp-c139=\"\" class=\"desc\"> She holds a Master’s from IIIT Delhi and has more than four years of teaching experience in advanced level C++, Java and Android courses. Her data analytics research work has been published in prestigious conferences. </div></div></div></landing-team-member><landing-team-member _ngcontent-serverapp-c140=\"\" _nghost-serverapp-c139=\"\" class=\"ng-star-inserted\"><div _ngcontent-serverapp-c139=\"\" id=\"team-card-container\"><div _ngcontent-serverapp-c139=\"\" class=\"member\"><img _ngcontent-serverapp-c139=\"\" alt=\"Arpan Garg, Founding Member &amp; Instructor\" src=\"https://filestore.community.support.microsoft.com/api/images/72e3f188-79a1-465f-90ca-27262d769841\" class=\" ng-lazyloading\"><div _ngcontent-serverapp-c139=\"\" class=\"name-container\"><h3 _ngcontent-serverapp-c139=\"\" class=\"name ng-star-inserted\">Arpan Garg</h3><!----><div _ngcontent-serverapp-c139=\"\" class=\"job-desc ng-star-inserted\"> Founding Member &amp; Instructor </div><!----></div></div><div _ngcontent-serverapp-c139=\"\" class=\"member-focus\"><div _ngcontent-serverapp-c139=\"\" class=\"details-container\"><div _ngcontent-serverapp-c139=\"\"><div _ngcontent-serverapp-c139=\"\" class=\"name ng-star-inserted\">Arpan Garg</div><!----><div _ngcontent-serverapp-c139=\"\" class=\"job-desc ng-star-inserted\"> Founding Member &amp; Instructor </div><!----></div><img _ngcontent-serverapp-c139=\"\" alt=\"Arpan Garg, Founding Member &amp; Instructor\" class=\" ng-lazyloading\"></div><div _ngcontent-serverapp-c139=\"\" class=\"desc\"> He holds a Bachelor’s degree in Electronics &amp; Communications and is well versed with Angular, React.JS and Python. He has been the organiser of Google Developers Group and has previously worked with companies like Spice Labs, Creative India and Kalpavriksh Healthcare. </div></div></div></landing-team-member><landing-team-member _ngcontent-serverapp-c140=\"\" _nghost-serverapp-c139=\"\" class=\"ng-star-inserted\"><div _ngcontent-serverapp-c139=\"\" id=\"team-card-container\"><div _ngcontent-serverapp-c139=\"\" class=\"member\"><img _ngcontent-serverapp-c139=\"\" alt=\"Parikh Jain, Software Developer &amp; Instructor\" src=\"https://filestore.community.support.microsoft.com/api/images/72e3f188-79a1-465f-90ca-27262d769841\" class=\" ng-lazyloading\"><div _ngcontent-serverapp-c139=\"\" class=\"name-container\"><h3 _ngcontent-serverapp-c139=\"\" class=\"name ng-star-inserted\">Parikh Jain</h3><!----><div _ngcontent-serverapp-c139=\"\" class=\"job-desc ng-star-inserted\"> Software Developer &amp; Instructor </div><!----></div></div><div _ngcontent-serverapp-c139=\"\" class=\"member-focus\"><div _ngcontent-serverapp-c139=\"\" class=\"details-container\"><div _ngcontent-serverapp-c139=\"\"><div _ngcontent-serverapp-c139=\"\" class=\"name ng-star-inserted\">Parikh Jain</div><!----><div _ngcontent-serverapp-c139=\"\" class=\"job-desc ng-star-inserted\"> Software Developer &amp; Instructor </div><!----></div><img _ngcontent-serverapp-c139=\"\" alt=\"Parikh Jain, Software Developer &amp; Instructor\" class=\" ng-lazyloading\"></div><div _ngcontent-serverapp-c139=\"\" class=\"desc\"> He holds a Bachelor’s degree in Computer Science from Delhi Technological University (DTU) and is currently working with Coding Ninjas. He has contributed majorly towards CodeZen, an online platform of Coding Ninjas for students to learn and take attempts in coding. </div></div></div></landing-team-member><landing-team-member _ngcontent-serverapp-c140=\"\" _nghost-serverapp-c139=\"\" class=\"ng-star-inserted\"><div _ngcontent-serverapp-c139=\"\" id=\"team-card-container\"><div _ngcontent-serverapp-c139=\"\" class=\"member\"><img _ngcontent-serverapp-c139=\"\" alt=\"Rohan Arora, Tech Lead &amp; Instructor\" src=\"https://filestore.community.support.microsoft.com/api/images/72e3f188-79a1-465f-90ca-27262d769841\" class=\" ng-lazyloading\"><div _ngcontent-serverapp-c139=\"\" class=\"name-container\"><h3 _ngcontent-serverapp-c139=\"\" class=\"name ng-star-inserted\">Rohan Arora</h3><!----><div _ngcontent-serverapp-c139=\"\" class=\"job-desc ng-star-inserted\"> Tech Lead &amp; Instructor </div><!----></div></div><div _ngcontent-serverapp-c139=\"\" class=\"member-focus\"><div _ngcontent-serverapp-c139=\"\" class=\"details-container\"><div _ngcontent-serverapp-c139=\"\"><div _ngcontent-serverapp-c139=\"\" class=\"name ng-star-inserted\">Rohan Arora</div><!----><div _ngcontent-serverapp-c139=\"\" class=\"job-desc ng-star-inserted\"> Tech Lead &amp; Instructor </div><!----></div><img _ngcontent-serverapp-c139=\"\" alt=\"Rohan Arora, Tech Lead &amp; Instructor\" class=\" ng-lazyloading\"></div><div _ngcontent-serverapp-c139=\"\" class=\"desc\"> He holds a Bachelor\\'s degree in Computer Science and is a die-hard programmer. He has been an organiser at the Google Developers Group (GDG) and has vast experience in android development and has published many android apps on Google Play Store. </div></div></div></landing-team-member><landing-team-member _ngcontent-serverapp-c140=\"\" _nghost-serverapp-c139=\"\" class=\"ng-star-inserted\"><div _ngcontent-serverapp-c139=\"\" id=\"team-card-container\"><div _ngcontent-serverapp-c139=\"\" class=\"member\"><img _ngcontent-serverapp-c139=\"\" alt=\"Navdeep Sandhu, Content Developer &amp; Instructor\" src=\"https://filestore.community.support.microsoft.com/api/images/72e3f188-79a1-465f-90ca-27262d769841\" class=\" ng-lazyloading\"><div _ngcontent-serverapp-c139=\"\" class=\"name-container\"><h3 _ngcontent-serverapp-c139=\"\" class=\"name ng-star-inserted\">Navdeep Sandhu</h3><!----><div _ngcontent-serverapp-c139=\"\" class=\"job-desc ng-star-inserted\"> Content Developer &amp; Instructor </div><!----></div></div><div _ngcontent-serverapp-c139=\"\" class=\"member-focus\"><div _ngcontent-serverapp-c139=\"\" class=\"details-container\"><div _ngcontent-serverapp-c139=\"\"><div _ngcontent-serverapp-c139=\"\" class=\"name ng-star-inserted\">Navdeep Sandhu</div><!----><div _ngcontent-serverapp-c139=\"\" class=\"job-desc ng-star-inserted\"> Content Developer &amp; Instructor </div><!----></div><img _ngcontent-serverapp-c139=\"\" alt=\"Navdeep Sandhu, Content Developer &amp; Instructor\" class=\" ng-lazyloading\"></div><div _ngcontent-serverapp-c139=\"\" class=\"desc\"> He holds a Bachelor\\'s degree in Information &amp; Technology and has previously worked with firms like Ernst and Young. He works tirelessly for the student support and works closely with teaching assistants to enhance the student experience during their formative classes. </div></div></div></landing-team-member><landing-team-member _ngcontent-serverapp-c140=\"\" _nghost-serverapp-c139=\"\" class=\"ng-star-inserted\"><div _ngcontent-serverapp-c139=\"\" id=\"team-card-container\"><div _ngcontent-serverapp-c139=\"\" class=\"member\"><img _ngcontent-serverapp-c139=\"\" alt=\"Aakash Tyagi, Software Engineer &amp; Instructor\" src=\"https://filestore.community.support.microsoft.com/api/images/72e3f188-79a1-465f-90ca-27262d769841\" class=\" ng-lazyloading\"><div _ngcontent-serverapp-c139=\"\" class=\"name-container\"><h3 _ngcontent-serverapp-c139=\"\" class=\"name ng-star-inserted\">Aakash Tyagi</h3><!----><div _ngcontent-serverapp-c139=\"\" class=\"job-desc ng-star-inserted\"> Software Engineer &amp; Instructor </div><!----></div></div><div _ngcontent-serverapp-c139=\"\" class=\"member-focus\"><div _ngcontent-serverapp-c139=\"\" class=\"details-container\"><div _ngcontent-serverapp-c139=\"\"><div _ngcontent-serverapp-c139=\"\" class=\"name ng-star-inserted\">Aakash Tyagi</div><!----><div _ngcontent-serverapp-c139=\"\" class=\"job-desc ng-star-inserted\"> Software Engineer &amp; Instructor </div><!----></div><img _ngcontent-serverapp-c139=\"\" alt=\"Aakash Tyagi, Software Engineer &amp; Instructor\" class=\" ng-lazyloading\"></div><div _ngcontent-serverapp-c139=\"\" class=\"desc\"> He is expert in JavaScript &amp; React(Front-end) and worked on Open source projects like Firebug and Zulip. He served as a GCI(Google Code-In) Mentor with Zulip. In his previous roles in the past 3 years as a Software Engineer and worked for companies like Goibibo-MMT. </div></div></div></landing-team-member><!----></div></div></landing-team-panel><!----><shared-ui-pr-section _ngcontent-serverapp-c143=\"\" class=\"ng-star-inserted\"><div class=\"landing\"><div class=\"ng-star-inserted\"><h2>Coding Ninjas in the Newss</h2><mat-tab-group id=\"mat-tab-container\" class=\"mat-tab-group mat-primary\"><mat-tab-header class=\"mat-tab-header mat-tab-header-pagination-controls-enabled\"><div aria-hidden=\"true\" mat-ripple=\"\" class=\"mat-ripple mat-tab-header-pagination mat-tab-header-pagination-before mat-elevation-z4 mat-tab-header-pagination-disabled\"><div class=\"mat-tab-header-pagination-chevron\"></div></div><div class=\"mat-tab-label-container\"><div role=\"tablist\" class=\"mat-tab-list\" style=\"transform: translateX(0px);\"><div class=\"mat-tab-labels\"><div role=\"tab\" mattablabelwrapper=\"\" mat-ripple=\"\" cdkmonitorelementfocus=\"\" class=\"mat-ripple mat-tab-label mat-focus-indicator mat-tab-label-active ng-star-inserted\" id=\"mat-tab-label-0-0\" tabindex=\"0\" aria-posinset=\"1\" aria-setsize=\"16\" aria-controls=\"mat-tab-content-0-0\" aria-selected=\"true\" aria-disabled=\"false\"><div class=\"mat-tab-label-content\"><div class=\"component ng-star-inserted\"><a target=\"_blank\" rel=\"noopener\" href=\"http://www.businessworld.in/article/Platforms-to-watch-out-for-if-you-want-to-learn-coding/06-10-2020-328480/\"><img alt=\"Platforms To Watch Out For If You Want To Learn Coding\" src=\"https://filestore.community.support.microsoft.com/api/images/72e3f188-79a1-465f-90ca-27262d769841\" class=\" ng-lazyloading\"><br><div class=\"component-text\"> Platforms To Watch Out For If You Want To Learn Coding </div></a></div><!----><!----><!----></div></div><div role=\"tab\" mattablabelwrapper=\"\" mat-ripple=\"\" cdkmonitorelementfocus=\"\" class=\"mat-ripple mat-tab-label mat-focus-indicator ng-star-inserted\" id=\"mat-tab-label-0-1\" tabindex=\"-1\" aria-posinset=\"2\" aria-setsize=\"16\" aria-controls=\"mat-tab-content-0-1\" aria-selected=\"false\" aria-disabled=\"false\"><div class=\"mat-tab-label-content\"><div class=\"component ng-star-inserted\"><a target=\"_blank\" rel=\"noopener\" href=\"https://www.indiatoday.in/education-today/featurephilia/story/why-learn-programming-5-easy-ways-to-learn-coding-at-home-1730109-2020-10-09\"><img alt=\"Why learn programming? \" src=\"https://filestore.community.support.microsoft.com/api/images/72e3f188-79a1-465f-90ca-27262d769841\" class=\" ng-lazyloading\"><br><div class=\"component-text\"> Why learn programming?  </div></a></div><!----><!----><!----></div></div><div role=\"tab\" mattablabelwrapper=\"\" mat-ripple=\"\" cdkmonitorelementfocus=\"\" class=\"mat-ripple mat-tab-label mat-focus-indicator ng-star-inserted\" id=\"mat-tab-label-0-2\" tabindex=\"-1\" aria-posinset=\"3\" aria-setsize=\"16\" aria-controls=\"mat-tab-content-0-2\" aria-selected=\"false\" aria-disabled=\"false\"><div class=\"mat-tab-label-content\"><div class=\"component ng-star-inserted\"><a target=\"_blank\" rel=\"noopener\" href=\"https://brandequity.economictimes.indiatimes.com/news/marketing/coding-ninjas-aims-for-coding-curiosity-among-students/78762964\"><img alt=\"Coding Ninjas aims for coding curiosity among students\" src=\"https://filestore.community.support.microsoft.com/api/images/72e3f188-79a1-465f-90ca-27262d769841\" class=\" ng-lazyloading\"><br><div class=\"component-text\"> Coding Ninjas aims for coding curiosity among students </div></a></div><!----><!----><!----></div></div><div role=\"tab\" mattablabelwrapper=\"\" mat-ripple=\"\" cdkmonitorelementfocus=\"\" class=\"mat-ripple mat-tab-label mat-focus-indicator ng-star-inserted\" id=\"mat-tab-label-0-3\" tabindex=\"-1\" aria-posinset=\"4\" aria-setsize=\"16\" aria-controls=\"mat-tab-content-0-3\" aria-selected=\"false\" aria-disabled=\"false\"><div class=\"mat-tab-label-content\"><div class=\"component ng-star-inserted\"><a target=\"_blank\" rel=\"noopener\" href=\"http://bweducation.businessworld.in/article/-Coding-Ninjas-Collaborates-With-Chitkara-University-To-Offer-Programming-Courses-To-First-Year-B-Tech-Students-/24-08-2020-312294/\"><img alt=\"Coding Ninjas Collaborates With Chitkara University To Offer Programming Courses \" src=\"https://filestore.community.support.microsoft.com/api/images/72e3f188-79a1-465f-90ca-27262d769841\" class=\" ng-lazyloading\"><br><div class=\"component-text\"> Coding Ninjas Collaborates With Chitkara University To Offer Programmi... </div></a></div><!----><!----><!----></div></div><div role=\"tab\" mattablabelwrapper=\"\" mat-ripple=\"\" cdkmonitorelementfocus=\"\" class=\"mat-ripple mat-tab-label mat-focus-indicator ng-star-inserted\" id=\"mat-tab-label-0-4\" tabindex=\"-1\" aria-posinset=\"5\" aria-setsize=\"16\" aria-controls=\"mat-tab-content-0-4\" aria-selected=\"false\" aria-disabled=\"false\"><div class=\"mat-tab-label-content\"><div class=\"component ng-star-inserted\"><a target=\"_blank\" rel=\"noopener\" href=\"https://inc42.com/startups/coding-ninjas-turns-past-learners-into-teachers-to-challenge-byjus-owned-whitehat-jr/?itm_source=inc42-sponsored-content&amp;itm_medium=website&amp;itm_campaign=sponsored-content\"><img alt=\"Coding Ninjas Turns Past Learners Into Teachers \" src=\"https://filestore.community.support.microsoft.com/api/images/72e3f188-79a1-465f-90ca-27262d769841\" class=\" ng-lazyloading\"><br><div class=\"component-text\"> Coding Ninjas Turns Past Learners Into Teachers  </div></a></div><!----><!----><!----></div></div><div role=\"tab\" mattablabelwrapper=\"\" mat-ripple=\"\" cdkmonitorelementfocus=\"\" class=\"mat-ripple mat-tab-label mat-focus-indicator ng-star-inserted\" id=\"mat-tab-label-0-5\" tabindex=\"-1\" aria-posinset=\"6\" aria-setsize=\"16\" aria-controls=\"mat-tab-content-0-5\" aria-selected=\"false\" aria-disabled=\"false\"><div class=\"mat-tab-label-content\"><div class=\"component ng-star-inserted\"><a target=\"_blank\" rel=\"noopener\" href=\"https://yourstory.com/2020/09/startup-edtech-code-reskilling-upskilling-college-students\"><img alt=\"Coding Ninjas aims to crack the edtech code by reskilling and upskilling college students\" src=\"https://filestore.community.support.microsoft.com/api/images/72e3f188-79a1-465f-90ca-27262d769841\" class=\" ng-lazyloading\"><br><div class=\"component-text\"> Coding Ninjas aims to crack the edtech code by reskilling and upskilli... </div></a></div><!----><!----><!----></div></div><div role=\"tab\" mattablabelwrapper=\"\" mat-ripple=\"\" cdkmonitorelementfocus=\"\" class=\"mat-ripple mat-tab-label mat-focus-indicator ng-star-inserted\" id=\"mat-tab-label-0-6\" tabindex=\"-1\" aria-posinset=\"7\" aria-setsize=\"16\" aria-controls=\"mat-tab-content-0-6\" aria-selected=\"false\" aria-disabled=\"false\"><div class=\"mat-tab-label-content\"><div class=\"component ng-star-inserted\"><a target=\"_blank\" rel=\"noopener\" href=\"https://www.thehindu.com/education/coding-programming-coding-language-coding-is-key-coding-enabled-world-and-workforce-ankush-singla/article32659831.ece\"><img alt=\"Coding-enabled world and workforce\" src=\"https://filestore.community.support.microsoft.com/api/images/72e3f188-79a1-465f-90ca-27262d769841\" class=\" ng-lazyloading\"><br><div class=\"component-text\"> Coding-enabled world and workforce </div></a></div><!----><!----><!----></div></div><div role=\"tab\" mattablabelwrapper=\"\" mat-ripple=\"\" cdkmonitorelementfocus=\"\" class=\"mat-ripple mat-tab-label mat-focus-indicator ng-star-inserted\" id=\"mat-tab-label-0-7\" tabindex=\"-1\" aria-posinset=\"8\" aria-setsize=\"16\" aria-controls=\"mat-tab-content-0-7\" aria-selected=\"false\" aria-disabled=\"false\"><div class=\"mat-tab-label-content\"><div class=\"component ng-star-inserted\"><a target=\"_blank\" rel=\"noopener\" href=\"https://www.thehindubusinessline.com/news/education/ed-tech-start-up-coding-ninjas-to-offer-coding-programming-courses-for-students/article32064308.ece\"><img alt=\"Ed-tech start-up Coding Ninjas to offer coding, programming courses for students\" src=\"https://filestore.community.support.microsoft.com/api/images/72e3f188-79a1-465f-90ca-27262d769841\" class=\" ng-lazyloading\"><br><div class=\"component-text\"> Ed-tech start-up Coding Ninjas to offer coding, programming courses fo... </div></a></div><!----><!----><!----></div></div><div role=\"tab\" mattablabelwrapper=\"\" mat-ripple=\"\" cdkmonitorelementfocus=\"\" class=\"mat-ripple mat-tab-label mat-focus-indicator ng-star-inserted\" id=\"mat-tab-label-0-8\" tabindex=\"-1\" aria-posinset=\"9\" aria-setsize=\"16\" aria-controls=\"mat-tab-content-0-8\" aria-selected=\"false\" aria-disabled=\"false\"><div class=\"mat-tab-label-content\"><div class=\"component ng-star-inserted\"><a target=\"_blank\" rel=\"noopener\" href=\"https://digitalterminal.in/news/coding-ninjas-launches-ninjas-junior-program-to-offer-coding-courses/19646.html\"><img alt=\"Coding Ninjas Launches Ninjas Junior Program\" src=\"https://filestore.community.support.microsoft.com/api/images/72e3f188-79a1-465f-90ca-27262d769841\" class=\" ng-lazyloading\"><br><div class=\"component-text\"> Coding Ninjas Launches Ninjas Junior Program </div></a></div><!----><!----><!----></div></div><div role=\"tab\" mattablabelwrapper=\"\" mat-ripple=\"\" cdkmonitorelementfocus=\"\" class=\"mat-ripple mat-tab-label mat-focus-indicator ng-star-inserted\" id=\"mat-tab-label-0-9\" tabindex=\"-1\" aria-posinset=\"10\" aria-setsize=\"16\" aria-controls=\"mat-tab-content-0-9\" aria-selected=\"false\" aria-disabled=\"false\"><div class=\"mat-tab-label-content\"><div class=\"component ng-star-inserted\"><a target=\"_blank\" rel=\"noopener\" href=\"https://www.educationtimes.com/article/editors-pick/77001034/Coding-Bootcamps-Silver-lining-and-beyond#gsc.tab=0\"><img alt=\"Coding Bootcamps: Silver lining and beyond\" src=\"https://filestore.community.support.microsoft.com/api/images/72e3f188-79a1-465f-90ca-27262d769841\" class=\" ng-lazyloading\"><br><div class=\"component-text\"> Coding Bootcamps: Silver lining and beyond </div></a></div><!----><!----><!----></div></div><div role=\"tab\" mattablabelwrapper=\"\" mat-ripple=\"\" cdkmonitorelementfocus=\"\" class=\"mat-ripple mat-tab-label mat-focus-indicator ng-star-inserted\" id=\"mat-tab-label-0-10\" tabindex=\"-1\" aria-posinset=\"11\" aria-setsize=\"16\" aria-controls=\"mat-tab-content-0-10\" aria-selected=\"false\" aria-disabled=\"false\"><div class=\"mat-tab-label-content\"><div class=\"component ng-star-inserted\"><a target=\"_blank\" rel=\"noopener\" href=\"https://www.edexlive.com/news/2020/aug/02/full-speed-ahead-how-the-pandemic-proved-to-be-rocket-fuel-for-indias-edtech-platforms-13628.html\"><img alt=\"How the pandemic proved to be rocket fuel for India\\'s EdTech platforms\" src=\"https://filestore.community.support.microsoft.com/api/images/72e3f188-79a1-465f-90ca-27262d769841\" class=\" ng-lazyloading\"><br><div class=\"component-text\"> How the pandemic proved to be rocket fuel for India\\'s EdTech platforms </div></a></div><!----><!----><!----></div></div><div role=\"tab\" mattablabelwrapper=\"\" mat-ripple=\"\" cdkmonitorelementfocus=\"\" class=\"mat-ripple mat-tab-label mat-focus-indicator ng-star-inserted\" id=\"mat-tab-label-0-11\" tabindex=\"-1\" aria-posinset=\"12\" aria-setsize=\"16\" aria-controls=\"mat-tab-content-0-11\" aria-selected=\"false\" aria-disabled=\"false\"><div class=\"mat-tab-label-content\"><div class=\"component ng-star-inserted\"><a target=\"_blank\" rel=\"noopener\" href=\"https://analyticsindiamag.com/how-will-the-new-education-policy-make-india-ai-ready/\"><img alt=\"How Will The New Education Policy Make India AI-Ready\" src=\"https://filestore.community.support.microsoft.com/api/images/72e3f188-79a1-465f-90ca-27262d769841\" class=\" ng-lazyloading\"><br><div class=\"component-text\"> How Will The New Education Policy Make India AI-Ready </div></a></div><!----><!----><!----></div></div><div role=\"tab\" mattablabelwrapper=\"\" mat-ripple=\"\" cdkmonitorelementfocus=\"\" class=\"mat-ripple mat-tab-label mat-focus-indicator ng-star-inserted\" id=\"mat-tab-label-0-12\" tabindex=\"-1\" aria-posinset=\"13\" aria-setsize=\"16\" aria-controls=\"mat-tab-content-0-12\" aria-selected=\"false\" aria-disabled=\"false\"><div class=\"mat-tab-label-content\"><div class=\"component ng-star-inserted\"><a target=\"_blank\" rel=\"noopener\" href=\"https://www.outlookindia.com/newsscroll/coding-ninjas-partners-with-recruitment-platform-hiristcom-to-offer-techrelated-jobs/1909539\"><img alt=\"Coding Ninjas partners with recruitment platform Hirist.com to offer tech-related jobs\" src=\"https://filestore.community.support.microsoft.com/api/images/72e3f188-79a1-465f-90ca-27262d769841\" class=\" ng-lazyloading\"><br><div class=\"component-text\"> Coding Ninjas partners with recruitment platform Hirist.com to offer t... </div></a></div><!----><!----><!----></div></div><div role=\"tab\" mattablabelwrapper=\"\" mat-ripple=\"\" cdkmonitorelementfocus=\"\" class=\"mat-ripple mat-tab-label mat-focus-indicator ng-star-inserted\" id=\"mat-tab-label-0-13\" tabindex=\"-1\" aria-posinset=\"14\" aria-setsize=\"16\" aria-controls=\"mat-tab-content-0-13\" aria-selected=\"false\" aria-disabled=\"false\"><div class=\"mat-tab-label-content\"><div class=\"component ng-star-inserted\"><a target=\"_blank\" rel=\"noopener\" href=\"https://www.indiatoday.in/information/story/here-are-5-platforms-placing-and-up-skilling-graduates-remotely-1712052-2020-08-17\"><img alt=\"5 platforms placing and up skilling graduates remotely\" src=\"https://filestore.community.support.microsoft.com/api/images/72e3f188-79a1-465f-90ca-27262d769841\" class=\" ng-lazyloading\"><br><div class=\"component-text\"> 5 platforms placing and up skilling graduates remotely </div></a></div><!----><!----><!----></div></div><div role=\"tab\" mattablabelwrapper=\"\" mat-ripple=\"\" cdkmonitorelementfocus=\"\" class=\"mat-ripple mat-tab-label mat-focus-indicator ng-star-inserted\" id=\"mat-tab-label-0-14\" tabindex=\"-1\" aria-posinset=\"15\" aria-setsize=\"16\" aria-controls=\"mat-tab-content-0-14\" aria-selected=\"false\" aria-disabled=\"false\"><div class=\"mat-tab-label-content\"><div class=\"component ng-star-inserted\"><a target=\"_blank\" rel=\"noopener\" href=\"http://bweducation.businessworld.in/article/-Coding-Ninjas-Collaborates-With-Chitkara-University-To-Offer-Programming-Courses-To-First-Year-B-Tech-Students-/24-08-2020-312294/\"><img alt=\"Coding Ninjas Collaborates With Chitkara University\" src=\"https://filestore.community.support.microsoft.com/api/images/72e3f188-79a1-465f-90ca-27262d769841\" class=\" ng-lazyloading\"><br><div class=\"component-text\"> Coding Ninjas Collaborates With Chitkara University </div></a></div><!----><!----><!----></div></div><div role=\"tab\" mattablabelwrapper=\"\" mat-ripple=\"\" cdkmonitorelementfocus=\"\" class=\"mat-ripple mat-tab-label mat-focus-indicator ng-star-inserted\" id=\"mat-tab-label-0-15\" tabindex=\"-1\" aria-posinset=\"16\" aria-setsize=\"16\" aria-controls=\"mat-tab-content-0-15\" aria-selected=\"false\" aria-disabled=\"false\"><div class=\"mat-tab-label-content\"><div class=\"component ng-star-inserted\"><a target=\"_blank\" rel=\"noopener\" href=\"https://www.entrepreneurindia.com/virtual-awards/awards_winner.php\"><img alt=\"Coding Ninjas bags the Best Education Startup Of The Year Award 2020\" src=\"https://filestore.community.support.microsoft.com/api/images/72e3f188-79a1-465f-90ca-27262d769841\" class=\" ng-lazyloading\"><br><div class=\"component-text\"> Coding Ninjas bags the Best Education Startup Of The Year Award 2020 </div></a></div><!----><!----><!----></div></div><!----></div><mat-ink-bar class=\"mat-ink-bar\" style=\"visibility: visible; left: 0px; width: 354px;\"></mat-ink-bar></div></div><div aria-hidden=\"true\" mat-ripple=\"\" class=\"mat-ripple mat-tab-header-pagination mat-tab-header-pagination-after mat-elevation-z4\"><div class=\"mat-tab-header-pagination-chevron\"></div></div></mat-tab-header><div class=\"mat-tab-body-wrapper\"><mat-tab-body role=\"tabpanel\" class=\"mat-tab-body ng-tns-c64-0 mat-tab-body-active ng-star-inserted\" id=\"mat-tab-content-0-0\" aria-labelledby=\"mat-tab-label-0-0\"><div cdkscrollable=\"\" class=\"mat-tab-body-content ng-tns-c64-0 ng-trigger ng-trigger-translateTab\" style=\"transform: none;\"><!----><!----></div></mat-tab-body><mat-tab-body role=\"tabpanel\" class=\"mat-tab-body ng-tns-c64-1 ng-star-inserted\" id=\"mat-tab-content-0-1\" aria-labelledby=\"mat-tab-label-0-1\"><div cdkscrollable=\"\" class=\"mat-tab-body-content ng-tns-c64-1 ng-trigger ng-trigger-translateTab\" style=\"transform: translate3d(100%, 0px, 0px); min-height: 1px;\"><!----></div></mat-tab-body><mat-tab-body role=\"tabpanel\" class=\"mat-tab-body ng-tns-c64-2 ng-star-inserted\" id=\"mat-tab-content-0-2\" aria-labelledby=\"mat-tab-label-0-2\"><div cdkscrollable=\"\" class=\"mat-tab-body-content ng-tns-c64-2 ng-trigger ng-trigger-translateTab\" style=\"transform: translate3d(100%, 0px, 0px); min-height: 1px;\"><!----></div></mat-tab-body><mat-tab-body role=\"tabpanel\" class=\"mat-tab-body ng-tns-c64-3 ng-star-inserted\" id=\"mat-tab-content-0-3\" aria-labelledby=\"mat-tab-label-0-3\"><div cdkscrollable=\"\" class=\"mat-tab-body-content ng-tns-c64-3 ng-trigger ng-trigger-translateTab\" style=\"transform: translate3d(100%, 0px, 0px); min-height: 1px;\"><!----></div></mat-tab-body><mat-tab-body role=\"tabpanel\" class=\"mat-tab-body ng-tns-c64-4 ng-star-inserted\" id=\"mat-tab-content-0-4\" aria-labelledby=\"mat-tab-label-0-4\"><div cdkscrollable=\"\" class=\"mat-tab-body-content ng-tns-c64-4 ng-trigger ng-trigger-translateTab\" style=\"transform: translate3d(100%, 0px, 0px); min-height: 1px;\"><!----></div></mat-tab-body><mat-tab-body role=\"tabpanel\" class=\"mat-tab-body ng-tns-c64-5 ng-star-inserted\" id=\"mat-tab-content-0-5\" aria-labelledby=\"mat-tab-label-0-5\"><div cdkscrollable=\"\" class=\"mat-tab-body-content ng-tns-c64-5 ng-trigger ng-trigger-translateTab\" style=\"transform: translate3d(100%, 0px, 0px); min-height: 1px;\"><!----></div></mat-tab-body><mat-tab-body role=\"tabpanel\" class=\"mat-tab-body ng-tns-c64-6 ng-star-inserted\" id=\"mat-tab-content-0-6\" aria-labelledby=\"mat-tab-label-0-6\"><div cdkscrollable=\"\" class=\"mat-tab-body-content ng-tns-c64-6 ng-trigger ng-trigger-translateTab\" style=\"transform: translate3d(100%, 0px, 0px); min-height: 1px;\"><!----></div></mat-tab-body><mat-tab-body role=\"tabpanel\" class=\"mat-tab-body ng-tns-c64-7 ng-star-inserted\" id=\"mat-tab-content-0-7\" aria-labelledby=\"mat-tab-label-0-7\"><div cdkscrollable=\"\" class=\"mat-tab-body-content ng-tns-c64-7 ng-trigger ng-trigger-translateTab\" style=\"transform: translate3d(100%, 0px, 0px); min-height: 1px;\"><!----></div></mat-tab-body><mat-tab-body role=\"tabpanel\" class=\"mat-tab-body ng-tns-c64-8 ng-star-inserted\" id=\"mat-tab-content-0-8\" aria-labelledby=\"mat-tab-label-0-8\"><div cdkscrollable=\"\" class=\"mat-tab-body-content ng-tns-c64-8 ng-trigger ng-trigger-translateTab\" style=\"transform: translate3d(100%, 0px, 0px); min-height: 1px;\"><!----></div></mat-tab-body><mat-tab-body role=\"tabpanel\" class=\"mat-tab-body ng-tns-c64-9 ng-star-inserted\" id=\"mat-tab-content-0-9\" aria-labelledby=\"mat-tab-label-0-9\"><div cdkscrollable=\"\" class=\"mat-tab-body-content ng-tns-c64-9 ng-trigger ng-trigger-translateTab\" style=\"transform: translate3d(100%, 0px, 0px); min-height: 1px;\"><!----></div></mat-tab-body><mat-tab-body role=\"tabpanel\" class=\"mat-tab-body ng-tns-c64-10 ng-star-inserted\" id=\"mat-tab-content-0-10\" aria-labelledby=\"mat-tab-label-0-10\"><div cdkscrollable=\"\" class=\"mat-tab-body-content ng-tns-c64-10 ng-trigger ng-trigger-translateTab\" style=\"transform: translate3d(100%, 0px, 0px); min-height: 1px;\"><!----></div></mat-tab-body><mat-tab-body role=\"tabpanel\" class=\"mat-tab-body ng-tns-c64-11 ng-star-inserted\" id=\"mat-tab-content-0-11\" aria-labelledby=\"mat-tab-label-0-11\"><div cdkscrollable=\"\" class=\"mat-tab-body-content ng-tns-c64-11 ng-trigger ng-trigger-translateTab\" style=\"transform: translate3d(100%, 0px, 0px); min-height: 1px;\"><!----></div></mat-tab-body><mat-tab-body role=\"tabpanel\" class=\"mat-tab-body ng-tns-c64-12 ng-star-inserted\" id=\"mat-tab-content-0-12\" aria-labelledby=\"mat-tab-label-0-12\"><div cdkscrollable=\"\" class=\"mat-tab-body-content ng-tns-c64-12 ng-trigger ng-trigger-translateTab\" style=\"transform: translate3d(100%, 0px, 0px); min-height: 1px;\"><!----></div></mat-tab-body><mat-tab-body role=\"tabpanel\" class=\"mat-tab-body ng-tns-c64-13 ng-star-inserted\" id=\"mat-tab-content-0-13\" aria-labelledby=\"mat-tab-label-0-13\"><div cdkscrollable=\"\" class=\"mat-tab-body-content ng-tns-c64-13 ng-trigger ng-trigger-translateTab\" style=\"transform: translate3d(100%, 0px, 0px); min-height: 1px;\"><!----></div></mat-tab-body><mat-tab-body role=\"tabpanel\" class=\"mat-tab-body ng-tns-c64-14 ng-star-inserted\" id=\"mat-tab-content-0-14\" aria-labelledby=\"mat-tab-label-0-14\"><div cdkscrollable=\"\" class=\"mat-tab-body-content ng-tns-c64-14 ng-trigger ng-trigger-translateTab\" style=\"transform: translate3d(100%, 0px, 0px); min-height: 1px;\"><!----></div></mat-tab-body><mat-tab-body role=\"tabpanel\" class=\"mat-tab-body ng-tns-c64-15 ng-star-inserted\" id=\"mat-tab-content-0-15\" aria-labelledby=\"mat-tab-label-0-15\"><div cdkscrollable=\"\" class=\"mat-tab-body-content ng-tns-c64-15 ng-trigger ng-trigger-translateTab\" style=\"transform: translate3d(100%, 0px, 0px); min-height: 1px;\"><!----></div></mat-tab-body><!----></div></mat-tab-group><div class=\"container-elements ng-star-inserted\"><div id=\"content\"><img alt=\"India Inc on Reviving Our Economy NewsX &amp; BW Special\" src=\"https://filestore.community.support.microsoft.com/api/images/72e3f188-79a1-465f-90ca-27262d769841\" class=\" ng-lazyloading\"><h3>India Inc on Reviving Our Economy NewsX &amp; BW Special</h3><p>Ankush Singla, Co-Founder, Coding Ninjas joins a panel discussion with other industry stalwarts to talk about the economy in the times of COVID-19. </p></div><div id=\"video-box\"><shared-ui-youtube-lite><div class=\"youtube-player-lite\" id=\"youtube-vEnefxh8o_k\" style=\"height: 300px;\"><div data-id=\"vEnefxh8o_k\" width=\"undefined\" height=\"300\"><img src=\"//i.ytimg.com/vi/vEnefxh8o_k/hqdefault.jpg\" alt=\"Coding Ninjas | Public Relations\" width=\"undefined\" height=\"300\"><span class=\"play material-icons\">play_circle_outline</span></div></div></shared-ui-youtube-lite></div></div><!----></div><!----><!----></div></shared-ui-pr-section><landing-blogs _ngcontent-serverapp-c143=\"\" _nghost-serverapp-c142=\"\" class=\"ng-star-inserted\"><div _ngcontent-serverapp-c142=\"\" class=\"alt-container section-container blog-container ng-star-inserted\"><h2 _ngcontent-serverapp-c142=\"\" class=\"section-title ng-star-inserted\"> Blogs  </h2><!----><div _ngcontent-serverapp-c142=\"\" class=\"section-contents blog-section\"><landing-blog _ngcontent-serverapp-c142=\"\" class=\"responsive-item ng-star-inserted\" _nghost-serverapp-c141=\"\"><div _ngcontent-serverapp-c141=\"\" class=\"blog ng-star-inserted\"><a _ngcontent-serverapp-c141=\"\" target=\"_blank\" rel=\"noopener\" class=\"passiveAnchor\" href=\"https://www.codingninjas.com/blog/2020/08/14/coding-ninjas-reboot-career-camp-with-ninja-pro-ninja-scholar-programmes/\"><div _ngcontent-serverapp-c141=\"\"><div _ngcontent-serverapp-c141=\"\" class=\"blog-image clickable ng-star-inserted\"><img _ngcontent-serverapp-c141=\"\" alt=\"Coding Ninjas reboot Career Camp with Ninjas Pro &amp; Ninjas Scholar Programmes\" src=\"https://filestore.community.support.microsoft.com/api/images/72e3f188-79a1-465f-90ca-27262d769841\" class=\" ng-lazyloading\"></div><!----><h3 _ngcontent-serverapp-c141=\"\" class=\"blog-title ng-star-inserted\"> Coding Ninjas reboot Career Camp with Ninjas Pro &amp; Ninjas Scholar Programmes </h3><!----><div _ngcontent-serverapp-c141=\"\" class=\"blog-description ng-star-inserted\"> Career Camp reboot is a promising opportunity for students to get hands-on experience with industry mentors and scale their career to new heights. </div><!----></div></a></div><!----></landing-blog><landing-blog _ngcontent-serverapp-c142=\"\" class=\"responsive-item ng-star-inserted\" _nghost-serverapp-c141=\"\"><div _ngcontent-serverapp-c141=\"\" class=\"blog ng-star-inserted\"><a _ngcontent-serverapp-c141=\"\" target=\"_blank\" rel=\"noopener\" class=\"passiveAnchor\" href=\"https://www.codingninjas.com/blog/2020/09/02/suryansh-gupta-a-computer-science-novice-to-a-ppo-with-microsoft-idc/\"><div _ngcontent-serverapp-c141=\"\"><div _ngcontent-serverapp-c141=\"\" class=\"blog-image clickable ng-star-inserted\"><img _ngcontent-serverapp-c141=\"\" alt=\"Suryansh Gupta: A computer Science novice to securing a PPO with Microsoft IDC\" src=\"https://filestore.community.support.microsoft.com/api/images/72e3f188-79a1-465f-90ca-27262d769841\" class=\" ng-lazyloading\"></div><!----><h3 _ngcontent-serverapp-c141=\"\" class=\"blog-title ng-star-inserted\"> Suryansh Gupta: A computer Science novice to securing a PPO with Microsoft IDC </h3><!----><div _ngcontent-serverapp-c141=\"\" class=\"blog-description ng-star-inserted\"> He was selected for a direct interview at Google after from Google Kickstart and has interned and received a Pre-Placement Offer (PPO) from Microsoft IDC. </div><!----></div></a></div><!----></landing-blog><landing-blog _ngcontent-serverapp-c142=\"\" class=\"responsive-item ng-star-inserted\" _nghost-serverapp-c141=\"\"><div _ngcontent-serverapp-c141=\"\" class=\"blog ng-star-inserted\"><a _ngcontent-serverapp-c141=\"\" target=\"_blank\" rel=\"noopener\" class=\"passiveAnchor\" href=\"https://www.codingninjas.com/blog/2020/09/14/whats-new-in-android-11-0/\"><div _ngcontent-serverapp-c141=\"\"><div _ngcontent-serverapp-c141=\"\" class=\"blog-image clickable ng-star-inserted\"><img _ngcontent-serverapp-c141=\"\" alt=\"What’s new in Android 11.0?\" src=\"https://filestore.community.support.microsoft.com/api/images/72e3f188-79a1-465f-90ca-27262d769841\" class=\" ng-lazyloading\"></div><!----><h3 _ngcontent-serverapp-c141=\"\" class=\"blog-title ng-star-inserted\"> What’s new in Android 11.0? </h3><!----><div _ngcontent-serverapp-c141=\"\" class=\"blog-description ng-star-inserted\"> Android 11.0 is here and is considered to be the eleventh major release of Android, out of the eighteen versions of Android. </div><!----></div></a></div><!----></landing-blog><!----></div></div><!----></landing-blogs><!----><!----><!----></landing-home><!----><shared-ui-footer _ngcontent-serverapp-c108=\"\" _nghost-serverapp-c107=\"\"><div _ngcontent-serverapp-c107=\"\" class=\"container dark-back\"><div _ngcontent-serverapp-c107=\"\" class=\"footer-container\"><shared-ui-footer-left _ngcontent-serverapp-c107=\"\" _nghost-serverapp-c98=\"\"><img _ngcontent-serverapp-c98=\"\" lazyload=\"https://files.codingninjas.in/codingninjas-footer-5571.svg\" offset=\"0\" alt=\"Coding Ninjas Logo\" src=\"https://filestore.community.support.microsoft.com/api/images/72e3f188-79a1-465f-90ca-27262d769841\" class=\" ng-lazyloading\"></shared-ui-footer-left><shared-ui-footer-middle _ngcontent-serverapp-c107=\"\" _nghost-serverapp-c102=\"\"><div _ngcontent-serverapp-c102=\"\" class=\"container\"><shared-ui-footer-middle-info _ngcontent-serverapp-c102=\"\" _nghost-serverapp-c99=\"\"><div _ngcontent-serverapp-c99=\"\" class=\"container\"><p _ngcontent-serverapp-c99=\"\" class=\"my-16\">CODING NINJAS</p><div _ngcontent-serverapp-c99=\"\" class=\"links\"><p _ngcontent-serverapp-c99=\"\" class=\"ng-star-inserted\"><a _ngcontent-serverapp-c99=\"\" href=\"https://www.codingninjas.com/about\" target=\"_blank\" rel=\"noopener\">About Us</a></p><!----><p _ngcontent-serverapp-c99=\"\" class=\"ng-star-inserted\"><a _ngcontent-serverapp-c99=\"\" href=\"https://www.codingninjas.com/policy/privacy.pdf\" target=\"_blank\" rel=\"noopener\">Privacy Policy</a></p><!----><p _ngcontent-serverapp-c99=\"\" class=\"ng-star-inserted\"><a _ngcontent-serverapp-c99=\"\" href=\"https://www.codingninjas.com/policy/tnc.pdf\" target=\"_blank\" rel=\"noopener\">Terms &amp; Condition</a></p><!----><p _ngcontent-serverapp-c99=\"\" class=\"ng-star-inserted\"><a _ngcontent-serverapp-c99=\"\" href=\"https://www.codingninjas.com/policy/pricing-and-refund.pdf\" rel=\"noopener\" target=\"_blank\">Pricing &amp; Refund Policy</a></p><!----><p _ngcontent-serverapp-c99=\"\" class=\"ng-star-inserted\"><a _ngcontent-serverapp-c99=\"\" href=\"https://www.codingninjas.com/bug-bounty\" target=\"_blank\" rel=\"noopener\">Bug Bounty</a></p><!----><p _ngcontent-serverapp-c99=\"\" class=\"ng-star-inserted\"><a _ngcontent-serverapp-c99=\"\" href=\"https://www.codingninjas.com/customers\" target=\"_blank\" rel=\"noopener\">Customers</a></p><!----><p _ngcontent-serverapp-c99=\"\" class=\"ng-star-inserted\"><a _ngcontent-serverapp-c99=\"\" href=\"https://www.codingninjas.com/press-release\" target=\"_blank\" rel=\"noopener\">Press Release</a></p><!----></div></div></shared-ui-footer-middle-info><shared-ui-footer-middle-products _ngcontent-serverapp-c102=\"\" _nghost-serverapp-c100=\"\"><div _ngcontent-serverapp-c100=\"\" class=\"container\"><p _ngcontent-serverapp-c100=\"\" class=\"my-16\">PRODUCTS</p><div _ngcontent-serverapp-c100=\"\" class=\"links\"><p _ngcontent-serverapp-c100=\"\"><a _ngcontent-serverapp-c100=\"\" href=\"https://www.codingninjas.com/courses\" target=\"_blank\" rel=\"noopener\">Courses</a></p><p _ngcontent-serverapp-c100=\"\"><a _ngcontent-serverapp-c100=\"\" href=\"https://www.codingninjas.com/start-learning\" target=\"_blank\" rel=\"noopener\">Try courses for Free</a></p><p _ngcontent-serverapp-c100=\"\"><a _ngcontent-serverapp-c100=\"\" href=\"https://careercamp.codingninjas.com\" target=\"_blank\" rel=\"noopener\" class=\"ng-star-inserted\">Career Camp</a><!----></p><p _ngcontent-serverapp-c100=\"\"><a _ngcontent-serverapp-c100=\"\" href=\"https://www.codingninjas.com/hire-from-us\" target=\"_blank\" rel=\"noopener\">Hire Talent</a></p></div></div></shared-ui-footer-middle-products><shared-ui-footer-middle-community _ngcontent-serverapp-c102=\"\" _nghost-serverapp-c101=\"\"><div _ngcontent-serverapp-c101=\"\" class=\"container\"><p _ngcontent-serverapp-c101=\"\" class=\"my-16\">COMMUNITY</p><div _ngcontent-serverapp-c101=\"\" class=\"links\"><p _ngcontent-serverapp-c101=\"\"><a _ngcontent-serverapp-c101=\"\" href=\"https://www.codingninjas.com/codestudio\" target=\"_blank\" rel=\"noopener\">CodeStudio</a></p><p _ngcontent-serverapp-c101=\"\"><a _ngcontent-serverapp-c101=\"\" href=\"https://www.codingninjas.com/blog\" target=\"_blank\" rel=\"noopener\">Blog</a></p><p _ngcontent-serverapp-c101=\"\"><a _ngcontent-serverapp-c101=\"\" href=\"https://www.codingninjas.com/events\" target=\"_blank\" rel=\"noopener\">Events</a></p><p _ngcontent-serverapp-c101=\"\" class=\"ng-star-inserted\"><a _ngcontent-serverapp-c101=\"\" href=\"https://campus.codingninjas.com\" target=\"_blank\" rel=\"noopener\">Campus Ninja</a></p><!----><p _ngcontent-serverapp-c101=\"\"><a _ngcontent-serverapp-c101=\"\" href=\"https://www.codingninjas.com/affiliate\" target=\"_blank\" rel=\"noopener\">Affiliate</a></p></div></div></shared-ui-footer-middle-community></div></shared-ui-footer-middle><shared-ui-footer-right _ngcontent-serverapp-c107=\"\" _nghost-serverapp-c104=\"\"><div _ngcontent-serverapp-c104=\"\" class=\"container\"><div _ngcontent-serverapp-c104=\"\" class=\"social-container\"><p _ngcontent-serverapp-c104=\"\" class=\"my-16\">FOLLOW US ON</p><div _ngcontent-serverapp-c104=\"\" class=\"social-links\"><a _ngcontent-serverapp-c104=\"\" href=\"https://www.facebook.com/codingninjas\" target=\"_blank\" rel=\"noopener\"><img _ngcontent-serverapp-c104=\"\" lazyload=\"https://files.codingninjas.in/0000000000003240.png\" offset=\"0\" alt=\"Coding Ninjas Facebook Page\" src=\"https://files.codingninjas.in/grey_square-5164.svg\" class=\" ng-lazyloading\"></a><a _ngcontent-serverapp-c104=\"\" href=\"https://www.instagram.com/coding.ninjas/\" target=\"_blank\" rel=\"noopener\"><img _ngcontent-serverapp-c104=\"\" lazyload=\"https://files.codingninjas.in/0000000000003241.png\" offset=\"0\" alt=\"Coding Ninjas Instagram Page\" src=\"https://files.codingninjas.in/grey_square-5164.svg\" class=\" ng-lazyloading\"></a><a _ngcontent-serverapp-c104=\"\" href=\"https://www.youtube.com/c/CodingNinjasIndia\" target=\"_blank\" rel=\"noopener\"><img _ngcontent-serverapp-c104=\"\" lazyload=\"https://files.codingninjas.in/0000000000003245.png\" offset=\"0\" alt=\"Coding Ninjas Youtube Page\" src=\"https://files.codingninjas.in/grey_square-5164.svg\" class=\" ng-lazyloading\"></a><a _ngcontent-serverapp-c104=\"\" href=\"https://twitter.com/CodingNinjasOff\" target=\"_blank\" rel=\"noopener\"><img _ngcontent-serverapp-c104=\"\" lazyload=\"https://files.codingninjas.in/0000000000003247.png\" offset=\"0\" alt=\"Coding Ninjas Twitter Page\" src=\"https://files.codingninjas.in/grey_square-5164.svg\" class=\" ng-lazyloading\"></a><a _ngcontent-serverapp-c104=\"\" href=\"https://www.linkedin.com/company/coding-ninjas-india/\" target=\"_blank\" rel=\"noopener\"><img _ngcontent-serverapp-c104=\"\" lazyload=\"https://files.codingninjas.in/0000000000003242.png\" offset=\"0\" alt=\"Coding Ninjas Linkedin Page\" src=\"https://files.codingninjas.in/grey_square-5164.svg\" class=\" ng-lazyloading\"></a><a _ngcontent-serverapp-c104=\"\" href=\"https://t.me/codingninjas_official\" target=\"_blank\" rel=\"noopener\"><img _ngcontent-serverapp-c104=\"\" lazyload=\"https://files.codingninjas.in/telegram-8247.svg\" offset=\"0\" alt=\"Coding Ninjas Telegram Channel\" src=\"https://files.codingninjas.in/grey_square-5164.svg\" class=\" ng-lazyloading\"></a></div></div><shared-ui-footer-middle-contacts _ngcontent-serverapp-c104=\"\" _nghost-serverapp-c103=\"\"><div _ngcontent-serverapp-c103=\"\" class=\"container\"><p _ngcontent-serverapp-c103=\"\" class=\"my-16\">CONTACT US</p><div _ngcontent-serverapp-c103=\"\" class=\"links\"><p _ngcontent-serverapp-c103=\"\" class=\"row ng-star-inserted\"><img _ngcontent-serverapp-c103=\"\" src=\"https://files.codingninjas.in/0000000000003251.png\" alt=\"Coding Ninjas Toll Free Number\"><a _ngcontent-serverapp-c103=\"\" href=\"tel:1800-123-3598\">1800-123-3598</a></p><!----><p _ngcontent-serverapp-c103=\"\" class=\"row\"><img _ngcontent-serverapp-c103=\"\" src=\"https://files.codingninjas.in/0000000000003250.png\" alt=\"Coding Ninjas Contact Email\"><a _ngcontent-serverapp-c103=\"\" target=\"_top\" href=\"mailto:contact@codingninjas.com?Subject=Enquiry\">contact@codingninjas.com</a></p></div></div></shared-ui-footer-middle-contacts></div></shared-ui-footer-right></div></div><div _ngcontent-serverapp-c107=\"\" class=\"container back-white\"><div _ngcontent-serverapp-c107=\"\" class=\"footer-container back-white\"><shared-ui-important-footer-link _ngcontent-serverapp-c107=\"\" _nghost-serverapp-c105=\"\"><div _ngcontent-serverapp-c105=\"\" class=\"container\"><p _ngcontent-serverapp-c105=\"\" class=\"my-16\">Important Links</p><div _ngcontent-serverapp-c105=\"\" class=\"row\"><div _ngcontent-serverapp-c105=\"\" class=\"important-links-section\"><p _ngcontent-serverapp-c105=\"\" class=\"mr-12\">Coding Courses for Beginners:</p><a _ngcontent-serverapp-c105=\"\" class=\"mr-8 ng-star-inserted\" href=\"/courses/onlline-c-plus-plus-course\">C++ Foundation with Data Structures <span _ngcontent-serverapp-c105=\"\" class=\"ng-star-inserted\"> | </span><!----></a><a _ngcontent-serverapp-c105=\"\" class=\"mr-8 ng-star-inserted\" href=\"/courses/online-java-course\">JAVA Foundation with Data Structures <span _ngcontent-serverapp-c105=\"\" class=\"ng-star-inserted\"> | </span><!----></a><a _ngcontent-serverapp-c105=\"\" class=\"mr-8 ng-star-inserted\" href=\"/courses/online-interview-preparation\">Interview Preparation Course <span _ngcontent-serverapp-c105=\"\" class=\"ng-star-inserted\"> | </span><!----></a><a _ngcontent-serverapp-c105=\"\" class=\"mr-8 ng-star-inserted\" href=\"/courses/online-competitive-programming-course\">Competitive Programming Course <span _ngcontent-serverapp-c105=\"\" class=\"ng-star-inserted\"> | </span><!----></a><a _ngcontent-serverapp-c105=\"\" class=\"mr-8 ng-star-inserted\" href=\"/courses/online-python-course\">Python Foundation with Data Structures <span _ngcontent-serverapp-c105=\"\" class=\"ng-star-inserted\"> | </span><!----></a><a _ngcontent-serverapp-c105=\"\" class=\"mr-8 ng-star-inserted\" href=\"/courses/online-aptitude-preparation\">Aptitude Preparation Course <!----></a><!----></div><div _ngcontent-serverapp-c105=\"\" class=\"important-links-section\"><p _ngcontent-serverapp-c105=\"\" class=\"mr-12\">Advanced Coding Course:</p><a _ngcontent-serverapp-c105=\"\" class=\"mr-8 ng-star-inserted\" href=\"/courses/online-web-dev-with-react\">Advanced Front-End Web Development with React <span _ngcontent-serverapp-c105=\"\" class=\"ng-star-inserted\"> | </span><!----></a><a _ngcontent-serverapp-c105=\"\" class=\"mr-8 ng-star-inserted\" href=\"/courses/online-machine-learning-course\">Machine Learning and Deep Learning Course <span _ngcontent-serverapp-c105=\"\" class=\"ng-star-inserted\"> | </span><!----></a><a _ngcontent-serverapp-c105=\"\" class=\"mr-8 ng-star-inserted\" href=\"/courses/online-full-stack-node-js-web-dev-course\">Full Stack Web Development Course <span _ngcontent-serverapp-c105=\"\" class=\"ng-star-inserted\"> | </span><!----></a><a _ngcontent-serverapp-c105=\"\" class=\"mr-8 ng-star-inserted\" href=\"/courses/online-data-science-course\">Data Science &amp; Machine Learning Complete <span _ngcontent-serverapp-c105=\"\" class=\"ng-star-inserted\"> | </span><!----></a><a _ngcontent-serverapp-c105=\"\" class=\"mr-8 ng-star-inserted\" href=\"/courses/online-android-Development-kotlin\">Android Development with Kotlin <!----></a><!----></div><div _ngcontent-serverapp-c105=\"\" class=\"important-links-section\"><p _ngcontent-serverapp-c105=\"\" class=\"mr-12\">Career Tracks:</p><a _ngcontent-serverapp-c105=\"\" class=\"mr-8 ng-star-inserted\" href=\"/courses/online-competitive-programming-track\">Ninja Competitive Programmer Track <span _ngcontent-serverapp-c105=\"\" class=\"ng-star-inserted\"> | </span><!----></a><a _ngcontent-serverapp-c105=\"\" class=\"mr-8 ng-star-inserted\" href=\"/courses/online-android-development-career-track\">Ninja Android Developer Career Track <span _ngcontent-serverapp-c105=\"\" class=\"ng-star-inserted\"> | </span><!----></a><a _ngcontent-serverapp-c105=\"\" class=\"mr-8 ng-star-inserted\" href=\"/courses/ninja-web-developer-career-track-mern-stack\">Ninja Web Developer Career Track - NodeJS &amp; ReactJs <span _ngcontent-serverapp-c105=\"\" class=\"ng-star-inserted\"> | </span><!----></a><a _ngcontent-serverapp-c105=\"\" class=\"mr-8 ng-star-inserted\" href=\"/courses/web-developer-career-track\">Ninja Web Developer Career Track - NodeJS <span _ngcontent-serverapp-c105=\"\" class=\"ng-star-inserted\"> | </span><!----></a><a _ngcontent-serverapp-c105=\"\" class=\"mr-8 ng-star-inserted\" href=\"/courses/data-Scientist-career-track\">Ninja Data Scientist Career Track <span _ngcontent-serverapp-c105=\"\" class=\"ng-star-inserted\"> | </span><!----></a><a _ngcontent-serverapp-c105=\"\" class=\"mr-8 ng-star-inserted\" href=\"/courses/machine-learning-engineer-career-track\">Ninja Machine Learning Engineer Career Track <!----></a><!----></div><div _ngcontent-serverapp-c105=\"\" class=\"important-links-section\"><p _ngcontent-serverapp-c105=\"\" class=\"mr-12\">Free Trial:</p><a _ngcontent-serverapp-c105=\"\" class=\"mr-8 ng-star-inserted\" href=\"https://classroom.codingninjas.com/app/classroom/free-trial/c-foundation-with-data-structures\">C++ Foundation with Data Structures <span _ngcontent-serverapp-c105=\"\" class=\"ng-star-inserted\"> | </span><!----></a><a _ngcontent-serverapp-c105=\"\" class=\"mr-8 ng-star-inserted\" href=\"https://classroom.codingninjas.com/app/classroom/free-trial/java-foundation-with-data-structures\">Java Foundation with Data Structures <span _ngcontent-serverapp-c105=\"\" class=\"ng-star-inserted\"> | </span><!----></a><a _ngcontent-serverapp-c105=\"\" class=\"mr-8 ng-star-inserted\" href=\"https://classroom.codingninjas.com/app/classroom/free-trial/competitive-programming-course\">Competitive Course <span _ngcontent-serverapp-c105=\"\" class=\"ng-star-inserted\"> | </span><!----></a><a _ngcontent-serverapp-c105=\"\" class=\"mr-8 ng-star-inserted\" href=\"https://classroom.codingninjas.com/app/classroom/free-trial/aptitude-preparation-course\">Aptitude Preparation Course <span _ngcontent-serverapp-c105=\"\" class=\"ng-star-inserted\"> | </span><!----></a><a _ngcontent-serverapp-c105=\"\" class=\"mr-8 ng-star-inserted\" href=\"https://classroom.codingninjas.com/app/classroom/free-trial/python-foundation-with-data-structures\">Python Foundation with Data Structures <span _ngcontent-serverapp-c105=\"\" class=\"ng-star-inserted\"> | </span><!----></a><a _ngcontent-serverapp-c105=\"\" class=\"mr-8 ng-star-inserted\" href=\"https://classroom.codingninjas.com/app/classroom/free-trial/android-development-with-kotlin\">Android Development with Kotlin Language <span _ngcontent-serverapp-c105=\"\" class=\"ng-star-inserted\"> | </span><!----></a><a _ngcontent-serverapp-c105=\"\" class=\"mr-8 ng-star-inserted\" href=\"https://classroom.codingninjas.com/app/classroom/free-trial/full-stack-web-development\">Full Stack Web Development with NodeJS <span _ngcontent-serverapp-c105=\"\" class=\"ng-star-inserted\"> | </span><!----></a><a _ngcontent-serverapp-c105=\"\" class=\"mr-8 ng-star-inserted\" href=\"https://classroom.codingninjas.com/app/classroom/free-trial/advanced-front-end-web-development-with-react\">Advanced Front-End Web Development with React <span _ngcontent-serverapp-c105=\"\" class=\"ng-star-inserted\"> | </span><!----></a><a _ngcontent-serverapp-c105=\"\" class=\"mr-8 ng-star-inserted\" href=\"https://classroom.codingninjas.com/app/classroom/free-trial/data-science-machine-learning-complete\">Data Science &amp; Machine Learning Complete <span _ngcontent-serverapp-c105=\"\" class=\"ng-star-inserted\"> | </span><!----></a><a _ngcontent-serverapp-c105=\"\" class=\"mr-8 ng-star-inserted\" href=\"https://classroom.codingninjas.com/app/classroom/free-trial/interview-preparation-course\">Interview Preparation Course <span _ngcontent-serverapp-c105=\"\" class=\"ng-star-inserted\"> | </span><!----></a><a _ngcontent-serverapp-c105=\"\" class=\"mr-8 ng-star-inserted\" href=\"https://classroom.codingninjas.com/app/classroom/free-trial/machine-learning-course\">Machine Learning Course <!----></a><!----></div><div _ngcontent-serverapp-c105=\"\" class=\"important-links-section ng-star-inserted\"><p _ngcontent-serverapp-c105=\"\" class=\"mr-12\">Free Contents:</p><a _ngcontent-serverapp-c105=\"\" class=\"mr-8 ng-star-inserted\" href=\"https://www.codingninjas.com/free-content/c-foundation-with-data-structures\">C++ Foundation with Data Structures <span _ngcontent-serverapp-c105=\"\" class=\"ng-star-inserted\"> | </span><!----></a><a _ngcontent-serverapp-c105=\"\" class=\"mr-8 ng-star-inserted\" href=\"https://www.codingninjas.com/free-content/java-foundation-with-data-structures\">Java Foundation with Data Structures <span _ngcontent-serverapp-c105=\"\" class=\"ng-star-inserted\"> | </span><!----></a><a _ngcontent-serverapp-c105=\"\" class=\"mr-8 ng-star-inserted\" href=\"https://www.codingninjas.com/free-content/competitive-programming-course\">Competitive Programming Course <span _ngcontent-serverapp-c105=\"\" class=\"ng-star-inserted\"> | </span><!----></a><a _ngcontent-serverapp-c105=\"\" class=\"mr-8 ng-star-inserted\" href=\"https://www.codingninjas.com/free-content/aptitude-preparation-course\">Aptitude Preparation Course <span _ngcontent-serverapp-c105=\"\" class=\"ng-star-inserted\"> | </span><!----></a><a _ngcontent-serverapp-c105=\"\" class=\"mr-8 ng-star-inserted\" href=\"https://www.codingninjas.com/free-content/python-foundation-with-data-structures\">Python Foundation with Data Structures <span _ngcontent-serverapp-c105=\"\" class=\"ng-star-inserted\"> | </span><!----></a><a _ngcontent-serverapp-c105=\"\" class=\"mr-8 ng-star-inserted\" href=\"https://www.codingninjas.com/free-content/android-development-with-kotlin\">Android Development with Kotlin Language <span _ngcontent-serverapp-c105=\"\" class=\"ng-star-inserted\"> | </span><!----></a><a _ngcontent-serverapp-c105=\"\" class=\"mr-8 ng-star-inserted\" href=\"https://www.codingninjas.com/free-content/full-stack-web-development\">Full Stack Web Development with NodeJS <span _ngcontent-serverapp-c105=\"\" class=\"ng-star-inserted\"> | </span><!----></a><a _ngcontent-serverapp-c105=\"\" class=\"mr-8 ng-star-inserted\" href=\"https://www.codingninjas.com/free-content/advanced-front-end-web-development-with-react\">Advanced  Front-End Web Development with React <span _ngcontent-serverapp-c105=\"\" class=\"ng-star-inserted\"> | </span><!----></a><a _ngcontent-serverapp-c105=\"\" class=\"mr-8 ng-star-inserted\" href=\"https://www.codingninjas.com/free-content/data-science-machine-learning-complete\">Data Science &amp; Machine Learning Complete <span _ngcontent-serverapp-c105=\"\" class=\"ng-star-inserted\"> | </span><!----></a><a _ngcontent-serverapp-c105=\"\" class=\"mr-8 ng-star-inserted\" href=\"https://www.codingninjas.com/free-content/interview-preparation-course\">Interview Preparation Course <!----></a><!----></div><!----><!----></div></div></shared-ui-important-footer-link></div></div><div _ngcontent-serverapp-c107=\"\" class=\"payment-container\"><div _ngcontent-serverapp-c107=\"\" class=\"footer-container\"><shared-ui-footer-down _ngcontent-serverapp-c107=\"\" _nghost-serverapp-c106=\"\"><div _ngcontent-serverapp-c106=\"\" class=\"container\"><div _ngcontent-serverapp-c106=\"\" class=\"footer-payments-section\"><p _ngcontent-serverapp-c106=\"\">We accept payments using:</p><div _ngcontent-serverapp-c106=\"\"><img _ngcontent-serverapp-c106=\"\" lazyload=\"https://files.codingninjas.in/visa-5604.png\" alt=\"Visa\" src=\"https://filestore.community.support.microsoft.com/api/images/72e3f188-79a1-465f-90ca-27262d769841\" class=\" ng-lazyloading\"><img _ngcontent-serverapp-c106=\"\" lazyload=\"https://files.codingninjas.in/paypal-5603.png\" alt=\"Paypal\" src=\"https://filestore.community.support.microsoft.com/api/images/72e3f188-79a1-465f-90ca-27262d769841\" class=\" ng-lazyloading\"><img _ngcontent-serverapp-c106=\"\" lazyload=\"https://files.codingninjas.in/upi-5602.png\" alt=\"UPI\" src=\"https://filestore.community.support.microsoft.com/api/images/72e3f188-79a1-465f-90ca-27262d769841\" class=\" ng-lazyloading\"><img _ngcontent-serverapp-c106=\"\" lazyload=\"https://files.codingninjas.in/no-cost-emi-5601.png\" alt=\"No-cost-emi\" src=\"https://filestore.community.support.microsoft.com/api/images/72e3f188-79a1-465f-90ca-27262d769841\" class=\" ng-lazyloading\"></div></div><div _ngcontent-serverapp-c106=\"\" class=\"footer-payments-section\"><img _ngcontent-serverapp-c106=\"\" src=\"https://filestore.community.support.microsoft.com/api/images/72e3f188-79a1-465f-90ca-27262d769841\" lazyload=\"https://files.codingninjas.in/secure-5600.png\" alt=\"secure\" class=\"no-max-width ng-lazyloading\"><div _ngcontent-serverapp-c106=\"\"><img _ngcontent-serverapp-c106=\"\" src=\"https://filestore.community.support.microsoft.com/api/images/72e3f188-79a1-465f-90ca-27262d769841\" lazyload=\"https://files.codingninjas.in/encryp-5599.png\" alt=\"encrypt\" class=\" ng-lazyloading\"><img _ngcontent-serverapp-c106=\"\" src=\"https://filestore.community.support.microsoft.com/api/images/72e3f188-79a1-465f-90ca-27262d769841\" lazyload=\"https://files.codingninjas.in/razorpay-5598.png\" alt=\"Razorpay\" class=\"no-margin-right ng-lazyloading\"></div></div></div></shared-ui-footer-down></div></div></shared-ui-footer></landing-landing-page><!----></div></div></landing-app><!----><codingninjas-notification-container _ngcontent-serverapp-c90=\"\" _nghost-serverapp-c89=\"\"><div _ngcontent-serverapp-c89=\"\" class=\"ninjas-notification-container notification-container-topRight\" style=\"top: 24px; right: 0px;\"><!----></div></codingninjas-notification-container></landing-root>\\n  <script src=\"v/3.46.430/runtime.2cdac880144da0973650.js\" defer=\"\"></script><script src=\"v/3.46.430/polyfills-es5.9c47c4d46f0f1a88fccd.js\" nomodule=\"\" defer=\"\"></script><script src=\"v/3.46.430/polyfills.46b8dfbb362998d1c5c2.js\" defer=\"\"></script><script src=\"v/3.46.430/scripts.1d15cac12bbb0ccb3b29.js\" defer=\"\"></script><script src=\"v/3.46.430/main.cf10e0feb158908807be.js\" defer=\"\"></script>\\n\\n<script _ngcontent-sc179=\"\" type=\"application/ld+json\" class=\"organizational-schema\">{\"@context\":\"http://schema.org\",\"@type\":\"Organization\",\"name\":\"Coding Ninjas\",\"url\":\"https://www.codingninjas.com\",\"sameAs\":[\"https://www.facebook.com/codingninjas\",\"https://www.instagram.com/coding.ninjas/\",\"https://www.youtube.com/c/CodingNinjasIndia\",\"https://twitter.com/CodingNinjasOff\",\"https://www.linkedin.com/company/coding-ninjas-india/\"],\"logo\":\"https://www.codingninjas.com/assets-landing/images/CNLOGO.svg\",\"contactPoint\":[{\"@type\":\"ContactPoint\",\"telephone\":\"1800-123-3598\",\"contactType\":\"Toll free contact\"}]}</script><script id=\"serverApp-state\" type=\"application/json\">{&q;https://api.codingninjas.com/api/v3/courses&q;:{&q;data&q;:{&q;courses&q;:[{&q;id&q;:34,&q;title&q;:&q;Front End (React)&q;,&q;online_title&q;:&q;online-web-dev-with-react&q;,&q;offline_title&q;:&q;&q;,&q;name&q;:&q;Advanced  Front-End Web Development with React&q;,&q;level&q;:&q;Development Courses&q;,&q;brief_intro&q;:&q;Advanced  Front-End Web Development with React&q;,&q;preview_image_url&q;:&q;https://ninjasfiles.s3.amazonaws.com/0000000000001179.png&q;,&q;available_online&q;:true,&q;available_offline&q;:false,&q;is_career_track&q;:false,&q;course_group_id&q;:2,&q;classroom_icon_url&q;:&q;https://files.codingninjas.in/0000000000003769.png&q;},{&q;id&q;:6,&q;title&q;:&q;Machine Learning&q;,&q;online_title&q;:&q;online-machine-learning-course&q;,&q;offline_title&q;:&q;classroom-machine-learning-course&q;,&q;name&q;:&q;Machine Learning &a; Deep Learning Course&q;,&q;level&q;:&q;Advanced Courses&q;,&q;brief_intro&q;:&q;Machine learning engineers build, implement, and maintain machine learning systems in technology products.&q;,&q;preview_image_url&q;:&q;https://ninjasfiles.s3.amazonaws.com/0000000000001181.png&q;,&q;available_online&q;:true,&q;available_offline&q;:false,&q;is_career_track&q;:false,&q;course_group_id&q;:2,&q;classroom_icon_url&q;:&q;https://files.codingninjas.in/0000000000003766.png&q;},{&q;id&q;:16,&q;title&q;:&q;Competitive Programmer&q;,&q;online_title&q;:&q;online-competitive-programming-track&q;,&q;offline_title&q;:&q;&q;,&q;name&q;:&q;Ninja Competitive Programmer Track&q;,&q;level&q;:&q;Career Tracks&q;,&q;brief_intro&q;:&q;Competitive Track&q;,&q;preview_image_url&q;:&q;https://files.codingninjas.in/0000000000001177.png&q;,&q;available_online&q;:true,&q;available_offline&q;:false,&q;is_career_track&q;:true,&q;course_group_id&q;:3,&q;classroom_icon_url&q;:&q;https://files.codingninjas.in/0000000000003775.png&q;},{&q;id&q;:43,&q;title&q;:&q;Premium Data Science Course&q;,&q;online_title&q;:&q;premium-data-science-course&q;,&q;offline_title&q;:&q;&q;,&q;name&q;:&q;Premium Data Science Course&q;,&q;level&q;:&q;Foundation Courses&q;,&q;brief_intro&q;:&q;&q;,&q;preview_image_url&q;:&q;&q;,&q;available_online&q;:true,&q;available_offline&q;:false,&q;is_career_track&q;:false,&q;course_group_id&q;:7,&q;classroom_icon_url&q;:&q;https://files.codingninjas.in/0000000000003765.png&q;},{&q;id&q;:42,&q;title&q;:&q;Premium Web Dev Course&q;,&q;online_title&q;:&q;premium-full-stack-web-development-course&q;,&q;offline_title&q;:&q;&q;,&q;name&q;:&q;Premium Full Stack Web Development&q;,&q;level&q;:&q;Foundation Courses&q;,&q;brief_intro&q;:&q;&q;,&q;preview_image_url&q;:&q;&q;,&q;available_online&q;:true,&q;available_offline&q;:false,&q;is_career_track&q;:false,&q;course_group_id&q;:7,&q;classroom_icon_url&q;:&q;https://files.codingninjas.in/0000000000003765.png&q;},{&q;id&q;:41,&q;title&q;:&q;Premium Competitive Course&q;,&q;online_title&q;:&q;premium-competitive-course&q;,&q;offline_title&q;:&q;&q;,&q;name&q;:&q;Premium Competitive Programming Course&q;,&q;level&q;:&q;Foundation Courses&q;,&q;brief_intro&q;:&q;&q;,&q;preview_image_url&q;:&q;&q;,&q;available_online&q;:true,&q;available_offline&q;:false,&q;is_career_track&q;:false,&q;course_group_id&q;:7,&q;classroom_icon_url&q;:&q;https://files.codingninjas.in/0000000000003765.png&q;},{&q;id&q;:45,&q;title&q;:&q;Premium Android Course&q;,&q;online_title&q;:&q;premium-android-app-development-course&q;,&q;offline_title&q;:&q;&q;,&q;name&q;:&q;Premium Android App Development&q;,&q;level&q;:&q;Foundation Courses&q;,&q;brief_intro&q;:&q;&q;,&q;preview_image_url&q;:&q;&q;,&q;available_online&q;:true,&q;available_offline&q;:false,&q;is_career_track&q;:false,&q;course_group_id&q;:7,&q;classroom_icon_url&q;:&q;https://files.codingninjas.in/0000000000003765.png&q;},{&q;id&q;:44,&q;title&q;:&q;Premium Machine Learning Course&q;,&q;online_title&q;:&q;premium-machine-learning-course&q;,&q;offline_title&q;:&q;&q;,&q;name&q;:&q;Premium Machine Learning Course&q;,&q;level&q;:&q;Foundation Courses&q;,&q;brief_intro&q;:&q;&q;,&q;preview_image_url&q;:&q;&q;,&q;available_online&q;:true,&q;available_offline&q;:false,&q;is_career_track&q;:false,&q;course_group_id&q;:7,&q;classroom_icon_url&q;:&q;https://files.codingninjas.in/0000000000003765.png&q;},{&q;id&q;:1,&q;title&q;:&q;C++ &a; Data Structures&q;,&q;online_title&q;:&q;onlline-c-plus-plus-course&q;,&q;offline_title&q;:&q;classroom-c-plus-plus-course&q;,&q;name&q;:&q;C++ Foundation with Data Structures&q;,&q;level&q;:&q;Foundation Courses&q;,&q;brief_intro&q;:&q;Brief Intro&q;,&q;preview_image_url&q;:&q;https://files.codingninjas.in/0000000000001176.png&q;,&q;available_online&q;:true,&q;available_offline&q;:false,&q;is_career_track&q;:false,&q;course_group_id&q;:1,&q;classroom_icon_url&q;:&q;https://files.codingninjas.in/0000000000003771.png&q;},{&q;id&q;:40,&q;title&q;:&q;Data structures and Algorithms [C++/Java/Python]&q;,&q;online_title&q;:&q;premium-foundation-course&q;,&q;offline_title&q;:&q;&q;,&q;name&q;:&q;Premium Data structures and Algorithms [C++/Java/Python]&q;,&q;level&q;:&q;Foundation Courses&q;,&q;brief_intro&q;:&q;&q;,&q;preview_image_url&q;:&q;&q;,&q;available_online&q;:true,&q;available_offline&q;:false,&q;is_career_track&q;:false,&q;course_group_id&q;:7,&q;classroom_icon_url&q;:&q;https://files.codingninjas.in/0000000000003765.png&q;},{&q;id&q;:35,&q;title&q;:&q;Android Developer&q;,&q;online_title&q;:&q;online-android-development-career-track&q;,&q;offline_title&q;:&q;&q;,&q;name&q;:&q;Ninja Android Developer Career Track &q;,&q;level&q;:&q;Career Tracks&q;,&q;brief_intro&q;:&q;beginner to pro Android Developer!&q;,&q;preview_image_url&q;:&q;https://ninjasfiles.s3.amazonaws.com/0000000000001175.png&q;,&q;available_online&q;:true,&q;available_offline&q;:false,&q;is_career_track&q;:true,&q;course_group_id&q;:3,&q;classroom_icon_url&q;:&q;https://files.codingninjas.in/0000000000003774.png&q;},{&q;id&q;:12,&q;title&q;:&q;Web Dev (Full Stack)&q;,&q;online_title&q;:&q;online-full-stack-node-js-web-dev-course&q;,&q;offline_title&q;:&q;&q;,&q;name&q;:&q;Full Stack Web Development&q;,&q;level&q;:&q;Development Courses&q;,&q;brief_intro&q;:&q;Web Development&q;,&q;preview_image_url&q;:&q;https://ninjasfiles.s3.amazonaws.com/0000000000001179.png&q;,&q;available_online&q;:true,&q;available_offline&q;:false,&q;is_career_track&q;:false,&q;course_group_id&q;:2,&q;classroom_icon_url&q;:&q;https://files.codingninjas.in/0000000000003764.png&q;},{&q;id&q;:2,&q;title&q;:&q;Java &a; Data Structures&q;,&q;online_title&q;:&q;online-java-course&q;,&q;offline_title&q;:&q;classroom-java-course&q;,&q;name&q;:&q;JAVA Foundation with Data Structures&q;,&q;level&q;:&q;Foundation Courses&q;,&q;brief_intro&q;:&q;Brief Intro&q;,&q;preview_image_url&q;:&q;https://ninjasfiles.s3.amazonaws.com/0000000000001255.png&q;,&q;available_online&q;:true,&q;available_offline&q;:false,&q;is_career_track&q;:false,&q;course_group_id&q;:1,&q;classroom_icon_url&q;:&q;https://files.codingninjas.in/0000000000003772.png&q;},{&q;id&q;:13,&q;title&q;:&q;Data Science&q;,&q;online_title&q;:&q;online-data-science-course&q;,&q;offline_title&q;:&q;&q;,&q;name&q;:&q;Data Science &a; Machine Learning Complete&q;,&q;level&q;:&q;Advanced Courses&q;,&q;brief_intro&q;:&q;Brief Intro&q;,&q;preview_image_url&q;:&q;https://ninjasfiles.s3.amazonaws.com/0000000000001371.png&q;,&q;available_online&q;:true,&q;available_offline&q;:false,&q;is_career_track&q;:false,&q;course_group_id&q;:2,&q;classroom_icon_url&q;:&q;https://files.codingninjas.in/0000000000003763.png&q;},{&q;id&q;:4,&q;title&q;:&q;Interview Preparation&q;,&q;online_title&q;:&q;online-interview-preparation&q;,&q;offline_title&q;:&q;classroom-interview-preparation&q;,&q;name&q;:&q;Interview Preparation Course&q;,&q;level&q;:&q;Advanced Courses&q;,&q;brief_intro&q;:&q;Brief Intro&q;,&q;preview_image_url&q;:&q;https://ninjasfiles.s3.amazonaws.com/0000000000001178.png&q;,&q;available_online&q;:true,&q;available_offline&q;:false,&q;is_career_track&q;:false,&q;course_group_id&q;:1,&q;classroom_icon_url&q;:&q;https://files.codingninjas.in/0000000000003765.png&q;},{&q;id&q;:36,&q;title&q;:&q;Python &a; Web Dev (MERN)&q;,&q;online_title&q;:&q;ninja-web-developer-career-track-mern-stack&q;,&q;offline_title&q;:&q;&q;,&q;name&q;:&q;Ninja  Web Developer Career Track - NodeJS &a; ReactJs&q;,&q;level&q;:&q;Career Tracks&q;,&q;brief_intro&q;:&q;Programming foundation + MERN Stack Web Development complete Career Track&q;,&q;preview_image_url&q;:&q;https://ninjasfiles.s3.amazonaws.com/0000000000001179.png&q;,&q;available_online&q;:true,&q;available_offline&q;:false,&q;is_career_track&q;:true,&q;course_group_id&q;:3,&q;classroom_icon_url&q;:&q;https://files.codingninjas.in/0000000000003777.png&q;},{&q;id&q;:10,&q;title&q;:&q;Competitive Programming&q;,&q;online_title&q;:&q;online-competitive-programming-course&q;,&q;offline_title&q;:&q;&q;,&q;name&q;:&q;Competitive Programming Course&q;,&q;level&q;:&q;Advanced Courses&q;,&q;brief_intro&q;:&q;Eminence&q;,&q;preview_image_url&q;:&q;https://ninjasfiles.s3.amazonaws.com/0000000000001177.png&q;,&q;available_online&q;:true,&q;available_offline&q;:false,&q;is_career_track&q;:false,&q;course_group_id&q;:1,&q;classroom_icon_url&q;:&q;https://files.codingninjas.in/0000000000003762.png&q;},{&q;id&q;:17,&q;title&q;:&q;C++ &a; Web Dev (Node.js)&q;,&q;online_title&q;:&q;web-developer-career-track&q;,&q;offline_title&q;:&q;&q;,&q;name&q;:&q;Ninja  Web Developer Career Track - NodeJS&q;,&q;level&q;:&q;Career Tracks&q;,&q;brief_intro&q;:&q;Programming foundation + Full Stack Web Development Career Track&q;,&q;preview_image_url&q;:&q;https://ninjasfiles.s3.amazonaws.com/0000000000001179.png&q;,&q;available_online&q;:true,&q;available_offline&q;:false,&q;is_career_track&q;:true,&q;course_group_id&q;:3,&q;classroom_icon_url&q;:&q;https://files.codingninjas.in/0000000000003777.png&q;},{&q;id&q;:33,&q;title&q;:&q;Android (Kotlin)&q;,&q;online_title&q;:&q;online-android-Development-kotlin&q;,&q;offline_title&q;:&q;&q;,&q;name&q;:&q;Android Development with Kotlin&q;,&q;level&q;:&q;Development Courses&q;,&q;brief_intro&q;:&q;Android Development Kotlin&q;,&q;preview_image_url&q;:&q;https://ninjasfiles.s3.amazonaws.com/0000000000001175.png&q;,&q;available_online&q;:true,&q;available_offline&q;:false,&q;is_career_track&q;:false,&q;course_group_id&q;:2,&q;classroom_icon_url&q;:&q;https://files.codingninjas.in/0000000000003761.png&q;},{&q;id&q;:11,&q;title&q;:&q;Python &a; Data Structures&q;,&q;online_title&q;:&q;online-python-course&q;,&q;offline_title&q;:&q;offline-python-course&q;,&q;name&q;:&q;Python Foundation with Data Structures&q;,&q;level&q;:&q;Foundation Courses&q;,&q;brief_intro&q;:&q;Python Foundation&q;,&q;preview_image_url&q;:&q;https://ninjasfiles.s3.amazonaws.com/0000000000001282.png&q;,&q;available_online&q;:true,&q;available_offline&q;:false,&q;is_career_track&q;:false,&q;course_group_id&q;:1,&q;classroom_icon_url&q;:&q;https://files.codingninjas.in/0000000000003773.png&q;},{&q;id&q;:18,&q;title&q;:&q;Data Scientist&q;,&q;online_title&q;:&q;data-Scientist-career-track&q;,&q;offline_title&q;:&q;&q;,&q;name&q;:&q;Ninja Data Scientist Career Track&q;,&q;level&q;:&q;Career Tracks&q;,&q;brief_intro&q;:&q;Programming foundation + Data Science with ML career track&q;,&q;preview_image_url&q;:&q;https://ninjasfiles.s3.amazonaws.com/0000000000001371.png&q;,&q;available_online&q;:true,&q;available_offline&q;:false,&q;is_career_track&q;:true,&q;course_group_id&q;:3,&q;classroom_icon_url&q;:&q;https://files.codingninjas.in/0000000000003778.png&q;},{&q;id&q;:21,&q;title&q;:&q;Aptitude Preparation&q;,&q;online_title&q;:&q;online-aptitude-preparation&q;,&q;offline_title&q;:&q;&q;,&q;name&q;:&q;Aptitude Preparation Course&q;,&q;level&q;:&q;Foundation Courses&q;,&q;brief_intro&q;:&q;Brief Intro&q;,&q;preview_image_url&q;:&q;https://ninjasfiles.s3.amazonaws.com/0000000000001178.png&q;,&q;available_online&q;:true,&q;available_offline&q;:false,&q;is_career_track&q;:false,&q;course_group_id&q;:1,&q;classroom_icon_url&q;:&q;https://files.codingninjas.in/0000000000003770.png&q;},{&q;id&q;:19,&q;title&q;:&q;Machine Learning&q;,&q;online_title&q;:&q;machine-learning-engineer-career-track&q;,&q;offline_title&q;:&q;&q;,&q;name&q;:&q;Ninja Machine Learning Engineer Career Track&q;,&q;level&q;:&q;Career Tracks&q;,&q;brief_intro&q;:&q;Programming foundation + Machine Learning career track&q;,&q;preview_image_url&q;:&q;https://ninjasfiles.s3.amazonaws.com/0000000000001181.png&q;,&q;available_online&q;:true,&q;available_offline&q;:false,&q;is_career_track&q;:true,&q;course_group_id&q;:3,&q;classroom_icon_url&q;:&q;https://files.codingninjas.in/0000000000003776.png&q;}],&q;course_groups&q;:[{&q;id&q;:1,&q;name&q;:&q;Foundation, Algorithmic &a; Advanced&q;,&q;order&q;:1,&q;course_ids&q;:[1,2,4,10,11,21],&q;json_data&q;:{&q;color&q;:&q;#FFEBC2&q;,&q;image_link&q;:&q;https://ninjasfiles.s3.amazonaws.com/0000000000003821.png&q;,&q;text_color&q;:&q;#AC933C&q;,&q;short_description&q;:&q;Foundation courses are designed such that\\xa0&l;strong&g;no prerequisites are required.&l;/strong&g;\\xa0Data Structures(DS) and Algorithms(algo.) parts build on the basics to give you a\\xa0&l;strong&g;solid programming foundation&l;/strong&g;.\\xa0Competitive is where you start to\\xa0&l;strong&g;push the boundaries!&l;/strong&g;&q;,&q;mobile_short_description&q;:&q;Foundation courses are designed such that\\xa0&l;span&g;no prerequisites are required.&l;/span&g;&q;},&q;is_independent&q;:false},{&q;id&q;:2,&q;name&q;:&q;Data &a; Development&q;,&q;order&q;:2,&q;course_ids&q;:[34,6,12,13,33],&q;json_data&q;:{&q;color&q;:&q;#80D4B1&q;,&q;image_link&q;:&q;https://files.codingninjas.in/0000000000003846.svg&q;,&q;text_color&q;:&q;#257D68&q;,&q;short_description&q;:&q;Data courses dwell in the state of the art algorithms and require good knowledge of programming fundamentals. Web development courses use modern JavaScript to build powerful and fast applications from the ground up.\\xa0&l;strong&g;No prior development experience needed&l;/strong&g;&q;,&q;mobile_short_description&q;:&q;Data courses dwell in the state of the art algorithms and require good knowledge of programming fundamentals. Web development courses use modern JavaScript to build powerful and fast applications from the ground up.\\xa0&l;span&g;No prior development experience needed&l;/span&g;&q;},&q;is_independent&q;:false},{&q;id&q;:3,&q;name&q;:&q;Career Track&q;,&q;order&q;:3,&q;course_ids&q;:[16,35,36,17,18,19],&q;json_data&q;:{&q;color&q;:&q;#C898FF&q;,&q;image_link&q;:&q;https://files.codingninjas.in/0000000000003845.svg&q;,&q;text_color&q;:&q;#603CAC&q;,&q;short_description&q;:&q;These are courses that take you from\\xa0&l;strong&g;zero to hero&l;/strong&g;. Each track is designed specifically to cater to a particular goal you can choose and\\xa0&l;strong&g;covers everything you need to learn and assumes no prior knowledge.&l;/strong&g;&q;,&q;mobile_short_description&q;:&q;Each track is designed specifically to cater to a particular goal you can choose and\\xa0&l;span&g;covers everything you need to learn and assumes no prior knowledge.&l;/span&g;&q;},&q;is_independent&q;:true},{&q;id&q;:7,&q;name&q;:&q;Premium Course&q;,&q;order&q;:null,&q;course_ids&q;:[43,42,41,45,44,40],&q;json_data&q;:null,&q;is_independent&q;:true}]},&q;message&q;:&q;Courses&q;,&q;status&q;:200,&q;error&q;:null,&q;disabled&q;:false,&q;update&q;:false,&q;external_rating&q;:null},&q;G.https://api.codingninjas.com/api/v3/courses?&q;:{&q;body&q;:{&q;data&q;:{&q;courses&q;:[{&q;id&q;:34,&q;title&q;:&q;Front End (React)&q;,&q;online_title&q;:&q;online-web-dev-with-react&q;,&q;offline_title&q;:&q;&q;,&q;name&q;:&q;Advanced  Front-End Web Development with React&q;,&q;level&q;:&q;Development Courses&q;,&q;brief_intro&q;:&q;Advanced  Front-End Web Development with React&q;,&q;preview_image_url&q;:&q;https://ninjasfiles.s3.amazonaws.com/0000000000001179.png&q;,&q;available_online&q;:true,&q;available_offline&q;:false,&q;is_career_track&q;:false,&q;course_group_id&q;:2,&q;classroom_icon_url&q;:&q;https://files.codingninjas.in/0000000000003769.png&q;},{&q;id&q;:6,&q;title&q;:&q;Machine Learning&q;,&q;online_title&q;:&q;online-machine-learning-course&q;,&q;offline_title&q;:&q;classroom-machine-learning-course&q;,&q;name&q;:&q;Machine Learning &a; Deep Learning Course&q;,&q;level&q;:&q;Advanced Courses&q;,&q;brief_intro&q;:&q;Machine learning engineers build, implement, and maintain machine learning systems in technology products.&q;,&q;preview_image_url&q;:&q;https://ninjasfiles.s3.amazonaws.com/0000000000001181.png&q;,&q;available_online&q;:true,&q;available_offline&q;:false,&q;is_career_track&q;:false,&q;course_group_id&q;:2,&q;classroom_icon_url&q;:&q;https://files.codingninjas.in/0000000000003766.png&q;},{&q;id&q;:16,&q;title&q;:&q;Competitive Programmer&q;,&q;online_title&q;:&q;online-competitive-programming-track&q;,&q;offline_title&q;:&q;&q;,&q;name&q;:&q;Ninja Competitive Programmer Track&q;,&q;level&q;:&q;Career Tracks&q;,&q;brief_intro&q;:&q;Competitive Track&q;,&q;preview_image_url&q;:&q;https://files.codingninjas.in/0000000000001177.png&q;,&q;available_online&q;:true,&q;available_offline&q;:false,&q;is_career_track&q;:true,&q;course_group_id&q;:3,&q;classroom_icon_url&q;:&q;https://files.codingninjas.in/0000000000003775.png&q;},{&q;id&q;:43,&q;title&q;:&q;Premium Data Science Course&q;,&q;online_title&q;:&q;premium-data-science-course&q;,&q;offline_title&q;:&q;&q;,&q;name&q;:&q;Premium Data Science Course&q;,&q;level&q;:&q;Foundation Courses&q;,&q;brief_intro&q;:&q;&q;,&q;preview_image_url&q;:&q;&q;,&q;available_online&q;:true,&q;available_offline&q;:false,&q;is_career_track&q;:false,&q;course_group_id&q;:7,&q;classroom_icon_url&q;:&q;https://files.codingninjas.in/0000000000003765.png&q;},{&q;id&q;:42,&q;title&q;:&q;Premium Web Dev Course&q;,&q;online_title&q;:&q;premium-full-stack-web-development-course&q;,&q;offline_title&q;:&q;&q;,&q;name&q;:&q;Premium Full Stack Web Development&q;,&q;level&q;:&q;Foundation Courses&q;,&q;brief_intro&q;:&q;&q;,&q;preview_image_url&q;:&q;&q;,&q;available_online&q;:true,&q;available_offline&q;:false,&q;is_career_track&q;:false,&q;course_group_id&q;:7,&q;classroom_icon_url&q;:&q;https://files.codingninjas.in/0000000000003765.png&q;},{&q;id&q;:41,&q;title&q;:&q;Premium Competitive Course&q;,&q;online_title&q;:&q;premium-competitive-course&q;,&q;offline_title&q;:&q;&q;,&q;name&q;:&q;Premium Competitive Programming Course&q;,&q;level&q;:&q;Foundation Courses&q;,&q;brief_intro&q;:&q;&q;,&q;preview_image_url&q;:&q;&q;,&q;available_online&q;:true,&q;available_offline&q;:false,&q;is_career_track&q;:false,&q;course_group_id&q;:7,&q;classroom_icon_url&q;:&q;https://files.codingninjas.in/0000000000003765.png&q;},{&q;id&q;:45,&q;title&q;:&q;Premium Android Course&q;,&q;online_title&q;:&q;premium-android-app-development-course&q;,&q;offline_title&q;:&q;&q;,&q;name&q;:&q;Premium Android App Development&q;,&q;level&q;:&q;Foundation Courses&q;,&q;brief_intro&q;:&q;&q;,&q;preview_image_url&q;:&q;&q;,&q;available_online&q;:true,&q;available_offline&q;:false,&q;is_career_track&q;:false,&q;course_group_id&q;:7,&q;classroom_icon_url&q;:&q;https://files.codingninjas.in/0000000000003765.png&q;},{&q;id&q;:44,&q;title&q;:&q;Premium Machine Learning Course&q;,&q;online_title&q;:&q;premium-machine-learning-course&q;,&q;offline_title&q;:&q;&q;,&q;name&q;:&q;Premium Machine Learning Course&q;,&q;level&q;:&q;Foundation Courses&q;,&q;brief_intro&q;:&q;&q;,&q;preview_image_url&q;:&q;&q;,&q;available_online&q;:true,&q;available_offline&q;:false,&q;is_career_track&q;:false,&q;course_group_id&q;:7,&q;classroom_icon_url&q;:&q;https://files.codingninjas.in/0000000000003765.png&q;},{&q;id&q;:1,&q;title&q;:&q;C++ &a; Data Structures&q;,&q;online_title&q;:&q;onlline-c-plus-plus-course&q;,&q;offline_title&q;:&q;classroom-c-plus-plus-course&q;,&q;name&q;:&q;C++ Foundation with Data Structures&q;,&q;level&q;:&q;Foundation Courses&q;,&q;brief_intro&q;:&q;Brief Intro&q;,&q;preview_image_url&q;:&q;https://files.codingninjas.in/0000000000001176.png&q;,&q;available_online&q;:true,&q;available_offline&q;:false,&q;is_career_track&q;:false,&q;course_group_id&q;:1,&q;classroom_icon_url&q;:&q;https://files.codingninjas.in/0000000000003771.png&q;},{&q;id&q;:40,&q;title&q;:&q;Data structures and Algorithms [C++/Java/Python]&q;,&q;online_title&q;:&q;premium-foundation-course&q;,&q;offline_title&q;:&q;&q;,&q;name&q;:&q;Premium Data structures and Algorithms [C++/Java/Python]&q;,&q;level&q;:&q;Foundation Courses&q;,&q;brief_intro&q;:&q;&q;,&q;preview_image_url&q;:&q;&q;,&q;available_online&q;:true,&q;available_offline&q;:false,&q;is_career_track&q;:false,&q;course_group_id&q;:7,&q;classroom_icon_url&q;:&q;https://files.codingninjas.in/0000000000003765.png&q;},{&q;id&q;:35,&q;title&q;:&q;Android Developer&q;,&q;online_title&q;:&q;online-android-development-career-track&q;,&q;offline_title&q;:&q;&q;,&q;name&q;:&q;Ninja Android Developer Career Track &q;,&q;level&q;:&q;Career Tracks&q;,&q;brief_intro&q;:&q;beginner to pro Android Developer!&q;,&q;preview_image_url&q;:&q;https://ninjasfiles.s3.amazonaws.com/0000000000001175.png&q;,&q;available_online&q;:true,&q;available_offline&q;:false,&q;is_career_track&q;:true,&q;course_group_id&q;:3,&q;classroom_icon_url&q;:&q;https://files.codingninjas.in/0000000000003774.png&q;},{&q;id&q;:12,&q;title&q;:&q;Web Dev (Full Stack)&q;,&q;online_title&q;:&q;online-full-stack-node-js-web-dev-course&q;,&q;offline_title&q;:&q;&q;,&q;name&q;:&q;Full Stack Web Development&q;,&q;level&q;:&q;Development Courses&q;,&q;brief_intro&q;:&q;Web Development&q;,&q;preview_image_url&q;:&q;https://ninjasfiles.s3.amazonaws.com/0000000000001179.png&q;,&q;available_online&q;:true,&q;available_offline&q;:false,&q;is_career_track&q;:false,&q;course_group_id&q;:2,&q;classroom_icon_url&q;:&q;https://files.codingninjas.in/0000000000003764.png&q;},{&q;id&q;:2,&q;title&q;:&q;Java &a; Data Structures&q;,&q;online_title&q;:&q;online-java-course&q;,&q;offline_title&q;:&q;classroom-java-course&q;,&q;name&q;:&q;JAVA Foundation with Data Structures&q;,&q;level&q;:&q;Foundation Courses&q;,&q;brief_intro&q;:&q;Brief Intro&q;,&q;preview_image_url&q;:&q;https://ninjasfiles.s3.amazonaws.com/0000000000001255.png&q;,&q;available_online&q;:true,&q;available_offline&q;:false,&q;is_career_track&q;:false,&q;course_group_id&q;:1,&q;classroom_icon_url&q;:&q;https://files.codingninjas.in/0000000000003772.png&q;},{&q;id&q;:13,&q;title&q;:&q;Data Science&q;,&q;online_title&q;:&q;online-data-science-course&q;,&q;offline_title&q;:&q;&q;,&q;name&q;:&q;Data Science &a; Machine Learning Complete&q;,&q;level&q;:&q;Advanced Courses&q;,&q;brief_intro&q;:&q;Brief Intro&q;,&q;preview_image_url&q;:&q;https://ninjasfiles.s3.amazonaws.com/0000000000001371.png&q;,&q;available_online&q;:true,&q;available_offline&q;:false,&q;is_career_track&q;:false,&q;course_group_id&q;:2,&q;classroom_icon_url&q;:&q;https://files.codingninjas.in/0000000000003763.png&q;},{&q;id&q;:4,&q;title&q;:&q;Interview Preparation&q;,&q;online_title&q;:&q;online-interview-preparation&q;,&q;offline_title&q;:&q;classroom-interview-preparation&q;,&q;name&q;:&q;Interview Preparation Course&q;,&q;level&q;:&q;Advanced Courses&q;,&q;brief_intro&q;:&q;Brief Intro&q;,&q;preview_image_url&q;:&q;https://ninjasfiles.s3.amazonaws.com/0000000000001178.png&q;,&q;available_online&q;:true,&q;available_offline&q;:false,&q;is_career_track&q;:false,&q;course_group_id&q;:1,&q;classroom_icon_url&q;:&q;https://files.codingninjas.in/0000000000003765.png&q;},{&q;id&q;:36,&q;title&q;:&q;Python &a; Web Dev (MERN)&q;,&q;online_title&q;:&q;ninja-web-developer-career-track-mern-stack&q;,&q;offline_title&q;:&q;&q;,&q;name&q;:&q;Ninja  Web Developer Career Track - NodeJS &a; ReactJs&q;,&q;level&q;:&q;Career Tracks&q;,&q;brief_intro&q;:&q;Programming foundation + MERN Stack Web Development complete Career Track&q;,&q;preview_image_url&q;:&q;https://ninjasfiles.s3.amazonaws.com/0000000000001179.png&q;,&q;available_online&q;:true,&q;available_offline&q;:false,&q;is_career_track&q;:true,&q;course_group_id&q;:3,&q;classroom_icon_url&q;:&q;https://files.codingninjas.in/0000000000003777.png&q;},{&q;id&q;:10,&q;title&q;:&q;Competitive Programming&q;,&q;online_title&q;:&q;online-competitive-programming-course&q;,&q;offline_title&q;:&q;&q;,&q;name&q;:&q;Competitive Programming Course&q;,&q;level&q;:&q;Advanced Courses&q;,&q;brief_intro&q;:&q;Eminence&q;,&q;preview_image_url&q;:&q;https://ninjasfiles.s3.amazonaws.com/0000000000001177.png&q;,&q;available_online&q;:true,&q;available_offline&q;:false,&q;is_career_track&q;:false,&q;course_group_id&q;:1,&q;classroom_icon_url&q;:&q;https://files.codingninjas.in/0000000000003762.png&q;},{&q;id&q;:17,&q;title&q;:&q;C++ &a; Web Dev (Node.js)&q;,&q;online_title&q;:&q;web-developer-career-track&q;,&q;offline_title&q;:&q;&q;,&q;name&q;:&q;Ninja  Web Developer Career Track - NodeJS&q;,&q;level&q;:&q;Career Tracks&q;,&q;brief_intro&q;:&q;Programming foundation + Full Stack Web Development Career Track&q;,&q;preview_image_url&q;:&q;https://ninjasfiles.s3.amazonaws.com/0000000000001179.png&q;,&q;available_online&q;:true,&q;available_offline&q;:false,&q;is_career_track&q;:true,&q;course_group_id&q;:3,&q;classroom_icon_url&q;:&q;https://files.codingninjas.in/0000000000003777.png&q;},{&q;id&q;:33,&q;title&q;:&q;Android (Kotlin)&q;,&q;online_title&q;:&q;online-android-Development-kotlin&q;,&q;offline_title&q;:&q;&q;,&q;name&q;:&q;Android Development with Kotlin&q;,&q;level&q;:&q;Development Courses&q;,&q;brief_intro&q;:&q;Android Development Kotlin&q;,&q;preview_image_url&q;:&q;https://ninjasfiles.s3.amazonaws.com/0000000000001175.png&q;,&q;available_online&q;:true,&q;available_offline&q;:false,&q;is_career_track&q;:false,&q;course_group_id&q;:2,&q;classroom_icon_url&q;:&q;https://files.codingninjas.in/0000000000003761.png&q;},{&q;id&q;:11,&q;title&q;:&q;Python &a; Data Structures&q;,&q;online_title&q;:&q;online-python-course&q;,&q;offline_title&q;:&q;offline-python-course&q;,&q;name&q;:&q;Python Foundation with Data Structures&q;,&q;level&q;:&q;Foundation Courses&q;,&q;brief_intro&q;:&q;Python Foundation&q;,&q;preview_image_url&q;:&q;https://ninjasfiles.s3.amazonaws.com/0000000000001282.png&q;,&q;available_online&q;:true,&q;available_offline&q;:false,&q;is_career_track&q;:false,&q;course_group_id&q;:1,&q;classroom_icon_url&q;:&q;https://files.codingninjas.in/0000000000003773.png&q;},{&q;id&q;:18,&q;title&q;:&q;Data Scientist&q;,&q;online_title&q;:&q;data-Scientist-career-track&q;,&q;offline_title&q;:&q;&q;,&q;name&q;:&q;Ninja Data Scientist Career Track&q;,&q;level&q;:&q;Career Tracks&q;,&q;brief_intro&q;:&q;Programming foundation + Data Science with ML career track&q;,&q;preview_image_url&q;:&q;https://ninjasfiles.s3.amazonaws.com/0000000000001371.png&q;,&q;available_online&q;:true,&q;available_offline&q;:false,&q;is_career_track&q;:true,&q;course_group_id&q;:3,&q;classroom_icon_url&q;:&q;https://files.codingninjas.in/0000000000003778.png&q;},{&q;id&q;:21,&q;title&q;:&q;Aptitude Preparation&q;,&q;online_title&q;:&q;online-aptitude-preparation&q;,&q;offline_title&q;:&q;&q;,&q;name&q;:&q;Aptitude Preparation Course&q;,&q;level&q;:&q;Foundation Courses&q;,&q;brief_intro&q;:&q;Brief Intro&q;,&q;preview_image_url&q;:&q;https://ninjasfiles.s3.amazonaws.com/0000000000001178.png&q;,&q;available_online&q;:true,&q;available_offline&q;:false,&q;is_career_track&q;:false,&q;course_group_id&q;:1,&q;classroom_icon_url&q;:&q;https://files.codingninjas.in/0000000000003770.png&q;},{&q;id&q;:19,&q;title&q;:&q;Machine Learning&q;,&q;online_title&q;:&q;machine-learning-engineer-career-track&q;,&q;offline_title&q;:&q;&q;,&q;name&q;:&q;Ninja Machine Learning Engineer Career Track&q;,&q;level&q;:&q;Career Tracks&q;,&q;brief_intro&q;:&q;Programming foundation + Machine Learning career track&q;,&q;preview_image_url&q;:&q;https://ninjasfiles.s3.amazonaws.com/0000000000001181.png&q;,&q;available_online&q;:true,&q;available_offline&q;:false,&q;is_career_track&q;:true,&q;course_group_id&q;:3,&q;classroom_icon_url&q;:&q;https://files.codingninjas.in/0000000000003776.png&q;}],&q;course_groups&q;:[{&q;id&q;:1,&q;name&q;:&q;Foundation, Algorithmic &a; Advanced&q;,&q;order&q;:1,&q;course_ids&q;:[1,2,4,10,11,21],&q;json_data&q;:{&q;color&q;:&q;#FFEBC2&q;,&q;image_link&q;:&q;https://ninjasfiles.s3.amazonaws.com/0000000000003821.png&q;,&q;text_color&q;:&q;#AC933C&q;,&q;short_description&q;:&q;Foundation courses are designed such that\\xa0&l;strong&g;no prerequisites are required.&l;/strong&g;\\xa0Data Structures(DS) and Algorithms(algo.) parts build on the basics to give you a\\xa0&l;strong&g;solid programming foundation&l;/strong&g;.\\xa0Competitive is where you start to\\xa0&l;strong&g;push the boundaries!&l;/strong&g;&q;,&q;mobile_short_description&q;:&q;Foundation courses are designed such that\\xa0&l;span&g;no prerequisites are required.&l;/span&g;&q;},&q;is_independent&q;:false},{&q;id&q;:2,&q;name&q;:&q;Data &a; Development&q;,&q;order&q;:2,&q;course_ids&q;:[34,6,12,13,33],&q;json_data&q;:{&q;color&q;:&q;#80D4B1&q;,&q;image_link&q;:&q;https://files.codingninjas.in/0000000000003846.svg&q;,&q;text_color&q;:&q;#257D68&q;,&q;short_description&q;:&q;Data courses dwell in the state of the art algorithms and require good knowledge of programming fundamentals. Web development courses use modern JavaScript to build powerful and fast applications from the ground up.\\xa0&l;strong&g;No prior development experience needed&l;/strong&g;&q;,&q;mobile_short_description&q;:&q;Data courses dwell in the state of the art algorithms and require good knowledge of programming fundamentals. Web development courses use modern JavaScript to build powerful and fast applications from the ground up.\\xa0&l;span&g;No prior development experience needed&l;/span&g;&q;},&q;is_independent&q;:false},{&q;id&q;:3,&q;name&q;:&q;Career Track&q;,&q;order&q;:3,&q;course_ids&q;:[16,35,36,17,18,19],&q;json_data&q;:{&q;color&q;:&q;#C898FF&q;,&q;image_link&q;:&q;https://files.codingninjas.in/0000000000003845.svg&q;,&q;text_color&q;:&q;#603CAC&q;,&q;short_description&q;:&q;These are courses that take you from\\xa0&l;strong&g;zero to hero&l;/strong&g;. Each track is designed specifically to cater to a particular goal you can choose and\\xa0&l;strong&g;covers everything you need to learn and assumes no prior knowledge.&l;/strong&g;&q;,&q;mobile_short_description&q;:&q;Each track is designed specifically to cater to a particular goal you can choose and\\xa0&l;span&g;covers everything you need to learn and assumes no prior knowledge.&l;/span&g;&q;},&q;is_independent&q;:true},{&q;id&q;:7,&q;name&q;:&q;Premium Course&q;,&q;order&q;:null,&q;course_ids&q;:[43,42,41,45,44,40],&q;json_data&q;:null,&q;is_independent&q;:true}]},&q;message&q;:&q;Courses&q;,&q;status&q;:200,&q;error&q;:null,&q;disabled&q;:false,&q;update&q;:false,&q;external_rating&q;:null},&q;headers&q;:{&q;date&q;:[&q;Sun, 21 Mar 2021 08:36:56 GMT&q;],&q;content-type&q;:[&q;application/json&q;],&q;transfer-encoding&q;:[&q;chunked&q;],&q;connection&q;:[&q;keep-alive&q;],&q;server&q;:[&q;nginx&q;],&q;x-frame-options&q;:[&q;SAMEORIGIN&q;],&q;x-xss-protection&q;:[&q;1; mode=block&q;],&q;x-content-type-options&q;:[&q;nosniff&q;],&q;access-control-allow-origin&q;:[&q;*&q;],&q;access-control-allow-methods&q;:[&q;POST, GET, PATCH, PUT, DELETE, OPTIONS&q;],&q;access-control-allow-headers&q;:[&q;Access-Control-Allow-Headers, Origin,Accept, X-Requested-With, Content-Type, Access-Control-Request-Method, Access-Control-Request-Headers, Authorization&q;],&q;access-control-max-age&q;:[&q;1728000&q;],&q;vary&q;:[&q;Accept-Encoding&q;],&q;etag&q;:[&q;W/\\\\&q;23fdbaae09bd3ff6b23fe773e5dfb608\\\\&q;&q;],&q;cache-control&q;:[&q;max-age=0, private, must-revalidate&q;],&q;x-request-id&q;:[&q;06f605ac-1391-40c7-aa5b-37a4238d13f3&q;],&q;x-runtime&q;:[&q;0.011401&q;],&q;strict-transport-security&q;:[&q;max-age=31536000; includeSubDomains;&q;]},&q;status&q;:200,&q;statusText&q;:&q;OK&q;,&q;url&q;:&q;https://api.codingninjas.com/api/v3/courses&q;},&q;https://api.codingninjas.com/api/v3/extra_info_banner_data&q;:{&q;data&q;:{&q;visibility&q;:true,&q;title&q;:&q;Career Camp Banner&q;,&q;web_view_url&q;:&q;https://files.codingninjas.in/careercamp-home-desktop-6032.svg&q;,&q;mobile_view_url&q;:&q;https://files.codingninjas.in/careercamp-home-mobile-6033.svg&q;,&q;redirect_url&q;:&q;https://careercamp.codingninjas.com/&q;},&q;message&q;:&q;Extra Info Banner Data&q;,&q;status&q;:200,&q;error&q;:null,&q;disabled&q;:false,&q;update&q;:false,&q;external_rating&q;:null},&q;G.https://api.codingninjas.com/api/v3/extra_info_banner_data?&q;:{&q;body&q;:{&q;data&q;:{&q;visibility&q;:true,&q;title&q;:&q;Career Camp Banner&q;,&q;web_view_url&q;:&q;https://files.codingninjas.in/careercamp-home-desktop-6032.svg&q;,&q;mobile_view_url&q;:&q;https://files.codingninjas.in/careercamp-home-mobile-6033.svg&q;,&q;redirect_url&q;:&q;https://careercamp.codingninjas.com/&q;},&q;message&q;:&q;Extra Info Banner Data&q;,&q;status&q;:200,&q;error&q;:null,&q;disabled&q;:false,&q;update&q;:false,&q;external_rating&q;:null},&q;headers&q;:{&q;date&q;:[&q;Sun, 21 Mar 2021 08:36:56 GMT&q;],&q;content-type&q;:[&q;application/json&q;],&q;transfer-encoding&q;:[&q;chunked&q;],&q;connection&q;:[&q;keep-alive&q;],&q;server&q;:[&q;nginx&q;],&q;x-frame-options&q;:[&q;SAMEORIGIN&q;],&q;x-xss-protection&q;:[&q;1; mode=block&q;],&q;x-content-type-options&q;:[&q;nosniff&q;],&q;access-control-allow-origin&q;:[&q;*&q;],&q;access-control-allow-methods&q;:[&q;POST, GET, PATCH, PUT, DELETE, OPTIONS&q;],&q;access-control-allow-headers&q;:[&q;Access-Control-Allow-Headers, Origin,Accept, X-Requested-With, Content-Type, Access-Control-Request-Method, Access-Control-Request-Headers, Authorization&q;],&q;access-control-max-age&q;:[&q;1728000&q;],&q;vary&q;:[&q;Accept-Encoding&q;],&q;etag&q;:[&q;W/\\\\&q;617cf0218ea306a85ac80b4d0b080a42\\\\&q;&q;],&q;cache-control&q;:[&q;max-age=0, private, must-revalidate&q;],&q;x-request-id&q;:[&q;a2460887-b014-40f1-86c5-1d4c6e80b4fa&q;],&q;x-runtime&q;:[&q;0.006221&q;],&q;strict-transport-security&q;:[&q;max-age=31536000; includeSubDomains;&q;]},&q;status&q;:200,&q;statusText&q;:&q;OK&q;,&q;url&q;:&q;https://api.codingninjas.com/api/v3/extra_info_banner_data&q;},&q;https://api.codingninjas.com/api/v3/home_data&q;:{&q;data&q;:{&q;home_data&q;:{&q;title&q;:&q;Coding Ninjas – Learn coding online at India’s best coding institute&q;,&q;metadata&q;:&q;With live 1:1 mentor support, get your doubts resolved via Audio Call, Video Call and Screen Share from the Teaching Assistants at Coding Ninjas.&q;,&q;keywords&q;:&q;learn coding online&q;,&q;intro_section&q;:{&q;title&q;:&q;CODING NINJAS&q;,&q;subtitle&q;:&q;Think, Create &a; Innovate. That’s the power of programming. Be a Ninja and build your own world&q;,&q;stats&q;:[{&q;name&q;:&q;Placements in tech giants&q;,&q;value&q;:&q;5000&q;},{&q;name&q;:&q;Students trained&q;,&q;value&q;:&q;20,000+&q;},{&q;name&q;:&q;Courses Offered&q;,&q;value&q;:&q;09&q;}],&q;enquiry&q;:{&q;message&q;:&q;We strive for teaching most up-to-date programming technologies. Our dynamic curriculum has been designed and refined by our founding members-a team of seasoned software developers and tech executives.&q;,&q;placeholder&q;:&q;Enter your number&q;,&q;subtext&q;:&q;and we will guide you&q;},&q;first_card&q;:{&q;title&q;:&q;LEARN&q;,&q;subtitle&q;:&q;Go To Classroom&q;,&q;image_url&q;:&q;https://files.codingninjas.in/0000000000001052.png&q;,&q;action_url&q;:&q;https://codingninjas.in/app/classroom&q;},&q;second_card&q;:{&q;title&q;:&q;PRACTICE&q;,&q;subtitle&q;:&q;Practice on CodeZen&q;,&q;image_url&q;:&q;https://files.codingninjas.in/0000000000001053.png&q;,&q;action_url&q;:&q;https://codezen.codingninjas.com/dashboard&q;},&q;carousel_subsection&q;:{&q;title&q;:&q;Don&s;t miss, stay tuned!&q;,&q;carousel_contents&q;:[{&q;content_type&q;:&q;testimonial&q;,&q;title&q;:&q;Divyansh Chowdhary&q;,&q;image_url&q;:&q;https://files.codingninjas.in/0000000000002692.png&q;,&q;subtitle&q;:&q;Microsoft&q;,&q;content&q;:&q;I had a great learning experience with Coding Ninjas.The concepts were clearly explained by the teachers, especially the way Ankush teaches, makes it more fun and easy. It provided me a perfect foundation.&q;},{&q;content_type&q;:&q;testimonial&q;,&q;title&q;:&q;Ishan Arora&q;,&q;image_url&q;:&q;https://files.codingninjas.in/0000000000002693.png&q;,&q;subtitle&q;:&q;Atlassian&q;,&q;content&q;:&q;My experience with Coding Ninjas was great, both as a student and as a TA later on. The lectures were quite student friendly and the faculty here is amazing. It really helped me enhance my programming skills.&q;},{&q;content_type&q;:&q;testimonial&q;,&q;title&q;:&q;Anjali Garg&q;,&q;image_url&q;:&q;https://files.codingninjas.in/0000000000002695.png&q;,&q;subtitle&q;:&q;Google&q;,&q;content&q;:&q;The course structure was really good and covered most of the topics which attracted my attention. Each of the faculty member especially Ankush Sir did a great job taking each topic to a great clarity level.&q;},{&q;content_type&q;:&q;testimonial&q;,&q;title&q;:&q;Kashish Chanana&q;,&q;image_url&q;:&q;https://files.codingninjas.in/0000000000002694.png&q;,&q;subtitle&q;:&q;SAP Labs&q;,&q;content&q;:&q;Coding Ninjas is a one stop destination for understanding data structures and building algorithms from scratch.With great quality online content and video support, difficult topics are presented in a simplified manner.&q;},{&q;content_type&q;:&q;testimonial&q;,&q;title&q;:&q;Priyansh Verma&q;,&q;image_url&q;:&q;https://files.codingninjas.in/0000000000002696.png&q;,&q;subtitle&q;:&q;Tower Research Capital&q;,&q;content&q;:&q;My experience with Coding Ninjas was absolutely great! The doubt resolution in classroom programmes is amazing, because the TAs are helpful. The course content is to-the-point and apt.&q;}]}},&q;companies_section&q;:{&q;visibility&q;:true,&q;title&q;:&q;Where Our Alumni Work&q;,&q;companies&q;:[{&q;name&q;:&q;Google&q;,&q;logo_image_url&q;:&q;https://files.codingninjas.in/0000000000001235.png&q;},{&q;name&q;:&q;Amazon&q;,&q;logo_image_url&q;:&q;https://files.codingninjas.in/0000000000001231.png&q;},{&q;name&q;:&q;Microsoft&q;,&q;logo_image_url&q;:&q;https://files.codingninjas.in/0000000000001236.png&q;},{&q;name&q;:&q;Expedia&q;,&q;logo_image_url&q;:&q;https://files.codingninjas.in/0000000000001232.png&q;},{&q;name&q;:&q;Adobe&q;,&q;logo_image_url&q;:&q;https://files.codingninjas.in/0000000000001230.png&q;},{&q;name&q;:&q;OYO&q;,&q;logo_image_url&q;:&q;https://files.codingninjas.in/0000000000001342.png&q;},{&q;name&q;:&q;Flipkart&q;,&q;logo_image_url&q;:&q;https://files.codingninjas.in/0000000000001233.png&q;},{&q;name&q;:&q;Samsung&q;,&q;logo_image_url&q;:&q;https://files.codingninjas.in/0000000000001238.png&q;},{&q;name&q;:&q;Morgan Stanley&q;,&q;logo_image_url&q;:&q;https://files.codingninjas.in/0000000000001237.png&q;},{&q;name&q;:&q;Walmart&q;,&q;logo_image_url&q;:&q;https://files.codingninjas.in/0000000000001239.png&q;}]},&q;features_section&q;:{&q;title&q;:&q;Why choose Coding Ninjas?&q;,&q;feature_items&q;:[{&q;title&q;:&q;Exceptional Faculty&q;,&q;description&q;:&q;Our faculty is from the best institutes around the world such as IITD, Stanford and more. They also have work experience in tech giants like Amazon, Facebook, Adobe which makes them exceptional.&q;,&q;image_url&q;:&q;https://files.codingninjas.in/0000000000001185.png&q;},{&q;title&q;:&q;Mentor Support&q;,&q;description&q;:&q;An incredible mentor support is provided where 1 teaching assistant is assigned to 10 students. The TA’s are top performers alumni dedicated to support and clear doubts at any point of time.&q;,&q;image_url&q;:&q;https://files.codingninjas.in/0000000000001187.png&q;},{&q;title&q;:&q;CodeZen&q;,&q;description&q;:&q;An online platform using proprietary technologies, social elements and well-crafted content curriculum delivering the finest learning experience.&q;,&q;image_url&q;:&q;https://files.codingninjas.in/0000000000001183.png&q;},{&q;title&q;:&q;Premium CodingNinjas account on Hirist&q;,&q;description&q;:&q;We do not make false promise to provide 100 % placements rather help students based on their performance. Our students are placed at bigwigs like Adobe, Amazon, Microsoft and many more.&q;,&q;image_url&q;:&q;https://files.codingninjas.in/0000000000004383.png&q;},{&q;title&q;:&q;Course curriculum&q;,&q;description&q;:&q;Industry leading curriculum designed by expert developers turned educators who have invested time to create quality content infused with unique teaching methodology.&q;,&q;image_url&q;:&q;https://files.codingninjas.in/0000000000001184.png&q;},{&q;title&q;:&q;Get Secured with Certificate&q;,&q;description&q;:&q;The student will be provided the certificates which are signed by instructors and have our logo on it which will help them secure their career and increase job prospects with certificates signed by us.&q;,&q;image_url&q;:&q;https://files.codingninjas.in/0000000000001182.png&q;}]},&q;about_us_video&q;:{&q;title&q;:&q;Journey from a Beginner to PRO!&q;,&q;description&q;:&q;A sneak peek of how students become a Pro through industry-vetted online courses by the expert industry mentors&q;,&q;video_id&q;:&q;Kdhje-gdviw&q;,&q;video_overlay_text&q;:&q;Be a Ninja&q;},&q;reviews_section&q;:{&q;title&q;:&q;What our students say about us&q;,&q;description&q;:&q;Here, they share their Coding Ninjas reviews and journeys to victory.&q;,&q;hero_review&q;:{&q;name&q;:&q;Vaibhav Mehra&q;,&q;designation&q;:&q;Full-Stack Web Developer&q;,&q;organization&q;:&q;Edelweiss&q;,&q;video_id&q;:&q;oSJnEH2Cb4k&q;},&q;reviews&q;:[{&q;name&q;:&q;Sukriti Macker&q;,&q;designation&q;:&q;Student&q;,&q;organization&q;:&q;Maharaja Agrasen Institute of Technology&q;,&q;image_url&q;:&q;https://files.codingninjas.in/0000000000001222.png&q;,&q;review&q;:&q;I was a beginner in Coding, but the way the Nidhi Ma’am taught was exceptionally good!The concepts she taught were so easy to understand. Mentors will help you out at every step! Whatever course you may take, you will be offered the best faculty. I would recommend you to join and it will be the best experience. I guarantee!&q;},{&q;name&q;:&q;Shivam Aggarwal&q;,&q;designation&q;:&q;Software Developer&q;,&q;organization&q;:&q;Amazon&q;,&q;image_url&q;:&q;https://files.codingninjas.in/0000000000001217.png&q;,&q;review&q;:&q;I did three courses and was extremely happy with all the courses. They provide quality content, the support from faculty and mentors was amazing. It helped me a lot in preparing for my interview rounds for the different companies. Finally I would say that it is a place to develop attitude and skills required at the industry level.&q;},{&q;name&q;:&q;Yash Kapoor&q;,&q;designation&q;:&q;Placed&q;,&q;organization&q;:&q;Microsoft | Thapar Institute of Engineering &a; Technology&q;,&q;image_url&q;:&q;https://files.codingninjas.in/0000000000001228.png&q;,&q;review&q;:&q;Coding Ninjas plays a big role in my success. It is a place which teaches you to find a solution rather than knowing a solution and builds up a great foundation for any student. Being an electronics engineer, it was difficult to enter the field of programming and my life would have been completely different without Coding Ninjas support.&q;},{&q;name&q;:&q;Tanya Singh&q;,&q;designation&q;:&q;Software Developer&q;,&q;organization&q;:&q;Expedia&q;,&q;image_url&q;:&q;https://files.codingninjas.in/0000000000001224.png&q;,&q;review&q;:&q;I joined the course after knowing that it has helped a lot of students in securing good jobs. The course content was really good that I took another course which helped me grab an internship at Amazon and then finally got placed at Expedia. I feel everyone must join as it a place which will the elevate level of your skills, no matter how high it is!&q;},{&q;name&q;:&q;Sahil Harwani&q;,&q;designation&q;:&q;Student&q;,&q;organization&q;:&q;Delhi Technological University&q;,&q;image_url&q;:&q;https://files.codingninjas.in/0000000000001214.png&q;,&q;review&q;:&q;Amazing experience at Coding Ninjas. It was an extremely good atmosphere for learning as the teachers are very nice and sweet and most importantly they teach very well. The CodeZen is also very well built, they have hint videos and other online doubt resolution system as well. I will be enrolling myself in another course very soon.&q;},{&q;name&q;:&q;Ishtmeet Singh&q;,&q;designation&q;:&q;Student&q;,&q;organization&q;:&q;Indian Institute of Technology Banaras&q;,&q;image_url&q;:&q;https://files.codingninjas.in/0000000000001200.png&q;,&q;review&q;:&q;I enrolled into C++ with data structures at Coding Ninjas. I got admission into IIT but as a fresher I didn&s;t know anything about programming. After joining here, I have learnt a lot. Coding Ninjas&s; practice modules and lectures are perfect and cover easy as well as hard coding questions. I am now capable to think logics for the questions easily.&q;}]},&q;blogs_section&q;:{&q;title&q;:&q;Blogs &q;,&q;blog_items&q;:[{&q;title&q;:&q;Coding Ninjas reboot Career Camp with Ninjas Pro &a; Ninjas Scholar Programmes&q;,&q;description&q;:&q;Career Camp reboot is a promising opportunity for students to get hands-on experience with industry mentors and scale their career to new heights.&q;,&q;image_url&q;:&q;https://files.codingninjas.in/career-camp-coding-ninjas-ninjas-scholar-ninjas-pro-coding-ninjas-blog-5237.png\\\\t&q;,&q;action_url&q;:&q;https://www.codingninjas.com/blog/2020/08/14/coding-ninjas-reboot-career-camp-with-ninja-pro-ninja-scholar-programmes/&q;},{&q;title&q;:&q;Suryansh Gupta: A computer Science novice to securing a PPO with Microsoft IDC&q;,&q;description&q;:&q;He was selected for a direct interview at Google after from Google Kickstart and has interned and received a Pre-Placement Offer (PPO) from Microsoft IDC.&q;,&q;image_url&q;:&q;https://files.codingninjas.in/suryansh-gupta-microsoft-intern-43-lpa-coding-ninjas-blog-5236.png\\\\t&q;,&q;action_url&q;:&q;https://www.codingninjas.com/blog/2020/09/02/suryansh-gupta-a-computer-science-novice-to-a-ppo-with-microsoft-idc/&q;},{&q;title&q;:&q;What’s new in Android 11.0?&q;,&q;description&q;:&q;Android 11.0 is here and is considered to be the eleventh major release of Android, out of the eighteen versions of Android.&q;,&q;image_url&q;:&q;https://files.codingninjas.in/android-11-highlights-coding-ninjas-blog-5238.png\\\\t&q;,&q;action_url&q;:&q;https://www.codingninjas.com/blog/2020/09/14/whats-new-in-android-11-0/&q;}]},&q;teams_section&q;:{&q;title&q;:&q;In-house Ninjas&q;,&q;description&q;:&q;Get trained from the team of young code enthusiasts as well as the intellectual minds who have studied from prestigious universities and worked at big tech giants with years of teaching experience.&q;,&q;team&q;:[{&q;name&q;:&q;Ankush Singla&q;,&q;description&q;:&q;He holds a Bachelor’s degree in Computer Science from India’s most premier institute - IIT Delhi and a Master’s degree in Computer Science from Stanford University. He is a coding enthusiast and has worked with bigwigs like Amazon and Facebook in the past.&q;,&q;image_url&q;:&q;https://files.codingninjas.in/ankush-singla-co-founder-instructor-iit-delhi-stanford-ex-facebook-amazon-5235.png\\\\t&q;,&q;designation&q;:&q;Co-Founder &a; Instructor&q;},{&q;name&q;:&q;Nidhi Agarwal&q;,&q;description&q;:&q;She holds a Master’s degree in Technology from IIIT Delhi and has a great command on programming concepts. She has taught the Fundamentals and Data Structures in Java &a; C++ for four years now.&q;,&q;image_url&q;:&q;https://files.codingninjas.in/nidhi-agarwal-instructor-founding-member-coding-ninjas-ex-iiit-delhi-5232.png\\\\t&q;,&q;designation&q;:&q;Founding Member &a; Instructor&q;},{&q;name&q;:&q;Manisha Khattar&q;,&q;description&q;:&q;She holds a Master’s from IIIT Delhi and has more than four years of teaching experience in advanced level C++, Java and Android courses. Her data analytics research work has been published in prestigious conferences.&q;,&q;image_url&q;:&q;https://files.codingninjas.in/manisha-khattar-instructor-founding-member-coding-ninjas-software-engineer-google-5233.png\\\\t&q;,&q;designation&q;:&q;Founding Member &a; Instructor&q;},{&q;name&q;:&q;Arpan Garg&q;,&q;description&q;:&q;He holds a Bachelor’s degree in Electronics &a; Communications and is well versed with Angular, React.JS and Python. He has been the organiser of Google Developers Group and has previously worked with companies like Spice Labs, Creative India and Kalpavriksh Healthcare.&q;,&q;image_url&q;:&q;https://files.codingninjas.in/arpan-garg-instructor-coding-ninjas-5230.png\\\\t&q;,&q;designation&q;:&q;Founding Member &a; Instructor&q;},{&q;name&q;:&q;Parikh Jain&q;,&q;description&q;:&q;He holds a Bachelor’s degree in Computer Science from Delhi Technological University (DTU) and is currently working with Coding Ninjas. He has contributed majorly towards CodeZen, an online platform of Coding Ninjas for students to learn and take attempts in coding.&q;,&q;image_url&q;:&q;https://files.codingninjas.in/parikh-jain-instructor-founding-member-coding-ninjas-ex-dtu-amazon-5231.png\\\\t&q;,&q;designation&q;:&q;Software Developer &a; Instructor&q;},{&q;name&q;:&q;Rohan Arora&q;,&q;description&q;:&q;He holds a Bachelor&s;s degree in Computer Science and is a die-hard programmer. He has been an organiser at the Google Developers Group (GDG) and has vast experience in android development and has published many android apps on Google Play Store.&q;,&q;image_url&q;:&q;https://files.codingninjas.in/rohan-arora-tech-lead-instructor-coding-ninjas-5234.png\\\\t&q;,&q;designation&q;:&q;Tech Lead &a; Instructor&q;},{&q;name&q;:&q;Navdeep Sandhu&q;,&q;description&q;:&q;He holds a Bachelor&s;s degree in Information &a; Technology and has previously worked with firms like Ernst and Young. He works tirelessly for the student support and works closely with teaching assistants to enhance the student experience during their formative classes.&q;,&q;image_url&q;:&q;https://files.codingninjas.in/navdeep-sandhu-instructor-content-developer-coding-ninjas-5228.jpg&q;,&q;designation&q;:&q;Content Developer &a; Instructor&q;},{&q;name&q;:&q;Aakash Tyagi&q;,&q;description&q;:&q;He is expert in JavaScript &a; React(Front-end) and worked on Open source projects like Firebug and Zulip. He served as a GCI(Google Code-In) Mentor with Zulip. In his previous roles in the past 3 years as a Software Engineer and worked for companies like Goibibo-MMT.&q;,&q;image_url&q;:&q;https://files.codingninjas.in/aakash-tyagi-instructor-coding-ninjas-ex-mmt-5227.jpg&q;,&q;designation&q;:&q;Software Engineer &a; Instructor&q;}]},&q;courses&q;:[{&q;id&q;:34,&q;title&q;:&q;Front End (React)&q;,&q;online_title&q;:&q;online-web-dev-with-react&q;,&q;offline_title&q;:&q;&q;,&q;name&q;:&q;Advanced  Front-End Web Development with React&q;,&q;level&q;:&q;Development Courses&q;,&q;brief_intro&q;:&q;Advanced  Front-End Web Development with React&q;,&q;preview_image_url&q;:&q;https://ninjasfiles.s3.amazonaws.com/0000000000001179.png&q;,&q;available_online&q;:true,&q;available_offline&q;:false,&q;is_career_track&q;:false,&q;course_group_id&q;:2,&q;classroom_icon_url&q;:&q;https://files.codingninjas.in/0000000000003769.png&q;},{&q;id&q;:12,&q;title&q;:&q;Web Dev (Full Stack)&q;,&q;online_title&q;:&q;online-full-stack-node-js-web-dev-course&q;,&q;offline_title&q;:&q;&q;,&q;name&q;:&q;Full Stack Web Development&q;,&q;level&q;:&q;Development Courses&q;,&q;brief_intro&q;:&q;Web Development&q;,&q;preview_image_url&q;:&q;https://ninjasfiles.s3.amazonaws.com/0000000000001179.png&q;,&q;available_online&q;:true,&q;available_offline&q;:false,&q;is_career_track&q;:false,&q;course_group_id&q;:2,&q;classroom_icon_url&q;:&q;https://files.codingninjas.in/0000000000003764.png&q;},{&q;id&q;:17,&q;title&q;:&q;C++ &a; Web Dev (Node.js)&q;,&q;online_title&q;:&q;web-developer-career-track&q;,&q;offline_title&q;:&q;&q;,&q;name&q;:&q;Ninja  Web Developer Career Track - NodeJS&q;,&q;level&q;:&q;Career Tracks&q;,&q;brief_intro&q;:&q;Programming foundation + Full Stack Web Development Career Track&q;,&q;preview_image_url&q;:&q;https://ninjasfiles.s3.amazonaws.com/0000000000001179.png&q;,&q;available_online&q;:true,&q;available_offline&q;:false,&q;is_career_track&q;:true,&q;course_group_id&q;:3,&q;classroom_icon_url&q;:&q;https://files.codingninjas.in/0000000000003777.png&q;},{&q;id&q;:41,&q;title&q;:&q;Premium Competitive Course&q;,&q;online_title&q;:&q;premium-competitive-course&q;,&q;offline_title&q;:&q;&q;,&q;name&q;:&q;Premium Competitive Programming Course&q;,&q;level&q;:&q;Foundation Courses&q;,&q;brief_intro&q;:&q;&q;,&q;preview_image_url&q;:&q;&q;,&q;available_online&q;:true,&q;available_offline&q;:false,&q;is_career_track&q;:false,&q;course_group_id&q;:7,&q;classroom_icon_url&q;:&q;https://files.codingninjas.in/0000000000003765.png&q;},{&q;id&q;:11,&q;title&q;:&q;Python &a; Data Structures&q;,&q;online_title&q;:&q;online-python-course&q;,&q;offline_title&q;:&q;offline-python-course&q;,&q;name&q;:&q;Python Foundation with Data Structures&q;,&q;level&q;:&q;Foundation Courses&q;,&q;brief_intro&q;:&q;Python Foundation&q;,&q;preview_image_url&q;:&q;https://ninjasfiles.s3.amazonaws.com/0000000000001282.png&q;,&q;available_online&q;:true,&q;available_offline&q;:false,&q;is_career_track&q;:false,&q;course_group_id&q;:1,&q;classroom_icon_url&q;:&q;https://files.codingninjas.in/0000000000003773.png&q;},{&q;id&q;:5,&q;title&q;:&q;Web Development in RoR&q;,&q;online_title&q;:&q;online_alchemy&q;,&q;offline_title&q;:&q;classroom-web-development-course&q;,&q;name&q;:&q;Web Development with Ruby on Rails&q;,&q;level&q;:&q;Advanced Courses&q;,&q;brief_intro&q;:&q;Brief Intro&q;,&q;preview_image_url&q;:&q;https://ninjasfiles.s3.amazonaws.com/0000000000001179.png&q;,&q;available_online&q;:false,&q;available_offline&q;:true,&q;is_career_track&q;:false,&q;course_group_id&q;:2,&q;classroom_icon_url&q;:&q;https://files.codingninjas.in/0000000000003779.png&q;},{&q;id&q;:36,&q;title&q;:&q;Python &a; Web Dev (MERN)&q;,&q;online_title&q;:&q;ninja-web-developer-career-track-mern-stack&q;,&q;offline_title&q;:&q;&q;,&q;name&q;:&q;Ninja  Web Developer Career Track - NodeJS &a; ReactJs&q;,&q;level&q;:&q;Career Tracks&q;,&q;brief_intro&q;:&q;Programming foundation + MERN Stack Web Development complete Career Track&q;,&q;preview_image_url&q;:&q;https://ninjasfiles.s3.amazonaws.com/0000000000001179.png&q;,&q;available_online&q;:true,&q;available_offline&q;:false,&q;is_career_track&q;:true,&q;course_group_id&q;:3,&q;classroom_icon_url&q;:&q;https://files.codingninjas.in/0000000000003777.png&q;},{&q;id&q;:21,&q;title&q;:&q;Aptitude Preparation&q;,&q;online_title&q;:&q;online-aptitude-preparation&q;,&q;offline_title&q;:&q;&q;,&q;name&q;:&q;Aptitude Preparation Course&q;,&q;level&q;:&q;Foundation Courses&q;,&q;brief_intro&q;:&q;Brief Intro&q;,&q;preview_image_url&q;:&q;https://ninjasfiles.s3.amazonaws.com/0000000000001178.png&q;,&q;available_online&q;:true,&q;available_offline&q;:false,&q;is_career_track&q;:false,&q;course_group_id&q;:1,&q;classroom_icon_url&q;:&q;https://files.codingninjas.in/0000000000003770.png&q;},{&q;id&q;:1,&q;title&q;:&q;C++ &a; Data Structures&q;,&q;online_title&q;:&q;onlline-c-plus-plus-course&q;,&q;offline_title&q;:&q;classroom-c-plus-plus-course&q;,&q;name&q;:&q;C++ Foundation with Data Structures&q;,&q;level&q;:&q;Foundation Courses&q;,&q;brief_intro&q;:&q;Brief Intro&q;,&q;preview_image_url&q;:&q;https://files.codingninjas.in/0000000000001176.png&q;,&q;available_online&q;:true,&q;available_offline&q;:false,&q;is_career_track&q;:false,&q;course_group_id&q;:1,&q;classroom_icon_url&q;:&q;https://files.codingninjas.in/0000000000003771.png&q;},{&q;id&q;:4,&q;title&q;:&q;Interview Preparation&q;,&q;online_title&q;:&q;online-interview-preparation&q;,&q;offline_title&q;:&q;classroom-interview-preparation&q;,&q;name&q;:&q;Interview Preparation Course&q;,&q;level&q;:&q;Advanced Courses&q;,&q;brief_intro&q;:&q;Brief Intro&q;,&q;preview_image_url&q;:&q;https://ninjasfiles.s3.amazonaws.com/0000000000001178.png&q;,&q;available_online&q;:true,&q;available_offline&q;:false,&q;is_career_track&q;:false,&q;course_group_id&q;:1,&q;classroom_icon_url&q;:&q;https://files.codingninjas.in/0000000000003765.png&q;},{&q;id&q;:19,&q;title&q;:&q;Machine Learning&q;,&q;online_title&q;:&q;machine-learning-engineer-career-track&q;,&q;offline_title&q;:&q;&q;,&q;name&q;:&q;Ninja Machine Learning Engineer Career Track&q;,&q;level&q;:&q;Career Tracks&q;,&q;brief_intro&q;:&q;Programming foundation + Machine Learning career track&q;,&q;preview_image_url&q;:&q;https://ninjasfiles.s3.amazonaws.com/0000000000001181.png&q;,&q;available_online&q;:true,&q;available_offline&q;:false,&q;is_career_track&q;:true,&q;course_group_id&q;:3,&q;classroom_icon_url&q;:&q;https://files.codingninjas.in/0000000000003776.png&q;},{&q;id&q;:6,&q;title&q;:&q;Machine Learning&q;,&q;online_title&q;:&q;online-machine-learning-course&q;,&q;offline_title&q;:&q;classroom-machine-learning-course&q;,&q;name&q;:&q;Machine Learning &a; Deep Learning Course&q;,&q;level&q;:&q;Advanced Courses&q;,&q;brief_intro&q;:&q;Machine learning engineers build, implement, and maintain machine learning systems in technology products.&q;,&q;preview_image_url&q;:&q;https://ninjasfiles.s3.amazonaws.com/0000000000001181.png&q;,&q;available_online&q;:true,&q;available_offline&q;:false,&q;is_career_track&q;:false,&q;course_group_id&q;:2,&q;classroom_icon_url&q;:&q;https://files.codingninjas.in/0000000000003766.png&q;},{&q;id&q;:13,&q;title&q;:&q;Data Science&q;,&q;online_title&q;:&q;online-data-science-course&q;,&q;offline_title&q;:&q;&q;,&q;name&q;:&q;Data Science &a; Machine Learning Complete&q;,&q;level&q;:&q;Advanced Courses&q;,&q;brief_intro&q;:&q;Brief Intro&q;,&q;preview_image_url&q;:&q;https://ninjasfiles.s3.amazonaws.com/0000000000001371.png&q;,&q;available_online&q;:true,&q;available_offline&q;:false,&q;is_career_track&q;:false,&q;course_group_id&q;:2,&q;classroom_icon_url&q;:&q;https://files.codingninjas.in/0000000000003763.png&q;},{&q;id&q;:18,&q;title&q;:&q;Data Scientist&q;,&q;online_title&q;:&q;data-Scientist-career-track&q;,&q;offline_title&q;:&q;&q;,&q;name&q;:&q;Ninja Data Scientist Career Track&q;,&q;level&q;:&q;Career Tracks&q;,&q;brief_intro&q;:&q;Programming foundation + Data Science with ML career track&q;,&q;preview_image_url&q;:&q;https://ninjasfiles.s3.amazonaws.com/0000000000001371.png&q;,&q;available_online&q;:true,&q;available_offline&q;:false,&q;is_career_track&q;:true,&q;course_group_id&q;:3,&q;classroom_icon_url&q;:&q;https://files.codingninjas.in/0000000000003778.png&q;},{&q;id&q;:42,&q;title&q;:&q;Premium Web Dev Course&q;,&q;online_title&q;:&q;premium-full-stack-web-development-course&q;,&q;offline_title&q;:&q;&q;,&q;name&q;:&q;Premium Full Stack Web Development&q;,&q;level&q;:&q;Foundation Courses&q;,&q;brief_intro&q;:&q;&q;,&q;preview_image_url&q;:&q;&q;,&q;available_online&q;:true,&q;available_offline&q;:false,&q;is_career_track&q;:false,&q;course_group_id&q;:7,&q;classroom_icon_url&q;:&q;https://files.codingninjas.in/0000000000003765.png&q;},{&q;id&q;:35,&q;title&q;:&q;Android Developer&q;,&q;online_title&q;:&q;online-android-development-career-track&q;,&q;offline_title&q;:&q;&q;,&q;name&q;:&q;Ninja Android Developer Career Track &q;,&q;level&q;:&q;Career Tracks&q;,&q;brief_intro&q;:&q;beginner to pro Android Developer!&q;,&q;preview_image_url&q;:&q;https://ninjasfiles.s3.amazonaws.com/0000000000001175.png&q;,&q;available_online&q;:true,&q;available_offline&q;:false,&q;is_career_track&q;:true,&q;course_group_id&q;:3,&q;classroom_icon_url&q;:&q;https://files.codingninjas.in/0000000000003774.png&q;},{&q;id&q;:16,&q;title&q;:&q;Competitive Programmer&q;,&q;online_title&q;:&q;online-competitive-programming-track&q;,&q;offline_title&q;:&q;&q;,&q;name&q;:&q;Ninja Competitive Programmer Track&q;,&q;level&q;:&q;Career Tracks&q;,&q;brief_intro&q;:&q;Competitive Track&q;,&q;preview_image_url&q;:&q;https://files.codingninjas.in/0000000000001177.png&q;,&q;available_online&q;:true,&q;available_offline&q;:false,&q;is_career_track&q;:true,&q;course_group_id&q;:3,&q;classroom_icon_url&q;:&q;https://files.codingninjas.in/0000000000003775.png&q;},{&q;id&q;:2,&q;title&q;:&q;Java &a; Data Structures&q;,&q;online_title&q;:&q;online-java-course&q;,&q;offline_title&q;:&q;classroom-java-course&q;,&q;name&q;:&q;JAVA Foundation with Data Structures&q;,&q;level&q;:&q;Foundation Courses&q;,&q;brief_intro&q;:&q;Brief Intro&q;,&q;preview_image_url&q;:&q;https://ninjasfiles.s3.amazonaws.com/0000000000001255.png&q;,&q;available_online&q;:true,&q;available_offline&q;:false,&q;is_career_track&q;:false,&q;course_group_id&q;:1,&q;classroom_icon_url&q;:&q;https://files.codingninjas.in/0000000000003772.png&q;},{&q;id&q;:3,&q;title&q;:&q;Android&q;,&q;online_title&q;:&q;online-android-app-development-course&q;,&q;offline_title&q;:&q;classroom-android-app-development-course&q;,&q;name&q;:&q;Android Application Development&q;,&q;level&q;:&q;Advanced Courses&q;,&q;brief_intro&q;:&q;Brief Intro&q;,&q;preview_image_url&q;:&q;https://ninjasfiles.s3.amazonaws.com/0000000000001175.png&q;,&q;available_online&q;:false,&q;available_offline&q;:true,&q;is_career_track&q;:false,&q;course_group_id&q;:2,&q;classroom_icon_url&q;:&q;https://files.codingninjas.in/0000000000003761.png&q;},{&q;id&q;:33,&q;title&q;:&q;Android (Kotlin)&q;,&q;online_title&q;:&q;online-android-Development-kotlin&q;,&q;offline_title&q;:&q;&q;,&q;name&q;:&q;Android Development with Kotlin&q;,&q;level&q;:&q;Development Courses&q;,&q;brief_intro&q;:&q;Android Development Kotlin&q;,&q;preview_image_url&q;:&q;https://ninjasfiles.s3.amazonaws.com/0000000000001175.png&q;,&q;available_online&q;:true,&q;available_offline&q;:false,&q;is_career_track&q;:false,&q;course_group_id&q;:2,&q;classroom_icon_url&q;:&q;https://files.codingninjas.in/0000000000003761.png&q;},{&q;id&q;:10,&q;title&q;:&q;Competitive Programming&q;,&q;online_title&q;:&q;online-competitive-programming-course&q;,&q;offline_title&q;:&q;&q;,&q;name&q;:&q;Competitive Programming Course&q;,&q;level&q;:&q;Advanced Courses&q;,&q;brief_intro&q;:&q;Eminence&q;,&q;preview_image_url&q;:&q;https://ninjasfiles.s3.amazonaws.com/0000000000001177.png&q;,&q;available_online&q;:true,&q;available_offline&q;:false,&q;is_career_track&q;:false,&q;course_group_id&q;:1,&q;classroom_icon_url&q;:&q;https://files.codingninjas.in/0000000000003762.png&q;},{&q;id&q;:40,&q;title&q;:&q;Data structures and Algorithms [C++/Java/Python]&q;,&q;online_title&q;:&q;premium-foundation-course&q;,&q;offline_title&q;:&q;&q;,&q;name&q;:&q;Premium Data structures and Algorithms [C++/Java/Python]&q;,&q;level&q;:&q;Foundation Courses&q;,&q;brief_intro&q;:&q;&q;,&q;preview_image_url&q;:&q;&q;,&q;available_online&q;:true,&q;available_offline&q;:false,&q;is_career_track&q;:false,&q;course_group_id&q;:7,&q;classroom_icon_url&q;:&q;https://files.codingninjas.in/0000000000003765.png&q;},{&q;id&q;:45,&q;title&q;:&q;Premium Android Course&q;,&q;online_title&q;:&q;premium-android-app-development-course&q;,&q;offline_title&q;:&q;&q;,&q;name&q;:&q;Premium Android App Development&q;,&q;level&q;:&q;Foundation Courses&q;,&q;brief_intro&q;:&q;&q;,&q;preview_image_url&q;:&q;&q;,&q;available_online&q;:true,&q;available_offline&q;:false,&q;is_career_track&q;:false,&q;course_group_id&q;:7,&q;classroom_icon_url&q;:&q;https://files.codingninjas.in/0000000000003765.png&q;},{&q;id&q;:43,&q;title&q;:&q;Premium Data Science Course&q;,&q;online_title&q;:&q;premium-data-science-course&q;,&q;offline_title&q;:&q;&q;,&q;name&q;:&q;Premium Data Science Course&q;,&q;level&q;:&q;Foundation Courses&q;,&q;brief_intro&q;:&q;&q;,&q;preview_image_url&q;:&q;&q;,&q;available_online&q;:true,&q;available_offline&q;:false,&q;is_career_track&q;:false,&q;course_group_id&q;:7,&q;classroom_icon_url&q;:&q;https://files.codingninjas.in/0000000000003765.png&q;},{&q;id&q;:44,&q;title&q;:&q;Premium Machine Learning Course&q;,&q;online_title&q;:&q;premium-machine-learning-course&q;,&q;offline_title&q;:&q;&q;,&q;name&q;:&q;Premium Machine Learning Course&q;,&q;level&q;:&q;Foundation Courses&q;,&q;brief_intro&q;:&q;&q;,&q;preview_image_url&q;:&q;&q;,&q;available_online&q;:true,&q;available_offline&q;:false,&q;is_career_track&q;:false,&q;course_group_id&q;:7,&q;classroom_icon_url&q;:&q;https://files.codingninjas.in/0000000000003765.png&q;}]}},&q;message&q;:&q;Home Data&q;,&q;status&q;:200,&q;error&q;:null,&q;disabled&q;:false,&q;update&q;:false,&q;external_rating&q;:null},&q;G.https://api.codingninjas.com/api/v3/home_data?&q;:{&q;body&q;:{&q;data&q;:{&q;home_data&q;:{&q;title&q;:&q;Coding Ninjas – Learn coding online at India’s best coding institute&q;,&q;metadata&q;:&q;With live 1:1 mentor support, get your doubts resolved via Audio Call, Video Call and Screen Share from the Teaching Assistants at Coding Ninjas.&q;,&q;keywords&q;:&q;learn coding online&q;,&q;intro_section&q;:{&q;title&q;:&q;CODING NINJAS&q;,&q;subtitle&q;:&q;Think, Create &a; Innovate. That’s the power of programming. Be a Ninja and build your own world&q;,&q;stats&q;:[{&q;name&q;:&q;Placements in tech giants&q;,&q;value&q;:&q;5000&q;},{&q;name&q;:&q;Students trained&q;,&q;value&q;:&q;20,000+&q;},{&q;name&q;:&q;Courses Offered&q;,&q;value&q;:&q;09&q;}],&q;enquiry&q;:{&q;message&q;:&q;We strive for teaching most up-to-date programming technologies. Our dynamic curriculum has been designed and refined by our founding members-a team of seasoned software developers and tech executives.&q;,&q;placeholder&q;:&q;Enter your number&q;,&q;subtext&q;:&q;and we will guide you&q;},&q;first_card&q;:{&q;title&q;:&q;LEARN&q;,&q;subtitle&q;:&q;Go To Classroom&q;,&q;image_url&q;:&q;https://files.codingninjas.in/0000000000001052.png&q;,&q;action_url&q;:&q;https://codingninjas.in/app/classroom&q;},&q;second_card&q;:{&q;title&q;:&q;PRACTICE&q;,&q;subtitle&q;:&q;Practice on CodeZen&q;,&q;image_url&q;:&q;https://files.codingninjas.in/0000000000001053.png&q;,&q;action_url&q;:&q;https://codezen.codingninjas.com/dashboard&q;},&q;carousel_subsection&q;:{&q;title&q;:&q;Don&s;t miss, stay tuned!&q;,&q;carousel_contents&q;:[{&q;content_type&q;:&q;testimonial&q;,&q;title&q;:&q;Divyansh Chowdhary&q;,&q;image_url&q;:&q;https://files.codingninjas.in/0000000000002692.png&q;,&q;subtitle&q;:&q;Microsoft&q;,&q;content&q;:&q;I had a great learning experience with Coding Ninjas.The concepts were clearly explained by the teachers, especially the way Ankush teaches, makes it more fun and easy. It provided me a perfect foundation.&q;},{&q;content_type&q;:&q;testimonial&q;,&q;title&q;:&q;Ishan Arora&q;,&q;image_url&q;:&q;https://files.codingninjas.in/0000000000002693.png&q;,&q;subtitle&q;:&q;Atlassian&q;,&q;content&q;:&q;My experience with Coding Ninjas was great, both as a student and as a TA later on. The lectures were quite student friendly and the faculty here is amazing. It really helped me enhance my programming skills.&q;},{&q;content_type&q;:&q;testimonial&q;,&q;title&q;:&q;Anjali Garg&q;,&q;image_url&q;:&q;https://files.codingninjas.in/0000000000002695.png&q;,&q;subtitle&q;:&q;Google&q;,&q;content&q;:&q;The course structure was really good and covered most of the topics which attracted my attention. Each of the faculty member especially Ankush Sir did a great job taking each topic to a great clarity level.&q;},{&q;content_type&q;:&q;testimonial&q;,&q;title&q;:&q;Kashish Chanana&q;,&q;image_url&q;:&q;https://files.codingninjas.in/0000000000002694.png&q;,&q;subtitle&q;:&q;SAP Labs&q;,&q;content&q;:&q;Coding Ninjas is a one stop destination for understanding data structures and building algorithms from scratch.With great quality online content and video support, difficult topics are presented in a simplified manner.&q;},{&q;content_type&q;:&q;testimonial&q;,&q;title&q;:&q;Priyansh Verma&q;,&q;image_url&q;:&q;https://files.codingninjas.in/0000000000002696.png&q;,&q;subtitle&q;:&q;Tower Research Capital&q;,&q;content&q;:&q;My experience with Coding Ninjas was absolutely great! The doubt resolution in classroom programmes is amazing, because the TAs are helpful. The course content is to-the-point and apt.&q;}]}},&q;companies_section&q;:{&q;visibility&q;:true,&q;title&q;:&q;Where Our Alumni Work&q;,&q;companies&q;:[{&q;name&q;:&q;Google&q;,&q;logo_image_url&q;:&q;https://files.codingninjas.in/0000000000001235.png&q;},{&q;name&q;:&q;Amazon&q;,&q;logo_image_url&q;:&q;https://files.codingninjas.in/0000000000001231.png&q;},{&q;name&q;:&q;Microsoft&q;,&q;logo_image_url&q;:&q;https://files.codingninjas.in/0000000000001236.png&q;},{&q;name&q;:&q;Expedia&q;,&q;logo_image_url&q;:&q;https://files.codingninjas.in/0000000000001232.png&q;},{&q;name&q;:&q;Adobe&q;,&q;logo_image_url&q;:&q;https://files.codingninjas.in/0000000000001230.png&q;},{&q;name&q;:&q;OYO&q;,&q;logo_image_url&q;:&q;https://files.codingninjas.in/0000000000001342.png&q;},{&q;name&q;:&q;Flipkart&q;,&q;logo_image_url&q;:&q;https://files.codingninjas.in/0000000000001233.png&q;},{&q;name&q;:&q;Samsung&q;,&q;logo_image_url&q;:&q;https://files.codingninjas.in/0000000000001238.png&q;},{&q;name&q;:&q;Morgan Stanley&q;,&q;logo_image_url&q;:&q;https://files.codingninjas.in/0000000000001237.png&q;},{&q;name&q;:&q;Walmart&q;,&q;logo_image_url&q;:&q;https://files.codingninjas.in/0000000000001239.png&q;}]},&q;features_section&q;:{&q;title&q;:&q;Why choose Coding Ninjas?&q;,&q;feature_items&q;:[{&q;title&q;:&q;Exceptional Faculty&q;,&q;description&q;:&q;Our faculty is from the best institutes around the world such as IITD, Stanford and more. They also have work experience in tech giants like Amazon, Facebook, Adobe which makes them exceptional.&q;,&q;image_url&q;:&q;https://files.codingninjas.in/0000000000001185.png&q;},{&q;title&q;:&q;Mentor Support&q;,&q;description&q;:&q;An incredible mentor support is provided where 1 teaching assistant is assigned to 10 students. The TA’s are top performers alumni dedicated to support and clear doubts at any point of time.&q;,&q;image_url&q;:&q;https://files.codingninjas.in/0000000000001187.png&q;},{&q;title&q;:&q;CodeZen&q;,&q;description&q;:&q;An online platform using proprietary technologies, social elements and well-crafted content curriculum delivering the finest learning experience.&q;,&q;image_url&q;:&q;https://files.codingninjas.in/0000000000001183.png&q;},{&q;title&q;:&q;Premium CodingNinjas account on Hirist&q;,&q;description&q;:&q;We do not make false promise to provide 100 % placements rather help students based on their performance. Our students are placed at bigwigs like Adobe, Amazon, Microsoft and many more.&q;,&q;image_url&q;:&q;https://files.codingninjas.in/0000000000004383.png&q;},{&q;title&q;:&q;Course curriculum&q;,&q;description&q;:&q;Industry leading curriculum designed by expert developers turned educators who have invested time to create quality content infused with unique teaching methodology.&q;,&q;image_url&q;:&q;https://files.codingninjas.in/0000000000001184.png&q;},{&q;title&q;:&q;Get Secured with Certificate&q;,&q;description&q;:&q;The student will be provided the certificates which are signed by instructors and have our logo on it which will help them secure their career and increase job prospects with certificates signed by us.&q;,&q;image_url&q;:&q;https://files.codingninjas.in/0000000000001182.png&q;}]},&q;about_us_video&q;:{&q;title&q;:&q;Journey from a Beginner to PRO!&q;,&q;description&q;:&q;A sneak peek of how students become a Pro through industry-vetted online courses by the expert industry mentors&q;,&q;video_id&q;:&q;Kdhje-gdviw&q;,&q;video_overlay_text&q;:&q;Be a Ninja&q;},&q;reviews_section&q;:{&q;title&q;:&q;What our students say about us&q;,&q;description&q;:&q;Here, they share their Coding Ninjas reviews and journeys to victory.&q;,&q;hero_review&q;:{&q;name&q;:&q;Vaibhav Mehra&q;,&q;designation&q;:&q;Full-Stack Web Developer&q;,&q;organization&q;:&q;Edelweiss&q;,&q;video_id&q;:&q;oSJnEH2Cb4k&q;},&q;reviews&q;:[{&q;name&q;:&q;Sukriti Macker&q;,&q;designation&q;:&q;Student&q;,&q;organization&q;:&q;Maharaja Agrasen Institute of Technology&q;,&q;image_url&q;:&q;https://files.codingninjas.in/0000000000001222.png&q;,&q;review&q;:&q;I was a beginner in Coding, but the way the Nidhi Ma’am taught was exceptionally good!The concepts she taught were so easy to understand. Mentors will help you out at every step! Whatever course you may take, you will be offered the best faculty. I would recommend you to join and it will be the best experience. I guarantee!&q;},{&q;name&q;:&q;Shivam Aggarwal&q;,&q;designation&q;:&q;Software Developer&q;,&q;organization&q;:&q;Amazon&q;,&q;image_url&q;:&q;https://files.codingninjas.in/0000000000001217.png&q;,&q;review&q;:&q;I did three courses and was extremely happy with all the courses. They provide quality content, the support from faculty and mentors was amazing. It helped me a lot in preparing for my interview rounds for the different companies. Finally I would say that it is a place to develop attitude and skills required at the industry level.&q;},{&q;name&q;:&q;Yash Kapoor&q;,&q;designation&q;:&q;Placed&q;,&q;organization&q;:&q;Microsoft | Thapar Institute of Engineering &a; Technology&q;,&q;image_url&q;:&q;https://files.codingninjas.in/0000000000001228.png&q;,&q;review&q;:&q;Coding Ninjas plays a big role in my success. It is a place which teaches you to find a solution rather than knowing a solution and builds up a great foundation for any student. Being an electronics engineer, it was difficult to enter the field of programming and my life would have been completely different without Coding Ninjas support.&q;},{&q;name&q;:&q;Tanya Singh&q;,&q;designation&q;:&q;Software Developer&q;,&q;organization&q;:&q;Expedia&q;,&q;image_url&q;:&q;https://files.codingninjas.in/0000000000001224.png&q;,&q;review&q;:&q;I joined the course after knowing that it has helped a lot of students in securing good jobs. The course content was really good that I took another course which helped me grab an internship at Amazon and then finally got placed at Expedia. I feel everyone must join as it a place which will the elevate level of your skills, no matter how high it is!&q;},{&q;name&q;:&q;Sahil Harwani&q;,&q;designation&q;:&q;Student&q;,&q;organization&q;:&q;Delhi Technological University&q;,&q;image_url&q;:&q;https://files.codingninjas.in/0000000000001214.png&q;,&q;review&q;:&q;Amazing experience at Coding Ninjas. It was an extremely good atmosphere for learning as the teachers are very nice and sweet and most importantly they teach very well. The CodeZen is also very well built, they have hint videos and other online doubt resolution system as well. I will be enrolling myself in another course very soon.&q;},{&q;name&q;:&q;Ishtmeet Singh&q;,&q;designation&q;:&q;Student&q;,&q;organization&q;:&q;Indian Institute of Technology Banaras&q;,&q;image_url&q;:&q;https://files.codingninjas.in/0000000000001200.png&q;,&q;review&q;:&q;I enrolled into C++ with data structures at Coding Ninjas. I got admission into IIT but as a fresher I didn&s;t know anything about programming. After joining here, I have learnt a lot. Coding Ninjas&s; practice modules and lectures are perfect and cover easy as well as hard coding questions. I am now capable to think logics for the questions easily.&q;}]},&q;blogs_section&q;:{&q;title&q;:&q;Blogs &q;,&q;blog_items&q;:[{&q;title&q;:&q;Coding Ninjas reboot Career Camp with Ninjas Pro &a; Ninjas Scholar Programmes&q;,&q;description&q;:&q;Career Camp reboot is a promising opportunity for students to get hands-on experience with industry mentors and scale their career to new heights.&q;,&q;image_url&q;:&q;https://files.codingninjas.in/career-camp-coding-ninjas-ninjas-scholar-ninjas-pro-coding-ninjas-blog-5237.png\\\\t&q;,&q;action_url&q;:&q;https://www.codingninjas.com/blog/2020/08/14/coding-ninjas-reboot-career-camp-with-ninja-pro-ninja-scholar-programmes/&q;},{&q;title&q;:&q;Suryansh Gupta: A computer Science novice to securing a PPO with Microsoft IDC&q;,&q;description&q;:&q;He was selected for a direct interview at Google after from Google Kickstart and has interned and received a Pre-Placement Offer (PPO) from Microsoft IDC.&q;,&q;image_url&q;:&q;https://files.codingninjas.in/suryansh-gupta-microsoft-intern-43-lpa-coding-ninjas-blog-5236.png\\\\t&q;,&q;action_url&q;:&q;https://www.codingninjas.com/blog/2020/09/02/suryansh-gupta-a-computer-science-novice-to-a-ppo-with-microsoft-idc/&q;},{&q;title&q;:&q;What’s new in Android 11.0?&q;,&q;description&q;:&q;Android 11.0 is here and is considered to be the eleventh major release of Android, out of the eighteen versions of Android.&q;,&q;image_url&q;:&q;https://files.codingninjas.in/android-11-highlights-coding-ninjas-blog-5238.png\\\\t&q;,&q;action_url&q;:&q;https://www.codingninjas.com/blog/2020/09/14/whats-new-in-android-11-0/&q;}]},&q;teams_section&q;:{&q;title&q;:&q;In-house Ninjas&q;,&q;description&q;:&q;Get trained from the team of young code enthusiasts as well as the intellectual minds who have studied from prestigious universities and worked at big tech giants with years of teaching experience.&q;,&q;team&q;:[{&q;name&q;:&q;Ankush Singla&q;,&q;description&q;:&q;He holds a Bachelor’s degree in Computer Science from India’s most premier institute - IIT Delhi and a Master’s degree in Computer Science from Stanford University. He is a coding enthusiast and has worked with bigwigs like Amazon and Facebook in the past.&q;,&q;image_url&q;:&q;https://files.codingninjas.in/ankush-singla-co-founder-instructor-iit-delhi-stanford-ex-facebook-amazon-5235.png\\\\t&q;,&q;designation&q;:&q;Co-Founder &a; Instructor&q;},{&q;name&q;:&q;Nidhi Agarwal&q;,&q;description&q;:&q;She holds a Master’s degree in Technology from IIIT Delhi and has a great command on programming concepts. She has taught the Fundamentals and Data Structures in Java &a; C++ for four years now.&q;,&q;image_url&q;:&q;https://files.codingninjas.in/nidhi-agarwal-instructor-founding-member-coding-ninjas-ex-iiit-delhi-5232.png\\\\t&q;,&q;designation&q;:&q;Founding Member &a; Instructor&q;},{&q;name&q;:&q;Manisha Khattar&q;,&q;description&q;:&q;She holds a Master’s from IIIT Delhi and has more than four years of teaching experience in advanced level C++, Java and Android courses. Her data analytics research work has been published in prestigious conferences.&q;,&q;image_url&q;:&q;https://files.codingninjas.in/manisha-khattar-instructor-founding-member-coding-ninjas-software-engineer-google-5233.png\\\\t&q;,&q;designation&q;:&q;Founding Member &a; Instructor&q;},{&q;name&q;:&q;Arpan Garg&q;,&q;description&q;:&q;He holds a Bachelor’s degree in Electronics &a; Communications and is well versed with Angular, React.JS and Python. He has been the organiser of Google Developers Group and has previously worked with companies like Spice Labs, Creative India and Kalpavriksh Healthcare.&q;,&q;image_url&q;:&q;https://files.codingninjas.in/arpan-garg-instructor-coding-ninjas-5230.png\\\\t&q;,&q;designation&q;:&q;Founding Member &a; Instructor&q;},{&q;name&q;:&q;Parikh Jain&q;,&q;description&q;:&q;He holds a Bachelor’s degree in Computer Science from Delhi Technological University (DTU) and is currently working with Coding Ninjas. He has contributed majorly towards CodeZen, an online platform of Coding Ninjas for students to learn and take attempts in coding.&q;,&q;image_url&q;:&q;https://files.codingninjas.in/parikh-jain-instructor-founding-member-coding-ninjas-ex-dtu-amazon-5231.png\\\\t&q;,&q;designation&q;:&q;Software Developer &a; Instructor&q;},{&q;name&q;:&q;Rohan Arora&q;,&q;description&q;:&q;He holds a Bachelor&s;s degree in Computer Science and is a die-hard programmer. He has been an organiser at the Google Developers Group (GDG) and has vast experience in android development and has published many android apps on Google Play Store.&q;,&q;image_url&q;:&q;https://files.codingninjas.in/rohan-arora-tech-lead-instructor-coding-ninjas-5234.png\\\\t&q;,&q;designation&q;:&q;Tech Lead &a; Instructor&q;},{&q;name&q;:&q;Navdeep Sandhu&q;,&q;description&q;:&q;He holds a Bachelor&s;s degree in Information &a; Technology and has previously worked with firms like Ernst and Young. He works tirelessly for the student support and works closely with teaching assistants to enhance the student experience during their formative classes.&q;,&q;image_url&q;:&q;https://files.codingninjas.in/navdeep-sandhu-instructor-content-developer-coding-ninjas-5228.jpg&q;,&q;designation&q;:&q;Content Developer &a; Instructor&q;},{&q;name&q;:&q;Aakash Tyagi&q;,&q;description&q;:&q;He is expert in JavaScript &a; React(Front-end) and worked on Open source projects like Firebug and Zulip. He served as a GCI(Google Code-In) Mentor with Zulip. In his previous roles in the past 3 years as a Software Engineer and worked for companies like Goibibo-MMT.&q;,&q;image_url&q;:&q;https://files.codingninjas.in/aakash-tyagi-instructor-coding-ninjas-ex-mmt-5227.jpg&q;,&q;designation&q;:&q;Software Engineer &a; Instructor&q;}]},&q;courses&q;:[{&q;id&q;:34,&q;title&q;:&q;Front End (React)&q;,&q;online_title&q;:&q;online-web-dev-with-react&q;,&q;offline_title&q;:&q;&q;,&q;name&q;:&q;Advanced  Front-End Web Development with React&q;,&q;level&q;:&q;Development Courses&q;,&q;brief_intro&q;:&q;Advanced  Front-End Web Development with React&q;,&q;preview_image_url&q;:&q;https://ninjasfiles.s3.amazonaws.com/0000000000001179.png&q;,&q;available_online&q;:true,&q;available_offline&q;:false,&q;is_career_track&q;:false,&q;course_group_id&q;:2,&q;classroom_icon_url&q;:&q;https://files.codingninjas.in/0000000000003769.png&q;},{&q;id&q;:12,&q;title&q;:&q;Web Dev (Full Stack)&q;,&q;online_title&q;:&q;online-full-stack-node-js-web-dev-course&q;,&q;offline_title&q;:&q;&q;,&q;name&q;:&q;Full Stack Web Development&q;,&q;level&q;:&q;Development Courses&q;,&q;brief_intro&q;:&q;Web Development&q;,&q;preview_image_url&q;:&q;https://ninjasfiles.s3.amazonaws.com/0000000000001179.png&q;,&q;available_online&q;:true,&q;available_offline&q;:false,&q;is_career_track&q;:false,&q;course_group_id&q;:2,&q;classroom_icon_url&q;:&q;https://files.codingninjas.in/0000000000003764.png&q;},{&q;id&q;:17,&q;title&q;:&q;C++ &a; Web Dev (Node.js)&q;,&q;online_title&q;:&q;web-developer-career-track&q;,&q;offline_title&q;:&q;&q;,&q;name&q;:&q;Ninja  Web Developer Career Track - NodeJS&q;,&q;level&q;:&q;Career Tracks&q;,&q;brief_intro&q;:&q;Programming foundation + Full Stack Web Development Career Track&q;,&q;preview_image_url&q;:&q;https://ninjasfiles.s3.amazonaws.com/0000000000001179.png&q;,&q;available_online&q;:true,&q;available_offline&q;:false,&q;is_career_track&q;:true,&q;course_group_id&q;:3,&q;classroom_icon_url&q;:&q;https://files.codingninjas.in/0000000000003777.png&q;},{&q;id&q;:41,&q;title&q;:&q;Premium Competitive Course&q;,&q;online_title&q;:&q;premium-competitive-course&q;,&q;offline_title&q;:&q;&q;,&q;name&q;:&q;Premium Competitive Programming Course&q;,&q;level&q;:&q;Foundation Courses&q;,&q;brief_intro&q;:&q;&q;,&q;preview_image_url&q;:&q;&q;,&q;available_online&q;:true,&q;available_offline&q;:false,&q;is_career_track&q;:false,&q;course_group_id&q;:7,&q;classroom_icon_url&q;:&q;https://files.codingninjas.in/0000000000003765.png&q;},{&q;id&q;:11,&q;title&q;:&q;Python &a; Data Structures&q;,&q;online_title&q;:&q;online-python-course&q;,&q;offline_title&q;:&q;offline-python-course&q;,&q;name&q;:&q;Python Foundation with Data Structures&q;,&q;level&q;:&q;Foundation Courses&q;,&q;brief_intro&q;:&q;Python Foundation&q;,&q;preview_image_url&q;:&q;https://ninjasfiles.s3.amazonaws.com/0000000000001282.png&q;,&q;available_online&q;:true,&q;available_offline&q;:false,&q;is_career_track&q;:false,&q;course_group_id&q;:1,&q;classroom_icon_url&q;:&q;https://files.codingninjas.in/0000000000003773.png&q;},{&q;id&q;:5,&q;title&q;:&q;Web Development in RoR&q;,&q;online_title&q;:&q;online_alchemy&q;,&q;offline_title&q;:&q;classroom-web-development-course&q;,&q;name&q;:&q;Web Development with Ruby on Rails&q;,&q;level&q;:&q;Advanced Courses&q;,&q;brief_intro&q;:&q;Brief Intro&q;,&q;preview_image_url&q;:&q;https://ninjasfiles.s3.amazonaws.com/0000000000001179.png&q;,&q;available_online&q;:false,&q;available_offline&q;:true,&q;is_career_track&q;:false,&q;course_group_id&q;:2,&q;classroom_icon_url&q;:&q;https://files.codingninjas.in/0000000000003779.png&q;},{&q;id&q;:36,&q;title&q;:&q;Python &a; Web Dev (MERN)&q;,&q;online_title&q;:&q;ninja-web-developer-career-track-mern-stack&q;,&q;offline_title&q;:&q;&q;,&q;name&q;:&q;Ninja  Web Developer Career Track - NodeJS &a; ReactJs&q;,&q;level&q;:&q;Career Tracks&q;,&q;brief_intro&q;:&q;Programming foundation + MERN Stack Web Development complete Career Track&q;,&q;preview_image_url&q;:&q;https://ninjasfiles.s3.amazonaws.com/0000000000001179.png&q;,&q;available_online&q;:true,&q;available_offline&q;:false,&q;is_career_track&q;:true,&q;course_group_id&q;:3,&q;classroom_icon_url&q;:&q;https://files.codingninjas.in/0000000000003777.png&q;},{&q;id&q;:21,&q;title&q;:&q;Aptitude Preparation&q;,&q;online_title&q;:&q;online-aptitude-preparation&q;,&q;offline_title&q;:&q;&q;,&q;name&q;:&q;Aptitude Preparation Course&q;,&q;level&q;:&q;Foundation Courses&q;,&q;brief_intro&q;:&q;Brief Intro&q;,&q;preview_image_url&q;:&q;https://ninjasfiles.s3.amazonaws.com/0000000000001178.png&q;,&q;available_online&q;:true,&q;available_offline&q;:false,&q;is_career_track&q;:false,&q;course_group_id&q;:1,&q;classroom_icon_url&q;:&q;https://files.codingninjas.in/0000000000003770.png&q;},{&q;id&q;:1,&q;title&q;:&q;C++ &a; Data Structures&q;,&q;online_title&q;:&q;onlline-c-plus-plus-course&q;,&q;offline_title&q;:&q;classroom-c-plus-plus-course&q;,&q;name&q;:&q;C++ Foundation with Data Structures&q;,&q;level&q;:&q;Foundation Courses&q;,&q;brief_intro&q;:&q;Brief Intro&q;,&q;preview_image_url&q;:&q;https://files.codingninjas.in/0000000000001176.png&q;,&q;available_online&q;:true,&q;available_offline&q;:false,&q;is_career_track&q;:false,&q;course_group_id&q;:1,&q;classroom_icon_url&q;:&q;https://files.codingninjas.in/0000000000003771.png&q;},{&q;id&q;:4,&q;title&q;:&q;Interview Preparation&q;,&q;online_title&q;:&q;online-interview-preparation&q;,&q;offline_title&q;:&q;classroom-interview-preparation&q;,&q;name&q;:&q;Interview Preparation Course&q;,&q;level&q;:&q;Advanced Courses&q;,&q;brief_intro&q;:&q;Brief Intro&q;,&q;preview_image_url&q;:&q;https://ninjasfiles.s3.amazonaws.com/0000000000001178.png&q;,&q;available_online&q;:true,&q;available_offline&q;:false,&q;is_career_track&q;:false,&q;course_group_id&q;:1,&q;classroom_icon_url&q;:&q;https://files.codingninjas.in/0000000000003765.png&q;},{&q;id&q;:19,&q;title&q;:&q;Machine Learning&q;,&q;online_title&q;:&q;machine-learning-engineer-career-track&q;,&q;offline_title&q;:&q;&q;,&q;name&q;:&q;Ninja Machine Learning Engineer Career Track&q;,&q;level&q;:&q;Career Tracks&q;,&q;brief_intro&q;:&q;Programming foundation + Machine Learning career track&q;,&q;preview_image_url&q;:&q;https://ninjasfiles.s3.amazonaws.com/0000000000001181.png&q;,&q;available_online&q;:true,&q;available_offline&q;:false,&q;is_career_track&q;:true,&q;course_group_id&q;:3,&q;classroom_icon_url&q;:&q;https://files.codingninjas.in/0000000000003776.png&q;},{&q;id&q;:6,&q;title&q;:&q;Machine Learning&q;,&q;online_title&q;:&q;online-machine-learning-course&q;,&q;offline_title&q;:&q;classroom-machine-learning-course&q;,&q;name&q;:&q;Machine Learning &a; Deep Learning Course&q;,&q;level&q;:&q;Advanced Courses&q;,&q;brief_intro&q;:&q;Machine learning engineers build, implement, and maintain machine learning systems in technology products.&q;,&q;preview_image_url&q;:&q;https://ninjasfiles.s3.amazonaws.com/0000000000001181.png&q;,&q;available_online&q;:true,&q;available_offline&q;:false,&q;is_career_track&q;:false,&q;course_group_id&q;:2,&q;classroom_icon_url&q;:&q;https://files.codingninjas.in/0000000000003766.png&q;},{&q;id&q;:13,&q;title&q;:&q;Data Science&q;,&q;online_title&q;:&q;online-data-science-course&q;,&q;offline_title&q;:&q;&q;,&q;name&q;:&q;Data Science &a; Machine Learning Complete&q;,&q;level&q;:&q;Advanced Courses&q;,&q;brief_intro&q;:&q;Brief Intro&q;,&q;preview_image_url&q;:&q;https://ninjasfiles.s3.amazonaws.com/0000000000001371.png&q;,&q;available_online&q;:true,&q;available_offline&q;:false,&q;is_career_track&q;:false,&q;course_group_id&q;:2,&q;classroom_icon_url&q;:&q;https://files.codingninjas.in/0000000000003763.png&q;},{&q;id&q;:18,&q;title&q;:&q;Data Scientist&q;,&q;online_title&q;:&q;data-Scientist-career-track&q;,&q;offline_title&q;:&q;&q;,&q;name&q;:&q;Ninja Data Scientist Career Track&q;,&q;level&q;:&q;Career Tracks&q;,&q;brief_intro&q;:&q;Programming foundation + Data Science with ML career track&q;,&q;preview_image_url&q;:&q;https://ninjasfiles.s3.amazonaws.com/0000000000001371.png&q;,&q;available_online&q;:true,&q;available_offline&q;:false,&q;is_career_track&q;:true,&q;course_group_id&q;:3,&q;classroom_icon_url&q;:&q;https://files.codingninjas.in/0000000000003778.png&q;},{&q;id&q;:42,&q;title&q;:&q;Premium Web Dev Course&q;,&q;online_title&q;:&q;premium-full-stack-web-development-course&q;,&q;offline_title&q;:&q;&q;,&q;name&q;:&q;Premium Full Stack Web Development&q;,&q;level&q;:&q;Foundation Courses&q;,&q;brief_intro&q;:&q;&q;,&q;preview_image_url&q;:&q;&q;,&q;available_online&q;:true,&q;available_offline&q;:false,&q;is_career_track&q;:false,&q;course_group_id&q;:7,&q;classroom_icon_url&q;:&q;https://files.codingninjas.in/0000000000003765.png&q;},{&q;id&q;:35,&q;title&q;:&q;Android Developer&q;,&q;online_title&q;:&q;online-android-development-career-track&q;,&q;offline_title&q;:&q;&q;,&q;name&q;:&q;Ninja Android Developer Career Track &q;,&q;level&q;:&q;Career Tracks&q;,&q;brief_intro&q;:&q;beginner to pro Android Developer!&q;,&q;preview_image_url&q;:&q;https://ninjasfiles.s3.amazonaws.com/0000000000001175.png&q;,&q;available_online&q;:true,&q;available_offline&q;:false,&q;is_career_track&q;:true,&q;course_group_id&q;:3,&q;classroom_icon_url&q;:&q;https://files.codingninjas.in/0000000000003774.png&q;},{&q;id&q;:16,&q;title&q;:&q;Competitive Programmer&q;,&q;online_title&q;:&q;online-competitive-programming-track&q;,&q;offline_title&q;:&q;&q;,&q;name&q;:&q;Ninja Competitive Programmer Track&q;,&q;level&q;:&q;Career Tracks&q;,&q;brief_intro&q;:&q;Competitive Track&q;,&q;preview_image_url&q;:&q;https://files.codingninjas.in/0000000000001177.png&q;,&q;available_online&q;:true,&q;available_offline&q;:false,&q;is_career_track&q;:true,&q;course_group_id&q;:3,&q;classroom_icon_url&q;:&q;https://files.codingninjas.in/0000000000003775.png&q;},{&q;id&q;:2,&q;title&q;:&q;Java &a; Data Structures&q;,&q;online_title&q;:&q;online-java-course&q;,&q;offline_title&q;:&q;classroom-java-course&q;,&q;name&q;:&q;JAVA Foundation with Data Structures&q;,&q;level&q;:&q;Foundation Courses&q;,&q;brief_intro&q;:&q;Brief Intro&q;,&q;preview_image_url&q;:&q;https://ninjasfiles.s3.amazonaws.com/0000000000001255.png&q;,&q;available_online&q;:true,&q;available_offline&q;:false,&q;is_career_track&q;:false,&q;course_group_id&q;:1,&q;classroom_icon_url&q;:&q;https://files.codingninjas.in/0000000000003772.png&q;},{&q;id&q;:3,&q;title&q;:&q;Android&q;,&q;online_title&q;:&q;online-android-app-development-course&q;,&q;offline_title&q;:&q;classroom-android-app-development-course&q;,&q;name&q;:&q;Android Application Development&q;,&q;level&q;:&q;Advanced Courses&q;,&q;brief_intro&q;:&q;Brief Intro&q;,&q;preview_image_url&q;:&q;https://ninjasfiles.s3.amazonaws.com/0000000000001175.png&q;,&q;available_online&q;:false,&q;available_offline&q;:true,&q;is_career_track&q;:false,&q;course_group_id&q;:2,&q;classroom_icon_url&q;:&q;https://files.codingninjas.in/0000000000003761.png&q;},{&q;id&q;:33,&q;title&q;:&q;Android (Kotlin)&q;,&q;online_title&q;:&q;online-android-Development-kotlin&q;,&q;offline_title&q;:&q;&q;,&q;name&q;:&q;Android Development with Kotlin&q;,&q;level&q;:&q;Development Courses&q;,&q;brief_intro&q;:&q;Android Development Kotlin&q;,&q;preview_image_url&q;:&q;https://ninjasfiles.s3.amazonaws.com/0000000000001175.png&q;,&q;available_online&q;:true,&q;available_offline&q;:false,&q;is_career_track&q;:false,&q;course_group_id&q;:2,&q;classroom_icon_url&q;:&q;https://files.codingninjas.in/0000000000003761.png&q;},{&q;id&q;:10,&q;title&q;:&q;Competitive Programming&q;,&q;online_title&q;:&q;online-competitive-programming-course&q;,&q;offline_title&q;:&q;&q;,&q;name&q;:&q;Competitive Programming Course&q;,&q;level&q;:&q;Advanced Courses&q;,&q;brief_intro&q;:&q;Eminence&q;,&q;preview_image_url&q;:&q;https://ninjasfiles.s3.amazonaws.com/0000000000001177.png&q;,&q;available_online&q;:true,&q;available_offline&q;:false,&q;is_career_track&q;:false,&q;course_group_id&q;:1,&q;classroom_icon_url&q;:&q;https://files.codingninjas.in/0000000000003762.png&q;},{&q;id&q;:40,&q;title&q;:&q;Data structures and Algorithms [C++/Java/Python]&q;,&q;online_title&q;:&q;premium-foundation-course&q;,&q;offline_title&q;:&q;&q;,&q;name&q;:&q;Premium Data structures and Algorithms [C++/Java/Python]&q;,&q;level&q;:&q;Foundation Courses&q;,&q;brief_intro&q;:&q;&q;,&q;preview_image_url&q;:&q;&q;,&q;available_online&q;:true,&q;available_offline&q;:false,&q;is_career_track&q;:false,&q;course_group_id&q;:7,&q;classroom_icon_url&q;:&q;https://files.codingninjas.in/0000000000003765.png&q;},{&q;id&q;:45,&q;title&q;:&q;Premium Android Course&q;,&q;online_title&q;:&q;premium-android-app-development-course&q;,&q;offline_title&q;:&q;&q;,&q;name&q;:&q;Premium Android App Development&q;,&q;level&q;:&q;Foundation Courses&q;,&q;brief_intro&q;:&q;&q;,&q;preview_image_url&q;:&q;&q;,&q;available_online&q;:true,&q;available_offline&q;:false,&q;is_career_track&q;:false,&q;course_group_id&q;:7,&q;classroom_icon_url&q;:&q;https://files.codingninjas.in/0000000000003765.png&q;},{&q;id&q;:43,&q;title&q;:&q;Premium Data Science Course&q;,&q;online_title&q;:&q;premium-data-science-course&q;,&q;offline_title&q;:&q;&q;,&q;name&q;:&q;Premium Data Science Course&q;,&q;level&q;:&q;Foundation Courses&q;,&q;brief_intro&q;:&q;&q;,&q;preview_image_url&q;:&q;&q;,&q;available_online&q;:true,&q;available_offline&q;:false,&q;is_career_track&q;:false,&q;course_group_id&q;:7,&q;classroom_icon_url&q;:&q;https://files.codingninjas.in/0000000000003765.png&q;},{&q;id&q;:44,&q;title&q;:&q;Premium Machine Learning Course&q;,&q;online_title&q;:&q;premium-machine-learning-course&q;,&q;offline_title&q;:&q;&q;,&q;name&q;:&q;Premium Machine Learning Course&q;,&q;level&q;:&q;Foundation Courses&q;,&q;brief_intro&q;:&q;&q;,&q;preview_image_url&q;:&q;&q;,&q;available_online&q;:true,&q;available_offline&q;:false,&q;is_career_track&q;:false,&q;course_group_id&q;:7,&q;classroom_icon_url&q;:&q;https://files.codingninjas.in/0000000000003765.png&q;}]}},&q;message&q;:&q;Home Data&q;,&q;status&q;:200,&q;error&q;:null,&q;disabled&q;:false,&q;update&q;:false,&q;external_rating&q;:null},&q;headers&q;:{&q;date&q;:[&q;Sun, 21 Mar 2021 08:36:56 GMT&q;],&q;content-type&q;:[&q;application/json&q;],&q;transfer-encoding&q;:[&q;chunked&q;],&q;connection&q;:[&q;keep-alive&q;],&q;server&q;:[&q;nginx&q;],&q;x-frame-options&q;:[&q;SAMEORIGIN&q;],&q;x-xss-protection&q;:[&q;1; mode=block&q;],&q;x-content-type-options&q;:[&q;nosniff&q;],&q;access-control-allow-origin&q;:[&q;*&q;],&q;access-control-allow-methods&q;:[&q;POST, GET, PATCH, PUT, DELETE, OPTIONS&q;],&q;access-control-allow-headers&q;:[&q;Access-Control-Allow-Headers, Origin,Accept, X-Requested-With, Content-Type, Access-Control-Request-Method, Access-Control-Request-Headers, Authorization&q;],&q;access-control-max-age&q;:[&q;1728000&q;],&q;vary&q;:[&q;Accept-Encoding&q;],&q;etag&q;:[&q;W/\\\\&q;32f87b9c3ad4098f55668bda3bd6b3a1\\\\&q;&q;],&q;cache-control&q;:[&q;max-age=0, private, must-revalidate&q;],&q;x-request-id&q;:[&q;62c32bbe-cf92-4319-aac8-75d4cb6ef0de&q;],&q;x-runtime&q;:[&q;0.026063&q;],&q;strict-transport-security&q;:[&q;max-age=31536000; includeSubDomains;&q;]},&q;status&q;:200,&q;statusText&q;:&q;OK&q;,&q;url&q;:&q;https://api.codingninjas.com/api/v3/home_data&q;},&q;https://api.codingninjas.com/api/v2/fetch_time_zone?user_id=null&a;time_zone_string=UTC&q;:{&q;data&q;:{&q;zone_offset&q;:&q;+05:30&q;,&q;zone_identifier&q;:&q;Asia - Kolkata&q;},&q;message&q;:&q;Timezone&q;,&q;status&q;:200,&q;error&q;:null,&q;disabled&q;:false,&q;update&q;:false},&q;G.https://api.codingninjas.com/api/v2/fetch_time_zone?time_zone_string=UTC&a;user_id=null&q;:{&q;body&q;:{&q;data&q;:{&q;zone_offset&q;:&q;+05:30&q;,&q;zone_identifier&q;:&q;Asia - Kolkata&q;},&q;message&q;:&q;Timezone&q;,&q;status&q;:200,&q;error&q;:null,&q;disabled&q;:false,&q;update&q;:false},&q;headers&q;:{&q;date&q;:[&q;Sun, 21 Mar 2021 08:36:57 GMT&q;],&q;content-type&q;:[&q;application/json&q;],&q;transfer-encoding&q;:[&q;chunked&q;],&q;connection&q;:[&q;keep-alive&q;],&q;server&q;:[&q;nginx&q;],&q;x-frame-options&q;:[&q;SAMEORIGIN&q;],&q;x-xss-protection&q;:[&q;1; mode=block&q;],&q;x-content-type-options&q;:[&q;nosniff&q;],&q;access-control-allow-origin&q;:[&q;*&q;],&q;access-control-allow-methods&q;:[&q;POST, GET, PATCH, PUT, DELETE, OPTIONS&q;],&q;access-control-allow-headers&q;:[&q;Access-Control-Allow-Headers, Origin,Accept, X-Requested-With, Content-Type, Access-Control-Request-Method, Access-Control-Request-Headers, Authorization&q;],&q;access-control-max-age&q;:[&q;1728000&q;],&q;vary&q;:[&q;Accept-Encoding&q;],&q;etag&q;:[&q;W/\\\\&q;65d26cd59d395c9aecda2cebeaac0586\\\\&q;&q;],&q;cache-control&q;:[&q;max-age=0, private, must-revalidate&q;],&q;x-request-id&q;:[&q;a7e5673f-4ec7-4eb6-b9af-43b8490e0ef2&q;],&q;x-runtime&q;:[&q;0.009062&q;],&q;strict-transport-security&q;:[&q;max-age=31536000; includeSubDomains;&q;]},&q;status&q;:200,&q;statusText&q;:&q;OK&q;,&q;url&q;:&q;https://api.codingninjas.com/api/v2/fetch_time_zone?user_id=null&a;time_zone_string=UTC&q;},&q;https://api.codingninjas.com/api/v3/public_relations&q;:{&q;data&q;:{&q;public_relation_cards&q;:[{&q;id&q;:null,&q;image&q;:&q;https://files.codingninjas.in/bw-logo-5471.jpg&q;,&q;header_text&q;:&q;Platforms To Watch Out For If You Want To Learn Coding&q;,&q;source&q;:&q;http://www.businessworld.in/article/Platforms-to-watch-out-for-if-you-want-to-learn-coding/06-10-2020-328480/&q;},{&q;id&q;:null,&q;image&q;:&q;https://files.codingninjas.in/india-today-5474.jpg&q;,&q;header_text&q;:&q;Why learn programming? &q;,&q;source&q;:&q;https://www.indiatoday.in/education-today/featurephilia/story/why-learn-programming-5-easy-ways-to-learn-coding-at-home-1730109-2020-10-09&q;},{&q;id&q;:null,&q;image&q;:&q;https://files.codingninjas.in/et-brandequity-5439.jpg&q;,&q;header_text&q;:&q;Coding Ninjas aims for coding curiosity among students&q;,&q;source&q;:&q;https://brandequity.economictimes.indiatimes.com/news/marketing/coding-ninjas-aims-for-coding-curiosity-among-students/78762964&q;},{&q;id&q;:null,&q;image&q;:&q;https://files.codingninjas.in/et-logo-5689.png&q;,&q;header_text&q;:&q;Coding Ninjas Collaborates With Chitkara University To Offer Programming Courses &q;,&q;source&q;:&q;http://bweducation.businessworld.in/article/-Coding-Ninjas-Collaborates-With-Chitkara-University-To-Offer-Programming-Courses-To-First-Year-B-Tech-Students-/24-08-2020-312294/&q;},{&q;id&q;:null,&q;image&q;:&q;https://files.codingninjas.in/inc-42-5477.jpg&q;,&q;header_text&q;:&q;Coding Ninjas Turns Past Learners Into Teachers &q;,&q;source&q;:&q;https://inc42.com/startups/coding-ninjas-turns-past-learners-into-teachers-to-challenge-byjus-owned-whitehat-jr/?itm_source=inc42-sponsored-content&a;itm_medium=website&a;itm_campaign=sponsored-content&q;},{&q;id&q;:null,&q;image&q;:&q;https://files.codingninjas.in/0000000000004338.png&q;,&q;header_text&q;:&q;Coding Ninjas aims to crack the edtech code by reskilling and upskilling college students&q;,&q;source&q;:&q;https://yourstory.com/2020/09/startup-edtech-code-reskilling-upskilling-college-students&q;},{&q;id&q;:null,&q;image&q;:&q;https://files.codingninjas.in/the-hindu-5475.webp&q;,&q;header_text&q;:&q;Coding-enabled world and workforce&q;,&q;source&q;:&q;https://www.thehindu.com/education/coding-programming-coding-language-coding-is-key-coding-enabled-world-and-workforce-ankush-singla/article32659831.ece&q;},{&q;id&q;:null,&q;image&q;:&q;https://files.codingninjas.in/bllogo-5440.jpg&q;,&q;header_text&q;:&q;Ed-tech start-up Coding Ninjas to offer coding, programming courses for students&q;,&q;source&q;:&q;https://www.thehindubusinessline.com/news/education/ed-tech-start-up-coding-ninjas-to-offer-coding-programming-courses-for-students/article32064308.ece&q;},{&q;id&q;:null,&q;image&q;:&q;https://files.codingninjas.in/digital-terminal-5383.png&q;,&q;header_text&q;:&q;Coding Ninjas Launches Ninjas Junior Program&q;,&q;source&q;:&q;https://digitalterminal.in/news/coding-ninjas-launches-ninjas-junior-program-to-offer-coding-courses/19646.html&q;},{&q;id&q;:null,&q;image&q;:&q;https://files.codingninjas.in/education-times-5347.jpg&q;,&q;header_text&q;:&q;Coding Bootcamps: Silver lining and beyond&q;,&q;source&q;:&q;https://www.educationtimes.com/article/editors-pick/77001034/Coding-Bootcamps-Silver-lining-and-beyond#gsc.tab=0&q;},{&q;id&q;:null,&q;image&q;:&q;https://files.codingninjas.in/edex-live-logo-5377.jpg&q;,&q;header_text&q;:&q;How the pandemic proved to be rocket fuel for India&s;s EdTech platforms&q;,&q;source&q;:&q;https://www.edexlive.com/news/2020/aug/02/full-speed-ahead-how-the-pandemic-proved-to-be-rocket-fuel-for-indias-edtech-platforms-13628.html&q;},{&q;id&q;:null,&q;image&q;:&q;https://files.codingninjas.in/analytics-india-magazine-5348.jpg&q;,&q;header_text&q;:&q;How Will The New Education Policy Make India AI-Ready&q;,&q;source&q;:&q;https://analyticsindiamag.com/how-will-the-new-education-policy-make-india-ai-ready/&q;},{&q;id&q;:null,&q;image&q;:&q;https://files.codingninjas.in/outlook-india-5479.png&q;,&q;header_text&q;:&q;Coding Ninjas partners with recruitment platform Hirist.com to offer tech-related jobs&q;,&q;source&q;:&q;https://www.outlookindia.com/newsscroll/coding-ninjas-partners-with-recruitment-platform-hiristcom-to-offer-techrelated-jobs/1909539&q;},{&q;id&q;:null,&q;image&q;:&q;https://files.codingninjas.in/india-today-5474.jpg&q;,&q;header_text&q;:&q;5 platforms placing and up skilling graduates remotely&q;,&q;source&q;:&q;https://www.indiatoday.in/information/story/here-are-5-platforms-placing-and-up-skilling-graduates-remotely-1712052-2020-08-17&q;},{&q;id&q;:null,&q;image&q;:&q;https://files.codingninjas.in/business_world_small-5671.png&q;,&q;header_text&q;:&q;Coding Ninjas Collaborates With Chitkara University&q;,&q;source&q;:&q;http://bweducation.businessworld.in/article/-Coding-Ninjas-Collaborates-With-Chitkara-University-To-Offer-Programming-Courses-To-First-Year-B-Tech-Students-/24-08-2020-312294/&q;},{&q;id&q;:null,&q;image&q;:&q;https://files.codingninjas.in/entrepreneur-india-logo-5481.png&q;,&q;header_text&q;:&q;Coding Ninjas bags the Best Education Startup Of The Year Award 2020&q;,&q;source&q;:&q;https://www.entrepreneurindia.com/virtual-awards/awards_winner.php&q;}],&q;public_relation_video_card&q;:{&q;id&q;:null,&q;image&q;:&q;https://files.codingninjas.in/newsx_small-5673.png&q;,&q;header_text&q;:&q;India Inc on Reviving Our Economy NewsX &a; BW Special&q;,&q;description_text&q;:&q;Ankush Singla, Co-Founder, Coding Ninjas joins a panel discussion with other industry stalwarts to talk about the economy in the times of COVID-19. &q;,&q;source&q;:&q;vEnefxh8o_k&q;}},&q;message&q;:&q;Public Relations&q;,&q;status&q;:200,&q;error&q;:null,&q;disabled&q;:false,&q;update&q;:false,&q;external_rating&q;:null},&q;G.https://api.codingninjas.com/api/v3/public_relations?&q;:{&q;body&q;:{&q;data&q;:{&q;public_relation_cards&q;:[{&q;id&q;:null,&q;image&q;:&q;https://files.codingninjas.in/bw-logo-5471.jpg&q;,&q;header_text&q;:&q;Platforms To Watch Out For If You Want To Learn Coding&q;,&q;source&q;:&q;http://www.businessworld.in/article/Platforms-to-watch-out-for-if-you-want-to-learn-coding/06-10-2020-328480/&q;},{&q;id&q;:null,&q;image&q;:&q;https://files.codingninjas.in/india-today-5474.jpg&q;,&q;header_text&q;:&q;Why learn programming? &q;,&q;source&q;:&q;https://www.indiatoday.in/education-today/featurephilia/story/why-learn-programming-5-easy-ways-to-learn-coding-at-home-1730109-2020-10-09&q;},{&q;id&q;:null,&q;image&q;:&q;https://files.codingninjas.in/et-brandequity-5439.jpg&q;,&q;header_text&q;:&q;Coding Ninjas aims for coding curiosity among students&q;,&q;source&q;:&q;https://brandequity.economictimes.indiatimes.com/news/marketing/coding-ninjas-aims-for-coding-curiosity-among-students/78762964&q;},{&q;id&q;:null,&q;image&q;:&q;https://files.codingninjas.in/et-logo-5689.png&q;,&q;header_text&q;:&q;Coding Ninjas Collaborates With Chitkara University To Offer Programming Courses &q;,&q;source&q;:&q;http://bweducation.businessworld.in/article/-Coding-Ninjas-Collaborates-With-Chitkara-University-To-Offer-Programming-Courses-To-First-Year-B-Tech-Students-/24-08-2020-312294/&q;},{&q;id&q;:null,&q;image&q;:&q;https://files.codingninjas.in/inc-42-5477.jpg&q;,&q;header_text&q;:&q;Coding Ninjas Turns Past Learners Into Teachers &q;,&q;source&q;:&q;https://inc42.com/startups/coding-ninjas-turns-past-learners-into-teachers-to-challenge-byjus-owned-whitehat-jr/?itm_source=inc42-sponsored-content&a;itm_medium=website&a;itm_campaign=sponsored-content&q;},{&q;id&q;:null,&q;image&q;:&q;https://files.codingninjas.in/0000000000004338.png&q;,&q;header_text&q;:&q;Coding Ninjas aims to crack the edtech code by reskilling and upskilling college students&q;,&q;source&q;:&q;https://yourstory.com/2020/09/startup-edtech-code-reskilling-upskilling-college-students&q;},{&q;id&q;:null,&q;image&q;:&q;https://files.codingninjas.in/the-hindu-5475.webp&q;,&q;header_text&q;:&q;Coding-enabled world and workforce&q;,&q;source&q;:&q;https://www.thehindu.com/education/coding-programming-coding-language-coding-is-key-coding-enabled-world-and-workforce-ankush-singla/article32659831.ece&q;},{&q;id&q;:null,&q;image&q;:&q;https://files.codingninjas.in/bllogo-5440.jpg&q;,&q;header_text&q;:&q;Ed-tech start-up Coding Ninjas to offer coding, programming courses for students&q;,&q;source&q;:&q;https://www.thehindubusinessline.com/news/education/ed-tech-start-up-coding-ninjas-to-offer-coding-programming-courses-for-students/article32064308.ece&q;},{&q;id&q;:null,&q;image&q;:&q;https://files.codingninjas.in/digital-terminal-5383.png&q;,&q;header_text&q;:&q;Coding Ninjas Launches Ninjas Junior Program&q;,&q;source&q;:&q;https://digitalterminal.in/news/coding-ninjas-launches-ninjas-junior-program-to-offer-coding-courses/19646.html&q;},{&q;id&q;:null,&q;image&q;:&q;https://files.codingninjas.in/education-times-5347.jpg&q;,&q;header_text&q;:&q;Coding Bootcamps: Silver lining and beyond&q;,&q;source&q;:&q;https://www.educationtimes.com/article/editors-pick/77001034/Coding-Bootcamps-Silver-lining-and-beyond#gsc.tab=0&q;},{&q;id&q;:null,&q;image&q;:&q;https://files.codingninjas.in/edex-live-logo-5377.jpg&q;,&q;header_text&q;:&q;How the pandemic proved to be rocket fuel for India&s;s EdTech platforms&q;,&q;source&q;:&q;https://www.edexlive.com/news/2020/aug/02/full-speed-ahead-how-the-pandemic-proved-to-be-rocket-fuel-for-indias-edtech-platforms-13628.html&q;},{&q;id&q;:null,&q;image&q;:&q;https://files.codingninjas.in/analytics-india-magazine-5348.jpg&q;,&q;header_text&q;:&q;How Will The New Education Policy Make India AI-Ready&q;,&q;source&q;:&q;https://analyticsindiamag.com/how-will-the-new-education-policy-make-india-ai-ready/&q;},{&q;id&q;:null,&q;image&q;:&q;https://files.codingninjas.in/outlook-india-5479.png&q;,&q;header_text&q;:&q;Coding Ninjas partners with recruitment platform Hirist.com to offer tech-related jobs&q;,&q;source&q;:&q;https://www.outlookindia.com/newsscroll/coding-ninjas-partners-with-recruitment-platform-hiristcom-to-offer-techrelated-jobs/1909539&q;},{&q;id&q;:null,&q;image&q;:&q;https://files.codingninjas.in/india-today-5474.jpg&q;,&q;header_text&q;:&q;5 platforms placing and up skilling graduates remotely&q;,&q;source&q;:&q;https://www.indiatoday.in/information/story/here-are-5-platforms-placing-and-up-skilling-graduates-remotely-1712052-2020-08-17&q;},{&q;id&q;:null,&q;image&q;:&q;https://files.codingninjas.in/business_world_small-5671.png&q;,&q;header_text&q;:&q;Coding Ninjas Collaborates With Chitkara University&q;,&q;source&q;:&q;http://bweducation.businessworld.in/article/-Coding-Ninjas-Collaborates-With-Chitkara-University-To-Offer-Programming-Courses-To-First-Year-B-Tech-Students-/24-08-2020-312294/&q;},{&q;id&q;:null,&q;image&q;:&q;https://files.codingninjas.in/entrepreneur-india-logo-5481.png&q;,&q;header_text&q;:&q;Coding Ninjas bags the Best Education Startup Of The Year Award 2020&q;,&q;source&q;:&q;https://www.entrepreneurindia.com/virtual-awards/awards_winner.php&q;}],&q;public_relation_video_card&q;:{&q;id&q;:null,&q;image&q;:&q;https://files.codingninjas.in/newsx_small-5673.png&q;,&q;header_text&q;:&q;India Inc on Reviving Our Economy NewsX &a; BW Special&q;,&q;description_text&q;:&q;Ankush Singla, Co-Founder, Coding Ninjas joins a panel discussion with other industry stalwarts to talk about the economy in the times of COVID-19. &q;,&q;source&q;:&q;vEnefxh8o_k&q;}},&q;message&q;:&q;Public Relations&q;,&q;status&q;:200,&q;error&q;:null,&q;disabled&q;:false,&q;update&q;:false,&q;external_rating&q;:null},&q;headers&q;:{&q;date&q;:[&q;Sun, 21 Mar 2021 08:36:57 GMT&q;],&q;content-type&q;:[&q;application/json&q;],&q;transfer-encoding&q;:[&q;chunked&q;],&q;connection&q;:[&q;keep-alive&q;],&q;server&q;:[&q;nginx&q;],&q;x-frame-options&q;:[&q;SAMEORIGIN&q;],&q;x-xss-protection&q;:[&q;1; mode=block&q;],&q;x-content-type-options&q;:[&q;nosniff&q;],&q;access-control-allow-origin&q;:[&q;*&q;],&q;access-control-allow-methods&q;:[&q;POST, GET, PATCH, PUT, DELETE, OPTIONS&q;],&q;access-control-allow-headers&q;:[&q;Access-Control-Allow-Headers, Origin,Accept, X-Requested-With, Content-Type, Access-Control-Request-Method, Access-Control-Request-Headers, Authorization&q;],&q;access-control-max-age&q;:[&q;1728000&q;],&q;vary&q;:[&q;Accept-Encoding&q;],&q;etag&q;:[&q;W/\\\\&q;b69902f050f652136dd66908b197adeb\\\\&q;&q;],&q;cache-control&q;:[&q;max-age=0, private, must-revalidate&q;],&q;x-request-id&q;:[&q;6d33e14d-2a46-4018-a62d-422a44c894b5&q;],&q;x-runtime&q;:[&q;0.012454&q;],&q;strict-transport-security&q;:[&q;max-age=31536000; includeSubDomains;&q;]},&q;status&q;:200,&q;statusText&q;:&q;OK&q;,&q;url&q;:&q;https://api.codingninjas.com/api/v3/public_relations&q;}}</script><script type=\"text/javascript\" id=\"\">!function(b,e,f,g,a,c,d){b.fbq||(a=b.fbq=function(){a.callMethod?a.callMethod.apply(a,arguments):a.queue.push(arguments)},b._fbq||(b._fbq=a),a.push=a,a.loaded=!0,a.version=\"2.0\",a.queue=[],c=e.createElement(f),c.async=!0,c.src=g,d=e.getElementsByTagName(f)[0],d.parentNode.insertBefore(c,d))}(window,document,\"script\",\"https://connect.facebook.net/en_US/fbevents.js\");fbq(\"init\",\"491083221301465\");fbq(\"trackSingle\",\"491083221301465\",\"PageView\");</script>\\n  <noscript><img height=\"1\" width=\"1\" style=\"display:none\" src=\"https://www.facebook.com/tr?id=491083221301465&amp;ev=PageView&amp;noscript=1\"></noscript>\\n  <script type=\"text/javascript\" id=\"\">(function(g,c){function k(a,f){a.prototype[f]=function(){this._q.push([f].concat(Array.prototype.slice.call(arguments,0)));return this}}function l(a){function f(m){a[m]=function(){a._q.push([m].concat(Array.prototype.slice.call(arguments,0)))}}for(var h=0;h<n.length;h++)f(n[h])}var d=g.amplitude||{_q:[],_iq:{}},b=c.createElement(\"script\");b.type=\"text/javascript\";b.integrity=\"sha384-d/yhnowERvm+7eCU79T/bYjOiMmq4F11ElWYLmt0ktvYEVgqLDazh4+gW9CKMpYW\";b.crossOrigin=\"anonymous\";b.async=!0;b.src=\"https://cdn.amplitude.com/libs/amplitude-5.2.2-min.gz.js\";\\nb.onload=function(){g.amplitude.runQueuedFunctions||console.log(\"[Amplitude] Error: could not load SDK\")};c=c.getElementsByTagName(\"script\")[0];c.parentNode.insertBefore(b,c);b=function(){this._q=[];return this};c=\"add append clearAll prepend set setOnce unset\".split(\" \");for(var e=0;e<c.length;e++)k(b,c[e]);d.Identify=b;b=function(){this._q=[];return this};c=[\"setProductId\",\"setQuantity\",\"setPrice\",\"setRevenueType\",\"setEventProperties\"];for(e=0;e<c.length;e++)k(b,c[e]);d.Revenue=b;var n=\"init logEvent logRevenue setUserId setUserProperties setOptOut setVersionName setDomain setDeviceId setGlobalUserProperties identify clearUserProperties setGroup logRevenueV2 regenerateDeviceId groupIdentify onInit logEventWithTimestamp logEventWithGroups setSessionId resetSessionId\".split(\" \");\\nl(d);d.getInstance=function(a){a=(a&&0!==a.length?a:\"$default_instance\").toLowerCase();d._iq.hasOwnProperty(a)||(d._iq[a]={_q:[]},l(d._iq[a]));return d._iq[a]};g.amplitude=d})(window,document);amplitude.getInstance().init(google_tag_manager[\"GTM-NSRR859\"].macro(5));</script>\\n    <script type=\"text/javascript\" id=\"\">!function(d,e,f,a,b,c){d.qp||(a=d.qp=function(){a.qp?a.qp.apply(a,arguments):a.queue.push(arguments)},a.queue=[],b=document.createElement(e),b.async=!0,b.src=f,c=document.getElementsByTagName(e)[0],c.parentNode.insertBefore(b,c))}(window,\"script\",\"https://a.quora.com/qevents.js\");qp(\"init\",\"298e2011df4c46759c1a065e1b2ea110\");qp(\"track\",\"ViewContent\");</script>\\n    <noscript><img height=\"1\" width=\"1\" style=\"display:none\" src=\"https://q.quora.com/_/ad/298e2011df4c46759c1a065e1b2ea110/pixel?tag=ViewContent&amp;noscript=1\">\\n</noscript>\\n    <script type=\"text/javascript\" id=\"\">_linkedin_partner_id=\"691107\";window._linkedin_data_partner_ids=window._linkedin_data_partner_ids||[];window._linkedin_data_partner_ids.push(_linkedin_partner_id);</script><script type=\"text/javascript\" id=\"\">(function(){var b=document.getElementsByTagName(\"script\")[0],a=document.createElement(\"script\");a.type=\"text/javascript\";a.async=!0;a.src=\"https://snap.licdn.com/li.lms-analytics/insight.min.js\";b.parentNode.insertBefore(a,b)})();</script>\\n    <noscript>\\n      <img height=\"1\" width=\"1\" style=\"display:none;\" alt=\"\" src=\"https://px.ads.linkedin.com/collect/?pid=691107&amp;fmt=gif\">\\n    </noscript>\\n    \\n    <script type=\"text/javascript\" id=\"\">(function(){window.sib={equeue:[],client_key:\"lqvitlrlpovqm7lr5abr8\"};window.sendinblue={};for(var a=[\"track\",\"identify\",\"trackLink\",\"page\"],b=0;b<a.length;b++)(function(a){window.sendinblue[a]=function(){var b=Array.prototype.slice.call(arguments);(window.sib[a]||function(){var c={};c[a]=b;window.sib.equeue.push(c)})(b[0],b[1],b[2])}})(a[b]);a=document.createElement(\"script\");b=document.getElementsByTagName(\"script\")[0];a.type=\"text/javascript\";a.id=\"sendinblue-js\";a.async=!0;a.src=\"https://sibautomation.com/sa.js?key\\\\x3d\"+\\nwindow.sib.client_key;b.parentNode.insertBefore(a,b);window.sendinblue.page()})();</script><script type=\"text/javascript\" async=\"\" src=\"https://ssl.widgets.webengage.com/js/webengage-min-v-6.0.js\"></script><script type=\"text/javascript\" id=\"_webengage_script_tag\">var webengage;\\n!function(a,k,b,e,l){function h(f,g){f[g[g.length-1]]=function(){c.__queue.push([g.join(\".\"),arguments])}}var c=a[b],d=\" \",m=\"init options track screen onReady\".split(d);e=\"feedback survey notification\".split(d);l=\"options render clear abort\".split(d);var n=\"Open Close Submit Complete View Click\".split(d);d=\"identify login logout setAttribute\".split(d);if(!c||!c.__v){a[b]=c={__queue:[],is_spa:1,__v:\"6.0\",user:{}};for(a=0;a<m.length;a++)h(c,[m[a]]);for(a=0;a<e.length;a++){c[e[a]]={};for(b=0;b<l.length;b++)h(c[e[a]],\\n[e[a],l[b]]);for(b=0;b<n.length;b++)h(c[e[a]],[e[a],\"on\"+n[b]])}for(a=0;a<d.length;a++)h(c.user,[\"user\",d[a]]);setTimeout(function(){var f=k.createElement(\"script\"),g=k.getElementById(\"_webengage_script_tag\");f.type=\"text/javascript\";f.async=!0;f.src=(\"https:\"==k.location.protocol?\"https://ssl.widgets.webengage.com\":\"http://cdn.widgets.webengage.com\")+\"/js/webengage-min-v-6.0.js\";g.parentNode.insertBefore(f,g)})}}(window,document,\"webengage\");webengage.init(google_tag_manager[\"GTM-NSRR859\"].macro(6));</script><script type=\"text/javascript\" id=\"\" src=\"https://www.quora.com/widgets/content\"></script><script type=\"text/javascript\" id=\"\" src=\"//code.jivosite.com/widget/q16rxxiwBk\"></script><script type=\"text/javascript\" id=\"\">(function(a,e,b,f,g,c,d){a[b]=a[b]||function(){(a[b].q=a[b].q||[]).push(arguments)};c=e.createElement(f);c.async=1;c.src=\"https://www.clarity.ms/tag/\"+g;d=e.getElementsByTagName(f)[0];d.parentNode.insertBefore(c,d)})(window,document,\"clarity\",\"script\",\"3wfyxuahfv\");</script><script type=\"text/javascript\" id=\"\">clarity(\"set\",\"eventAction\",google_tag_manager[\"GTM-NSRR859\"].macro(11));</script><iframe id=\"ssIFrame_google\" sandbox=\"allow-scripts allow-same-origin\" aria-hidden=\"true\" frame-border=\"0\" src=\"https://accounts.google.com/o/oauth2/iframe#origin=https%3A%2F%2Fwww.codingninjas.com&amp;rpcToken=889761458.8116903\" style=\"position: absolute; width: 1px; height: 1px; inset: -9999px; display: none;\"></iframe><script type=\"text/javascript\" id=\"\">var defaultAttributes={eventCategory:google_tag_manager[\"GTM-NSRR859\"].macro(20),eventAction:google_tag_manager[\"GTM-NSRR859\"].macro(21),eventLabel:google_tag_manager[\"GTM-NSRR859\"].macro(22)},customAttributes=google_tag_manager[\"GTM-NSRR859\"].macro(23),data=Object.assign({},defaultAttributes,customAttributes);amplitude.getInstance().logEvent(google_tag_manager[\"GTM-NSRR859\"].macro(24),data);</script>\\n<script type=\"text/javascript\" id=\"\">var defaultAttributes={eventCategory:google_tag_manager[\"GTM-NSRR859\"].macro(25),eventAction:google_tag_manager[\"GTM-NSRR859\"].macro(26),eventLabel:google_tag_manager[\"GTM-NSRR859\"].macro(27)},customAttributes=google_tag_manager[\"GTM-NSRR859\"].macro(28),data=Object.assign({},defaultAttributes,customAttributes);webengage.track(google_tag_manager[\"GTM-NSRR859\"].macro(29),data);</script><script type=\"text/javascript\" id=\"\">clarity(\"set\",\"eventAction\",google_tag_manager[\"GTM-NSRR859\"].macro(30));</script><script type=\"text/javascript\" id=\"\">var defaultAttributes={eventCategory:google_tag_manager[\"GTM-NSRR859\"].macro(36),eventAction:google_tag_manager[\"GTM-NSRR859\"].macro(37),eventLabel:google_tag_manager[\"GTM-NSRR859\"].macro(38)},customAttributes=google_tag_manager[\"GTM-NSRR859\"].macro(39),data=Object.assign({},defaultAttributes,customAttributes);amplitude.getInstance().logEvent(google_tag_manager[\"GTM-NSRR859\"].macro(40),data);</script>\\n<script type=\"text/javascript\" id=\"\">var defaultAttributes={eventCategory:google_tag_manager[\"GTM-NSRR859\"].macro(41),eventAction:google_tag_manager[\"GTM-NSRR859\"].macro(42),eventLabel:google_tag_manager[\"GTM-NSRR859\"].macro(43)},customAttributes=google_tag_manager[\"GTM-NSRR859\"].macro(44),data=Object.assign({},defaultAttributes,customAttributes);webengage.track(google_tag_manager[\"GTM-NSRR859\"].macro(45),data);</script><script type=\"text/javascript\" id=\"\">clarity(\"set\",\"eventAction\",google_tag_manager[\"GTM-NSRR859\"].macro(46));</script><iframe id=\"cm_iframe\" height=\"0\" width=\"0\" src=\"https://sibautomation.com/cm.html?key=lqvitlrlpovqm7lr5abr8#cuid=c24be85d-8247-4b4f-8069-5ed0001b7583&amp;cm_flag=false&amp;allow_cookie=&amp;i=0\" style=\"display: none; visibility: hidden;\"></iframe><webengagedata><style type=\"text/css\">#webklipper-publisher-widget-container, #webklipper-publisher-widget-container * {overflow:visible; -webkit-box-sizing: content-box; -moz-box-sizing: content-box;  box-sizing: content-box; margin: 0; padding: 0; border: 0; font-size: 100%; font: inherit; vertical-align: baseline;}</style><div id=\"webklipper-publisher-widget-container\"><iframe title=\"webengage-engagement-callback-frame\" name=\"webengage-engagement-callback-frame\" id=\"webengage-engagement-callback-frame\" frameborder=\"0\" marginheight=\"0\" marginwidth=\"0\" style=\"position: absolute; background-color: transparent; bottom: 0px; right: 0px; border: none; overflow: hidden; visibility: hidden; display: none;\"></iframe><iframe title=\"_we_wk_data_store\" name=\"_we_wk_data_store\" id=\"_we_wk_data_store\" frameborder=\"0\" marginheight=\"0\" marginwidth=\"0\" src=\"https://z47b66064.webengage.co/storage-frame-1.16.htm?cdn=y&amp;cbf=webengage-engagement-callback-frame&amp;lc=~47b66064\" style=\"position: absolute; background-color: transparent; bottom: 0px; right: 0px; border: none; overflow: hidden; visibility: hidden; display: none;\"></iframe><script type=\"text/javascript\" charset=\"UTF-8\" async=\"\" src=\"//wsdk-files.webengage.com/webengage/~47b66064/~hg3cf7.js?r=1589419472000\"></script><script type=\"text/javascript\" charset=\"UTF-8\" async=\"\" src=\"//wsdk-files.webengage.com/webengage/~47b66064/~5bjla2d.js?r=1589426623000\"></script></div></webengagedata><div id=\"fb-root\" class=\" fb_reset\"><div style=\"position: absolute; top: -10000px; width: 0px; height: 0px;\"><div></div></div></div><div id=\"jivo-iframe-container\" style=\"opacity: 0; visibility: hidden; width: 0px; height: 0px;\"><iframe src=\"javascript:void(0)\" allow=\"autoplay\" title=\"Jivochat\" name=\"jivo_container\" id=\"jivo_container\" frameborder=\"no\"></iframe></div><jdiv><jdiv class=\"globalClass_07d2\"><jdiv style=\"animation: 300ms cubic-bezier(0.39, 0.24, 0.21, 0.99) 0s 1 normal both running Label_OPEN_WIDGET_4e40; display: block; z-index: 2147483646; position: fixed;\"></jdiv><jdiv id=\"jivo-player\" class=\"player_7c74\"><audio preload=\"auto\" id=\"jivo-sound-agent_message\"><source src=\"https://code.jivosite.com/sounds/agent_message.mp3\" type=\"audio/mpeg\"><source src=\"https://code.jivosite.com/sounds/agent_message.ogg\" type=\"audio/ogg; codecs=vorbis\"><source src=\"https://code.jivosite.com/sounds/agent_message.wav\" type=\"audio/wav\"></audio><audio preload=\"auto\" id=\"jivo-sound-notification\"><source src=\"https://code.jivosite.com/sounds/notification.mp3\" type=\"audio/mpeg\"><source src=\"https://code.jivosite.com/sounds/notification.ogg\" type=\"audio/ogg; codecs=vorbis\"><source src=\"https://code.jivosite.com/sounds/notification.wav\" type=\"audio/wav\"></audio><audio preload=\"auto\" id=\"jivo-sound-outgoing_message\"><source src=\"https://code.jivosite.com/sounds/outgoing_message.mp3\" type=\"audio/mpeg\"><source src=\"https://code.jivosite.com/sounds/outgoing_message.ogg\" type=\"audio/ogg; codecs=vorbis\"><source src=\"https://code.jivosite.com/sounds/outgoing_message.wav\" type=\"audio/wav\"></audio></jdiv><jdiv id=\"jcont\" style=\"animation: 300ms cubic-bezier(0.39, 0.24, 0.21, 0.99) 0s 1 normal both running WidgetContainer_OPEN_WIDGET_b8bc; --right:30px; --height:496px; position: fixed; display: block; --labelwidth:300px; --labelright:30px;\"><jdiv class=\"wrap_fcc4 __show_e0d5\" dir=\"ltr\" id=\"jivo_action\"><jdiv class=\"closeButton_8c77\" id=\"jivo_close_button\"><jdiv class=\"closeIcon_f3e2\" style=\"background-image: url(&quot;data:image/svg+xml,%3Csvg%20xmlns%3D%22http%3A%2F%2Fwww.w3.org%2F2000%2Fsvg%22%20width%3D%2228%22%20height%3D%2228%22%20viewBox%3D%220%200%2028%2028%22%3E%0A%20%20%20%20%3Cg%20fill%3D%22none%22%20fill-rule%3D%22evenodd%22%20transform%3D%22translate(2%202)%22%3E%0A%20%20%20%20%20%20%20%20%3Ccircle%20cx%3D%2212%22%20cy%3D%2212%22%20r%3D%2212%22%20fill%3D%22%23FFF%22%20opacity%3D%221%22%2F%3E%0A%20%20%20%20%20%20%20%20%3Ccircle%20cx%3D%2212%22%20cy%3D%2212%22%20r%3D%2212.75%22%20stroke%3D%22%23222D38%22%20stroke-width%3D%221.5%22%20opacity%3D%221%22%2F%3E%0A%20%20%20%20%20%20%20%20%3Cg%20fill%3D%22%23222D38%22%20opacity%3D%221%22%20transform%3D%22translate(6%206)%22%3E%0A%20%20%20%20%20%20%20%20%20%20%20%20%3Crect%20width%3D%221.611%22%20height%3D%2213.9%22%20x%3D%225.435%22%20y%3D%22-.941%22%20rx%3D%22.806%22%20transform%3D%22rotate(45%206.24%206.01)%22%2F%3E%0A%20%20%20%20%20%20%20%20%20%20%20%20%3Crect%20width%3D%221.611%22%20height%3D%2213.9%22%20x%3D%225.435%22%20y%3D%22-.941%22%20rx%3D%22.806%22%20transform%3D%22scale(-1%201)%20rotate(45%200%20-9.058)%22%2F%3E%0A%20%20%20%20%20%20%20%20%3C%2Fg%3E%0A%20%20%20%20%3C%2Fg%3E%0A%3C%2Fsvg%3E%0A&quot;);\"></jdiv></jdiv></jdiv><jdiv class=\"wrap_805f\"></jdiv><jdiv class=\"contentWrapper_fb20\"><jdiv class=\"main_f97f\"><jdiv class=\"headerBox_9049\" style=\"height: 100%; display: block;\"><jdiv class=\"header_bb94\"><jdiv class=\"headerBox_14b0\" style=\"background: linear-gradient(95deg, rgb(255, 94, 98) 20%, rgb(255, 153, 102) 80%);\"><jdiv class=\"\"><jdiv class=\"leaf_c450 _bottom_53ce\"><jdiv class=\"cssLeaf_927d\" style=\"background-image: url(&quot;data:image/svg+xml,%3Csvg%20xmlns%3D%22http%3A%2F%2Fwww.w3.org%2F2000%2Fsvg%22%20width%3D%2232%22%20height%3D%2240%22%20viewBox%3D%220%200%2032%2040%22%3E%0A%20%20%20%20%3Cg%20fill%3D%22none%22%20fill-rule%3D%22evenodd%22%3E%0A%20%20%20%20%20%20%20%20%3Cpath%20fill%3D%22%23ff9966%22%20d%3D%22M0%200h9.02L32%2033.196V40H0z%22%2F%3E%0A%20%20%20%20%20%20%20%20%3Cpath%20fill%3D%22%2318C139%22%20d%3D%22M9%200c3.581.05%2023%205.426%2023%2033.08v.03C18.922%2030.751%209%2019.311%209%205.554V0z%22%2F%3E%0A%20%20%20%20%3C%2Fg%3E%0A%3C%2Fsvg%3E%0A&quot;);\"></jdiv></jdiv><jdiv class=\"header_b99c _light_0174 showContent_1e9b\"><jdiv class=\"headerContainer_3bc6\"><jdiv class=\"avatar_82ab\"><jdiv class=\"lightAvatar_2d66\"><jdiv class=\"avatarImg_79c0\" style=\"background-image: url(&quot;https://files.jivosite.com/avatars/2019_06/5d036f1186ec6.jpg&quot;);\"></jdiv></jdiv></jdiv><jdiv class=\"info_b466\"><jdiv class=\"agentName_086f\">Sakshi</jdiv><jdiv class=\"title_ac24\">Counsellor</jdiv></jdiv></jdiv></jdiv></jdiv></jdiv></jdiv></jdiv><jdiv style=\"height: 100%; display: block;\"><jdiv class=\"body_5820 show_1963\"><jdiv class=\"main_c093\" style=\"bottom: 107px; opacity: 1;\"><jdiv class=\"wrap_aa9a\"><jdiv class=\"scroll_d4db\" id=\"scrollbar-container\" style=\"position: relative; overflow: hidden; width: 100%; height: 100%; display: block;\"><jdiv style=\"position: absolute; max-height: 100%; inset: auto 0px 0px; overflow: hidden scroll; display: block; margin-right: -17px; margin-bottom: 0px;\"><jdiv class=\"container_a79a\" style=\"transform: translateY(0px); bottom: 0px; transition: none 0s ease 0s;\"><jdiv class=\"main_8aa4\"><jdiv class=\"agentName_eff0\">Sakshi</jdiv><jdiv class=\"avatarBox_16b1\" title=\"Sakshi\"><jdiv class=\"avatar_82ab _chatStyle_a3b6\"><jdiv class=\"darkAvatar_b3a9\"><jdiv class=\"avatarImg_79c0\" style=\"background-image: url(&quot;https://files.jivosite.com/avatars/2019_06/5d036f1186ec6.jpg&quot;);\"></jdiv></jdiv></jdiv></jdiv><jdiv class=\"content_273d\"><jdiv class=\"main_a3a6 __agent_e044\"><jdiv class=\"message_83cd _grey_0542\" title=\"21.03.21 15:19:19\"><jdiv class=\"text_3162\">Hi Ninja!<br>Are you a beginner or an expert in programming?</jdiv></jdiv></jdiv></jdiv></jdiv></jdiv></jdiv><jdiv class=\"rail_6d1c\" style=\"position: absolute; width: 8px; transition: opacity 200ms ease 0s; opacity: 0; right: 3px; bottom: 2px; top: 2px; border-radius: 4px;\"><jdiv style=\"position: relative; display: block; width: 100%; cursor: pointer; border-radius: inherit; background-color: rgb(214, 212, 212);\"></jdiv></jdiv></jdiv><jdiv class=\"main_92a1\" style=\"display: none;\"><jdiv class=\"text_35ab\">Agent is typing a message</jdiv></jdiv><jdiv class=\"avatarShadow_e198\" style=\"margin-bottom: 107px;\"><jdiv class=\"avatar_82ab _chatStyle_a3b6\"><jdiv class=\"darkAvatar_b3a9\"><jdiv class=\"avatarImg_79c0\" style=\"background-image: url(&quot;https://files.jivosite.com/avatars/2019_06/5d036f1186ec6.jpg&quot;);\"></jdiv></jdiv></jdiv></jdiv><jdiv class=\"moreBox_f387\"><jdiv class=\"moreBtn_41f5\" style=\"background-image: url(&quot;data:image/svg+xml,%3Csvg%20xmlns%3D%22http%3A%2F%2Fwww.w3.org%2F2000%2Fsvg%22%20xmlns%3Axlink%3D%22http%3A%2F%2Fwww.w3.org%2F1999%2Fxlink%22%20width%3D%2224%22%20height%3D%2224%22%3E%3Cdefs%3E%3Cpath%20id%3D%22a%22%20d%3D%22M0%200h24v24H0z%22%2F%3E%3C%2Fdefs%3E%3Cg%20fill%3D%22none%22%20fill-rule%3D%22evenodd%22%20transform%3D%22rotate(-90%2012%2012)%22%3E%3Cmask%20id%3D%22b%22%20fill%3D%22%23fff%22%3E%3Cuse%20xlink%3Ahref%3D%22%23a%22%2F%3E%3C%2Fmask%3E%3Cg%20stroke%3D%22%23cccccc%22%20stroke-linecap%3D%22round%22%20stroke-width%3D%221.5%22%20mask%3D%22url(%23b)%22%3E%3Cpath%20d%3D%22M13.343%2016.814l-4.657-4.657L13.343%207.5%22%2F%3E%3C%2Fg%3E%3C%2Fg%3E%3C%2Fsvg%3E&quot;);\"></jdiv><jdiv class=\"moreBadge_840d\"></jdiv></jdiv></jdiv></jdiv></jdiv><jdiv class=\"popup_1600\"><jdiv style=\"top: 0px; position: absolute; width: 100%; height: 100%; display: none;\"><jdiv class=\"main_93e3\"><jdiv class=\"text_016f\">Please rate the service quality</jdiv><jdiv class=\"buttonsBox_a5b8\"><jdiv class=\"button_f3a4\"><jdiv class=\"iconUp_5ecb\" style=\"background-image: url(&quot;data:image/svg+xml,%3Csvg%20xmlns%3D%22http%3A%2F%2Fwww.w3.org%2F2000%2Fsvg%22%20width%3D%2224%22%20height%3D%2224%22%3E%0A%20%20%3Cpath%20fill%3D%22%23afa9a9%22%20fill-rule%3D%22nonzero%22%20d%3D%22M23%2011a2%202%200%200%200-2-2h-6.32l.96-4.57c.02-.1.03-.21.03-.32%200-.41-.17-.79-.44-1.06L14.17%202%207.59%208.58C7.22%208.95%207%209.45%207%2010v10a2%202%200%200%200%202%202h9c.83%200%201.54-.5%201.84-1.22l3.02-7.05c.09-.23.14-.47.14-.73v-2zM1%2022h4V10H1v12z%22%2F%3E%0A%3C%2Fsvg%3E&quot;);\"></jdiv></jdiv><jdiv class=\"button_f3a4\"><jdiv class=\"iconDown_b6a9\" style=\"background-image: url(&quot;data:image/svg+xml,%3Csvg%20xmlns%3D%22http%3A%2F%2Fwww.w3.org%2F2000%2Fsvg%22%20width%3D%2224%22%20height%3D%2224%22%3E%0A%20%20%3Cpath%20fill%3D%22%23afa9a9%22%20fill-rule%3D%22nonzero%22%20d%3D%22M19%2014h4V2h-4v12zM15%202H6c-.83%200-1.54.5-1.84%201.22l-3.02%207.05c-.09.23-.14.47-.14.73v2a2%202%200%200%200%202%202h6.31l-.95%204.57c-.02.1-.03.2-.03.31%200%20.42.17.79.44%201.06L9.83%2022l6.58-6.59c.37-.36.59-.86.59-1.41V4a2%202%200%200%200-2-2z%22%2F%3E%0A%3C%2Fsvg%3E&quot;);\"></jdiv></jdiv></jdiv><jdiv class=\"close_6d77\"><jdiv class=\"closeIcon_7d2b\" style=\"background-image: url(&quot;data:image/svg+xml,%3Csvg%20xmlns%3D%22http%3A%2F%2Fwww.w3.org%2F2000%2Fsvg%22%20width%3D%2224%22%20height%3D%2224%22%3E%0A%20%20%3Cg%20fill%3D%22%23959BA0%22%20fill-rule%3D%22evenodd%22%20transform%3D%22translate(7%207)%22%3E%0A%20%20%20%20%3Crect%20width%3D%221.5%22%20height%3D%2212.941%22%20x%3D%225.06%22%20y%3D%22-.876%22%20rx%3D%22.75%22%20transform%3D%22rotate(45%205.81%205.595)%22%2F%3E%0A%20%20%20%20%3Crect%20width%3D%221.5%22%20height%3D%2212.941%22%20x%3D%225.06%22%20y%3D%22-.876%22%20rx%3D%22.75%22%20transform%3D%22scale(-1%201)%20rotate(45%200%20-8.433)%22%2F%3E%0A%20%20%3C%2Fg%3E%0A%3C%2Fsvg%3E&quot;);\"></jdiv></jdiv></jdiv></jdiv></jdiv><jdiv style=\"height: 100%; display: none;\"><jdiv class=\"popupFull_82f4\"><jdiv class=\"wrap_3a1c\"><jdiv class=\"popupClose_ffae\"><jdiv class=\"closeIcon_489a\" style=\"background-image: url(&quot;data:image/svg+xml,%3Csvg%20xmlns%3D%22http%3A%2F%2Fwww.w3.org%2F2000%2Fsvg%22%20width%3D%2224%22%20height%3D%2224%22%3E%0A%20%20%3Cg%20fill%3D%22%23959BA0%22%20fill-rule%3D%22evenodd%22%20transform%3D%22translate(7%207)%22%3E%0A%20%20%20%20%3Crect%20width%3D%221.5%22%20height%3D%2212.941%22%20x%3D%225.06%22%20y%3D%22-.876%22%20rx%3D%22.75%22%20transform%3D%22rotate(45%205.81%205.595)%22%2F%3E%0A%20%20%20%20%3Crect%20width%3D%221.5%22%20height%3D%2212.941%22%20x%3D%225.06%22%20y%3D%22-.876%22%20rx%3D%22.75%22%20transform%3D%22scale(-1%201)%20rotate(45%200%20-8.433)%22%2F%3E%0A%20%20%3C%2Fg%3E%0A%3C%2Fsvg%3E&quot;);\"></jdiv></jdiv><jdiv class=\"iconHeader_98e6\"></jdiv><jdiv><jdiv class=\"text_e769\">No need to wait on our site, receive a reply on Facebook Messenger!</jdiv></jdiv><jdiv class=\"linkBox_be98\"><jdiv class=\"link_c9d9\">Cancel</jdiv></jdiv></jdiv></jdiv></jdiv></jdiv><jdiv class=\"input_bba9 show_1963\" style=\"height: 100%; display: block;\"><jdiv class=\"input_c947\" style=\"display: block;\"><jdiv class=\"tdTextarea_0276\"><textarea maxlength=\"1000\" class=\"inputField_f7ba\" autocomplete=\"false\" data-gramm=\"false\" data-gramm_editor=\"false\" data-enable-grammarly=\"false\" placeholder=\"Enter your message\" style=\"height: 38px!important\"></textarea></jdiv><jdiv><jdiv class=\"sendButton_e195\" style=\"background-image: url(&quot;data:image/svg+xml,%3Csvg%20width%3D%2234%22%20height%3D%2234%22%20xmlns%3D%22http%3A%2F%2Fwww.w3.org%2F2000%2Fsvg%22%3E%3Cg%20fill%3D%22none%22%20fill-rule%3D%22evenodd%22%3E%3Ccircle%20fill%3D%22%23445669%22%20cx%3D%2217%22%20cy%3D%2217%22%20r%3D%2217%22%2F%3E%3Cg%20transform%3D%22translate(10%209)%22%20fill%3D%22%23FFF%22%3E%3Crect%20x%3D%226%22%20y%3D%222%22%20width%3D%222%22%20height%3D%2214%22%20rx%3D%221%22%2F%3E%3Crect%20transform%3D%22rotate(-45%209.879%204.879)%22%20x%3D%228.879%22%20y%3D%22-.121%22%20width%3D%222%22%20height%3D%2210%22%20rx%3D%221%22%2F%3E%3Crect%20transform%3D%22scale(-1%201)%20rotate(-45%200%2015.243)%22%20x%3D%223.293%22%20y%3D%22-.121%22%20width%3D%222%22%20height%3D%2210%22%20rx%3D%221%22%2F%3E%3C%2Fg%3E%3C%2Fg%3E%3C%2Fsvg%3E%0A&quot;);\"></jdiv></jdiv></jdiv><jdiv class=\"iconPanel_3d1d\"><jdiv class=\"menuWrap_8bde\"><jdiv><jdiv class=\"iconMenu_06bf\" style=\"background-image: url(&quot;data:image/svg+xml,%3Csvg%20xmlns%3D%22http%3A%2F%2Fwww.w3.org%2F2000%2Fsvg%22%20width%3D%2212%22%20height%3D%2224%22%3E%3Cdefs%2F%3E%3Cg%20fill%3D%22none%22%20fill-rule%3D%22evenodd%22%3E%3Cpath%20d%3D%22M0%200h12v24H0z%22%2F%3E%3Ccircle%20cx%3D%226%22%20cy%3D%225%22%20r%3D%222%22%20fill%3D%22%23a3aab5%22%2F%3E%3Ccircle%20cx%3D%226%22%20cy%3D%2212%22%20r%3D%222%22%20fill%3D%22%23a3aab5%22%2F%3E%3Ccircle%20cx%3D%226%22%20cy%3D%2219%22%20r%3D%222%22%20fill%3D%22%23a3aab5%22%2F%3E%3C%2Fg%3E%3C%2Fsvg%3E&quot;);\"></jdiv></jdiv><jdiv class=\"menu_5a9c\"><jdiv class=\"menuItem_ba28\"><a download=\"\" href=\"\" target=\"_blank\" rel=\"nofollow noopener noreferrer\">Download the chat log</a></jdiv><jdiv class=\"pip_16f8\"></jdiv></jdiv></jdiv><jdiv class=\"wrap_d2a6\"><jdiv class=\"iconAttach2_8752\" style=\"background-image: url(&quot;data:image/svg+xml,%3Csvg%20xmlns%3D%22http%3A%2F%2Fwww.w3.org%2F2000%2Fsvg%22%20width%3D%2224%22%20height%3D%2224%22%20viewBox%3D%220%200%2024%2024%22%3E%0A%20%20%20%20%3Cpath%20fill%3D%22%23a3aab5%22%20fill-rule%3D%22nonzero%22%20d%3D%22M16.5%208v9.5c0%202.21-1.79%204-4%204s-4-1.79-4-4V7a2.5%202.5%200%200%201%205%200v8.5c0%20.55-.45%201-1%201s-1-.45-1-1V8H10v7.5a2.5%202.5%200%200%200%205%200V7c0-2.21-1.79-4-4-4S7%204.79%207%207v10.5c0%203.04%202.46%205.5%205.5%205.5s5.5-2.46%205.5-5.5V8h-1.5z%22%2F%3E%0A%3C%2Fsvg%3E%0A&quot;);\"></jdiv><jdiv class=\"uploadFwrap_76f5\"><input type=\"file\" class=\"uploadButton_315c\" accept=\".rar,.tar,.7z,.djvu,.json,.log,.ppt,.xls,.doc,.docx,.rtf,.ttf,.psd,.odt,.pdf,.aac,.avi,.csv,.epub,.gz,.gif,.ics,.jpeg,.jpg,.mp3,.mpeg,.oga,.ogv,.png,.svg,.txt,.vsd,.wav,.weba,.webm,.webp,.zip,.zip,.mp4,.mp4,.mp4a,.mov,.html,.htm,.css,.ods,.odp,.pptx,.xlsx\"></jdiv></jdiv><jdiv class=\"emojiWrap_a885\"><jdiv class=\"iconEmoji_523c\" style=\"background-image: url(&quot;data:image/svg+xml,%3Csvg%20xmlns%3D%22http%3A%2F%2Fwww.w3.org%2F2000%2Fsvg%22%20width%3D%2224%22%20height%3D%2224%22%3E%0A%20%20%3Cg%20fill%3D%22none%22%20fill-rule%3D%22evenodd%22%20transform%3D%22translate(3%204)%22%3E%0A%20%20%20%20%3Ccircle%20cx%3D%228.5%22%20cy%3D%228.5%22%20r%3D%229.3%22%20stroke%3D%22%23a3aab5%22%20stroke-width%3D%221.6%22%2F%3E%0A%20%20%20%20%3Ccircle%20cx%3D%225.375%22%20cy%3D%226.375%22%20r%3D%221.375%22%20fill%3D%22%23a3aab5%22%2F%3E%0A%20%20%20%20%3Ccircle%20cx%3D%2211.875%22%20cy%3D%226.375%22%20r%3D%221.375%22%20fill%3D%22%23a3aab5%22%20transform%3D%22matrix(-1%200%200%201%2023.75%200)%22%2F%3E%0A%20%20%20%20%3Cpath%20stroke%3D%22%23a3aab5%22%20stroke-linecap%3D%22round%22%20stroke-width%3D%221.6%22%20d%3D%22M4.25%2010.5S4.5%2013%208.5%2013s4.25-2.5%204.25-2.5%22%2F%3E%0A%20%20%3C%2Fg%3E%0A%3C%2Fsvg%3E&quot;);\"></jdiv><jdiv class=\"popup_f834\" style=\"width: 227px; height: 182px; right: 45px; top: -220px;\"><jdiv class=\"childrenWrap_e9db\"><jdiv><jdiv class=\"emojiIcon_32ec\" jv-emoji=\"angel\"><jdiv class=\"icon_487f\" alt=\"😇\" style=\"background-image: url(&quot;data:image/svg+xml,%3Csvg%20xmlns%3D%22http%3A%2F%2Fwww.w3.org%2F2000%2Fsvg%22%20viewBox%3D%220%200%2036%2036%22%3E%3Ccircle%20fill%3D%22%23FFCC4D%22%20cx%3D%2218%22%20cy%3D%2218%22%20r%3D%2218%22%2F%3E%3Cpath%20fill%3D%22%23664500%22%20d%3D%22M27.335%2022.629c-.178-.161-.444-.171-.635-.029-.039.029-3.922%202.9-8.7%202.9-4.766%200-8.662-2.871-8.7-2.9-.191-.142-.457-.13-.635.029-.177.16-.217.424-.094.628C8.7%2023.472%2011.788%2028.5%2018%2028.5s9.301-5.028%209.429-5.243c.123-.205.084-.468-.094-.628zM26%2019c-.419%200-.809-.265-.948-.684C24.849%2017.717%2024.033%2016%2023%2016c-1.062%200-1.889%201.827-2.052%202.316-.175.523-.736.808-1.265.632-.523-.174-.807-.74-.632-1.265C19.177%2017.307%2020.355%2014%2023%2014s3.823%203.307%203.948%203.684c.175.524-.108%201.091-.632%201.265-.105.034-.212.051-.316.051zm-10%200c-.419%200-.809-.265-.949-.684C14.848%2017.717%2014.034%2016%2013%2016c-1.062%200-1.888%201.827-2.051%202.316-.175.523-.738.808-1.265.632-.524-.174-.807-.74-.632-1.265C9.177%2017.307%2010.355%2014%2013%2014s3.823%203.307%203.949%203.684c.175.524-.108%201.091-.632%201.265-.106.034-.213.051-.317.051z%22%2F%3E%3Cpath%20fill%3D%22%23FFAC33%22%20d%3D%22M33.175%208.316s-9.042.161-15.175.161c-3.905%200-15.206-.118-15.206-.118l-.521.876c3.043%201.856%209.064%202.917%2015.727%202.917%206.596%200%2012.576-1.04%2015.652-2.86l.078-.047s-.374-.664-.555-.929z%22%2F%3E%3Cpath%20fill%3D%22%235DADEC%22%20d%3D%22M23.777.345c-1.212-.094-2.473-.159-3.773-.19C19.343.139%2018.676.129%2018%20.129c-.672%200-1.336.01-1.993.025-1.302.031-2.564.096-3.777.19C5.34.88.169%202.451.169%205.287c0%203.588%208.264%205.771%2017.831%205.771s17.831-2.183%2017.831-5.771c0-2.835-5.168-4.405-12.054-4.942zM18%207.383c-6.861%200-12.91-.833-12.91-2.736%200-.536.494-1.023%201.339-1.449%201.153-.581%202.978-1.044%205.189-1.349%201.911-.262%204.098-.41%206.382-.41%202.291%200%204.485.148%206.4.413%202.242.31%204.086.783%205.232%201.377.807.418%201.278.894%201.278%201.418%200%201.903-6.049%202.736-12.91%202.736z%22%2F%3E%3Cpath%20fill%3D%22%233B94D9%22%20d%3D%22M24.4%201.853c2.242.31%204.086.783%205.232%201.377l.062.017c-2.285-1.674-4.57-2.56-5.917-2.902-1.212-.094-2.473-.159-3.773-.19l.018.007L24.4%201.853zM6.429%203.199c1.153-.581%202.978-1.044%205.189-1.349L15.984.162l.023-.008c-1.302.031-2.564.096-3.777.19-1.347.342-3.633%201.227-5.919%202.902l.118-.047z%22%2F%3E%3Cpath%20fill%3D%22%23FFCC4D%22%20d%3D%22M28.472%203.375c-.66-.443-1.346-.91-2.001-1.26C23.947.765%2021.063%200%2018%200c-2.929%200-5.695.7-8.14%201.941-1.089.553-1.881.999-2.17%201.434h20.782z%22%2F%3E%3C%2Fsvg%3E&quot;);\"></jdiv></jdiv><jdiv class=\"emojiIcon_32ec\" jv-emoji=\"unicorn_face\"><jdiv class=\"icon_487f\" alt=\"🦄\" style=\"background-image: url(&quot;data:image/svg+xml,%3Csvg%20xmlns%3D%22http%3A%2F%2Fwww.w3.org%2F2000%2Fsvg%22%20viewBox%3D%220%200%2036%2036%22%3E%3Cpath%20fill%3D%22%23C1CDD5%22%20d%3D%22M36%2019.854C33.518%209.923%2025.006%201.909%2016.031%206.832c0%200-4.522-1.496-5.174-1.948-.635-.44-1.635-.904-.912.436.423.782.875%201.672%202.403%203.317C8%2012.958%209.279%2018.262%207.743%2021.75c-1.304%202.962-2.577%204.733-1.31%206.976%201.317%202.33%204.729%203.462%207.018%201.06%201.244-1.307.471-1.937%203.132-4.202%202.723-.543%204.394-1.791%204.394-4.375%200%200%20.795-.382%201.826%206.009.456%202.818-.157%205.632-.039%208.783H36V19.854z%22%2F%3E%3Cpath%20fill%3D%22%2360379A%22%20d%3D%22M31.906%206.062c.531%201.312.848%203.71.595%205.318-.15-3.923-3.188-6.581-4.376-7.193-2.202-1.137-4.372-.979-6.799-.772.111.168.403.814.32%201.547-.479-.875-1.604-1.42-2.333-1.271-1.36.277-2.561.677-3.475%201.156-.504.102-1.249.413-2.372%201.101-1.911%201.171-4.175%204.338-6.737%203.511%201.042%202.5%203.631%201.845%203.631%201.845%201.207-1.95%204.067-3.779%206.168-4.452%207.619-1.745%2012.614%203.439%2015.431%209.398.768%201.625%202.611%207.132%204.041%2010.292V10.956c-.749-1.038-1.281-3.018-4.094-4.894z%22%2F%3E%3Cpath%20fill%3D%22%23C1CDD5%22%20d%3D%22M13.789%203.662c.573.788%203.236.794%204.596%203.82%201.359%203.026-1.943%202.63-3.14%201.23-1.334-1.561-1.931-2.863-2.165-3.992-.124-.596-.451-2.649.709-1.058z%22%2F%3E%3Cpath%20fill%3D%22%23758795%22%20d%3D%22M14.209%204.962c.956.573%202.164%201.515%202.517%202.596.351%201.081-.707.891-1.349-.042-.641-.934-.94-1.975-1.285-2.263-.346-.289.117-.291.117-.291z%22%2F%3E%3Ccircle%20fill%3D%22%23292F33%22%20cx%3D%2215.255%22%20cy%3D%2214.565%22%20r%3D%22.946%22%2F%3E%3Cpath%20fill%3D%22%2353626C%22%20d%3D%22M8.63%2026.877c.119.658-.181%201.263-.67%201.351-.49.089-.984-.372-1.104-1.03-.119-.659.182-1.265.671-1.354.49-.088.984.373%201.103%201.033z%22%2F%3E%3Cpath%20fill%3D%22%23EE7C0E%22%20d%3D%22M13.844%208.124l.003-.002-.005-.007-.016-.014c-.008-.007-.011-.019-.019-.025-.009-.007-.021-.011-.031-.018C12.621%207.078.933-.495.219.219-.51.948%2010.443%209.742%2011.149%2010.28l.011.006.541.439c.008.007.01.018.018.024.013.01.028.015.042.024l.047.038-.009-.016c.565.361%201.427.114%201.979-.592.559-.715.577-1.625.066-2.079z%22%2F%3E%3Cpath%20fill%3D%22%23C43512%22%20d%3D%22M4.677%202.25l.009-.025c-.301-.174-.594-.341-.878-.5-.016.038-.022.069-.041.11-.112.243-.256.484-.429.716-.166.224-.349.424-.541.595-.02.018-.036.026-.056.043.238.22.489.446.745.676.234-.21.456-.449.654-.717.214-.287.395-.589.537-.898zm2.275%202.945c.306-.41.521-.822.66-1.212-.292-.181-.584-.36-.876-.538-.076.298-.247.699-.586%201.152-.31.417-.613.681-.864.845.259.223.52.445.779.665.314-.244.619-.552.887-.912zM9.87%207.32c.365-.49.609-.983.734-1.437l-.906-.586c-.023.296-.172.81-.631%201.425-.412.554-.821.847-1.1.978l.814.671c.381-.256.761-.611%201.089-1.051z%22%2F%3E%3C%2Fsvg%3E&quot;);\"></jdiv></jdiv><jdiv class=\"emojiIcon_32ec\" jv-emoji=\"confused\"><jdiv class=\"icon_487f\" alt=\"😕\" style=\"background-image: url(&quot;data:image/svg+xml,%3Csvg%20xmlns%3D%22http%3A%2F%2Fwww.w3.org%2F2000%2Fsvg%22%20viewBox%3D%220%200%2036%2036%22%3E%3Cpath%20fill%3D%22%23FFCC4D%22%20d%3D%22M36%2018c0%209.941-8.059%2018-18%2018-9.94%200-18-8.059-18-18C0%208.06%208.06%200%2018%200c9.941%200%2018%208.06%2018%2018%22%2F%3E%3Cellipse%20fill%3D%22%23664500%22%20cx%3D%2211.5%22%20cy%3D%2216.5%22%20rx%3D%222.5%22%20ry%3D%223.5%22%2F%3E%3Cellipse%20fill%3D%22%23664500%22%20cx%3D%2224.5%22%20cy%3D%2216.5%22%20rx%3D%222.5%22%20ry%3D%223.5%22%2F%3E%3Cpath%20fill%3D%22%23664500%22%20d%3D%22M12%2028c2-5%2013-5%2013-3%200%201-8-1-13%203z%22%2F%3E%3C%2Fsvg%3E&quot;);\"></jdiv></jdiv><jdiv class=\"emojiIcon_32ec\" jv-emoji=\"rage\"><jdiv class=\"icon_487f\" alt=\"😡\" style=\"background-image: url(&quot;data:image/svg+xml,%3Csvg%20xmlns%3D%22http%3A%2F%2Fwww.w3.org%2F2000%2Fsvg%22%20viewBox%3D%220%200%2036%2036%22%3E%3Cpath%20fill%3D%22%23DA2F47%22%20d%3D%22M36%2018c0%209.941-8.059%2018-18%2018-9.94%200-18-8.059-18-18C0%208.06%208.06%200%2018%200c9.941%200%2018%208.06%2018%2018%22%2F%3E%3Cpath%20fill%3D%22%23292F33%22%20d%3D%22M25.485%2029.879C25.44%2029.7%2024.317%2025.5%2018%2025.5c-6.318%200-7.44%204.2-7.485%204.379-.055.217.043.442.237.554.195.109.439.079.6-.077.019-.019%201.954-1.856%206.648-1.856s6.63%201.837%206.648%201.855c.096.095.224.145.352.145.084%200%20.169-.021.246-.064.196-.112.294-.339.239-.557zm-9.778-12.586C12.452%2014.038%207.221%2014%207%2014c-.552%200-.999.447-.999.998-.001.552.446%201%20.998%201.002.029%200%201.925.022%203.983.737-.593.64-.982%201.634-.982%202.763%200%201.934%201.119%203.5%202.5%203.5s2.5-1.566%202.5-3.5c0-.174-.019-.34-.037-.507.013%200%20.025.007.037.007.256%200%20.512-.098.707-.293.391-.391.391-1.023%200-1.414zM29%2014c-.221%200-5.451.038-8.707%203.293-.391.391-.391%201.023%200%201.414.195.195.451.293.707.293.013%200%20.024-.007.036-.007-.016.167-.036.333-.036.507%200%201.934%201.119%203.5%202.5%203.5s2.5-1.566%202.5-3.5c0-1.129-.389-2.123-.982-2.763%202.058-.715%203.954-.737%203.984-.737.551-.002.998-.45.997-1.002-.001-.551-.447-.998-.999-.998z%22%2F%3E%3C%2Fsvg%3E&quot;);\"></jdiv></jdiv><jdiv class=\"emojiIcon_32ec\" jv-emoji=\"imp\"><jdiv class=\"icon_487f\" alt=\"😈\" style=\"background-image: url(&quot;data:image/svg+xml,%3Csvg%20xmlns%3D%22http%3A%2F%2Fwww.w3.org%2F2000%2Fsvg%22%20viewBox%3D%220%200%2036%2036%22%3E%3Ccircle%20fill%3D%22%23AA8DD8%22%20cx%3D%2218%22%20cy%3D%2218%22%20r%3D%2218%22%2F%3E%3Cpath%20fill%3D%22%23AA8DD8%22%20d%3D%22M10%204C7.42%204%204.369%201.534%203.414.586%202.843.014%201.981-.157%201.235.153.487.462%200%201.191%200%202c0%203.459%201.672%2010%208%2010%20.757%200%201.45-.428%201.789-1.106l2-4c.31-.62.277-1.356-.088-1.946C11.337%204.359%2010.693%204%2010%204zM34.766.153c-.75-.311-1.607-.139-2.18.434C31.7%201.472%2028.589%204%2026%204c-.693%200-1.337.359-1.701.949-.364.589-.397%201.326-.088%201.946l2%204C26.55%2011.572%2027.242%2012%2028%2012c6.328%200%208-6.541%208-10%200-.809-.487-1.538-1.234-1.847z%22%2F%3E%3Cpath%20fill%3D%22%23553986%22%20d%3D%22M27.335%2025.629c-.178-.161-.444-.171-.635-.029-.039.029-3.922%202.9-8.7%202.9-4.766%200-8.662-2.871-8.7-2.9-.191-.142-.457-.13-.635.029-.177.16-.217.424-.094.628C8.7%2026.472%2011.788%2031.5%2018%2031.5s9.301-5.028%209.429-5.243c.123-.205.084-.468-.094-.628zm-11.628-7.336C12.452%2015.038%207.221%2015%207%2015c-.552%200-.999.447-.999.998-.001.552.446%201.001.998%201.002.029%200%201.925.022%203.983.737-.593.64-.982%201.634-.982%202.763%200%201.934%201.119%203.5%202.5%203.5s2.5-1.566%202.5-3.5c0-.174-.019-.34-.037-.507.013%200%20.025.007.037.007.256%200%20.512-.098.707-.293.391-.391.391-1.023%200-1.414zM29%2015c-.221%200-5.451.038-8.707%203.293-.391.391-.391%201.023%200%201.414.195.195.451.293.707.293.013%200%20.024-.007.036-.007-.016.167-.036.333-.036.507%200%201.934%201.119%203.5%202.5%203.5s2.5-1.566%202.5-3.5c0-1.129-.389-2.123-.982-2.763%202.058-.715%203.954-.737%203.984-.737.551-.001.998-.45.997-1.002-.001-.551-.447-.998-.999-.998z%22%2F%3E%3C%2Fsvg%3E&quot;);\"></jdiv></jdiv><jdiv class=\"emojiIcon_32ec\" jv-emoji=\"disappointed\"><jdiv class=\"icon_487f\" alt=\"😞\" style=\"background-image: url(&quot;data:image/svg+xml,%3Csvg%20xmlns%3D%22http%3A%2F%2Fwww.w3.org%2F2000%2Fsvg%22%20viewBox%3D%220%200%2036%2036%22%3E%3Ccircle%20fill%3D%22%23FFCC4D%22%20cx%3D%2218%22%20cy%3D%2218%22%20r%3D%2218%22%2F%3E%3Cpath%20fill%3D%22%23664500%22%20d%3D%22M23.485%2028.879C23.474%2028.835%2022.34%2024.5%2018%2024.5s-5.474%204.335-5.485%204.379c-.053.213.044.431.232.544.188.112.433.086.596-.06.009-.008%201.013-.863%204.657-.863%203.59%200%204.617.83%204.656.863.095.09.219.137.344.137.084%200%20.169-.021.246-.064.196-.112.294-.339.239-.557zM11.226%2015.512c-.317%200-.636.039-.947.116-2.87.707-3.513%204.121-3.539%204.267-.04.223.076.443.281.54.067.031.14.047.211.047.145%200%20.287-.063.385-.18.01-.012%201.01-1.178%203.379-1.761.714-.176%201.412-.265%202.073-.265%201.104%200%201.732.253%201.735.254.067.028.131.04.207.04.272.012.509-.221.509-.5%200-.165-.08-.311-.203-.402-.367-.435-1.953-2.156-4.091-2.156zm13.548%200c.317%200%20.636.039.947.116%202.87.707%203.513%204.121%203.539%204.267.04.223-.076.443-.281.54-.067.031-.14.047-.211.047-.145%200-.287-.063-.385-.18-.01-.012-1.01-1.178-3.379-1.761-.714-.176-1.412-.265-2.073-.265-1.104%200-1.731.253-1.735.254-.067.028-.131.04-.206.04-.272.012-.509-.221-.509-.5%200-.165.08-.311.203-.402.366-.435%201.952-2.156%204.09-2.156z%22%2F%3E%3C%2Fsvg%3E&quot;);\"></jdiv></jdiv><jdiv class=\"emojiIcon_32ec\" jv-emoji=\"kissing_heart\"><jdiv class=\"icon_487f\" alt=\"😘\" style=\"background-image: url(&quot;data:image/svg+xml,%3Csvg%20xmlns%3D%22http%3A%2F%2Fwww.w3.org%2F2000%2Fsvg%22%20viewBox%3D%220%200%2036%2036%22%3E%3Ccircle%20fill%3D%22%23FFCC4D%22%20cx%3D%2218%22%20cy%3D%2218%22%20r%3D%2218%22%2F%3E%3Cellipse%20fill%3D%22%23664500%22%20cx%3D%2211.5%22%20cy%3D%2215.5%22%20rx%3D%222.5%22%20ry%3D%223.5%22%2F%3E%3Cpath%20fill%3D%22%23664500%22%20d%3D%22M28.457%2017.797c-.06-.135-1.499-3.297-4.457-3.297-2.957%200-4.397%203.162-4.457%203.297-.092.207-.032.449.145.591.175.142.426.147.61.014.012-.009%201.262-.902%203.702-.902%202.426%200%203.674.881%203.702.901.088.066.194.099.298.099.11%200%20.221-.037.312-.109.177-.142.238-.386.145-.594zM5.999%2011c-.208%200-.419-.065-.599-.2-.442-.331-.531-.958-.2-1.4C8.462%205.05%2012.816%205%2013%205c.552%200%201%20.448%201%201%200%20.551-.445.998-.996%201-.155.002-3.568.086-6.204%203.6-.196.262-.497.4-.801.4zm23.002%203c-.305%200-.604-.138-.801-.4-2.592-3.456-6.961-2.628-7.004-2.62-.547.11-1.068-.244-1.177-.784-.108-.541.243-1.068.784-1.177.231-.047%205.657-1.072%208.996%203.38.332.442.242%201.069-.2%201.4-.179.136-.389.201-.598.201zm-8.922%2013.042c1.335-.412%202.629-1.156%202.629-2.5%200-2.619-4.912-2.968-5.472-2.999-.274-.026-.509.193-.527.468-.017.274.19.511.464.53.035.002%203.535.299%203.535%202.001s-3.5%201.999-3.535%202.001c-.014.001-.024.009-.037.011-.052.006-.101.018-.146.04l-.019.011c-.047.026-.088.057-.125.098-.014.015-.024.031-.036.048-.023.032-.044.063-.059.102-.012.029-.018.061-.024.092-.004.023-.016.044-.018.067%200%20.011.004.021.004.031s-.005.021-.004.031c.001.024.013.045.018.068.006.031.011.061.023.09.013.03.031.057.049.084.017.024.032.05.052.071.023.023.05.041.078.061.024.017.046.034.074.047.032.015.066.021.101.027.024.006.044.018.069.02.035.002%203.535.299%203.535%202.001s-3.5%201.999-3.535%202.001c-.274.02-.481.257-.464.53.017.265.237.469.499.469l.028-.001c.56-.031%205.472-.38%205.472-2.999%200-1.345-1.294-2.089-2.629-2.501z%22%2F%3E%3Cpath%20fill%3D%22%23FFAC33%22%20d%3D%22M34.202%2025.803c-.236-.79-.779-1.486-1.578-1.875-.922-.449-1.956-.391-2.793.06-.16-.936-.75-1.789-1.67-2.237-1.517-.74-3.348-.11-4.087%201.406-.105.215-.18.437-.23.659-.775%202.556.64%206.341%202.192%207.948%201.23.13%202.953-.198%204.513-.873%201.5-1.46%202.733-3.183%203.653-5.088z%22%2F%3E%3Cpath%20fill%3D%22%23DD2E44%22%20d%3D%22M35.654%2027.222c.739-1.516.11-3.347-1.405-4.086-.922-.449-1.956-.391-2.793.06-.16-.936-.75-1.789-1.67-2.237-1.517-.74-3.348-.109-4.087%201.406-.105.215-.18.437-.23.659-.774%202.556.64%206.341%202.192%207.948%202.223.234%206.077-.979%207.615-3.161.145-.179.273-.374.378-.589z%22%2F%3E%3C%2Fsvg%3E&quot;);\"></jdiv></jdiv><jdiv class=\"emojiIcon_32ec\" jv-emoji=\"yum\"><jdiv class=\"icon_487f\" alt=\"😋\" style=\"background-image: url(&quot;data:image/svg+xml,%3Csvg%20xmlns%3D%22http%3A%2F%2Fwww.w3.org%2F2000%2Fsvg%22%20viewBox%3D%220%200%2036%2036%22%3E%3Ccircle%20fill%3D%22%23FFCC4D%22%20cx%3D%2218%22%20cy%3D%2218%22%20r%3D%2218%22%2F%3E%3Cpath%20fill%3D%22%23FFAC33%22%20d%3D%22M32.093%2029.177c-.218-.631-.559-1.217-1.044-1.702l-3.671-3.789c-.814%201.885-2.858%205.337-7.189%206.795l3.685%203.685c.214.214.453.406.709.573%202.973-1.169%205.556-3.1%207.51-5.562z%22%2F%3E%3Cpath%20fill%3D%22%23664500%22%20d%3D%22M6.999%2017c-.15%200-.303-.034-.446-.105-.494-.247-.694-.848-.447-1.342C6.158%2015.448%207.424%2013%2011%2013c3.577%200%204.842%202.449%204.894%202.553.247.494.046%201.095-.447%201.342-.491.247-1.085.049-1.336-.436C14.067%2016.378%2013.28%2015%2011%2015c-2.317%200-3.099%201.433-3.106%201.447-.175.351-.528.553-.895.553zM29%2017c.15%200%20.303-.034.446-.105.494-.247.694-.848.447-1.342-.052-.105-1.318-2.553-4.894-2.553-3.577%200-4.842%202.449-4.894%202.553-.247.494-.046%201.095.447%201.342.491.247%201.085.049%201.336-.436.044-.081.831-1.459%203.111-1.459%202.317%200%203.099%201.433%203.106%201.447.175.351.528.553.895.553zm.503%206.52c.323-.749.461-1.257.466-1.277.134-.534-.19-1.075-.725-1.21-.536-.136-1.077.188-1.215.723C27.955%2022.051%2026.081%2029%2018%2029s-9.955-6.949-10.03-7.245c-.138-.534-.679-.858-1.215-.723-.534.135-.858.676-.725%201.21C6.052%2022.33%208.331%2031%2018%2031c1.65%200%203.07-.266%204.315-.685%204.33-1.458%206.374-4.91%207.188-6.795z%22%2F%3E%3Cpath%20fill%3D%22%23E75A70%22%20d%3D%22M33.175%2027.309l-3.671-3.789c-.814%201.885-2.858%205.337-7.189%206.795L26%2034c1.728%201.728%205%202%207%200s1.903-4.962.175-6.691z%22%2F%3E%3C%2Fsvg%3E&quot;);\"></jdiv></jdiv><jdiv class=\"emojiIcon_32ec\" jv-emoji=\"disappointed_relieved\"><jdiv class=\"icon_487f\" alt=\"😥\" style=\"background-image: url(&quot;data:image/svg+xml,%3Csvg%20xmlns%3D%22http%3A%2F%2Fwww.w3.org%2F2000%2Fsvg%22%20viewBox%3D%220%200%2036%2036%22%3E%3Cpath%20fill%3D%22%23FFCC4D%22%20d%3D%22M36%2018c0%209.941-8.059%2018-18%2018-9.94%200-18-8.059-18-18C0%208.06%208.06%200%2018%200c9.941%200%2018%208.06%2018%2018%22%2F%3E%3Cellipse%20fill%3D%22%23664500%22%20cx%3D%2211.5%22%20cy%3D%2216.5%22%20rx%3D%222.5%22%20ry%3D%223.5%22%2F%3E%3Cellipse%20fill%3D%22%23664500%22%20cx%3D%2224.5%22%20cy%3D%2216.5%22%20rx%3D%222.5%22%20ry%3D%223.5%22%2F%3E%3Cpath%20fill%3D%22%23664500%22%20d%3D%22M23.485%2027.879C23.474%2027.835%2022.34%2023.5%2018%2023.5s-5.474%204.335-5.485%204.379c-.053.213.044.431.232.544.188.112.433.086.596-.06.009-.007%201.013-.863%204.657-.863%203.59%200%204.617.83%204.656.863.095.091.219.137.344.137.084%200%20.169-.021.246-.064.196-.111.294-.339.239-.557z%22%2F%3E%3Cpath%20fill%3D%22%235DADEC%22%20d%3D%22M10%2030c0%202.762-2.238%205-5%205s-5-2.238-5-5%204-10%205-10%205%207.238%205%2010z%22%2F%3E%3Cpath%20fill%3D%22%23664500%22%20d%3D%22M30%2013c-5.554%200-7.802-4.367-7.895-4.553-.247-.494-.047-1.095.447-1.342.492-.247%201.092-.048%201.34.443C23.967%207.694%2025.713%2011%2030%2011c.553%200%201%20.448%201%201%200%20.553-.447%201-1%201zM6%2013c-.552%200-1-.448-1-1s.448-1%201-1c5.083%200%205.996-3.12%206.033-3.253.145-.528.69-.848%201.219-.709.53.139.851.673.718%201.205C13.921%208.437%2012.704%2013%206%2013z%22%2F%3E%3C%2Fsvg%3E&quot;);\"></jdiv></jdiv><jdiv class=\"emojiIcon_32ec\" jv-emoji=\"weary\"><jdiv class=\"icon_487f\" alt=\"😩\" style=\"background-image: url(&quot;data:image/svg+xml,%3Csvg%20xmlns%3D%22http%3A%2F%2Fwww.w3.org%2F2000%2Fsvg%22%20viewBox%3D%220%200%2036%2036%22%3E%3Cpath%20fill%3D%22%23FFCC4D%22%20d%3D%22M36%2018c0%209.941-8.059%2018-18%2018-9.94%200-18-8.059-18-18C0%208.06%208.06%200%2018%200c9.941%200%2018%208.06%2018%2018%22%2F%3E%3Cpath%20fill%3D%22%23664500%22%20d%3D%22M16.664%2010.543c-.207-.09-.451-.03-.592.148-.009.012-.979%201.202-3.335%201.844-.775.212-1.531.319-2.245.319-.992%200-1.559-.212-1.562-.213-.21-.085-.453-.014-.587.169-.135.184-.128.435.016.612.071.087%201.78%202.147%204.125%202.147.351%200%20.702-.047%201.043-.14%202.854-.778%203.41-4.208%203.432-4.354.034-.223-.087-.441-.295-.532zm10.975%202.155c-.138-.181-.38-.245-.59-.159-.006.003-.633.256-1.737.256-.661%200-1.358-.089-2.073-.265-2.369-.583-3.369-1.749-3.377-1.758-.146-.176-.388-.233-.596-.137-.207.095-.323.318-.283.542.026.145.668%203.56%203.539%204.267.311.077.629.116.946.116%202.396%200%204.099-2.16%204.17-2.252.138-.181.137-.43.001-.61zM9.998%2010c-.448%200-.855-.303-.969-.757-.133-.535.191-1.077.724-1.212.036-.009%203.593-.961%205.352-4.478.247-.494.846-.695%201.342-.447.494.247.694.848.447%201.342-2.181%204.361-6.471%205.477-6.652%205.523-.081.02-.163.029-.244.029zM26%2010c-.08%200-.161-.01-.242-.03-.182-.045-4.472-1.162-6.652-5.523-.247-.494-.047-1.095.447-1.342.493-.247%201.094-.047%201.342.447%201.758%203.517%205.315%204.469%205.352%204.478.533.137.857.681.722%201.215-.116.453-.522.755-.969.755zm-8%2018.965c-3.623%200-6.027.422-9%201-.679.131-2%200-2-2%200-4%204.595-9%2011-9%206.404%200%2011%205%2011%209%200%202-1.321%202.132-2%202-2.973-.578-5.377-1-9-1z%22%2F%3E%3Cpath%20fill%3D%22%23FFF%22%20d%3D%22M10%2025s3-1%208-1%208%201%208%201-2-4-8-4-8%204-8%204z%22%2F%3E%3C%2Fsvg%3E&quot;);\"></jdiv></jdiv><jdiv class=\"emojiIcon_32ec\" jv-emoji=\"grin\"><jdiv class=\"icon_487f\" alt=\"😁\" style=\"background-image: url(&quot;data:image/svg+xml,%3Csvg%20xmlns%3D%22http%3A%2F%2Fwww.w3.org%2F2000%2Fsvg%22%20viewBox%3D%220%200%2036%2036%22%3E%3Cpath%20fill%3D%22%23FFCC4D%22%20d%3D%22M36%2018c0%209.941-8.059%2018-18%2018-9.94%200-18-8.059-18-18C0%208.06%208.06%200%2018%200c9.941%200%2018%208.06%2018%2018%22%2F%3E%3Cpath%20fill%3D%22%23664500%22%20d%3D%22M16%2018c-.419%200-.809-.265-.949-.684C14.848%2016.717%2014.034%2015%2013%2015c-1.062%200-1.888%201.827-2.051%202.316-.175.523-.738.808-1.265.632-.524-.174-.807-.741-.632-1.265C9.177%2016.307%2010.356%2013%2013%2013s3.823%203.307%203.949%203.684c.175.524-.108%201.091-.632%201.265-.106.034-.213.051-.317.051zm10%200c-.419%200-.809-.265-.948-.684C24.849%2016.717%2024.033%2015%2023%2015c-1.062%200-1.889%201.827-2.052%202.316-.175.523-.736.808-1.265.632-.523-.174-.807-.741-.632-1.265C19.177%2016.307%2020.355%2013%2023%2013s3.823%203.307%203.948%203.684c.175.524-.108%201.091-.632%201.265-.105.034-.212.051-.316.051zm-8%204c-3.623%200-6.027-.422-9-1-.679-.131-2%200-2%202%200%204%204.595%209%2011%209%206.404%200%2011-5%2011-9%200-2-1.321-2.132-2-2-2.973.578-5.377%201-9%201z%22%2F%3E%3Cpath%20fill%3D%22%23FFF%22%20d%3D%22M9%2023s3%201%209%201%209-1%209-1-1.344%206.75-9%206.75S9%2023%209%2023z%22%2F%3E%3Cpath%20fill%3D%22%23664500%22%20d%3D%22M18%2027.594c-3.596%200-6.272-.372-7.937-.745l-.825-1.871c.823.312%203.889.897%208.763.897%204.954%200%208.037-.616%208.864-.938l-.701%201.842c-1.634.38-4.419.815-8.164.815z%22%2F%3E%3C%2Fsvg%3E&quot;);\"></jdiv></jdiv><jdiv class=\"emojiIcon_32ec\" jv-emoji=\"laughing\"><jdiv class=\"icon_487f\" alt=\"😆\" style=\"background-image: url(&quot;data:image/svg+xml,%3Csvg%20xmlns%3D%22http%3A%2F%2Fwww.w3.org%2F2000%2Fsvg%22%20viewBox%3D%220%200%2036%2036%22%3E%3Cpath%20fill%3D%22%23FFCC4D%22%20d%3D%22M36%2018c0%209.941-8.059%2018-18%2018-9.94%200-18-8.059-18-18C0%208.06%208.06%200%2018%200c9.941%200%2018%208.06%2018%2018%22%2F%3E%3Cpath%20fill%3D%22%23664500%22%20d%3D%22M18%2022c-3.623%200-6.027-.422-9-1-.679-.131-2%200-2%202%200%204%204.595%209%2011%209%206.404%200%2011-5%2011-9%200-2-1.321-2.132-2-2-2.973.578-5.377%201-9%201z%22%2F%3E%3Cpath%20fill%3D%22%23FFF%22%20d%3D%22M9%2023s3%201%209%201%209-1%209-1-2%204-9%204-9-4-9-4z%22%2F%3E%3Cpath%20fill%3D%22%23664500%22%20d%3D%22M30.6%2018.2c-.114-.085-1.931-1.426-4.646-2.344.026-.115.046-.233.046-.356%200-.369-.139-.703-.359-.964%201.802-.52%203.334-.536%203.361-.536.551-.002.998-.45.997-1.002-.001-.551-.447-.998-.999-.998-.221%200-5.451.038-8.707%203.293-.286.286-.372.716-.217%201.09.154.373.52.617.924.617%204.59%200%208.363%202.772%208.401%202.801.18.134.39.198.598.198.305%200%20.605-.139.802-.4.33-.443.24-1.068-.201-1.399zm-14.893-2.907C12.452%2012.038%207.221%2012%207%2012c-.552%200-.999.447-.999.998-.001.552.446%201%20.998%201.002.026%200%201.558.016%203.361.536-.221.261-.36.595-.36.964%200%20.123.019.241.047.356-2.716.918-4.533%202.259-4.647%202.344-.442.331-.531.958-.2%201.399.196.263.497.401.801.401.208%200%20.419-.065.599-.2.037-.028%203.787-2.8%208.4-2.8.404%200%20.769-.244.924-.617.155-.374.069-.804-.217-1.09z%22%2F%3E%3C%2Fsvg%3E&quot;);\"></jdiv></jdiv><jdiv class=\"emojiIcon_32ec\" jv-emoji=\"wink\"><jdiv class=\"icon_487f\" alt=\"😉\" style=\"background-image: url(&quot;data:image/svg+xml,%3Csvg%20xmlns%3D%22http%3A%2F%2Fwww.w3.org%2F2000%2Fsvg%22%20viewBox%3D%220%200%2036%2036%22%3E%3Cpath%20fill%3D%22%23FFCC4D%22%20d%3D%22M36%2018c0%209.941-8.059%2018-18%2018-9.94%200-18-8.059-18-18C0%208.06%208.06%200%2018%200c9.941%200%2018%208.06%2018%2018%22%2F%3E%3Cellipse%20fill%3D%22%23664500%22%20cx%3D%2211.5%22%20cy%3D%2216.5%22%20rx%3D%222.5%22%20ry%3D%223.5%22%2F%3E%3Cpath%20fill%3D%22%23664500%22%20d%3D%22M28.457%2017.797c-.06-.135-1.499-3.297-4.457-3.297-2.957%200-4.397%203.162-4.457%203.297-.092.207-.032.449.145.591.175.142.426.147.61.014.012-.009%201.262-.902%203.702-.902%202.426%200%203.674.881%203.702.901.088.066.194.099.298.099.11%200%20.221-.037.312-.109.177-.142.238-.386.145-.594zM5.999%2012.458c-.208%200-.419-.065-.599-.2-.442-.331-.531-.958-.2-1.4%203.262-4.35%207.616-4.4%207.8-4.4.552%200%201%20.448%201%201%200%20.551-.445.998-.996%201-.156.002-3.569.086-6.205%203.6-.195.262-.496.4-.8.4zm23.002%202.125c-.305%200-.604-.138-.801-.4-2.592-3.457-6.961-2.627-7.004-2.62-.547.108-1.068-.243-1.177-.784-.108-.542.243-1.068.784-1.177.231-.047%205.657-1.072%208.996%203.38.332.442.242%201.069-.2%201.4-.179.137-.389.201-.598.201zm-5.747%208.994c-.188-.11-.432-.087-.597.06-.01.008-1.013.863-4.657.863-3.641%200-4.646-.854-4.646-.854-.159-.16-.404-.19-.6-.082-.195.111-.293.339-.238.557.01.044%201.144%204.379%205.484%204.379s5.474-4.335%205.485-4.379c.053-.213-.044-.431-.231-.544z%22%2F%3E%3C%2Fsvg%3E&quot;);\"></jdiv></jdiv><jdiv class=\"emojiIcon_32ec\" jv-emoji=\"sunglasses\"><jdiv class=\"icon_487f\" alt=\"😎\" style=\"background-image: url(&quot;data:image/svg+xml,%3Csvg%20xmlns%3D%22http%3A%2F%2Fwww.w3.org%2F2000%2Fsvg%22%20viewBox%3D%220%200%2036%2036%22%3E%3Cpath%20fill%3D%22%23FFCC4D%22%20d%3D%22M36%2018c0%209.941-8.059%2018-18%2018S0%2027.941%200%2018%208.059%200%2018%200s18%208.059%2018%2018%22%2F%3E%3Cpath%20fill-rule%3D%22evenodd%22%20clip-rule%3D%22evenodd%22%20fill%3D%22%23292F33%22%20d%3D%22M1.24%2011.018c.24.239%201.438.957%201.677%201.675.24.717.72%204.784%202.158%205.981%201.483%201.232%207.077.774%208.148.24%202.397-1.195%202.691-4.531%203.115-6.221.239-.957%201.677-.957%201.677-.957s1.438%200%201.678.956c.424%201.691.72%205.027%203.115%206.221%201.072.535%206.666.994%208.151-.238%201.436-1.197%201.915-5.264%202.155-5.982.238-.717%201.438-1.435%201.677-1.674.241-.239.241-1.196%200-1.436-.479-.478-6.134-.904-12.223-.239-1.215.133-1.677.478-4.554.478-2.875%200-3.339-.346-4.553-.478-6.085-.666-11.741-.24-12.221.238-.239.239-.239%201.197%200%201.436z%22%2F%3E%3Cpath%20fill%3D%22%23664500%22%20d%3D%22M27.335%2023.629c-.178-.161-.444-.171-.635-.029-.039.029-3.922%202.9-8.7%202.9-4.766%200-8.662-2.871-8.7-2.9-.191-.142-.457-.13-.635.029-.177.16-.217.424-.094.628C8.7%2024.472%2011.788%2029.5%2018%2029.5s9.301-5.028%209.429-5.243c.123-.205.084-.468-.094-.628z%22%2F%3E%3C%2Fsvg%3E&quot;);\"></jdiv></jdiv><jdiv class=\"emojiIcon_32ec\" jv-emoji=\"neutral_face\"><jdiv class=\"icon_487f\" alt=\"😐\" style=\"background-image: url(&quot;data:image/svg+xml,%3Csvg%20xmlns%3D%22http%3A%2F%2Fwww.w3.org%2F2000%2Fsvg%22%20viewBox%3D%220%200%2036%2036%22%3E%3Cpath%20fill%3D%22%23FFCC4D%22%20d%3D%22M36%2018c0%209.941-8.059%2018-18%2018-9.94%200-18-8.059-18-18C0%208.06%208.06%200%2018%200c9.941%200%2018%208.06%2018%2018%22%2F%3E%3Cellipse%20fill%3D%22%23664500%22%20cx%3D%2211.5%22%20cy%3D%2216.5%22%20rx%3D%222.5%22%20ry%3D%223.5%22%2F%3E%3Cellipse%20fill%3D%22%23664500%22%20cx%3D%2224.5%22%20cy%3D%2216.5%22%20rx%3D%222.5%22%20ry%3D%223.5%22%2F%3E%3Cpath%20fill%3D%22%23664500%22%20d%3D%22M25%2026H11c-.552%200-1-.447-1-1s.448-1%201-1h14c.553%200%201%20.447%201%201s-.447%201-1%201z%22%2F%3E%3C%2Fsvg%3E&quot;);\"></jdiv></jdiv><jdiv class=\"emojiIcon_32ec\" jv-emoji=\"winking_eye\"><jdiv class=\"icon_487f\" alt=\"😜\" style=\"background-image: url(&quot;data:image/svg+xml,%3Csvg%20xmlns%3D%22http%3A%2F%2Fwww.w3.org%2F2000%2Fsvg%22%20viewBox%3D%220%200%2036%2036%22%3E%3Cpath%20fill%3D%22%23FFCB4C%22%20d%3D%22M36%2018c0%209.941-8.059%2018-18%2018-9.94%200-18-8.059-18-18C0%208.06%208.06%200%2018%200c9.941%200%2018%208.06%2018%2018%22%2F%3E%3Cpath%20fill%3D%22%2365471B%22%20d%3D%22M15.457%2015.815c-.06-.135-1.499-3.297-4.457-3.297-2.957%200-4.397%203.162-4.457%203.297-.092.207-.032.449.144.591.177.143.427.147.61.014.013-.009%201.262-.902%203.703-.902%202.426%200%203.674.881%203.702.901.088.066.193.099.298.099.11%200%20.221-.037.311-.109.179-.142.238-.386.146-.594z%22%2F%3E%3Cpath%20fill%3D%22%23F4F7F9%22%20d%3D%22M31%2013.5c0%203.59-2.91%206.5-6.5%206.5S18%2017.09%2018%2013.5%2020.91%207%2024.5%207%2031%209.91%2031%2013.5z%22%2F%3E%3Ccircle%20fill%3D%22%23292F33%22%20cx%3D%2224.5%22%20cy%3D%2213.5%22%20r%3D%222.5%22%2F%3E%3Cpath%20fill%3D%22%2365471B%22%20d%3D%22M7%2021.262c0%203.964%204.596%209%2011%209s11-5%2011-9c0%200-10.333%202.756-22%200z%22%2F%3E%3Cpath%20fill%3D%22%23E8596E%22%20d%3D%22M18.545%2023.604l-1.091-.005c-3.216-.074-5.454-.596-5.454-.596v6.961c0%203%202%206%206%206s6-3%206-6v-6.92c-1.922.394-3.787.542-5.455.56z%22%2F%3E%3Cpath%20fill%3D%22%23DD2F45%22%20d%3D%22M18%2031.843c.301%200%20.545-.244.545-.545v-7.694l-1.091-.005v7.699c.001.301.245.545.546.545z%22%2F%3E%3C%2Fsvg%3E&quot;);\"></jdiv></jdiv><jdiv class=\"emojiIcon_32ec\" jv-emoji=\"hushed\"><jdiv class=\"icon_487f\" alt=\"😮\" style=\"background-image: url(&quot;data:image/svg+xml,%3Csvg%20xmlns%3D%22http%3A%2F%2Fwww.w3.org%2F2000%2Fsvg%22%20viewBox%3D%220%200%2036%2036%22%3E%3Cpath%20fill%3D%22%23FFCC4D%22%20d%3D%22M36%2018c0%209.941-8.059%2018-18%2018S0%2027.941%200%2018%208.059%200%2018%200s18%208.059%2018%2018%22%2F%3E%3Cellipse%20fill%3D%22%23664500%22%20cx%3D%2218%22%20cy%3D%2225%22%20rx%3D%224%22%20ry%3D%225%22%2F%3E%3Cellipse%20fill%3D%22%23664500%22%20cx%3D%2212%22%20cy%3D%2213.5%22%20rx%3D%222.5%22%20ry%3D%223.5%22%2F%3E%3Cellipse%20fill%3D%22%23664500%22%20cx%3D%2224%22%20cy%3D%2213.5%22%20rx%3D%222.5%22%20ry%3D%223.5%22%2F%3E%3C%2Fsvg%3E&quot;);\"></jdiv></jdiv><jdiv class=\"emojiIcon_32ec\" jv-emoji=\"thumbsup\"><jdiv class=\"icon_487f\" alt=\"👍\" style=\"background-image: url(&quot;data:image/svg+xml,%3Csvg%20xmlns%3D%22http%3A%2F%2Fwww.w3.org%2F2000%2Fsvg%22%20viewBox%3D%220%200%2036%2036%22%3E%3Cpath%20fill%3D%22%23FFDB5E%22%20d%3D%22M34.956%2017.916c0-.503-.12-.975-.321-1.404-1.341-4.326-7.619-4.01-16.549-4.221-1.493-.035-.639-1.798-.115-5.668.341-2.517-1.282-6.382-4.01-6.382-4.498%200-.171%203.548-4.148%2012.322-2.125%204.688-6.875%202.062-6.875%206.771v10.719c0%201.833.18%203.595%202.758%203.885C8.195%2034.219%207.633%2036%2011.238%2036h18.044c1.838%200%203.333-1.496%203.333-3.334%200-.762-.267-1.456-.698-2.018%201.02-.571%201.72-1.649%201.72-2.899%200-.76-.266-1.454-.696-2.015%201.023-.57%201.725-1.649%201.725-2.901%200-.909-.368-1.733-.961-2.336.757-.611%201.251-1.535%201.251-2.581z%22%2F%3E%3Cpath%20fill%3D%22%23EE9547%22%20d%3D%22M23.02%2021.249h8.604c1.17%200%202.268-.626%202.866-1.633.246-.415.109-.952-.307-1.199-.415-.247-.952-.108-1.199.307-.283.479-.806.775-1.361.775h-8.81c-.873%200-1.583-.71-1.583-1.583s.71-1.583%201.583-1.583H28.7c.483%200%20.875-.392.875-.875s-.392-.875-.875-.875h-5.888c-1.838%200-3.333%201.495-3.333%203.333%200%201.025.475%201.932%201.205%202.544-.615.605-.998%201.445-.998%202.373%200%201.028.478%201.938%201.212%202.549-.611.604-.99%201.441-.99%202.367%200%201.12.559%202.108%201.409%202.713-.524.589-.852%201.356-.852%202.204%200%201.838%201.495%203.333%203.333%203.333h5.484c1.17%200%202.269-.625%202.867-1.632.247-.415.11-.952-.305-1.199-.416-.245-.953-.11-1.199.305-.285.479-.808.776-1.363.776h-5.484c-.873%200-1.583-.71-1.583-1.583s.71-1.583%201.583-1.583h6.506c1.17%200%202.27-.626%202.867-1.633.247-.416.11-.953-.305-1.199-.419-.251-.954-.11-1.199.305-.289.487-.799.777-1.363.777h-7.063c-.873%200-1.583-.711-1.583-1.584s.71-1.583%201.583-1.583h8.091c1.17%200%202.269-.625%202.867-1.632.247-.415.11-.952-.305-1.199-.417-.246-.953-.11-1.199.305-.289.486-.799.776-1.363.776H23.02c-.873%200-1.583-.71-1.583-1.583s.709-1.584%201.583-1.584z%22%2F%3E%3C%2Fsvg%3E&quot;);\"></jdiv></jdiv><jdiv class=\"emojiIcon_32ec\" jv-emoji=\"thumbsdown\"><jdiv class=\"icon_487f\" alt=\"👎\" style=\"background-image: url(&quot;data:image/svg+xml,%3Csvg%20xmlns%3D%22http%3A%2F%2Fwww.w3.org%2F2000%2Fsvg%22%20viewBox%3D%220%200%2036%2036%22%3E%3Cpath%20fill%3D%22%23FFDB5E%22%20d%3D%22M34.956%2018.084c0%20.503-.12.975-.321%201.404-1.341%204.326-7.619%204.01-16.549%204.221-1.493.035-.639%201.798-.115%205.668.341%202.517-1.282%206.382-4.01%206.382-4.498%200-.171-3.548-4.148-12.322-2.125-4.688-6.875-2.062-6.875-6.771V5.948c0-1.833.18-3.595%202.758-3.885C8.195%201.781%207.633%200%2011.238%200h18.044c1.838%200%203.333%201.496%203.333%203.334%200%20.762-.267%201.456-.698%202.018%201.02.571%201.72%201.649%201.72%202.899%200%20.76-.266%201.454-.696%202.015%201.023.57%201.725%201.649%201.725%202.901%200%20.909-.368%201.733-.961%202.336.757.611%201.251%201.535%201.251%202.581z%22%2F%3E%3Cpath%20fill%3D%22%23EE9547%22%20d%3D%22M23.02%2014.751h8.604c1.17%200%202.268.626%202.866%201.633.246.415.109.952-.307%201.199-.415.247-.952.108-1.199-.307-.283-.479-.806-.775-1.361-.775h-8.81c-.873%200-1.583.71-1.583%201.583s.71%201.583%201.583%201.583H28.7c.483%200%20.875.392.875.875s-.392.875-.875.875h-5.888c-1.838%200-3.333-1.495-3.333-3.333%200-1.025.475-1.932%201.205-2.544-.615-.605-.998-1.445-.998-2.373%200-1.028.478-1.938%201.212-2.549-.611-.604-.99-1.441-.99-2.367%200-1.12.559-2.108%201.409-2.713-.524-.589-.852-1.356-.852-2.204%200-1.838%201.495-3.333%203.333-3.333h5.484c1.17%200%202.269.625%202.867%201.632.247.415.11.952-.305%201.199-.416.245-.953.11-1.199-.305-.285-.479-.808-.776-1.363-.776h-5.484c-.873%200-1.583.71-1.583%201.583s.71%201.583%201.583%201.583h6.506c1.17%200%202.27.626%202.867%201.633.247.416.11.953-.305%201.199-.419.251-.954.11-1.199-.305-.289-.487-.799-.777-1.363-.777h-7.063c-.873%200-1.583.711-1.583%201.584s.71%201.583%201.583%201.583h8.091c1.17%200%202.269.625%202.867%201.632.247.415.11.952-.305%201.199-.417.246-.953.11-1.199-.305-.289-.486-.799-.776-1.363-.776H23.02c-.873%200-1.583.71-1.583%201.583s.709%201.584%201.583%201.584z%22%2F%3E%3C%2Fsvg%3E&quot;);\"></jdiv></jdiv><jdiv class=\"emojiIcon_32ec\" jv-emoji=\"smile\"><jdiv class=\"icon_487f\" alt=\"😃\" style=\"background-image: url(&quot;data:image/svg+xml,%3Csvg%20xmlns%3D%22http%3A%2F%2Fwww.w3.org%2F2000%2Fsvg%22%20viewBox%3D%220%200%2036%2036%22%3E%3Cpath%20fill%3D%22%23FFCC4D%22%20d%3D%22M36%2018c0%209.941-8.059%2018-18%2018-9.94%200-18-8.059-18-18C0%208.06%208.06%200%2018%200c9.941%200%2018%208.06%2018%2018%22%2F%3E%3Cellipse%20fill%3D%22%23664500%22%20cx%3D%2211.5%22%20cy%3D%2212.5%22%20rx%3D%222.5%22%20ry%3D%225.5%22%2F%3E%3Cellipse%20fill%3D%22%23664500%22%20cx%3D%2224.5%22%20cy%3D%2212.5%22%20rx%3D%222.5%22%20ry%3D%225.5%22%2F%3E%3Cpath%20fill%3D%22%23664500%22%20d%3D%22M18%2022c-3.623%200-6.027-.422-9-1-.679-.131-2%200-2%202%200%204%204.595%209%2011%209%206.404%200%2011-5%2011-9%200-2-1.321-2.132-2-2-2.973.578-5.377%201-9%201z%22%2F%3E%3Cpath%20fill%3D%22%23FFF%22%20d%3D%22M9%2023s3%201%209%201%209-1%209-1-2%204-9%204-9-4-9-4z%22%2F%3E%3C%2Fsvg%3E&quot;);\"></jdiv></jdiv></jdiv></jdiv><jdiv class=\"pip_4a01\" style=\"left: 47px;\"></jdiv></jdiv></jdiv></jdiv></jdiv><jdiv style=\"height: 100%; display: none; transition: opacity 200ms cubic-bezier(0.39, 0.24, 0.21, 0.99) 400ms; opacity: 0;\"><jdiv class=\"body_5820\"><jdiv class=\"main_f93b\" style=\"display: block;\"><jdiv class=\"main_06bd\"><jdiv autocomplete=\"on\"><jdiv class=\"fieldWrap_8502\"><input class=\"inputField_aad0 _grey_3121 __bluredEmpty_8b4f\" type=\"text\" autocomplete=\"text\" placeholder=\"Your name\"></jdiv><jdiv class=\"fieldWrap_8502\"><input class=\"inputField_aad0 _grey_3121 __bluredEmpty_8b4f\" type=\"tel\" autocomplete=\"tel\" placeholder=\"Your phone\"></jdiv><jdiv class=\"fieldWrap_8502\"><input class=\"inputField_aad0 _grey_3121 __bluredEmpty_8b4f\" type=\"email\" autocomplete=\"email\" placeholder=\"Your email*\"></jdiv><jdiv class=\"fieldWrap_8502\"><textarea class=\"inputField_aad0 _grey_3121 __textarea_ed48 __bluredEmpty_8b4f\" maxlength=\"1000\" placeholder=\"Your message*\" data-gramm=\"false\" data-gramm_editor=\"false\" data-enable-grammarly=\"false\"></textarea></jdiv><jdiv class=\"button_ca45 _grey_a1d4\"><jdiv class=\"text_4f6b\">Send</jdiv></jdiv></jdiv></jdiv></jdiv></jdiv></jdiv></jdiv></jdiv></jdiv><jdiv class=\"pseudoHeight_0331\"></jdiv><jdiv class=\"jivoMouseTrack_f761\"></jdiv></jdiv></jdiv><script type=\"text/javascript\" id=\"\">ga(function(){ga.create(\"UA-82169552-3\",\"auto\",\"autotrackTracker\",{allowLinker:!0})});ga(\"autotrackTracker.require\",\"cleanUrlTracker\");ga(\"autotrackTracker.require\",\"maxScrollTracker\");ga(\"autotrackTracker.require\",\"pageVisibilityTracker\");ga(\"autotrackTracker.require\",\"urlChangeTracker\",{fieldsObj:{dimension1:\"virtual\"}});</script>\\n<script type=\"text/javascript\" id=\"\" src=\"https://files.codingninjas.in/0000000000002504.js\"></script></body></html>'"
      ]
     },
     "execution_count": 14,
     "metadata": {},
     "output_type": "execute_result"
    }
   ],
   "source": [
    "#html content of page\n",
    "driver.page_source"
   ]
  },
  {
   "cell_type": "code",
   "execution_count": 16,
   "metadata": {},
   "outputs": [],
   "source": [
    "eve=driver.find_element_by_link_text('Events')\n",
    "eve.click()"
   ]
  },
  {
   "cell_type": "code",
   "execution_count": 22,
   "metadata": {},
   "outputs": [],
   "source": [
    "driver.back()"
   ]
  },
  {
   "cell_type": "code",
   "execution_count": 24,
   "metadata": {},
   "outputs": [],
   "source": [
    "eve=driver.find_element_by_partial_link_text('Eve')\n",
    "eve.click()"
   ]
  },
  {
   "cell_type": "code",
   "execution_count": null,
   "metadata": {},
   "outputs": [],
   "source": [
    "from selenium import webdriver\n",
    "driver=webdriver.Chrome(executable_path='Desktop\\Selenium\\chromedriver')\n",
    "driver.get('https://codezen.codingninjas.com/dashboard?_ga=2.97375197.375463709.1616319259-2142924746.1581687429')"
   ]
  },
  {
   "cell_type": "code",
   "execution_count": 31,
   "metadata": {},
   "outputs": [],
   "source": [
    "adv_algo=driver.find_element_by_partial_link_text('Advanced Algorithms')\n",
    "adv_algo.click()"
   ]
  },
  {
   "cell_type": "code",
   "execution_count": 42,
   "metadata": {},
   "outputs": [],
   "source": [
    "import selenium\n",
    "from selenium import webdriver\n",
    "driver=webdriver.Chrome(executable_path='Desktop\\Selenium\\chromedriver')\n",
    "driver.get('https://www.codingninjas.com/courses?_ga=2.161233149.1571016000.1616570030-2142924746.1581687429')\n"
   ]
  },
  {
   "cell_type": "code",
   "execution_count": 56,
   "metadata": {},
   "outputs": [
    {
     "data": {
      "text/plain": [
       "True"
      ]
     },
     "execution_count": 56,
     "metadata": {},
     "output_type": "execute_result"
    }
   ],
   "source": [
    "import selenium\n",
    "from selenium import webdriver\n",
    "driver=webdriver.Chrome(executable_path='Desktop\\Selenium\\chromedriver')\n",
    "driver.get('https://www.facebook.com/r.php')\n",
    "b1=driver.find_element_by_name('firstname')\n",
    "b1.is_enabled()"
   ]
  },
  {
   "cell_type": "code",
   "execution_count": null,
   "metadata": {},
   "outputs": [],
   "source": [
    "import selenium\n",
    "from selenium import webdriver\n",
    "driver=webdriver.Chrome(executable_path='Desktop\\Selenium\\chromedriver')\n",
    "driver.get('https://www.facebook.com/r.php')\n",
    "b2=driver.find_element_by_id('day')\n",
    "b2.click()\n",
    "b3=driver.find_element_by_name('sex')\n",
    "b3.is_selected()\n",
    "b3.click()\n",
    "b3.is_selected()"
   ]
  },
  {
   "cell_type": "code",
   "execution_count": null,
   "metadata": {},
   "outputs": [],
   "source": [
    "\n",
    "import selenium\n",
    "from selenium import webdriver\n",
    "import pandas as pd\n",
    "driver=webdriver.Chrome(executable_path='Desktop\\Selenium\\chromedriver')\n",
    "driver.get('https://books.toscrape.com/')\n",
    "driver"
   ]
  },
  {
   "cell_type": "code",
   "execution_count": null,
   "metadata": {},
   "outputs": [],
   "source": []
  },
  {
   "cell_type": "code",
   "execution_count": null,
   "metadata": {},
   "outputs": [],
   "source": []
  },
  {
   "cell_type": "code",
   "execution_count": null,
   "metadata": {},
   "outputs": [],
   "source": []
  },
  {
   "cell_type": "code",
   "execution_count": null,
   "metadata": {},
   "outputs": [],
   "source": []
  },
  {
   "cell_type": "code",
   "execution_count": null,
   "metadata": {},
   "outputs": [],
   "source": []
  },
  {
   "cell_type": "code",
   "execution_count": null,
   "metadata": {},
   "outputs": [],
   "source": []
  },
  {
   "cell_type": "code",
   "execution_count": null,
   "metadata": {},
   "outputs": [],
   "source": []
  },
  {
   "cell_type": "code",
   "execution_count": null,
   "metadata": {},
   "outputs": [],
   "source": []
  },
  {
   "cell_type": "code",
   "execution_count": null,
   "metadata": {},
   "outputs": [],
   "source": []
  },
  {
   "cell_type": "code",
   "execution_count": null,
   "metadata": {},
   "outputs": [],
   "source": []
  },
  {
   "cell_type": "code",
   "execution_count": null,
   "metadata": {},
   "outputs": [],
   "source": []
  }
 ],
 "metadata": {
  "kernelspec": {
   "display_name": "Python 3",
   "language": "python",
   "name": "python3"
  },
  "language_info": {
   "codemirror_mode": {
    "name": "ipython",
    "version": 3
   },
   "file_extension": ".py",
   "mimetype": "text/x-python",
   "name": "python",
   "nbconvert_exporter": "python",
   "pygments_lexer": "ipython3",
   "version": "3.7.4"
  }
 },
 "nbformat": 4,
 "nbformat_minor": 2
}
